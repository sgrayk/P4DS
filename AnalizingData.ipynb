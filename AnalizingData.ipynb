{
 "cells": [
  {
   "cell_type": "markdown",
   "metadata": {},
   "source": [
    "# Đồ Án Lập Trình cho Khoa Học Dữ Liệu\n",
    "\n",
    "## Thành viên\n",
    "| Mã số sinh viên | Học và tên                                           |\n",
    "|:---------------:|:-----------------------------------------------------|\n",
    "|18120225         | [Trần Thanh Phúc](https://github.com/PhucThanh)      |\n",
    "|18120221         | [Nguyễn Điền Thanh Phong](https://github.com/sgrayk) |"
   ]
  },
  {
   "cell_type": "markdown",
   "metadata": {},
   "source": [
    "---"
   ]
  },
  {
   "cell_type": "markdown",
   "metadata": {},
   "source": [
    "## Môi trường code"
   ]
  },
  {
   "cell_type": "code",
   "execution_count": 411,
   "metadata": {},
   "outputs": [
    {
     "name": "stdout",
     "output_type": "stream",
     "text": [
      "/home/workspace/miniconda3/envs/p4ds-env/bin/python\n"
     ]
    }
   ],
   "source": [
    "!which python "
   ]
  },
  {
   "cell_type": "markdown",
   "metadata": {},
   "source": [
    "---"
   ]
  },
  {
   "cell_type": "markdown",
   "metadata": {},
   "source": [
    "## Các thư viện sử dụng"
   ]
  },
  {
   "cell_type": "code",
   "execution_count": 412,
   "metadata": {},
   "outputs": [],
   "source": [
    "import pandas as pd\n",
    "import matplotlib.pyplot as plt\n",
    "import numpy as np"
   ]
  },
  {
   "cell_type": "markdown",
   "metadata": {},
   "source": [
    "---"
   ]
  },
  {
   "cell_type": "markdown",
   "metadata": {},
   "source": [
    "## Thu thập dữ liệu"
   ]
  },
  {
   "cell_type": "markdown",
   "metadata": {},
   "source": [
    "TV Shows and Movies listed on Netflix\n",
    "\n",
    "Dataset này bao gồm tv shows và movies khả dụng trên Netflix của năm 2019. Tập dữ liệu được thu thập từ Flixable, một công cụ tìm kiếm Netflix của bên thứ ba.\n",
    "\n",
    "Vào năm 2018, họ đã phát hành một báo cáo thú vị cho thấy số lượng chương trình truyền hình trên Netflix đã tăng gần gấp ba lần kể từ năm 2010. Số lượng phim của dịch vụ phát trực tuyến đã giảm hơn 2.000 tựa kể từ năm 2010, trong khi số lượng chương trình truyền hình của nó tăng gần gấp ba lần. Sẽ rất thú vị khi khám phá xem tất cả những thông tin chi tiết khác có thể thu được từ cùng một tập dữ liệu.\n"
   ]
  },
  {
   "cell_type": "markdown",
   "metadata": {},
   "source": [
    "---"
   ]
  },
  {
   "cell_type": "markdown",
   "metadata": {},
   "source": [
    "## Khám phá dữ liệu"
   ]
  },
  {
   "cell_type": "markdown",
   "metadata": {},
   "source": [
    "### Đọc dữ liệu từ file csv vào dataframe"
   ]
  },
  {
   "cell_type": "code",
   "execution_count": 413,
   "metadata": {},
   "outputs": [
    {
     "data": {
      "text/html": [
       "<div>\n",
       "<style scoped>\n",
       "    .dataframe tbody tr th:only-of-type {\n",
       "        vertical-align: middle;\n",
       "    }\n",
       "\n",
       "    .dataframe tbody tr th {\n",
       "        vertical-align: top;\n",
       "    }\n",
       "\n",
       "    .dataframe thead th {\n",
       "        text-align: right;\n",
       "    }\n",
       "</style>\n",
       "<table border=\"1\" class=\"dataframe\">\n",
       "  <thead>\n",
       "    <tr style=\"text-align: right;\">\n",
       "      <th></th>\n",
       "      <th>show_id</th>\n",
       "      <th>type</th>\n",
       "      <th>title</th>\n",
       "      <th>director</th>\n",
       "      <th>cast</th>\n",
       "      <th>country</th>\n",
       "      <th>date_added</th>\n",
       "      <th>release_year</th>\n",
       "      <th>rating</th>\n",
       "      <th>duration</th>\n",
       "      <th>listed_in</th>\n",
       "      <th>description</th>\n",
       "    </tr>\n",
       "  </thead>\n",
       "  <tbody>\n",
       "    <tr>\n",
       "      <th>0</th>\n",
       "      <td>s1</td>\n",
       "      <td>TV Show</td>\n",
       "      <td>3%</td>\n",
       "      <td>NaN</td>\n",
       "      <td>João Miguel, Bianca Comparato, Michel Gomes, R...</td>\n",
       "      <td>Brazil</td>\n",
       "      <td>August 14, 2020</td>\n",
       "      <td>2020</td>\n",
       "      <td>TV-MA</td>\n",
       "      <td>4 Seasons</td>\n",
       "      <td>International TV Shows, TV Dramas, TV Sci-Fi &amp;...</td>\n",
       "      <td>In a future where the elite inhabit an island ...</td>\n",
       "    </tr>\n",
       "    <tr>\n",
       "      <th>1</th>\n",
       "      <td>s2</td>\n",
       "      <td>Movie</td>\n",
       "      <td>7:19</td>\n",
       "      <td>Jorge Michel Grau</td>\n",
       "      <td>Demián Bichir, Héctor Bonilla, Oscar Serrano, ...</td>\n",
       "      <td>Mexico</td>\n",
       "      <td>December 23, 2016</td>\n",
       "      <td>2016</td>\n",
       "      <td>TV-MA</td>\n",
       "      <td>93 min</td>\n",
       "      <td>Dramas, International Movies</td>\n",
       "      <td>After a devastating earthquake hits Mexico Cit...</td>\n",
       "    </tr>\n",
       "    <tr>\n",
       "      <th>2</th>\n",
       "      <td>s3</td>\n",
       "      <td>Movie</td>\n",
       "      <td>23:59</td>\n",
       "      <td>Gilbert Chan</td>\n",
       "      <td>Tedd Chan, Stella Chung, Henley Hii, Lawrence ...</td>\n",
       "      <td>Singapore</td>\n",
       "      <td>December 20, 2018</td>\n",
       "      <td>2011</td>\n",
       "      <td>R</td>\n",
       "      <td>78 min</td>\n",
       "      <td>Horror Movies, International Movies</td>\n",
       "      <td>When an army recruit is found dead, his fellow...</td>\n",
       "    </tr>\n",
       "    <tr>\n",
       "      <th>3</th>\n",
       "      <td>s4</td>\n",
       "      <td>Movie</td>\n",
       "      <td>9</td>\n",
       "      <td>Shane Acker</td>\n",
       "      <td>Elijah Wood, John C. Reilly, Jennifer Connelly...</td>\n",
       "      <td>United States</td>\n",
       "      <td>November 16, 2017</td>\n",
       "      <td>2009</td>\n",
       "      <td>PG-13</td>\n",
       "      <td>80 min</td>\n",
       "      <td>Action &amp; Adventure, Independent Movies, Sci-Fi...</td>\n",
       "      <td>In a postapocalyptic world, rag-doll robots hi...</td>\n",
       "    </tr>\n",
       "    <tr>\n",
       "      <th>4</th>\n",
       "      <td>s5</td>\n",
       "      <td>Movie</td>\n",
       "      <td>21</td>\n",
       "      <td>Robert Luketic</td>\n",
       "      <td>Jim Sturgess, Kevin Spacey, Kate Bosworth, Aar...</td>\n",
       "      <td>United States</td>\n",
       "      <td>January 1, 2020</td>\n",
       "      <td>2008</td>\n",
       "      <td>PG-13</td>\n",
       "      <td>123 min</td>\n",
       "      <td>Dramas</td>\n",
       "      <td>A brilliant group of students become card-coun...</td>\n",
       "    </tr>\n",
       "  </tbody>\n",
       "</table>\n",
       "</div>"
      ],
      "text/plain": [
       "  show_id     type  title           director  \\\n",
       "0      s1  TV Show     3%                NaN   \n",
       "1      s2    Movie   7:19  Jorge Michel Grau   \n",
       "2      s3    Movie  23:59       Gilbert Chan   \n",
       "3      s4    Movie      9        Shane Acker   \n",
       "4      s5    Movie     21     Robert Luketic   \n",
       "\n",
       "                                                cast        country  \\\n",
       "0  João Miguel, Bianca Comparato, Michel Gomes, R...         Brazil   \n",
       "1  Demián Bichir, Héctor Bonilla, Oscar Serrano, ...         Mexico   \n",
       "2  Tedd Chan, Stella Chung, Henley Hii, Lawrence ...      Singapore   \n",
       "3  Elijah Wood, John C. Reilly, Jennifer Connelly...  United States   \n",
       "4  Jim Sturgess, Kevin Spacey, Kate Bosworth, Aar...  United States   \n",
       "\n",
       "          date_added  release_year rating   duration  \\\n",
       "0    August 14, 2020          2020  TV-MA  4 Seasons   \n",
       "1  December 23, 2016          2016  TV-MA     93 min   \n",
       "2  December 20, 2018          2011      R     78 min   \n",
       "3  November 16, 2017          2009  PG-13     80 min   \n",
       "4    January 1, 2020          2008  PG-13    123 min   \n",
       "\n",
       "                                           listed_in  \\\n",
       "0  International TV Shows, TV Dramas, TV Sci-Fi &...   \n",
       "1                       Dramas, International Movies   \n",
       "2                Horror Movies, International Movies   \n",
       "3  Action & Adventure, Independent Movies, Sci-Fi...   \n",
       "4                                             Dramas   \n",
       "\n",
       "                                         description  \n",
       "0  In a future where the elite inhabit an island ...  \n",
       "1  After a devastating earthquake hits Mexico Cit...  \n",
       "2  When an army recruit is found dead, his fellow...  \n",
       "3  In a postapocalyptic world, rag-doll robots hi...  \n",
       "4  A brilliant group of students become card-coun...  "
      ]
     },
     "execution_count": 413,
     "metadata": {},
     "output_type": "execute_result"
    }
   ],
   "source": [
    "netflix_df = pd.read_csv('./datasheet/netflix_titles.csv')\n",
    "netflix_df.head()"
   ]
  },
  {
   "cell_type": "markdown",
   "metadata": {},
   "source": [
    "### Số dữ liệu và số cột trong Dữ liệu"
   ]
  },
  {
   "cell_type": "code",
   "execution_count": 414,
   "metadata": {
    "deletable": false,
    "nbgrader": {
     "cell_type": "code",
     "checksum": "0a03dc9216c2e34b0151074d168e31a3",
     "grade": false,
     "grade_id": "cell-bc8810dbc4930a46",
     "locked": false,
     "schema_version": 3,
     "solution": true,
     "task": false
    }
   },
   "outputs": [
    {
     "name": "stdout",
     "output_type": "stream",
     "text": [
      "Số dữ liệu trong DataFrame:  7787\n",
      "Số cột dữ liệu trong DataFrame:  12\n"
     ]
    }
   ],
   "source": [
    "num_rows = netflix_df.shape[0]\n",
    "num_cols = netflix_df.shape[1]\n",
    "\n",
    "print(\"Số dữ liệu trong DataFrame: \", num_rows)\n",
    "print(\"Số cột dữ liệu trong DataFrame: \", num_cols)"
   ]
  },
  {
   "cell_type": "markdown",
   "metadata": {},
   "source": [
    "### Kiểm tra sự trùng lặp trong dữ liệu"
   ]
  },
  {
   "cell_type": "code",
   "execution_count": 415,
   "metadata": {
    "deletable": false,
    "nbgrader": {
     "cell_type": "code",
     "checksum": "14923eae51d859512c15219a5d64f72d",
     "grade": false,
     "grade_id": "cell-facf998546c4dfeb",
     "locked": false,
     "schema_version": 3,
     "solution": true,
     "task": false
    }
   },
   "outputs": [
    {
     "name": "stdout",
     "output_type": "stream",
     "text": [
      "Dữ liệu có bị trùng lặp:  False\n"
     ]
    }
   ],
   "source": [
    "have_duplicated_rows = np.sum(netflix_df.duplicated(keep=False)) != 0\n",
    "\n",
    "print(\"Dữ liệu có bị trùng lặp: \", have_duplicated_rows)"
   ]
  },
  {
   "cell_type": "markdown",
   "metadata": {},
   "source": [
    "### Ý nghĩa mỗi cột trong Dữ liệu"
   ]
  },
  {
   "cell_type": "markdown",
   "metadata": {},
   "source": [
    "- **show_id**: các giá trị đơn lập giúp xác định một Chương trình.\n",
    "- **type**: loại chương trình của Netflix, là Movie hoặc TV Show.\n",
    "- **title**: tên chương trình được phát trên Netflix.\n",
    "- **director**: đạo diễn chương trình\n",
    "- **cast**: danh sách các diễn viên trong Chương trình, ngăn cách bởi dấu \",\"\n",
    "- **country**: tên nước sản xuất \n",
    "- **date_added**: thời gian được thêm vào Netflix\n",
    "- **release_year**: năm sản xuất chương trình\n",
    "- **rating**: đánh giá phim thuộc thể loại nào và mức độ của nó\n",
    "- **duration**: thời lượng chương trình, có thể kéo dài trong hơn một mùa,...\n",
    "- **listed_in**: danh sách thể loại chương trình\n",
    "- **description**: mô tả chương trình"
   ]
  },
  {
   "cell_type": "markdown",
   "metadata": {},
   "source": [
    "### Kiểm tra loại dữ liệu của mỗi cột có đơn nhất không?"
   ]
  },
  {
   "cell_type": "code",
   "execution_count": 416,
   "metadata": {
    "deletable": false,
    "nbgrader": {
     "cell_type": "code",
     "checksum": "96e1fdd8f9e7fa97311e690dcdea495b",
     "grade": false,
     "grade_id": "cell-e7c33d274bed2b0c",
     "locked": false,
     "schema_version": 3,
     "solution": true,
     "task": false
    }
   },
   "outputs": [
    {
     "data": {
      "text/plain": [
       "show_id         object\n",
       "type            object\n",
       "title           object\n",
       "director        object\n",
       "cast            object\n",
       "country         object\n",
       "date_added      object\n",
       "release_year     int64\n",
       "rating          object\n",
       "duration        object\n",
       "listed_in       object\n",
       "description     object\n",
       "dtype: object"
      ]
     },
     "execution_count": 416,
     "metadata": {},
     "output_type": "execute_result"
    }
   ],
   "source": [
    "col_dtypes = netflix_df.dtypes\n",
    "\n",
    "col_dtypes"
   ]
  },
  {
   "cell_type": "markdown",
   "metadata": {},
   "source": [
    "**Kiểm tra kiểu thật sự của những cột có dtype là Object**"
   ]
  },
  {
   "cell_type": "markdown",
   "metadata": {},
   "source": [
    "`netflix_df` có 11 cột có `dtype` là `object`: \"show_id\", \"type\", \"title\", \"director\", \"cast\", \"country\", \"date_added\", \"rating\", \"duration\", \"listed_in\", \"description\". Ta sẽ kiểm tra nội bộ mỗi cột này thực sự là các kiểu dữ liệu nào."
   ]
  },
  {
   "cell_type": "code",
   "execution_count": 417,
   "metadata": {
    "deletable": false,
    "nbgrader": {
     "cell_type": "code",
     "checksum": "584650ddec44ef314602d9923b1d8bac",
     "grade": false,
     "grade_id": "cell-9c4658645a61bd6e",
     "locked": false,
     "schema_version": 3,
     "solution": true,
     "task": false
    }
   },
   "outputs": [
    {
     "name": "stdout",
     "output_type": "stream",
     "text": [
      "Column      show_id có kiểu dữ liệu: {<class 'str'>}\n",
      "Column         type có kiểu dữ liệu: {<class 'str'>}\n",
      "Column        title có kiểu dữ liệu: {<class 'str'>}\n",
      "Column     director có kiểu dữ liệu: {<class 'str'>, <class 'float'>}\n",
      "Column         cast có kiểu dữ liệu: {<class 'str'>, <class 'float'>}\n",
      "Column      country có kiểu dữ liệu: {<class 'str'>, <class 'float'>}\n",
      "Column   date_added có kiểu dữ liệu: {<class 'str'>, <class 'float'>}\n",
      "Column release_year có kiểu dữ liệu: {<class 'int'>}\n",
      "Column       rating có kiểu dữ liệu: {<class 'str'>, <class 'float'>}\n",
      "Column     duration có kiểu dữ liệu: {<class 'str'>}\n",
      "Column    listed_in có kiểu dữ liệu: {<class 'str'>}\n",
      "Column  description có kiểu dữ liệu: {<class 'str'>}\n"
     ]
    }
   ],
   "source": [
    "def open_object_dtype(s):\n",
    "    \n",
    "    dtypes = set(s.apply(type))\n",
    "    \n",
    "    return dtypes\n",
    "\n",
    "for col in netflix_df.columns:\n",
    "    print(\"Column %12s có kiểu dữ liệu: %s\" % (col, open_object_dtype(netflix_df[col])))"
   ]
  },
  {
   "cell_type": "markdown",
   "metadata": {},
   "source": [
    "**Vấn đề cần tiền xử lý:**\n",
    "Theo thông tin ta nhận được ở trên, ta có những đánh giá sau: \n",
    "- Cột \"date_added\" đang có dtype là `str` và `float`. Để đúng về ý nghĩa, ta sẽ thực hiện bước tiền xử lý là chuyển sang dạng `datetime`.\n",
    "- Cột \"director\", \"country\" và \"rating\" có dtype gồm 2 loại là `str` và `float`, ta sẽ tiền xử lý để thống nhất `dtype` là `str` \n",
    "- Cột \"cast\" có dtype gồm 2 loại là `str` và `float`, ta sẽ tiền xử lý để thống nhất `dtype` là `str` rồi sau đó chuyển thành danh sách.\n",
    "- Hầu hết các cột có giá trị `float` là vì các cột có giá trị `nan`"
   ]
  },
  {
   "cell_type": "markdown",
   "metadata": {},
   "source": [
    "---"
   ]
  },
  {
   "cell_type": "markdown",
   "metadata": {},
   "source": [
    "## Tiền xử lý"
   ]
  },
  {
   "cell_type": "markdown",
   "metadata": {},
   "source": [
    "### Xử lý cột `date_added`"
   ]
  },
  {
   "cell_type": "markdown",
   "metadata": {},
   "source": [
    "**Kiểm tra tỷ lệ mất mát dữ liệu:**\n",
    "- Do cột có các cột có giá trị nan nên ta sẽ xem xét tỷ lệ này có ảnh hưởng gì đễn dữ liệu không"
   ]
  },
  {
   "cell_type": "code",
   "execution_count": 418,
   "metadata": {},
   "outputs": [
    {
     "name": "stdout",
     "output_type": "stream",
     "text": [
      "Tỷ lệ mất mát dữ liệu của cột date_added là 0.128.\n"
     ]
    }
   ],
   "source": [
    "def fMissingRatio(name_col):\n",
    "    print(\"Tỷ lệ mất mát dữ liệu của cột %s là %3.3f.\" % (name_col, round(netflix_df[name_col].isna().mean() * 100,3)))\n",
    "    \n",
    "fMissingRatio('date_added')"
   ]
  },
  {
   "cell_type": "markdown",
   "metadata": {},
   "source": [
    "**Giải quyết:**\n",
    "- Do cột có các cột có giá trị nan và **các dòng dữ liệu không liên quan tới nhau** cộng thêm tỷ lệ mất mát nhỏ nên ta sẽ loại bỏ chúng và dữ liệu không bị ảnh hưởng."
   ]
  },
  {
   "cell_type": "code",
   "execution_count": 419,
   "metadata": {},
   "outputs": [
    {
     "name": "stdout",
     "output_type": "stream",
     "text": [
      "Số dòng dữ liệu:  (7777, 12)\n",
      "Tỷ lệ mất mát dữ liệu của cột date_added là 0.000.\n"
     ]
    }
   ],
   "source": [
    "netflix_df.dropna(subset = ['date_added'], inplace=True)\n",
    "print(\"Số dòng dữ liệu: \", netflix_df.shape)\n",
    "fMissingRatio('date_added')"
   ]
  },
  {
   "cell_type": "markdown",
   "metadata": {},
   "source": [
    "**Kiểm tra:**\n",
    "- Vậy DataFrame trên cột `date_added` đã sạch."
   ]
  },
  {
   "cell_type": "markdown",
   "metadata": {},
   "source": [
    "**Chuyển dtype của cột \"date_added\" sang datetime**"
   ]
  },
  {
   "cell_type": "code",
   "execution_count": 420,
   "metadata": {
    "deletable": false,
    "nbgrader": {
     "cell_type": "code",
     "checksum": "ddf290b1ea2092ab7a32e6b7921c0406",
     "grade": false,
     "grade_id": "cell-39a0a94d173359e5",
     "locked": false,
     "schema_version": 3,
     "solution": true,
     "task": false
    }
   },
   "outputs": [
    {
     "data": {
      "text/plain": [
       "{pandas._libs.tslibs.timestamps.Timestamp}"
      ]
     },
     "execution_count": 420,
     "metadata": {},
     "output_type": "execute_result"
    }
   ],
   "source": [
    "netflix_df['date_added'] = pd.to_datetime(netflix_df['date_added'].apply(str.strip), format='%B %d, %Y')\n",
    "\n",
    "open_object_dtype(netflix_df['date_added'])"
   ]
  },
  {
   "cell_type": "markdown",
   "metadata": {},
   "source": [
    "### Xử lý cột `listed_in`"
   ]
  },
  {
   "cell_type": "markdown",
   "metadata": {},
   "source": [
    "**Chuyển dtype của cột \"listed_in\" sang `numpy array`**"
   ]
  },
  {
   "cell_type": "markdown",
   "metadata": {},
   "source": [
    "Ta sẽ dùng numpy array để quản lý danh sách thể loại cho từng phim hoặc chương trình "
   ]
  },
  {
   "cell_type": "code",
   "execution_count": 421,
   "metadata": {},
   "outputs": [],
   "source": [
    "netflix_df['listed_in'] = np.array(netflix_df['listed_in'].str.split(pat=', '))"
   ]
  },
  {
   "cell_type": "markdown",
   "metadata": {},
   "source": [
    "### Xử lý cột `cast`"
   ]
  },
  {
   "cell_type": "markdown",
   "metadata": {},
   "source": [
    "**Chuyển dtype của cột \"cast\" sang str**"
   ]
  },
  {
   "cell_type": "markdown",
   "metadata": {},
   "source": [
    "Vì `dtype` các cột trên đều là `str` và `nan`, do đó ta không nên chuyển một lần sang một List cho nên ta sẽ chuyển sang `str` trước với việc thay thế các giá trị `nan` trong các cột với chuỗi rỗng."
   ]
  },
  {
   "cell_type": "code",
   "execution_count": 422,
   "metadata": {
    "deletable": false,
    "nbgrader": {
     "cell_type": "code",
     "checksum": "04e2fbb9a221dd48d795c26dcab9017e",
     "grade": false,
     "grade_id": "cell-82a6fc90114be977",
     "locked": false,
     "schema_version": 3,
     "solution": true,
     "task": false
    }
   },
   "outputs": [],
   "source": [
    "netflix_df['cast'] = netflix_df['cast'].replace(to_replace=np.nan, value=\"\")"
   ]
  },
  {
   "cell_type": "markdown",
   "metadata": {},
   "source": [
    "**Chuyển dtype của cột \"cast\" sang `numpy array`**"
   ]
  },
  {
   "cell_type": "markdown",
   "metadata": {},
   "source": [
    "Sau khi cột `cast` tương đối đồng nhất kiểu, ta sẽ chuyển sang `numpy array` để quản lý tốt hơn."
   ]
  },
  {
   "cell_type": "code",
   "execution_count": 423,
   "metadata": {
    "nbgrader": {
     "cell_type": "code",
     "checksum": "04e2fbb9a221dd48d795c26dcab9017e",
     "grade": false,
     "grade_id": "cell-82a6fc90114be977",
     "locked": false,
     "schema_version": 3,
     "solution": true,
     "task": false
    }
   },
   "outputs": [],
   "source": [
    "netflix_df['cast'] = np.array(netflix_df['cast'].str.split(pat=', '))"
   ]
  },
  {
   "cell_type": "markdown",
   "metadata": {},
   "source": [
    "### Xử lý các cột `director`, `country` và `rating`"
   ]
  },
  {
   "cell_type": "markdown",
   "metadata": {},
   "source": [
    "**Chuyển dtype của cột \"director\", \"country\" và \"rating\" sang str**"
   ]
  },
  {
   "cell_type": "markdown",
   "metadata": {},
   "source": [
    "Vì `dtype` các cột trên đều là `str` và `nan` nên khi chuyển sang `str`, ta sẽ thay thế các giá trị `nan` trong các cột với chuỗi rỗng."
   ]
  },
  {
   "cell_type": "code",
   "execution_count": 424,
   "metadata": {
    "nbgrader": {
     "cell_type": "code",
     "checksum": "04e2fbb9a221dd48d795c26dcab9017e",
     "grade": false,
     "grade_id": "cell-82a6fc90114be977",
     "locked": false,
     "schema_version": 3,
     "solution": true,
     "task": false
    }
   },
   "outputs": [],
   "source": [
    "netflix_df['director'] = netflix_df['director'].replace(to_replace=np.nan, value=\"\").apply(str.strip)\n",
    "netflix_df['country'] = netflix_df['country'].replace(to_replace=np.nan, value=\"\").apply(str.strip)\n",
    "netflix_df['rating'] = netflix_df['rating'].replace(to_replace=np.nan, value=\"\").apply(str.strip)"
   ]
  },
  {
   "cell_type": "markdown",
   "metadata": {},
   "source": [
    "### Kiểm tra tính đồng nhất kiểu dữ liệu trong DataFrame "
   ]
  },
  {
   "cell_type": "code",
   "execution_count": 425,
   "metadata": {},
   "outputs": [
    {
     "name": "stdout",
     "output_type": "stream",
     "text": [
      "Column      show_id có kiểu dữ liệu: {<class 'str'>}\n",
      "Column         type có kiểu dữ liệu: {<class 'str'>}\n",
      "Column        title có kiểu dữ liệu: {<class 'str'>}\n",
      "Column     director có kiểu dữ liệu: {<class 'str'>}\n",
      "Column         cast có kiểu dữ liệu: {<class 'list'>}\n",
      "Column      country có kiểu dữ liệu: {<class 'str'>}\n",
      "Column   date_added có kiểu dữ liệu: {<class 'pandas._libs.tslibs.timestamps.Timestamp'>}\n",
      "Column release_year có kiểu dữ liệu: {<class 'int'>}\n",
      "Column       rating có kiểu dữ liệu: {<class 'str'>}\n",
      "Column     duration có kiểu dữ liệu: {<class 'str'>}\n",
      "Column    listed_in có kiểu dữ liệu: {<class 'list'>}\n",
      "Column  description có kiểu dữ liệu: {<class 'str'>}\n"
     ]
    }
   ],
   "source": [
    "for col in netflix_df.columns:\n",
    "    print(\"Column %12s có kiểu dữ liệu: %s\" % (col, open_object_dtype(netflix_df[col])))"
   ]
  },
  {
   "cell_type": "markdown",
   "metadata": {},
   "source": [
    "Vậy các `dtype` của các cột trên đều đồng nhất, không có 2 kiểu dữ liệu trên cùng một cột."
   ]
  },
  {
   "cell_type": "markdown",
   "metadata": {},
   "source": [
    "### Kiểm tra tỷ lệ mất mát dữ liệu trong DataFrame "
   ]
  },
  {
   "cell_type": "code",
   "execution_count": 426,
   "metadata": {},
   "outputs": [
    {
     "name": "stdout",
     "output_type": "stream",
     "text": [
      "Tỷ lệ mất mát dữ liệu của cột show_id là 0.000.\n",
      "Tỷ lệ mất mát dữ liệu của cột type là 0.000.\n",
      "Tỷ lệ mất mát dữ liệu của cột title là 0.000.\n",
      "Tỷ lệ mất mát dữ liệu của cột director là 0.000.\n",
      "Tỷ lệ mất mát dữ liệu của cột cast là 0.000.\n",
      "Tỷ lệ mất mát dữ liệu của cột country là 0.000.\n",
      "Tỷ lệ mất mát dữ liệu của cột date_added là 0.000.\n",
      "Tỷ lệ mất mát dữ liệu của cột release_year là 0.000.\n",
      "Tỷ lệ mất mát dữ liệu của cột rating là 0.000.\n",
      "Tỷ lệ mất mát dữ liệu của cột duration là 0.000.\n",
      "Tỷ lệ mất mát dữ liệu của cột listed_in là 0.000.\n",
      "Tỷ lệ mất mát dữ liệu của cột description là 0.000.\n"
     ]
    }
   ],
   "source": [
    "for col in netflix_df.columns:\n",
    "    fMissingRatio(col)"
   ]
  },
  {
   "cell_type": "markdown",
   "metadata": {},
   "source": [
    "Như vậy, dữ liệu đã gần như không còn giá trị trống. "
   ]
  },
  {
   "cell_type": "markdown",
   "metadata": {},
   "source": [
    "---"
   ]
  },
  {
   "cell_type": "markdown",
   "metadata": {},
   "source": [
    "## Khám phá dữ liệu (tiếp tục)"
   ]
  },
  {
   "cell_type": "markdown",
   "metadata": {},
   "source": [
    "### Với mỗi cột có kiểu dữ liệu dạng numeric, ta cần xem xét sự phân bố các giá trị"
   ]
  },
  {
   "cell_type": "markdown",
   "metadata": {},
   "source": [
    "Ta sẽ xếp các cột `date_added` vào nhóm numeric, do đó hiện có 2 cột thuộc nhóm numeric: \"release_year\", \"date_added\".\n",
    "\n",
    "Với mỗi cột numeric ta sẽ xem những thông tin mô tả dữ liệu.   "
   ]
  },
  {
   "cell_type": "code",
   "execution_count": 427,
   "metadata": {
    "deletable": false,
    "nbgrader": {
     "cell_type": "code",
     "checksum": "95f164d4ff7a5ee9869dbcc8e0c31d32",
     "grade": false,
     "grade_id": "cell-4c64c2ce1eea9f1d",
     "locked": false,
     "schema_version": 3,
     "solution": true,
     "task": false
    }
   },
   "outputs": [
    {
     "data": {
      "text/html": [
       "<div>\n",
       "<style scoped>\n",
       "    .dataframe tbody tr th:only-of-type {\n",
       "        vertical-align: middle;\n",
       "    }\n",
       "\n",
       "    .dataframe tbody tr th {\n",
       "        vertical-align: top;\n",
       "    }\n",
       "\n",
       "    .dataframe thead th {\n",
       "        text-align: right;\n",
       "    }\n",
       "</style>\n",
       "<table border=\"1\" class=\"dataframe\">\n",
       "  <thead>\n",
       "    <tr style=\"text-align: right;\">\n",
       "      <th></th>\n",
       "      <th>release_year</th>\n",
       "      <th>date_added</th>\n",
       "    </tr>\n",
       "  </thead>\n",
       "  <tbody>\n",
       "    <tr>\n",
       "      <th>count</th>\n",
       "      <td>7777.000000</td>\n",
       "      <td>7777</td>\n",
       "    </tr>\n",
       "    <tr>\n",
       "      <th>mean</th>\n",
       "      <td>2013.935965</td>\n",
       "      <td>2019-01-02 19:20:57.708627968</td>\n",
       "    </tr>\n",
       "    <tr>\n",
       "      <th>std</th>\n",
       "      <td>8.760694</td>\n",
       "      <td>NaN</td>\n",
       "    </tr>\n",
       "    <tr>\n",
       "      <th>min</th>\n",
       "      <td>1925.000000</td>\n",
       "      <td>2008-01-01 00:00:00</td>\n",
       "    </tr>\n",
       "    <tr>\n",
       "      <th>25%</th>\n",
       "      <td>2013.000000</td>\n",
       "      <td>2018-02-01 00:00:00</td>\n",
       "    </tr>\n",
       "    <tr>\n",
       "      <th>50%</th>\n",
       "      <td>2017.000000</td>\n",
       "      <td>2019-03-08 00:00:00</td>\n",
       "    </tr>\n",
       "    <tr>\n",
       "      <th>75%</th>\n",
       "      <td>2018.000000</td>\n",
       "      <td>2020-01-20 00:00:00</td>\n",
       "    </tr>\n",
       "    <tr>\n",
       "      <th>max</th>\n",
       "      <td>2021.000000</td>\n",
       "      <td>2021-01-16 00:00:00</td>\n",
       "    </tr>\n",
       "  </tbody>\n",
       "</table>\n",
       "</div>"
      ],
      "text/plain": [
       "       release_year                     date_added\n",
       "count   7777.000000                           7777\n",
       "mean    2013.935965  2019-01-02 19:20:57.708627968\n",
       "std        8.760694                            NaN\n",
       "min     1925.000000            2008-01-01 00:00:00\n",
       "25%     2013.000000            2018-02-01 00:00:00\n",
       "50%     2017.000000            2019-03-08 00:00:00\n",
       "75%     2018.000000            2020-01-20 00:00:00\n",
       "max     2021.000000            2021-01-16 00:00:00"
      ]
     },
     "execution_count": 427,
     "metadata": {},
     "output_type": "execute_result"
    }
   ],
   "source": [
    "nume_col_profiles_df = netflix_df.loc[:,['release_year', 'date_added']] \\\n",
    "                                 .agg([lambda x: pd.Series.describe(x, datetime_is_numeric=True)])\n",
    "\n",
    "nume_col_profiles_df.columns = ['release_year', 'date_added']\n",
    "\n",
    "nume_col_profiles_df"
   ]
  },
  {
   "cell_type": "markdown",
   "metadata": {},
   "source": [
    "Dựa vào bảng giá trị, ta có những nhận xét sơ như sau:\n",
    "- Nextflix đã thêm những chương trình được sản xuất vào năm 1925 dù bộ phim đầu tiên năm 1895 và Netflix được ra đời năm 1997, vậy thì tại sao Netflix lại chọn bộ phim cũ như vậy?  \n",
    "- Dữ liệu cuối cùng là năm 2021, có thể người thu thập chỉ cập nhật chọn thời điểm 2008 - 2021 nên dữ liệu có vẻ không đầy đủ. \n",
    "- Mức 25% là năm 2013, trong khi 0% là 1925, vậy những bộ phim hay chương trình vào thời điểm trước 2013 khá hạn chế, có thể sau năm 2013 thì Netflix phát triển mạnh lên.\n",
    "- Trên mỗi mức, ta thấy thời gian khá chênh lệch, có thể Netflix chờ những bộ phim dài tập hoặc chương hoàn tất thì Netflix mới thêm bộ phim hay chương trình vào Netflix. Còn mức 100%, cả 2 cùng năm 2021, có thể chương trình mới nhất là một TV Show."
   ]
  },
  {
   "cell_type": "markdown",
   "metadata": {},
   "source": [
    "**Kiểm tra:**\n",
    "- Trên là 2 cột numeric nhưng chúng là có liên hệ với nhau, thông thường cột `release_year` sẽ phải có giá trị nhỏ hơn `date_added` theo như ta phỏng đoán, Netflix chờ phim sản xuất xong thì mới thêm vào kho dữ liệu, điều này có đúng không?"
   ]
  },
  {
   "cell_type": "code",
   "execution_count": 428,
   "metadata": {},
   "outputs": [
    {
     "data": {
      "text/html": [
       "<div>\n",
       "<style scoped>\n",
       "    .dataframe tbody tr th:only-of-type {\n",
       "        vertical-align: middle;\n",
       "    }\n",
       "\n",
       "    .dataframe tbody tr th {\n",
       "        vertical-align: top;\n",
       "    }\n",
       "\n",
       "    .dataframe thead th {\n",
       "        text-align: right;\n",
       "    }\n",
       "</style>\n",
       "<table border=\"1\" class=\"dataframe\">\n",
       "  <thead>\n",
       "    <tr style=\"text-align: right;\">\n",
       "      <th></th>\n",
       "      <th>type</th>\n",
       "      <th>title</th>\n",
       "      <th>date_added</th>\n",
       "      <th>release_year</th>\n",
       "    </tr>\n",
       "  </thead>\n",
       "  <tbody>\n",
       "    <tr>\n",
       "      <th>583</th>\n",
       "      <td>TV Show</td>\n",
       "      <td>Arrested Development</td>\n",
       "      <td>2018-05-29</td>\n",
       "      <td>2019</td>\n",
       "    </tr>\n",
       "    <tr>\n",
       "      <th>1025</th>\n",
       "      <td>TV Show</td>\n",
       "      <td>BoJack Horseman</td>\n",
       "      <td>2019-10-25</td>\n",
       "      <td>2020</td>\n",
       "    </tr>\n",
       "    <tr>\n",
       "      <th>2311</th>\n",
       "      <td>TV Show</td>\n",
       "      <td>Fuller House</td>\n",
       "      <td>2019-12-06</td>\n",
       "      <td>2020</td>\n",
       "    </tr>\n",
       "    <tr>\n",
       "      <th>2602</th>\n",
       "      <td>Movie</td>\n",
       "      <td>Hans Teeuwen: Real Rancour</td>\n",
       "      <td>2017-07-01</td>\n",
       "      <td>2018</td>\n",
       "    </tr>\n",
       "    <tr>\n",
       "      <th>2741</th>\n",
       "      <td>TV Show</td>\n",
       "      <td>Hilda</td>\n",
       "      <td>2020-12-14</td>\n",
       "      <td>2021</td>\n",
       "    </tr>\n",
       "    <tr>\n",
       "      <th>2981</th>\n",
       "      <td>Movie</td>\n",
       "      <td>Incoming</td>\n",
       "      <td>2018-10-26</td>\n",
       "      <td>2019</td>\n",
       "    </tr>\n",
       "    <tr>\n",
       "      <th>3098</th>\n",
       "      <td>TV Show</td>\n",
       "      <td>Jack Taylor</td>\n",
       "      <td>2013-03-31</td>\n",
       "      <td>2016</td>\n",
       "    </tr>\n",
       "    <tr>\n",
       "      <th>3926</th>\n",
       "      <td>TV Show</td>\n",
       "      <td>Maradona in Mexico</td>\n",
       "      <td>2019-11-13</td>\n",
       "      <td>2020</td>\n",
       "    </tr>\n",
       "    <tr>\n",
       "      <th>5493</th>\n",
       "      <td>TV Show</td>\n",
       "      <td>Sense8</td>\n",
       "      <td>2016-12-23</td>\n",
       "      <td>2018</td>\n",
       "    </tr>\n",
       "    <tr>\n",
       "      <th>6462</th>\n",
       "      <td>TV Show</td>\n",
       "      <td>The Hook Up Plan</td>\n",
       "      <td>2019-10-11</td>\n",
       "      <td>2020</td>\n",
       "    </tr>\n",
       "    <tr>\n",
       "      <th>7132</th>\n",
       "      <td>TV Show</td>\n",
       "      <td>Tokyo Trial</td>\n",
       "      <td>2016-12-13</td>\n",
       "      <td>2017</td>\n",
       "    </tr>\n",
       "    <tr>\n",
       "      <th>7318</th>\n",
       "      <td>TV Show</td>\n",
       "      <td>Unbreakable Kimmy Schmidt</td>\n",
       "      <td>2018-05-30</td>\n",
       "      <td>2019</td>\n",
       "    </tr>\n",
       "  </tbody>\n",
       "</table>\n",
       "</div>"
      ],
      "text/plain": [
       "         type                       title date_added  release_year\n",
       "583   TV Show        Arrested Development 2018-05-29          2019\n",
       "1025  TV Show             BoJack Horseman 2019-10-25          2020\n",
       "2311  TV Show                Fuller House 2019-12-06          2020\n",
       "2602    Movie  Hans Teeuwen: Real Rancour 2017-07-01          2018\n",
       "2741  TV Show                       Hilda 2020-12-14          2021\n",
       "2981    Movie                    Incoming 2018-10-26          2019\n",
       "3098  TV Show                 Jack Taylor 2013-03-31          2016\n",
       "3926  TV Show          Maradona in Mexico 2019-11-13          2020\n",
       "5493  TV Show                      Sense8 2016-12-23          2018\n",
       "6462  TV Show            The Hook Up Plan 2019-10-11          2020\n",
       "7132  TV Show                 Tokyo Trial 2016-12-13          2017\n",
       "7318  TV Show   Unbreakable Kimmy Schmidt 2018-05-30          2019"
      ]
     },
     "execution_count": 428,
     "metadata": {},
     "output_type": "execute_result"
    }
   ],
   "source": [
    "netflix_df.loc[netflix_df['date_added'].dt.year < netflix_df['release_year'],['type','title','date_added','release_year']]"
   ]
  },
  {
   "cell_type": "markdown",
   "metadata": {},
   "source": [
    "**Kết luận:**\n",
    "- Đối với những dữ liệu TV Show, sau khi kiểm tra, có vẻ Netflix chọn thời điểm ra mắt là tập cuối của phim, do đó, ngày phát hành sẽ là ngày sau khi thêm vào Netflix.\n",
    "- Đối với những dữ liệu Movie, khi kiểm tra trên Google, thời điểm ra mắt lại trước thời điểm thêm vào Netflix một năm, thay vì là sau một năm, chắc có lỗi trong lúc Crawl dữ liệu của người tạo dữ liệu này hoặc do người thống kê làm sai. "
   ]
  },
  {
   "cell_type": "markdown",
   "metadata": {},
   "source": [
    "**Chỉnh sửa**\n",
    "- Đối với những dữ liệu TV Show, ta đồng ý với sai số này. \n",
    "- Đối với những dữ liệu Movie, ta sẽ giảm thời gian ở cột `release_year` trước thời gian ở cột `date_added` một năm. "
   ]
  },
  {
   "cell_type": "code",
   "execution_count": 429,
   "metadata": {},
   "outputs": [
    {
     "data": {
      "text/html": [
       "<div>\n",
       "<style scoped>\n",
       "    .dataframe tbody tr th:only-of-type {\n",
       "        vertical-align: middle;\n",
       "    }\n",
       "\n",
       "    .dataframe tbody tr th {\n",
       "        vertical-align: top;\n",
       "    }\n",
       "\n",
       "    .dataframe thead th {\n",
       "        text-align: right;\n",
       "    }\n",
       "</style>\n",
       "<table border=\"1\" class=\"dataframe\">\n",
       "  <thead>\n",
       "    <tr style=\"text-align: right;\">\n",
       "      <th></th>\n",
       "      <th>type</th>\n",
       "      <th>title</th>\n",
       "      <th>date_added</th>\n",
       "      <th>release_year</th>\n",
       "    </tr>\n",
       "  </thead>\n",
       "  <tbody>\n",
       "    <tr>\n",
       "      <th>2602</th>\n",
       "      <td>Movie</td>\n",
       "      <td>Hans Teeuwen: Real Rancour</td>\n",
       "      <td>2017-07-01</td>\n",
       "      <td>2016</td>\n",
       "    </tr>\n",
       "    <tr>\n",
       "      <th>2981</th>\n",
       "      <td>Movie</td>\n",
       "      <td>Incoming</td>\n",
       "      <td>2018-10-26</td>\n",
       "      <td>2017</td>\n",
       "    </tr>\n",
       "  </tbody>\n",
       "</table>\n",
       "</div>"
      ],
      "text/plain": [
       "       type                       title date_added  release_year\n",
       "2602  Movie  Hans Teeuwen: Real Rancour 2017-07-01          2016\n",
       "2981  Movie                    Incoming 2018-10-26          2017"
      ]
     },
     "execution_count": 429,
     "metadata": {},
     "output_type": "execute_result"
    }
   ],
   "source": [
    "movie_df = netflix_df.loc[(netflix_df['date_added'].dt.year < netflix_df['release_year']),['type','title','date_added','release_year']] \\\n",
    "          .loc[netflix_df['type'] == 'Movie',:]\n",
    "\n",
    "movie_df['release_year'] = movie_df['date_added'].dt.year - 1\n",
    "\n",
    "movie_df"
   ]
  },
  {
   "cell_type": "markdown",
   "metadata": {},
   "source": [
    "### Với mỗi cột có kiểu dữ liệu dạng categorical, ta cần xem xét sự phân bố các giá trị"
   ]
  },
  {
   "cell_type": "markdown",
   "metadata": {},
   "source": [
    "`netflix_df` có 9 cột categorical là \"show_id\", \"type\", \"title\", \"director\", \"country\", \"rating\", \"duration\", \"listed_in\" và \"description\".\n",
    "\n",
    "Với mỗi cột categorical, ta sẽ xem xét số lượng giá trị khác nhau, list/array các giá trị khác nhau.\n",
    "\n",
    "`cast` không liệt vô dữ liệu nào hết vì nó như là một danh sách nhỏ. "
   ]
  },
  {
   "cell_type": "code",
   "execution_count": 518,
   "metadata": {
    "deletable": false,
    "nbgrader": {
     "cell_type": "code",
     "checksum": "35296018f9eb13360b7c8c16620dd5e7",
     "grade": false,
     "grade_id": "cell-22007ecdcdfa0acc",
     "locked": false,
     "schema_version": 3,
     "solution": true,
     "task": false
    }
   },
   "outputs": [
    {
     "data": {
      "text/html": [
       "<div>\n",
       "<style scoped>\n",
       "    .dataframe tbody tr th:only-of-type {\n",
       "        vertical-align: middle;\n",
       "    }\n",
       "\n",
       "    .dataframe tbody tr th {\n",
       "        vertical-align: top;\n",
       "    }\n",
       "\n",
       "    .dataframe thead th {\n",
       "        text-align: right;\n",
       "    }\n",
       "</style>\n",
       "<table border=\"1\" class=\"dataframe\">\n",
       "  <thead>\n",
       "    <tr style=\"text-align: right;\">\n",
       "      <th></th>\n",
       "      <th>show_id</th>\n",
       "      <th>type</th>\n",
       "      <th>title</th>\n",
       "      <th>country</th>\n",
       "      <th>rating</th>\n",
       "      <th>duration</th>\n",
       "      <th>description</th>\n",
       "    </tr>\n",
       "  </thead>\n",
       "  <tbody>\n",
       "    <tr>\n",
       "      <th>num_diff_vals</th>\n",
       "      <td>7777</td>\n",
       "      <td>2</td>\n",
       "      <td>7777</td>\n",
       "      <td>682</td>\n",
       "      <td>15</td>\n",
       "      <td>216</td>\n",
       "      <td>7759</td>\n",
       "    </tr>\n",
       "    <tr>\n",
       "      <th>diff_vals</th>\n",
       "      <td>[s1, s2, s3, s4, s5, s6, s7, s8, s9, s10, s11,...</td>\n",
       "      <td>[TV Show, Movie]</td>\n",
       "      <td>[3%, 7:19, 23:59, 9, 21, 46, 122, 187, 706, 19...</td>\n",
       "      <td>[Brazil, Mexico, Singapore, United States, Tur...</td>\n",
       "      <td>[TV-MA, R, PG-13, TV-14, TV-PG, NR, TV-G, TV-Y...</td>\n",
       "      <td>[4 Seasons, 93 min, 78 min, 80 min, 123 min, 1...</td>\n",
       "      <td>[In a future where the elite inhabit an island...</td>\n",
       "    </tr>\n",
       "  </tbody>\n",
       "</table>\n",
       "</div>"
      ],
      "text/plain": [
       "                                                         show_id  \\\n",
       "num_diff_vals                                               7777   \n",
       "diff_vals      [s1, s2, s3, s4, s5, s6, s7, s8, s9, s10, s11,...   \n",
       "\n",
       "                           type  \\\n",
       "num_diff_vals                 2   \n",
       "diff_vals      [TV Show, Movie]   \n",
       "\n",
       "                                                           title  \\\n",
       "num_diff_vals                                               7777   \n",
       "diff_vals      [3%, 7:19, 23:59, 9, 21, 46, 122, 187, 706, 19...   \n",
       "\n",
       "                                                         country  \\\n",
       "num_diff_vals                                                682   \n",
       "diff_vals      [Brazil, Mexico, Singapore, United States, Tur...   \n",
       "\n",
       "                                                          rating  \\\n",
       "num_diff_vals                                                 15   \n",
       "diff_vals      [TV-MA, R, PG-13, TV-14, TV-PG, NR, TV-G, TV-Y...   \n",
       "\n",
       "                                                        duration  \\\n",
       "num_diff_vals                                                216   \n",
       "diff_vals      [4 Seasons, 93 min, 78 min, 80 min, 123 min, 1...   \n",
       "\n",
       "                                                     description  \n",
       "num_diff_vals                                               7759  \n",
       "diff_vals      [In a future where the elite inhabit an island...  "
      ]
     },
     "execution_count": 518,
     "metadata": {},
     "output_type": "execute_result"
    }
   ],
   "source": [
    "cate_col_profiles_df = netflix_df.loc[:,['show_id','type','title','country','rating','duration','listed_in','description']] \\\n",
    "                                 .agg([pd.Series.nunique, pd.Series.unique])\n",
    "\n",
    "cate_col_profiles_df.index = ['num_diff_vals','diff_vals']\n",
    "\n",
    "cate_col_profiles_df\n",
    "\n",
    "# cate_col_profiles_df = netflix_df.loc[:,['show_id']].re#.agg([pd.Series.nunique, pd.Series.unique])\n",
    "\n",
    "# cate_col_profiles_dfi\n",
    "\n",
    "# netflix_df.loc[:,['director']]#.agg([pd.Series.nunique, pd.Series.unique])\n",
    "\n",
    "# cate_col_profiles_df\n",
    "# netflix_df"
   ]
  },
  {
   "cell_type": "markdown",
   "metadata": {},
   "source": [
    "Dựa vào bảng giá trị, ta có những nhận xét sơ như sau:\n",
    "- `show_id` có đủ 7777 giá trị, điều này có thể thấy bình thường.\n",
    "- `type` gồm 2 loại là TV Show và Movie, đúng như ta đã nói ban đầu, không có gì kỳ lạ.\n",
    "- `title` gồm 7777 tên đơn lập, đúng như mô tả của người lập ra Dataset này. \n",
    "- `description` chỉ có 7759 giá trị thay vì 7777, khá kì lạ khi mô tả phải khác nhau khi tên chương trình và phim khác nhau. \n",
    "- `duration` có 216 giá trị, nhưng có thể trích rút ra đơn vị tính từ cột này và tiếp tục khám phá dữ liệu. \n",
    "- Có 15 mức độ đánh giá của bảng dữ liệu này được rút ra từ cột `rating`, nhìn sơ thì prefix là TV có thể nghĩ là chỉ TV Show, tuy nhiên không phải, có thể không rút thêm nhiều từ cột này. \n",
    "- Từ cột `country`, ta thấy 682 nước có chương trình và bộ phim trong data của Netflix, có thể dùng để lọc và nhóm phim cho phần phân tích dữ liệu.\n",
    "- Những cột khác không có gì đặc biệt."
   ]
  },
  {
   "cell_type": "code",
   "execution_count": 431,
   "metadata": {},
   "outputs": [
    {
     "data": {
      "text/plain": [
       "A surly septuagenarian gets another chance at her 20s after having her photo snapped at a studio that magically takes 50 years off her life.                3\n",
       "Multiple women report their husbands as missing but when it appears they are looking for the same man, a police officer traces their cryptic connection.    3\n",
       "An affable, newly appointed college warden proves to be no ordinary man when an old enemy resurfaces and exposes his complicated, violent past.             2\n",
       "An aspiring musician battles age-old caste divides to be able to learn the art of a classical instrument from a traditionalist, veteran percussionist.      2\n",
       "A young Han Solo tries to settle an old score with the help of his new buddy Chewbacca, a crew of space smugglers and a cunning old friend.                 2\n",
       "                                                                                                                                                           ..\n",
       "When a 17-year-old learns the TV news host she pines for is engaged, she and her best friend launch an elaborate plan to prevent his marriage.              1\n",
       "Backed by a crew of unlikely allies, newly sober paraplegic Gabriel Cordell teams up with his nephew for a grueling wheelchair trek across America.         1\n",
       "Anti-corruption investigator William Luk must join forces with detective Lau Po-keung to bring down a crime syndicate involved in sports betting.           1\n",
       "Stuck in a liquor store during an alleged robbery, a group of strangers shares hidden truths and forms an unexpected bond on Christmas Eve.                 1\n",
       "Deck the halls with sugar, butter and chocolate as competitors from past seasons bake sweet Yuletide treats for judges Paul Hollywood and Prue Leith.       1\n",
       "Name: description, Length: 7759, dtype: int64"
      ]
     },
     "execution_count": 431,
     "metadata": {},
     "output_type": "execute_result"
    }
   ],
   "source": [
    "netflix_df['description'].value_counts()"
   ]
  },
  {
   "cell_type": "markdown",
   "metadata": {},
   "source": [
    "Có vẻ cột `description` là do bên Netflix tạo trùng, có vẻ vậy,..."
   ]
  },
  {
   "cell_type": "markdown",
   "metadata": {},
   "source": [
    "### Từ cột mang danh sách `listed_in`, ta sẽ tìm hiểu xem có tất cả bao nhiêu thể loại trên Netfix"
   ]
  },
  {
   "cell_type": "markdown",
   "metadata": {},
   "source": [
    "Vì dữ liệu thể loại được lưu dưới dạng danh sách, nên ta sẽ cần khám phá xem có thực sự bao nhiêu thể loại riêng biệt trên Netflix. "
   ]
  },
  {
   "cell_type": "code",
   "execution_count": 432,
   "metadata": {},
   "outputs": [
    {
     "data": {
      "text/plain": [
       "<AxesSubplot:title={'center':'Biểu đồ cho thấy số lượng tương ứng thể loại'}, xlabel='Thể loại', ylabel='Số lượng'>"
      ]
     },
     "execution_count": 432,
     "metadata": {},
     "output_type": "execute_result"
    },
    {
     "data": {
      "image/png": "[encoded data removed]",
      "text/plain": [
       "<Figure size 1440x720 with 1 Axes>"
      ]
     },
     "metadata": {
      "needs_background": "light"
     },
     "output_type": "display_data"
    }
   ],
   "source": [
    "all_movie_genre, count = np.unique(np.sum(netflix_df['listed_in']), return_counts=True,)\n",
    "all_movie_genre_df = pd.DataFrame(data=count, index=all_movie_genre, columns=['Count'])\n",
    "all_movie_genre_df.plot.bar(xlabel='Thể loại', ylabel='Số lượng', legend=False, \n",
    "                            title='Biểu đồ cho thấy số lượng tương ứng thể loại', figsize=(20,10))"
   ]
  },
  {
   "cell_type": "markdown",
   "metadata": {},
   "source": [
    "**Nhận xét**\n",
    "- Có rất nhiều sự chênh lệch giữa các cột, nhưng ta cũng nhận ra có vài dữ liệu bị trùng lặp, ví dụ TV Comedies và Comedies, TV Dramas và Dramas, TV Thrillers và Thriller. Liệu những thể loại không có chữ TV trong tên là phim và ngược lại, là chương trình TV?"
   ]
  },
  {
   "cell_type": "markdown",
   "metadata": {},
   "source": [
    "**Kiểm chứng**\n",
    "Trong phần này, ta sẽ có các việc cần làm như sau:\n",
    "- Tỉ lệ về số lượng giữa Movie và TV Show\n",
    "- Kiểm chứng trong thể loại phim, không có từ TV và ngược lại"
   ]
  },
  {
   "cell_type": "code",
   "execution_count": 433,
   "metadata": {},
   "outputs": [
    {
     "name": "stderr",
     "output_type": "stream",
     "text": [
      "/home/workspace/.local/lib/python3.8/site-packages/pandas/plotting/_matplotlib/tools.py:400: MatplotlibDeprecationWarning: \n",
      "The is_first_col function was deprecated in Matplotlib 3.4 and will be removed two minor releases later. Use ax.get_subplotspec().is_first_col() instead.\n",
      "  if ax.is_first_col():\n"
     ]
    },
    {
     "data": {
      "text/plain": [
       "<AxesSubplot:title={'center':'Biểu đồ số lượng tương ứng thể loại TV Show'}, xlabel='Thể loại', ylabel='Số lượng'>"
      ]
     },
     "execution_count": 433,
     "metadata": {},
     "output_type": "execute_result"
    },
    {
     "data": {
      "image/png": "[encoded data removed]",
      "text/plain": [
       "<Figure size 1440x360 with 3 Axes>"
      ]
     },
     "metadata": {
      "needs_background": "light"
     },
     "output_type": "display_data"
    }
   ],
   "source": [
    "fig, axs = plt.subplots(1,3, figsize=(20, 5))\n",
    "\n",
    "all_type_df = pd.DataFrame(netflix_df['type'].value_counts())\n",
    "all_type_df.plot.pie(legend=True, title='Biểu đồ cho thấy số lượng tương ứng loại chương trình', \n",
    "                     subplots=True,autopct='%1.2f%%', ax=axs[0])\n",
    "\n",
    "movie_type_netflix_df = netflix_df.loc[netflix_df['type'] == 'Movie',['type','listed_in']]\n",
    "movie_type_netflix_df, count = np.unique(np.sum(movie_type_netflix_df['listed_in']), return_counts=True,)\n",
    "movie_type_netflix_df = pd.DataFrame(data=count, index=movie_type_netflix_df, columns=['Count'])\n",
    "movie_type_netflix_df.plot.bar(xlabel='Thể loại', ylabel='Số lượng', legend=False, \n",
    "                            title='Biểu đồ số lượng tương ứng thể loại Moive', ax=axs[1])\n",
    "\n",
    "tvshow_type_netflix_df = netflix_df.loc[netflix_df['type'] == 'TV Show',['type','listed_in']]\n",
    "tvshow_type_netflix_df, count = np.unique(np.sum(tvshow_type_netflix_df['listed_in']), return_counts=True,)\n",
    "tvshow_type_netflix_df = pd.DataFrame(data=count, index=tvshow_type_netflix_df, columns=['Count'])\n",
    "tvshow_type_netflix_df.plot.bar(xlabel='Thể loại', ylabel='Số lượng', legend=False, \n",
    "                            title='Biểu đồ số lượng tương ứng thể loại TV Show', ax=axs[2], ylim=(0,2500))\n"
   ]
  },
  {
   "cell_type": "markdown",
   "metadata": {},
   "source": [
    "**Nhận xét**\n",
    "- Có vẻ đúng như nhận xét, việc thêm từ TV hay TV show có vẻ sẽ dễ hiểu hơn, nhưng có thừa quá không nhỉ? "
   ]
  },
  {
   "cell_type": "markdown",
   "metadata": {},
   "source": [
    "### Từ cột mang danh sách `cast`, ta sẽ tìm hiểu xem có tất cả bao nhiêu diễn viên trên Netfix"
   ]
  },
  {
   "cell_type": "code",
   "execution_count": 434,
   "metadata": {},
   "outputs": [
    {
     "data": {
      "text/html": [
       "<div>\n",
       "<style scoped>\n",
       "    .dataframe tbody tr th:only-of-type {\n",
       "        vertical-align: middle;\n",
       "    }\n",
       "\n",
       "    .dataframe tbody tr th {\n",
       "        vertical-align: top;\n",
       "    }\n",
       "\n",
       "    .dataframe thead th {\n",
       "        text-align: right;\n",
       "    }\n",
       "</style>\n",
       "<table border=\"1\" class=\"dataframe\">\n",
       "  <thead>\n",
       "    <tr style=\"text-align: right;\">\n",
       "      <th></th>\n",
       "      <th>Count</th>\n",
       "    </tr>\n",
       "  </thead>\n",
       "  <tbody>\n",
       "    <tr>\n",
       "      <th>count</th>\n",
       "      <td>32847.000000</td>\n",
       "    </tr>\n",
       "    <tr>\n",
       "      <th>mean</th>\n",
       "      <td>1.701403</td>\n",
       "    </tr>\n",
       "    <tr>\n",
       "      <th>std</th>\n",
       "      <td>1.739237</td>\n",
       "    </tr>\n",
       "    <tr>\n",
       "      <th>min</th>\n",
       "      <td>1.000000</td>\n",
       "    </tr>\n",
       "    <tr>\n",
       "      <th>25%</th>\n",
       "      <td>1.000000</td>\n",
       "    </tr>\n",
       "    <tr>\n",
       "      <th>50%</th>\n",
       "      <td>1.000000</td>\n",
       "    </tr>\n",
       "    <tr>\n",
       "      <th>75%</th>\n",
       "      <td>2.000000</td>\n",
       "    </tr>\n",
       "    <tr>\n",
       "      <th>max</th>\n",
       "      <td>42.000000</td>\n",
       "    </tr>\n",
       "  </tbody>\n",
       "</table>\n",
       "</div>"
      ],
      "text/plain": [
       "              Count\n",
       "count  32847.000000\n",
       "mean       1.701403\n",
       "std        1.739237\n",
       "min        1.000000\n",
       "25%        1.000000\n",
       "50%        1.000000\n",
       "75%        2.000000\n",
       "max       42.000000"
      ]
     },
     "execution_count": 434,
     "metadata": {},
     "output_type": "execute_result"
    }
   ],
   "source": [
    "cast_netflix_df, count = np.unique(np.sum(netflix_df['cast']), return_counts=True,)\n",
    "cast_netflix_df = pd.DataFrame(data=count, index=cast_netflix_df, columns=['Count']).drop(labels=\"\",)\n",
    "\n",
    "cast_netflix_df.describe()"
   ]
  },
  {
   "cell_type": "markdown",
   "metadata": {},
   "source": [
    "**Nhận xét**\n",
    "- Từng có 35338 diễn viên, nghệ sĩ tham gia vào những bộ phim hoặc chương trình TV trên Netflix. \n",
    "- Trung bình các diễn viên, nghệ sĩ chỉ tham gia chưa tới 2 lần, thế nhưng lại có người tham gia đến 38 lần (số ít), phải chăng là những người MC không nhờ.\n",
    "- Hơn 50% diễn viên, nghệ sĩ là chỉ tham gia 1 lần"
   ]
  },
  {
   "cell_type": "code",
   "execution_count": 435,
   "metadata": {},
   "outputs": [
    {
     "data": {
      "text/plain": [
       "Anupam Kher         42\n",
       "Shah Rukh Khan      35\n",
       "Naseeruddin Shah    30\n",
       "Om Puri             30\n",
       "Akshay Kumar        29\n",
       "Takahiro Sakurai    29\n",
       "Yuki Kaji           27\n",
       "Boman Irani         27\n",
       "Paresh Rawal        27\n",
       "Amitabh Bachchan    27\n",
       "Name: Count, dtype: int64"
      ]
     },
     "execution_count": 435,
     "metadata": {},
     "output_type": "execute_result"
    }
   ],
   "source": [
    "# cast_netflix_df[cast_netflix_df['Count'] == 38]\n",
    "\n",
    "cast_netflix_df['Count'].sort_values(ascending=False,).head(10)"
   ]
  },
  {
   "cell_type": "markdown",
   "metadata": {},
   "source": [
    "**Nhận xét**\n",
    "- 8/10 người tham gia là người Ấn Độ, 2 người còn lại là người Nhật, phải chăng người cung cấp dữ liệu là người Ấn Độ hay phim Ấn Độ chiếm nhiều nhất?"
   ]
  },
  {
   "cell_type": "markdown",
   "metadata": {},
   "source": [
    " ### Phân tách cột `duration` "
   ]
  },
  {
   "cell_type": "code",
   "execution_count": 436,
   "metadata": {},
   "outputs": [
    {
     "data": {
      "text/html": [
       "<div>\n",
       "<style scoped>\n",
       "    .dataframe tbody tr th:only-of-type {\n",
       "        vertical-align: middle;\n",
       "    }\n",
       "\n",
       "    .dataframe tbody tr th {\n",
       "        vertical-align: top;\n",
       "    }\n",
       "\n",
       "    .dataframe thead th {\n",
       "        text-align: right;\n",
       "    }\n",
       "</style>\n",
       "<table border=\"1\" class=\"dataframe\">\n",
       "  <thead>\n",
       "    <tr style=\"text-align: right;\">\n",
       "      <th></th>\n",
       "      <th>type</th>\n",
       "      <th>duration</th>\n",
       "    </tr>\n",
       "  </thead>\n",
       "  <tbody>\n",
       "    <tr>\n",
       "      <th>1611</th>\n",
       "      <td>Movie</td>\n",
       "      <td>91 min</td>\n",
       "    </tr>\n",
       "    <tr>\n",
       "      <th>2688</th>\n",
       "      <td>Movie</td>\n",
       "      <td>86 min</td>\n",
       "    </tr>\n",
       "    <tr>\n",
       "      <th>1251</th>\n",
       "      <td>Movie</td>\n",
       "      <td>60 min</td>\n",
       "    </tr>\n",
       "    <tr>\n",
       "      <th>4523</th>\n",
       "      <td>Movie</td>\n",
       "      <td>54 min</td>\n",
       "    </tr>\n",
       "    <tr>\n",
       "      <th>5671</th>\n",
       "      <td>Movie</td>\n",
       "      <td>84 min</td>\n",
       "    </tr>\n",
       "    <tr>\n",
       "      <th>2445</th>\n",
       "      <td>Movie</td>\n",
       "      <td>103 min</td>\n",
       "    </tr>\n",
       "    <tr>\n",
       "      <th>3237</th>\n",
       "      <td>Movie</td>\n",
       "      <td>123 min</td>\n",
       "    </tr>\n",
       "    <tr>\n",
       "      <th>119</th>\n",
       "      <td>Movie</td>\n",
       "      <td>96 min</td>\n",
       "    </tr>\n",
       "    <tr>\n",
       "      <th>6256</th>\n",
       "      <td>Movie</td>\n",
       "      <td>112 min</td>\n",
       "    </tr>\n",
       "    <tr>\n",
       "      <th>7427</th>\n",
       "      <td>Movie</td>\n",
       "      <td>76 min</td>\n",
       "    </tr>\n",
       "  </tbody>\n",
       "</table>\n",
       "</div>"
      ],
      "text/plain": [
       "       type duration\n",
       "1611  Movie   91 min\n",
       "2688  Movie   86 min\n",
       "1251  Movie   60 min\n",
       "4523  Movie   54 min\n",
       "5671  Movie   84 min\n",
       "2445  Movie  103 min\n",
       "3237  Movie  123 min\n",
       "119   Movie   96 min\n",
       "6256  Movie  112 min\n",
       "7427  Movie   76 min"
      ]
     },
     "execution_count": 436,
     "metadata": {},
     "output_type": "execute_result"
    }
   ],
   "source": [
    "netflix_df.loc[netflix_df['type'] == 'Movie',['type', 'duration']].sample(10)"
   ]
  },
  {
   "cell_type": "code",
   "execution_count": 437,
   "metadata": {},
   "outputs": [
    {
     "data": {
      "text/html": [
       "<div>\n",
       "<style scoped>\n",
       "    .dataframe tbody tr th:only-of-type {\n",
       "        vertical-align: middle;\n",
       "    }\n",
       "\n",
       "    .dataframe tbody tr th {\n",
       "        vertical-align: top;\n",
       "    }\n",
       "\n",
       "    .dataframe thead th {\n",
       "        text-align: right;\n",
       "    }\n",
       "</style>\n",
       "<table border=\"1\" class=\"dataframe\">\n",
       "  <thead>\n",
       "    <tr style=\"text-align: right;\">\n",
       "      <th></th>\n",
       "      <th>type</th>\n",
       "      <th>duration</th>\n",
       "    </tr>\n",
       "  </thead>\n",
       "  <tbody>\n",
       "    <tr>\n",
       "      <th>322</th>\n",
       "      <td>TV Show</td>\n",
       "      <td>1 Season</td>\n",
       "    </tr>\n",
       "    <tr>\n",
       "      <th>1640</th>\n",
       "      <td>TV Show</td>\n",
       "      <td>6 Seasons</td>\n",
       "    </tr>\n",
       "    <tr>\n",
       "      <th>3821</th>\n",
       "      <td>TV Show</td>\n",
       "      <td>1 Season</td>\n",
       "    </tr>\n",
       "    <tr>\n",
       "      <th>4102</th>\n",
       "      <td>TV Show</td>\n",
       "      <td>2 Seasons</td>\n",
       "    </tr>\n",
       "    <tr>\n",
       "      <th>1529</th>\n",
       "      <td>TV Show</td>\n",
       "      <td>2 Seasons</td>\n",
       "    </tr>\n",
       "    <tr>\n",
       "      <th>2504</th>\n",
       "      <td>TV Show</td>\n",
       "      <td>5 Seasons</td>\n",
       "    </tr>\n",
       "    <tr>\n",
       "      <th>6582</th>\n",
       "      <td>TV Show</td>\n",
       "      <td>1 Season</td>\n",
       "    </tr>\n",
       "    <tr>\n",
       "      <th>5026</th>\n",
       "      <td>TV Show</td>\n",
       "      <td>1 Season</td>\n",
       "    </tr>\n",
       "    <tr>\n",
       "      <th>3077</th>\n",
       "      <td>TV Show</td>\n",
       "      <td>1 Season</td>\n",
       "    </tr>\n",
       "    <tr>\n",
       "      <th>2645</th>\n",
       "      <td>TV Show</td>\n",
       "      <td>1 Season</td>\n",
       "    </tr>\n",
       "  </tbody>\n",
       "</table>\n",
       "</div>"
      ],
      "text/plain": [
       "         type   duration\n",
       "322   TV Show   1 Season\n",
       "1640  TV Show  6 Seasons\n",
       "3821  TV Show   1 Season\n",
       "4102  TV Show  2 Seasons\n",
       "1529  TV Show  2 Seasons\n",
       "2504  TV Show  5 Seasons\n",
       "6582  TV Show   1 Season\n",
       "5026  TV Show   1 Season\n",
       "3077  TV Show   1 Season\n",
       "2645  TV Show   1 Season"
      ]
     },
     "execution_count": 437,
     "metadata": {},
     "output_type": "execute_result"
    }
   ],
   "source": [
    "netflix_df.loc[netflix_df['type'] == 'TV Show',['type', 'duration']].sample(10)"
   ]
  },
  {
   "cell_type": "markdown",
   "metadata": {},
   "source": [
    "**Nhận xét**\n",
    "- Trong cột `duration` có 2 thành phần là độ lớn và đơn vị, ta sẽ tách chúng thành 2 cột là `duration_long` và `duration_long_unit`. Mục đích việc tách ra như vậy ta sẽ hỗ trợ việc lọc phim hoặc gợi ý phim sau này.  \n",
    "- Sau khi lấy 10 mẫu ngẫu nhiên của 2 loại chương trình trên Netflix là Movie và TV Show, hình như đơn vị:\n",
    "    + Movie có vẻ là min - nghĩa là thời lượng phim, thường thì nếu tính thời gian là phút thì đây là phim lẻ, vậy liệu Netflix xem phim bộ, hay phim bộ được tính là TV Show. Đối với những phim nhiều Season thì như nào nhỉ?\n",
    "    + TV Show có thể có đơn vị tính là Seasons, điều này khá hợp lý.\n",
    "    + Liệu có những đơn vị khác nữa không?"
   ]
  },
  {
   "cell_type": "code",
   "execution_count": 438,
   "metadata": {},
   "outputs": [
    {
     "data": {
      "text/html": [
       "<div>\n",
       "<style scoped>\n",
       "    .dataframe tbody tr th:only-of-type {\n",
       "        vertical-align: middle;\n",
       "    }\n",
       "\n",
       "    .dataframe tbody tr th {\n",
       "        vertical-align: top;\n",
       "    }\n",
       "\n",
       "    .dataframe thead th {\n",
       "        text-align: right;\n",
       "    }\n",
       "</style>\n",
       "<table border=\"1\" class=\"dataframe\">\n",
       "  <thead>\n",
       "    <tr style=\"text-align: right;\">\n",
       "      <th></th>\n",
       "      <th>show_id</th>\n",
       "      <th>type</th>\n",
       "      <th>title</th>\n",
       "      <th>director</th>\n",
       "      <th>cast</th>\n",
       "      <th>country</th>\n",
       "      <th>date_added</th>\n",
       "      <th>release_year</th>\n",
       "      <th>rating</th>\n",
       "      <th>duration</th>\n",
       "      <th>listed_in</th>\n",
       "      <th>description</th>\n",
       "      <th>duration_long</th>\n",
       "      <th>duration_unit</th>\n",
       "    </tr>\n",
       "  </thead>\n",
       "  <tbody>\n",
       "    <tr>\n",
       "      <th>7544</th>\n",
       "      <td>s7545</td>\n",
       "      <td>TV Show</td>\n",
       "      <td>WHAT / IF</td>\n",
       "      <td></td>\n",
       "      <td>[Renée Zellweger, Jane Levy, Blake Jenner, Kei...</td>\n",
       "      <td>United States</td>\n",
       "      <td>2019-05-24</td>\n",
       "      <td>2019</td>\n",
       "      <td>TV-MA</td>\n",
       "      <td>1 Season</td>\n",
       "      <td>[TV Dramas, TV Thrillers]</td>\n",
       "      <td>Desperate to secure funding for her med tech s...</td>\n",
       "      <td>1</td>\n",
       "      <td>Season</td>\n",
       "    </tr>\n",
       "    <tr>\n",
       "      <th>6039</th>\n",
       "      <td>s6040</td>\n",
       "      <td>Movie</td>\n",
       "      <td>Thackeray (Hindi)</td>\n",
       "      <td>Abhijit Panse</td>\n",
       "      <td>[Nawazuddin Siddiqui, Amrita Rao, Rajeev Panda...</td>\n",
       "      <td>India</td>\n",
       "      <td>2020-06-26</td>\n",
       "      <td>2019</td>\n",
       "      <td>TV-14</td>\n",
       "      <td>135 min</td>\n",
       "      <td>[Dramas, International Movies]</td>\n",
       "      <td>From controversial cartoonist to powerful Mumb...</td>\n",
       "      <td>135</td>\n",
       "      <td>min</td>\n",
       "    </tr>\n",
       "    <tr>\n",
       "      <th>2894</th>\n",
       "      <td>s2895</td>\n",
       "      <td>TV Show</td>\n",
       "      <td>I Am Me!</td>\n",
       "      <td></td>\n",
       "      <td>[Germán Bracco, Daniela Luque, José Antonio Be...</td>\n",
       "      <td>Mexico</td>\n",
       "      <td>2017-03-03</td>\n",
       "      <td>2016</td>\n",
       "      <td>TV-14</td>\n",
       "      <td>1 Season</td>\n",
       "      <td>[International TV Shows, Spanish-Language TV S...</td>\n",
       "      <td>Aspiring hip-hop star Francisco builds a name ...</td>\n",
       "      <td>1</td>\n",
       "      <td>Season</td>\n",
       "    </tr>\n",
       "    <tr>\n",
       "      <th>4968</th>\n",
       "      <td>s4969</td>\n",
       "      <td>Movie</td>\n",
       "      <td>Pretville</td>\n",
       "      <td>Linda Korsten</td>\n",
       "      <td>[Marlee van der Merwe, Eugene Jensen, Marno va...</td>\n",
       "      <td>South Africa</td>\n",
       "      <td>2020-02-20</td>\n",
       "      <td>2012</td>\n",
       "      <td>TV-PG</td>\n",
       "      <td>95 min</td>\n",
       "      <td>[Comedies, International Movies, Music &amp; Music...</td>\n",
       "      <td>A farm boy and a greaser pluck at the heartstr...</td>\n",
       "      <td>95</td>\n",
       "      <td>min</td>\n",
       "    </tr>\n",
       "    <tr>\n",
       "      <th>6482</th>\n",
       "      <td>s6483</td>\n",
       "      <td>TV Show</td>\n",
       "      <td>The InBESTigators</td>\n",
       "      <td></td>\n",
       "      <td>[Abby Bergman, Anna Cooke, Aston Droomer, Jami...</td>\n",
       "      <td>Australia</td>\n",
       "      <td>2020-01-10</td>\n",
       "      <td>2020</td>\n",
       "      <td>TV-Y</td>\n",
       "      <td>2 Seasons</td>\n",
       "      <td>[Kids' TV, TV Comedies]</td>\n",
       "      <td>Four clever school kids start their own detect...</td>\n",
       "      <td>2</td>\n",
       "      <td>Seasons</td>\n",
       "    </tr>\n",
       "  </tbody>\n",
       "</table>\n",
       "</div>"
      ],
      "text/plain": [
       "     show_id     type              title       director  \\\n",
       "7544   s7545  TV Show          WHAT / IF                  \n",
       "6039   s6040    Movie  Thackeray (Hindi)  Abhijit Panse   \n",
       "2894   s2895  TV Show           I Am Me!                  \n",
       "4968   s4969    Movie          Pretville  Linda Korsten   \n",
       "6482   s6483  TV Show  The InBESTigators                  \n",
       "\n",
       "                                                   cast        country  \\\n",
       "7544  [Renée Zellweger, Jane Levy, Blake Jenner, Kei...  United States   \n",
       "6039  [Nawazuddin Siddiqui, Amrita Rao, Rajeev Panda...          India   \n",
       "2894  [Germán Bracco, Daniela Luque, José Antonio Be...         Mexico   \n",
       "4968  [Marlee van der Merwe, Eugene Jensen, Marno va...   South Africa   \n",
       "6482  [Abby Bergman, Anna Cooke, Aston Droomer, Jami...      Australia   \n",
       "\n",
       "     date_added  release_year rating   duration  \\\n",
       "7544 2019-05-24          2019  TV-MA   1 Season   \n",
       "6039 2020-06-26          2019  TV-14    135 min   \n",
       "2894 2017-03-03          2016  TV-14   1 Season   \n",
       "4968 2020-02-20          2012  TV-PG     95 min   \n",
       "6482 2020-01-10          2020   TV-Y  2 Seasons   \n",
       "\n",
       "                                              listed_in  \\\n",
       "7544                          [TV Dramas, TV Thrillers]   \n",
       "6039                     [Dramas, International Movies]   \n",
       "2894  [International TV Shows, Spanish-Language TV S...   \n",
       "4968  [Comedies, International Movies, Music & Music...   \n",
       "6482                            [Kids' TV, TV Comedies]   \n",
       "\n",
       "                                            description  duration_long  \\\n",
       "7544  Desperate to secure funding for her med tech s...              1   \n",
       "6039  From controversial cartoonist to powerful Mumb...            135   \n",
       "2894  Aspiring hip-hop star Francisco builds a name ...              1   \n",
       "4968  A farm boy and a greaser pluck at the heartstr...             95   \n",
       "6482  Four clever school kids start their own detect...              2   \n",
       "\n",
       "     duration_unit  \n",
       "7544        Season  \n",
       "6039           min  \n",
       "2894        Season  \n",
       "4968           min  \n",
       "6482       Seasons  "
      ]
     },
     "execution_count": 438,
     "metadata": {},
     "output_type": "execute_result"
    }
   ],
   "source": [
    "unit_series = netflix_df['duration'].str.extract(r'([a-zA-Z]+)', expand=False)\n",
    "unit_series.name = 'duration_unit'\n",
    "\n",
    "long_series = netflix_df['duration'].str.extract(r'([0-9]+)', expand=False).astype(np.int32)\n",
    "long_series.name = 'duration_long'\n",
    "\n",
    "netflix_discov_df = pd.concat([netflix_df, long_series, unit_series], axis=1)\n",
    "netflix_discov_df.sample(5)"
   ]
  },
  {
   "cell_type": "markdown",
   "metadata": {},
   "source": [
    "**Kiểm tra**\n",
    "- Liệu đơn vị `min` chỉ dành cho `Movie` và `Season` chỉ dành cho `TV Show`?  \n",
    "- Liệu có những đơn vị khác nữa không?"
   ]
  },
  {
   "cell_type": "code",
   "execution_count": 439,
   "metadata": {},
   "outputs": [
    {
     "data": {
      "text/html": [
       "<div>\n",
       "<style scoped>\n",
       "    .dataframe tbody tr th:only-of-type {\n",
       "        vertical-align: middle;\n",
       "    }\n",
       "\n",
       "    .dataframe tbody tr th {\n",
       "        vertical-align: top;\n",
       "    }\n",
       "\n",
       "    .dataframe thead th {\n",
       "        text-align: right;\n",
       "    }\n",
       "</style>\n",
       "<table border=\"1\" class=\"dataframe\">\n",
       "  <thead>\n",
       "    <tr style=\"text-align: right;\">\n",
       "      <th></th>\n",
       "      <th>show_id</th>\n",
       "      <th>type</th>\n",
       "      <th>title</th>\n",
       "      <th>director</th>\n",
       "      <th>cast</th>\n",
       "      <th>country</th>\n",
       "      <th>date_added</th>\n",
       "      <th>release_year</th>\n",
       "      <th>rating</th>\n",
       "      <th>duration</th>\n",
       "      <th>listed_in</th>\n",
       "      <th>description</th>\n",
       "      <th>duration_long</th>\n",
       "      <th>duration_unit</th>\n",
       "    </tr>\n",
       "  </thead>\n",
       "  <tbody>\n",
       "    <tr>\n",
       "      <th>1669</th>\n",
       "      <td>s1670</td>\n",
       "      <td>TV Show</td>\n",
       "      <td>Death by Magic</td>\n",
       "      <td></td>\n",
       "      <td>[Drummond Money-Coutts]</td>\n",
       "      <td>United States</td>\n",
       "      <td>2018-11-30</td>\n",
       "      <td>2018</td>\n",
       "      <td>TV-PG</td>\n",
       "      <td>1 Season</td>\n",
       "      <td>[Reality TV]</td>\n",
       "      <td>Magician Drummond Money-Coutts travels the glo...</td>\n",
       "      <td>1</td>\n",
       "      <td>Season</td>\n",
       "    </tr>\n",
       "    <tr>\n",
       "      <th>1124</th>\n",
       "      <td>s1125</td>\n",
       "      <td>TV Show</td>\n",
       "      <td>Buddha</td>\n",
       "      <td></td>\n",
       "      <td>[Himanshu Soni, Kajal Jain, Sanket Choukse, Ka...</td>\n",
       "      <td></td>\n",
       "      <td>2018-04-01</td>\n",
       "      <td>2013</td>\n",
       "      <td>TV-PG</td>\n",
       "      <td>1 Season</td>\n",
       "      <td>[International TV Shows, TV Dramas]</td>\n",
       "      <td>In this historical drama series, young Prince ...</td>\n",
       "      <td>1</td>\n",
       "      <td>Season</td>\n",
       "    </tr>\n",
       "    <tr>\n",
       "      <th>1217</th>\n",
       "      <td>s1218</td>\n",
       "      <td>Movie</td>\n",
       "      <td>Cargo</td>\n",
       "      <td>Arati Kadav</td>\n",
       "      <td>[Vikrant Massey, Shweta Tripathi, Nandu Madhav...</td>\n",
       "      <td>India</td>\n",
       "      <td>2020-09-09</td>\n",
       "      <td>2020</td>\n",
       "      <td>TV-14</td>\n",
       "      <td>113 min</td>\n",
       "      <td>[Comedies, Dramas, Independent Movies]</td>\n",
       "      <td>Aboard a spaceship where souls of the deceased...</td>\n",
       "      <td>113</td>\n",
       "      <td>min</td>\n",
       "    </tr>\n",
       "    <tr>\n",
       "      <th>3989</th>\n",
       "      <td>s3990</td>\n",
       "      <td>Movie</td>\n",
       "      <td>Material</td>\n",
       "      <td>Craig Freimond</td>\n",
       "      <td>[Vincent Ebrahim, Riaad Moosa, Joey Rasdien, D...</td>\n",
       "      <td>South Africa</td>\n",
       "      <td>2020-05-01</td>\n",
       "      <td>2012</td>\n",
       "      <td>TV-14</td>\n",
       "      <td>94 min</td>\n",
       "      <td>[Comedies, Dramas, International Movies]</td>\n",
       "      <td>A dutiful son must hide his pursuit of stand-u...</td>\n",
       "      <td>94</td>\n",
       "      <td>min</td>\n",
       "    </tr>\n",
       "    <tr>\n",
       "      <th>795</th>\n",
       "      <td>s796</td>\n",
       "      <td>Movie</td>\n",
       "      <td>Bebe's Kids</td>\n",
       "      <td>Bruce W. Smith</td>\n",
       "      <td>[Faizon Love, Vanessa Bell Calloway, Wayne Col...</td>\n",
       "      <td>United States</td>\n",
       "      <td>2019-11-20</td>\n",
       "      <td>1992</td>\n",
       "      <td>PG-13</td>\n",
       "      <td>73 min</td>\n",
       "      <td>[Comedies]</td>\n",
       "      <td>When ladies' man Robin meets Jamika, he falls ...</td>\n",
       "      <td>73</td>\n",
       "      <td>min</td>\n",
       "    </tr>\n",
       "  </tbody>\n",
       "</table>\n",
       "</div>"
      ],
      "text/plain": [
       "     show_id     type           title        director  \\\n",
       "1669   s1670  TV Show  Death by Magic                   \n",
       "1124   s1125  TV Show          Buddha                   \n",
       "1217   s1218    Movie           Cargo     Arati Kadav   \n",
       "3989   s3990    Movie        Material  Craig Freimond   \n",
       "795     s796    Movie     Bebe's Kids  Bruce W. Smith   \n",
       "\n",
       "                                                   cast        country  \\\n",
       "1669                            [Drummond Money-Coutts]  United States   \n",
       "1124  [Himanshu Soni, Kajal Jain, Sanket Choukse, Ka...                  \n",
       "1217  [Vikrant Massey, Shweta Tripathi, Nandu Madhav...          India   \n",
       "3989  [Vincent Ebrahim, Riaad Moosa, Joey Rasdien, D...   South Africa   \n",
       "795   [Faizon Love, Vanessa Bell Calloway, Wayne Col...  United States   \n",
       "\n",
       "     date_added  release_year rating  duration  \\\n",
       "1669 2018-11-30          2018  TV-PG  1 Season   \n",
       "1124 2018-04-01          2013  TV-PG  1 Season   \n",
       "1217 2020-09-09          2020  TV-14   113 min   \n",
       "3989 2020-05-01          2012  TV-14    94 min   \n",
       "795  2019-11-20          1992  PG-13    73 min   \n",
       "\n",
       "                                     listed_in  \\\n",
       "1669                              [Reality TV]   \n",
       "1124       [International TV Shows, TV Dramas]   \n",
       "1217    [Comedies, Dramas, Independent Movies]   \n",
       "3989  [Comedies, Dramas, International Movies]   \n",
       "795                                 [Comedies]   \n",
       "\n",
       "                                            description  duration_long  \\\n",
       "1669  Magician Drummond Money-Coutts travels the glo...              1   \n",
       "1124  In this historical drama series, young Prince ...              1   \n",
       "1217  Aboard a spaceship where souls of the deceased...            113   \n",
       "3989  A dutiful son must hide his pursuit of stand-u...             94   \n",
       "795   When ladies' man Robin meets Jamika, he falls ...             73   \n",
       "\n",
       "     duration_unit  \n",
       "1669        Season  \n",
       "1124        Season  \n",
       "1217           min  \n",
       "3989           min  \n",
       "795            min  "
      ]
     },
     "execution_count": 439,
     "metadata": {},
     "output_type": "execute_result"
    }
   ],
   "source": [
    "netflix_discov_df.sample(5)"
   ]
  },
  {
   "cell_type": "markdown",
   "metadata": {},
   "source": [
    "**Số lượng các loại `Movie` và `TV Show`**"
   ]
  },
  {
   "cell_type": "code",
   "execution_count": 440,
   "metadata": {},
   "outputs": [
    {
     "data": {
      "text/html": [
       "<div>\n",
       "<style scoped>\n",
       "    .dataframe tbody tr th:only-of-type {\n",
       "        vertical-align: middle;\n",
       "    }\n",
       "\n",
       "    .dataframe tbody tr th {\n",
       "        vertical-align: top;\n",
       "    }\n",
       "\n",
       "    .dataframe thead th {\n",
       "        text-align: right;\n",
       "    }\n",
       "</style>\n",
       "<table border=\"1\" class=\"dataframe\">\n",
       "  <thead>\n",
       "    <tr style=\"text-align: right;\">\n",
       "      <th></th>\n",
       "      <th>type</th>\n",
       "    </tr>\n",
       "  </thead>\n",
       "  <tbody>\n",
       "    <tr>\n",
       "      <th>Movie</th>\n",
       "      <td>5377</td>\n",
       "    </tr>\n",
       "    <tr>\n",
       "      <th>TV Show</th>\n",
       "      <td>2400</td>\n",
       "    </tr>\n",
       "  </tbody>\n",
       "</table>\n",
       "</div>"
      ],
      "text/plain": [
       "         type\n",
       "Movie    5377\n",
       "TV Show  2400"
      ]
     },
     "execution_count": 440,
     "metadata": {},
     "output_type": "execute_result"
    }
   ],
   "source": [
    "all_type_df"
   ]
  },
  {
   "cell_type": "markdown",
   "metadata": {},
   "source": [
    "**Kiểm tra `Movie`**"
   ]
  },
  {
   "cell_type": "code",
   "execution_count": 441,
   "metadata": {},
   "outputs": [
    {
     "data": {
      "text/plain": [
       "duration_unit\n",
       "min              5377\n",
       "dtype: int64"
      ]
     },
     "execution_count": 441,
     "metadata": {},
     "output_type": "execute_result"
    }
   ],
   "source": [
    "netflix_discov_df.loc[netflix_discov_df['type'] == 'Movie',['duration_unit']].value_counts()"
   ]
  },
  {
   "cell_type": "markdown",
   "metadata": {},
   "source": [
    "**Kiểm tra `TV Show`**"
   ]
  },
  {
   "cell_type": "code",
   "execution_count": 442,
   "metadata": {},
   "outputs": [
    {
     "data": {
      "text/plain": [
       "duration_unit\n",
       "Season           1608\n",
       "Seasons           792\n",
       "dtype: int64"
      ]
     },
     "execution_count": 442,
     "metadata": {},
     "output_type": "execute_result"
    }
   ],
   "source": [
    "netflix_discov_df.loc[netflix_discov_df['type'] == 'TV Show',['duration_unit']].value_counts()"
   ]
  },
  {
   "cell_type": "markdown",
   "metadata": {},
   "source": [
    "**Nhận xét**\n",
    "- Tổng của chúng là 2400, vậy đối với `TV Show` và `Movie`, chúng chỉ có 2 đơn vị duy nhất lần lượt là `min` và `Season`\n",
    "- Theo đơn vị của `TV Show`, số lượng các chương trình có 1 mùa nhiều gấp đôi các mùa khác cộng lại. Để có thể duy trì nhiều mùa có vẻ khó, ta sẽ tìm hiểu `TV show` nào nhiều mùa nhất.\n",
    "- `Movie` chỉ có `min`, do đó có thể kết luận sơ là phim bộ thuộc `TV Show`. Mình có tò mò là phân bố của chúng thế nào và top 1 phim dài nhất và ngắn nhất?\n"
   ]
  },
  {
   "cell_type": "markdown",
   "metadata": {},
   "source": [
    "---"
   ]
  },
  {
   "cell_type": "markdown",
   "metadata": {},
   "source": [
    "**Tiền xử lý `duration_unit` của `TV Show` thành `Season`**\n",
    "- Theo nhìn nhận ở trên, `Season` và `Season` có ý nghĩa như nhau, do đó, ta không cần phải tách chúng ra làm gì. \n"
   ]
  },
  {
   "cell_type": "code",
   "execution_count": 443,
   "metadata": {},
   "outputs": [
    {
     "data": {
      "text/plain": [
       "duration_unit\n",
       "Season           2400\n",
       "dtype: int64"
      ]
     },
     "execution_count": 443,
     "metadata": {},
     "output_type": "execute_result"
    }
   ],
   "source": [
    "netflix_discov_df.loc[netflix_discov_df['duration_unit'] == 'Seasons',['duration_unit']] = ['Season']\n",
    "\n",
    "netflix_discov_df.loc[netflix_discov_df['type'] == 'TV Show',['duration_unit']].value_counts()"
   ]
  },
  {
   "cell_type": "markdown",
   "metadata": {},
   "source": [
    "**Khám phá dữ liệu thời gian của `Movie`**\n",
    "- Dữ liệu thời gian không bị mất mát, do đó ta tiến hành phân tích mà không gặp vấn đề gì. \n"
   ]
  },
  {
   "cell_type": "code",
   "execution_count": 450,
   "metadata": {},
   "outputs": [
    {
     "data": {
      "text/plain": [
       "<AxesSubplot:title={'center':'Biểu đồ số lượng tương ứng thời lượng Moive'}, xlabel='Thời Lượng', ylabel='Số lượng'>"
      ]
     },
     "execution_count": 450,
     "metadata": {},
     "output_type": "execute_result"
    },
    {
     "data": {
      "image/png": "[encoded data removed]",
      "text/plain": [
       "<Figure size 1440x360 with 1 Axes>"
      ]
     },
     "metadata": {
      "needs_background": "light"
     },
     "output_type": "display_data"
    }
   ],
   "source": [
    "movie_df = pd.DataFrame(netflix_discov_df.loc[netflix_discov_df['type'] == 'Movie',:] \\\n",
    "                                         .groupby('duration_long').size(), columns=['Count']).sort_index()\n",
    "\n",
    "\n",
    "movie_df.plot.bar(xlabel='Thời Lượng', ylabel='Số lượng', legend=False, \n",
    "                            title='Biểu đồ số lượng tương ứng thời lượng Moive', figsize=(20, 5))\n",
    "# pd.DataFrame.plot.hist()"
   ]
  },
  {
   "cell_type": "code",
   "execution_count": 484,
   "metadata": {},
   "outputs": [
    {
     "name": "stdout",
     "output_type": "stream",
     "text": [
      "Phim có thời lượng ngắn nhất là 3 phút với 1 phim\n",
      "Phim có thời lượng dài nhất là 312 phút với 1 phim\n",
      "90 là thời lượng có nhiều phim nhất\n"
     ]
    }
   ],
   "source": [
    "print(f\"Phim có thời lượng ngắn nhất là {movie_df.first_valid_index()} phút với {movie_df.loc[movie_df.first_valid_index(),'Count']} phim\")\n",
    "print(f\"Phim có thời lượng dài nhất là {movie_df.last_valid_index()} phút với {movie_df.loc[movie_df.last_valid_index(),'Count']} phim\")\n",
    "print(f\"{movie_df.loc[movie_df['Count'] == movie_df.max()[0] ,'Count'].reset_index().iloc[0,0]} phút là thời lượng có nhiều phim nhất\")"
   ]
  },
  {
   "cell_type": "markdown",
   "metadata": {},
   "source": [
    "**Nhận xét**\n",
    "- Hầu hết các phim lẻ đều chọn khoảng thời gian 90 phút.\n",
    "- Phim ngắn nhất là 3 phút và dài nhất là 312 phút, khá thú vị, ta sẽ xem xem là phim gì.\n"
   ]
  },
  {
   "cell_type": "code",
   "execution_count": 514,
   "metadata": {},
   "outputs": [
    {
     "data": {
      "text/html": [
       "<div>\n",
       "<style scoped>\n",
       "    .dataframe tbody tr th:only-of-type {\n",
       "        vertical-align: middle;\n",
       "    }\n",
       "\n",
       "    .dataframe tbody tr th {\n",
       "        vertical-align: top;\n",
       "    }\n",
       "\n",
       "    .dataframe thead th {\n",
       "        text-align: right;\n",
       "    }\n",
       "</style>\n",
       "<table border=\"1\" class=\"dataframe\">\n",
       "  <thead>\n",
       "    <tr style=\"text-align: right;\">\n",
       "      <th></th>\n",
       "      <th>title</th>\n",
       "      <th>duration_long</th>\n",
       "      <th>duration_unit</th>\n",
       "      <th>listed_in</th>\n",
       "      <th>country</th>\n",
       "    </tr>\n",
       "  </thead>\n",
       "  <tbody>\n",
       "    <tr>\n",
       "      <th>5605</th>\n",
       "      <td>Silent</td>\n",
       "      <td>3</td>\n",
       "      <td>min</td>\n",
       "      <td>[Children &amp; Family Movies, Sci-Fi &amp; Fantasy]</td>\n",
       "      <td>United States</td>\n",
       "    </tr>\n",
       "    <tr>\n",
       "      <th>957</th>\n",
       "      <td>Black Mirror: Bandersnatch</td>\n",
       "      <td>312</td>\n",
       "      <td>min</td>\n",
       "      <td>[Dramas, International Movies, Sci-Fi &amp; Fantasy]</td>\n",
       "      <td>United States</td>\n",
       "    </tr>\n",
       "  </tbody>\n",
       "</table>\n",
       "</div>"
      ],
      "text/plain": [
       "                           title  duration_long duration_unit  \\\n",
       "5605                      Silent              3           min   \n",
       "957   Black Mirror: Bandersnatch            312           min   \n",
       "\n",
       "                                             listed_in        country  \n",
       "5605      [Children & Family Movies, Sci-Fi & Fantasy]  United States  \n",
       "957   [Dramas, International Movies, Sci-Fi & Fantasy]  United States  "
      ]
     },
     "execution_count": 514,
     "metadata": {},
     "output_type": "execute_result"
    }
   ],
   "source": [
    "amazing_movie = netflix_discov_df.loc[netflix_discov_df['type'] == 'Movie', ['title','duration_long','duration_unit','listed_in', 'country']]\n",
    "amazing_movie.loc[amazing_movie['duration_long'] == 3,:]\n",
    "pd.concat([amazing_movie.loc[amazing_movie['duration_long'] == 3,:], amazing_movie.loc[amazing_movie['duration_long'] == 312,:]], axis=0)"
   ]
  },
  {
   "cell_type": "markdown",
   "metadata": {},
   "source": [
    "**Khám phá dữ liệu thời gian của `TV Show`**\n",
    "- Dữ liệu thời gian không bị mất mát, do đó ta tiến hành phân tích mà không gặp vấn đề gì. \n"
   ]
  },
  {
   "cell_type": "markdown",
   "metadata": {},
   "source": [
    "**Nhận xét**\n",
    "- Thời lượng trung bình là \n",
    "- Theo đơn vị của `TV Show`, số lượng các chương trình có 1 mùa nhiều gấp đôi các mùa khác cộng lại. Để có thể duy trì nhiều mùa có vẻ khó, ta sẽ tìm hiểu `TV show` nào nhiều mùa nhất.\n",
    "- `Movie` chỉ có `min`, do đó có thể kết luận sơ là phim bộ thuộc `TV Show`. Mình có tò mò là phân bố của chúng thế nào và top 5 phim dài nhất và ngắn nhất?\n"
   ]
  },
  {
   "cell_type": "code",
   "execution_count": 506,
   "metadata": {},
   "outputs": [
    {
     "data": {
      "text/plain": [
       "<AxesSubplot:title={'center':'Biểu đồ số lượng tương ứng số mùa của TV Show'}, xlabel='Số mùa', ylabel='Số lượng'>"
      ]
     },
     "execution_count": 506,
     "metadata": {},
     "output_type": "execute_result"
    },
    {
     "data": {
      "image/png": "[encoded data removed]",
      "text/plain": [
       "<Figure size 1080x360 with 1 Axes>"
      ]
     },
     "metadata": {
      "needs_background": "light"
     },
     "output_type": "display_data"
    }
   ],
   "source": [
    "tvshow_df = pd.DataFrame(netflix_discov_df.loc[netflix_discov_df['type'] == 'TV Show',:] \\\n",
    "                                          .groupby('duration_long').size(), columns=['Count'])\\\n",
    "                                          .sort_index(ascending = True)\n",
    "\n",
    "tvshow_df.plot.bar(xlabel='Số mùa', ylabel='Số lượng', legend=False, \n",
    "                            title='Biểu đồ số lượng tương ứng số mùa của TV Show', figsize=(15, 5))"
   ]
  },
  {
   "cell_type": "markdown",
   "metadata": {},
   "source": [
    "**Nhận xét**\n",
    "- Gần như các TV Show đều dừng lại ở mùa 1, để tiếp tục hoạt động ở mùa 2 có vẻ khá là khó khăn.\n",
    "- Từ mùa 2 trở đi, dữ liệu có vẻ giảm dần đều, có thể thấy, một khi bước sang mùa 2, TV Show đó khá là chất lượng và được yêu thích. Có vẻ mùa 1 như là một bộ lọc vậy\n"
   ]
  },
  {
   "cell_type": "markdown",
   "metadata": {},
   "source": [
    "**Top 10 TV Show trụ lâu nhất**\n"
   ]
  },
  {
   "cell_type": "code",
   "execution_count": 515,
   "metadata": {},
   "outputs": [
    {
     "data": {
      "text/html": [
       "<div>\n",
       "<style scoped>\n",
       "    .dataframe tbody tr th:only-of-type {\n",
       "        vertical-align: middle;\n",
       "    }\n",
       "\n",
       "    .dataframe tbody tr th {\n",
       "        vertical-align: top;\n",
       "    }\n",
       "\n",
       "    .dataframe thead th {\n",
       "        text-align: right;\n",
       "    }\n",
       "</style>\n",
       "<table border=\"1\" class=\"dataframe\">\n",
       "  <thead>\n",
       "    <tr style=\"text-align: right;\">\n",
       "      <th></th>\n",
       "      <th>title</th>\n",
       "      <th>duration_long</th>\n",
       "      <th>duration_unit</th>\n",
       "      <th>country</th>\n",
       "      <th>listed_in</th>\n",
       "    </tr>\n",
       "  </thead>\n",
       "  <tbody>\n",
       "    <tr>\n",
       "      <th>2538</th>\n",
       "      <td>Grey's Anatomy</td>\n",
       "      <td>16</td>\n",
       "      <td>Season</td>\n",
       "      <td>United States</td>\n",
       "      <td>[Romantic TV Shows, TV Dramas]</td>\n",
       "    </tr>\n",
       "    <tr>\n",
       "      <th>5912</th>\n",
       "      <td>Supernatural</td>\n",
       "      <td>15</td>\n",
       "      <td>Season</td>\n",
       "      <td>United States, Canada</td>\n",
       "      <td>[Classic &amp; Cult TV, TV Action &amp; Adventure, TV ...</td>\n",
       "    </tr>\n",
       "    <tr>\n",
       "      <th>4438</th>\n",
       "      <td>NCIS</td>\n",
       "      <td>15</td>\n",
       "      <td>Season</td>\n",
       "      <td>United States</td>\n",
       "      <td>[Crime TV Shows, TV Dramas, TV Mysteries]</td>\n",
       "    </tr>\n",
       "    <tr>\n",
       "      <th>1471</th>\n",
       "      <td>COMEDIANS of the world</td>\n",
       "      <td>13</td>\n",
       "      <td>Season</td>\n",
       "      <td>United States</td>\n",
       "      <td>[Stand-Up Comedy &amp; Talk Shows, TV Comedies]</td>\n",
       "    </tr>\n",
       "    <tr>\n",
       "      <th>1537</th>\n",
       "      <td>Criminal Minds</td>\n",
       "      <td>12</td>\n",
       "      <td>Season</td>\n",
       "      <td>United States, Canada</td>\n",
       "      <td>[Crime TV Shows, TV Dramas, TV Mysteries]</td>\n",
       "    </tr>\n",
       "    <tr>\n",
       "      <th>7169</th>\n",
       "      <td>Trailer Park Boys</td>\n",
       "      <td>12</td>\n",
       "      <td>Season</td>\n",
       "      <td>Canada</td>\n",
       "      <td>[Classic &amp; Cult TV, Crime TV Shows, Internatio...</td>\n",
       "    </tr>\n",
       "    <tr>\n",
       "      <th>2678</th>\n",
       "      <td>Heartland</td>\n",
       "      <td>11</td>\n",
       "      <td>Season</td>\n",
       "      <td>Canada</td>\n",
       "      <td>[TV Dramas]</td>\n",
       "    </tr>\n",
       "    <tr>\n",
       "      <th>1300</th>\n",
       "      <td>Cheers</td>\n",
       "      <td>11</td>\n",
       "      <td>Season</td>\n",
       "      <td>United States</td>\n",
       "      <td>[Classic &amp; Cult TV, TV Comedies]</td>\n",
       "    </tr>\n",
       "    <tr>\n",
       "      <th>1597</th>\n",
       "      <td>Danger Mouse: Classic Collection</td>\n",
       "      <td>10</td>\n",
       "      <td>Season</td>\n",
       "      <td>United Kingdom</td>\n",
       "      <td>[British TV Shows, Kids' TV, TV Comedies]</td>\n",
       "    </tr>\n",
       "    <tr>\n",
       "      <th>5538</th>\n",
       "      <td>Shameless (U.S.)</td>\n",
       "      <td>10</td>\n",
       "      <td>Season</td>\n",
       "      <td>United States</td>\n",
       "      <td>[TV Comedies, TV Dramas]</td>\n",
       "    </tr>\n",
       "  </tbody>\n",
       "</table>\n",
       "</div>"
      ],
      "text/plain": [
       "                                 title  duration_long duration_unit  \\\n",
       "2538                    Grey's Anatomy             16        Season   \n",
       "5912                      Supernatural             15        Season   \n",
       "4438                              NCIS             15        Season   \n",
       "1471            COMEDIANS of the world             13        Season   \n",
       "1537                    Criminal Minds             12        Season   \n",
       "7169                 Trailer Park Boys             12        Season   \n",
       "2678                         Heartland             11        Season   \n",
       "1300                            Cheers             11        Season   \n",
       "1597  Danger Mouse: Classic Collection             10        Season   \n",
       "5538                  Shameless (U.S.)             10        Season   \n",
       "\n",
       "                    country                                          listed_in  \n",
       "2538          United States                     [Romantic TV Shows, TV Dramas]  \n",
       "5912  United States, Canada  [Classic & Cult TV, TV Action & Adventure, TV ...  \n",
       "4438          United States          [Crime TV Shows, TV Dramas, TV Mysteries]  \n",
       "1471          United States        [Stand-Up Comedy & Talk Shows, TV Comedies]  \n",
       "1537  United States, Canada          [Crime TV Shows, TV Dramas, TV Mysteries]  \n",
       "7169                 Canada  [Classic & Cult TV, Crime TV Shows, Internatio...  \n",
       "2678                 Canada                                        [TV Dramas]  \n",
       "1300          United States                   [Classic & Cult TV, TV Comedies]  \n",
       "1597         United Kingdom          [British TV Shows, Kids' TV, TV Comedies]  \n",
       "5538          United States                           [TV Comedies, TV Dramas]  "
      ]
     },
     "execution_count": 515,
     "metadata": {},
     "output_type": "execute_result"
    }
   ],
   "source": [
    "tvshow_df = netflix_discov_df.loc[netflix_discov_df['type'] == 'TV Show',['title', 'duration_long', 'duration_unit', 'country', 'listed_in']]\\\n",
    "                             .sort_values(by=['duration_long'], axis=0, ascending=False).head(10)\n",
    "\n",
    "tvshow_df"
   ]
  },
  {
   "cell_type": "markdown",
   "metadata": {},
   "source": [
    "**Nhận xét**\n",
    "- Có vẻ Mỹ và Canada là 2 cường quốc về phim ảnh.\n",
    "- Những bộ phim hài hay chương trình hài có vẻ dễ tồn tại hơn khi chiếm phần lớn danh sách này.\n",
    "- Dù trải qua nhiều mùa như vậy, nhưng mình không hề biết tới những phim này, phải chăng danh sách này có thiên vị? "
   ]
  },
  {
   "cell_type": "code",
   "execution_count": null,
   "metadata": {},
   "outputs": [],
   "source": []
  }
 ],
 "metadata": {
  "interpreter": {
   "hash": "2b60714c849f4e11d33c8be5571ed40d1b3e5f4791a6e0d100724af4520e7936"
  },
  "kernelspec": {
   "display_name": "Python 3",
   "language": "python",
   "name": "python3"
  },
  "language_info": {
   "codemirror_mode": {
    "name": "ipython",
    "version": 3
   },
   "file_extension": ".py",
   "mimetype": "text/x-python",
   "name": "python",
   "nbconvert_exporter": "python",
   "pygments_lexer": "ipython3",
   "version": "3.8.8"
  },
  "toc": {
   "base_numbering": 1,
   "nav_menu": {},
   "number_sections": false,
   "sideBar": true,
   "skip_h1_title": false,
   "title_cell": "Table of Contents",
   "title_sidebar": "Contents",
   "toc_cell": false,
   "toc_position": {
    "height": "calc(100% - 180px)",
    "left": "10px",
    "top": "150px",
    "width": "240px"
   },
   "toc_section_display": true,
   "toc_window_display": true
  }
 },
 "nbformat": 4,
 "nbformat_minor": 4
}

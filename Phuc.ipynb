{
 "cells": [
  {
   "cell_type": "code",
   "execution_count": 1,
   "id": "33d64c86",
   "metadata": {},
   "outputs": [],
   "source": [
    "import numpy as np\n",
    "import pandas as pd"
   ]
  },
  {
   "cell_type": "code",
   "execution_count": 2,
   "id": "96c90aeb",
   "metadata": {},
   "outputs": [
    {
     "data": {
      "text/html": [
       "<div>\n",
       "<style scoped>\n",
       "    .dataframe tbody tr th:only-of-type {\n",
       "        vertical-align: middle;\n",
       "    }\n",
       "\n",
       "    .dataframe tbody tr th {\n",
       "        vertical-align: top;\n",
       "    }\n",
       "\n",
       "    .dataframe thead th {\n",
       "        text-align: right;\n",
       "    }\n",
       "</style>\n",
       "<table border=\"1\" class=\"dataframe\">\n",
       "  <thead>\n",
       "    <tr style=\"text-align: right;\">\n",
       "      <th></th>\n",
       "      <th>show_id</th>\n",
       "      <th>type</th>\n",
       "      <th>title</th>\n",
       "      <th>director</th>\n",
       "      <th>cast</th>\n",
       "      <th>country</th>\n",
       "      <th>date_added</th>\n",
       "      <th>release_year</th>\n",
       "      <th>rating</th>\n",
       "      <th>duration</th>\n",
       "      <th>listed_in</th>\n",
       "      <th>description</th>\n",
       "    </tr>\n",
       "  </thead>\n",
       "  <tbody>\n",
       "    <tr>\n",
       "      <th>0</th>\n",
       "      <td>s1</td>\n",
       "      <td>TV Show</td>\n",
       "      <td>3%</td>\n",
       "      <td>NaN</td>\n",
       "      <td>João Miguel, Bianca Comparato, Michel Gomes, R...</td>\n",
       "      <td>Brazil</td>\n",
       "      <td>August 14, 2020</td>\n",
       "      <td>2020</td>\n",
       "      <td>TV-MA</td>\n",
       "      <td>4 Seasons</td>\n",
       "      <td>International TV Shows, TV Dramas, TV Sci-Fi &amp;...</td>\n",
       "      <td>In a future where the elite inhabit an island ...</td>\n",
       "    </tr>\n",
       "    <tr>\n",
       "      <th>1</th>\n",
       "      <td>s2</td>\n",
       "      <td>Movie</td>\n",
       "      <td>7:19</td>\n",
       "      <td>Jorge Michel Grau</td>\n",
       "      <td>Demián Bichir, Héctor Bonilla, Oscar Serrano, ...</td>\n",
       "      <td>Mexico</td>\n",
       "      <td>December 23, 2016</td>\n",
       "      <td>2016</td>\n",
       "      <td>TV-MA</td>\n",
       "      <td>93 min</td>\n",
       "      <td>Dramas, International Movies</td>\n",
       "      <td>After a devastating earthquake hits Mexico Cit...</td>\n",
       "    </tr>\n",
       "    <tr>\n",
       "      <th>2</th>\n",
       "      <td>s3</td>\n",
       "      <td>Movie</td>\n",
       "      <td>23:59</td>\n",
       "      <td>Gilbert Chan</td>\n",
       "      <td>Tedd Chan, Stella Chung, Henley Hii, Lawrence ...</td>\n",
       "      <td>Singapore</td>\n",
       "      <td>December 20, 2018</td>\n",
       "      <td>2011</td>\n",
       "      <td>R</td>\n",
       "      <td>78 min</td>\n",
       "      <td>Horror Movies, International Movies</td>\n",
       "      <td>When an army recruit is found dead, his fellow...</td>\n",
       "    </tr>\n",
       "    <tr>\n",
       "      <th>3</th>\n",
       "      <td>s4</td>\n",
       "      <td>Movie</td>\n",
       "      <td>9</td>\n",
       "      <td>Shane Acker</td>\n",
       "      <td>Elijah Wood, John C. Reilly, Jennifer Connelly...</td>\n",
       "      <td>United States</td>\n",
       "      <td>November 16, 2017</td>\n",
       "      <td>2009</td>\n",
       "      <td>PG-13</td>\n",
       "      <td>80 min</td>\n",
       "      <td>Action &amp; Adventure, Independent Movies, Sci-Fi...</td>\n",
       "      <td>In a postapocalyptic world, rag-doll robots hi...</td>\n",
       "    </tr>\n",
       "    <tr>\n",
       "      <th>4</th>\n",
       "      <td>s5</td>\n",
       "      <td>Movie</td>\n",
       "      <td>21</td>\n",
       "      <td>Robert Luketic</td>\n",
       "      <td>Jim Sturgess, Kevin Spacey, Kate Bosworth, Aar...</td>\n",
       "      <td>United States</td>\n",
       "      <td>January 1, 2020</td>\n",
       "      <td>2008</td>\n",
       "      <td>PG-13</td>\n",
       "      <td>123 min</td>\n",
       "      <td>Dramas</td>\n",
       "      <td>A brilliant group of students become card-coun...</td>\n",
       "    </tr>\n",
       "  </tbody>\n",
       "</table>\n",
       "</div>"
      ],
      "text/plain": [
       "  show_id     type  title           director  \\\n",
       "0      s1  TV Show     3%                NaN   \n",
       "1      s2    Movie   7:19  Jorge Michel Grau   \n",
       "2      s3    Movie  23:59       Gilbert Chan   \n",
       "3      s4    Movie      9        Shane Acker   \n",
       "4      s5    Movie     21     Robert Luketic   \n",
       "\n",
       "                                                cast        country  \\\n",
       "0  João Miguel, Bianca Comparato, Michel Gomes, R...         Brazil   \n",
       "1  Demián Bichir, Héctor Bonilla, Oscar Serrano, ...         Mexico   \n",
       "2  Tedd Chan, Stella Chung, Henley Hii, Lawrence ...      Singapore   \n",
       "3  Elijah Wood, John C. Reilly, Jennifer Connelly...  United States   \n",
       "4  Jim Sturgess, Kevin Spacey, Kate Bosworth, Aar...  United States   \n",
       "\n",
       "          date_added  release_year rating   duration  \\\n",
       "0    August 14, 2020          2020  TV-MA  4 Seasons   \n",
       "1  December 23, 2016          2016  TV-MA     93 min   \n",
       "2  December 20, 2018          2011      R     78 min   \n",
       "3  November 16, 2017          2009  PG-13     80 min   \n",
       "4    January 1, 2020          2008  PG-13    123 min   \n",
       "\n",
       "                                           listed_in  \\\n",
       "0  International TV Shows, TV Dramas, TV Sci-Fi &...   \n",
       "1                       Dramas, International Movies   \n",
       "2                Horror Movies, International Movies   \n",
       "3  Action & Adventure, Independent Movies, Sci-Fi...   \n",
       "4                                             Dramas   \n",
       "\n",
       "                                         description  \n",
       "0  In a future where the elite inhabit an island ...  \n",
       "1  After a devastating earthquake hits Mexico Cit...  \n",
       "2  When an army recruit is found dead, his fellow...  \n",
       "3  In a postapocalyptic world, rag-doll robots hi...  \n",
       "4  A brilliant group of students become card-coun...  "
      ]
     },
     "execution_count": 2,
     "metadata": {},
     "output_type": "execute_result"
    }
   ],
   "source": [
    "df_movies=pd.read_csv(\"./datasheet/netflix_titles.csv\")\n",
    "df_movies.head()"
   ]
  },
  {
   "cell_type": "markdown",
   "id": "07c88363",
   "metadata": {},
   "source": [
    "# Khám phá dữ liệu và tiền xử lý"
   ]
  },
  {
   "cell_type": "markdown",
   "id": "b605206b",
   "metadata": {},
   "source": [
    "Dữ liệu có bao nhiêu dòng và bao nhiêu cột?"
   ]
  },
  {
   "cell_type": "code",
   "execution_count": 3,
   "id": "17a43737",
   "metadata": {
    "scrolled": true
   },
   "outputs": [
    {
     "name": "stdout",
     "output_type": "stream",
     "text": [
      "Dữ liệu có 7787 dòng và 12 cột.\n"
     ]
    }
   ],
   "source": [
    "n_rows,n_cols=df_movies.shape\n",
    "print(f'Dữ liệu có {n_rows} dòng và {n_cols} cột.')"
   ]
  },
  {
   "cell_type": "markdown",
   "id": "bc4afd76",
   "metadata": {},
   "source": [
    "Mỗi dòng là một bộ phim hoặc TV Show đã chiếu trên Netflix. Không có vấn đề mỗi dòng có ý nghĩa khác nhau."
   ]
  },
  {
   "cell_type": "markdown",
   "id": "3a5a9522",
   "metadata": {},
   "source": [
    "## Kiểm tra lặp dữ liệu"
   ]
  },
  {
   "cell_type": "code",
   "execution_count": 4,
   "id": "1ff46660",
   "metadata": {},
   "outputs": [],
   "source": [
    "assert(len(df_movies['show_id'].unique())==n_rows)"
   ]
  },
  {
   "cell_type": "markdown",
   "id": "f3fcb002",
   "metadata": {},
   "source": [
    "Ta thấy mỗi phim có một `show_id` khác nhau và số id khác nhau cũng bằng với số dòng nên không có trường hợp lặp dữ liệu."
   ]
  },
  {
   "cell_type": "markdown",
   "id": "986bfe10",
   "metadata": {},
   "source": [
    "## Ý nghĩa các cột\n",
    "* `show_id`: Mã định danh của phim.\n",
    "* `type`: Loại phim: phim truyền hình hay phim lẻ.\n",
    "* `title`: Tên phim.\n",
    "* `director`: Đạo diễn.\n",
    "* `cast`: Diễn viên trong phim.\n",
    "* `country`: Đất nước sản xuất.\n",
    "* `date_added`: Ngày được thêm vào Netflix.\n",
    "* `release_year`: Ngày phim được phát hành.\n",
    "* `rating`: Đánh giá độ tuổi của phim.\n",
    "* `duration`: Độ dài phim theo mùa hay theo phút.\n",
    "* `listed_in`: Thể loại phim.\n",
    "* `description`: Nội dung phim."
   ]
  },
  {
   "cell_type": "markdown",
   "id": "a342892a",
   "metadata": {},
   "source": [
    "## Kiểu dữ liệu các cột"
   ]
  },
  {
   "cell_type": "code",
   "execution_count": 5,
   "id": "783dac6c",
   "metadata": {},
   "outputs": [
    {
     "name": "stdout",
     "output_type": "stream",
     "text": [
      "<class 'pandas.core.frame.DataFrame'>\n",
      "RangeIndex: 7787 entries, 0 to 7786\n",
      "Data columns (total 12 columns):\n",
      " #   Column        Non-Null Count  Dtype \n",
      "---  ------        --------------  ----- \n",
      " 0   show_id       7787 non-null   object\n",
      " 1   type          7787 non-null   object\n",
      " 2   title         7787 non-null   object\n",
      " 3   director      5398 non-null   object\n",
      " 4   cast          7069 non-null   object\n",
      " 5   country       7280 non-null   object\n",
      " 6   date_added    7777 non-null   object\n",
      " 7   release_year  7787 non-null   int64 \n",
      " 8   rating        7780 non-null   object\n",
      " 9   duration      7787 non-null   object\n",
      " 10  listed_in     7787 non-null   object\n",
      " 11  description   7787 non-null   object\n",
      "dtypes: int64(1), object(11)\n",
      "memory usage: 730.2+ KB\n"
     ]
    }
   ],
   "source": [
    "df_movies.info()"
   ]
  },
  {
   "cell_type": "markdown",
   "id": "bde0a4d9",
   "metadata": {},
   "source": [
    "Đa số có kiểu dữ liệu là string object. Một vài cột có giá trị null. Một vài cột cần tiền xử lý thêm:\n",
    "* Chuyển date_added thành Datetime\n",
    "* Chuyển cast thành mảng các diễn viên.\n",
    "* Chuyển listed_in thành mảng hay onehot.\n",
    "* Tách duration thành 2 cột: thời lượng phim và số mùa."
   ]
  },
  {
   "cell_type": "markdown",
   "id": "579531f2",
   "metadata": {},
   "source": [
    "## Chuyển `data_added` thành Datetime"
   ]
  },
  {
   "cell_type": "code",
   "execution_count": 6,
   "id": "f2624dee",
   "metadata": {},
   "outputs": [
    {
     "data": {
      "text/plain": [
       "0      2020-08-14\n",
       "1      2016-12-23\n",
       "2      2018-12-20\n",
       "3      2017-11-16\n",
       "4      2020-01-01\n",
       "          ...    \n",
       "7782   2020-10-19\n",
       "7783   2019-03-02\n",
       "7784   2020-09-25\n",
       "7785   2020-10-31\n",
       "7786   2020-03-01\n",
       "Name: date_added, Length: 7787, dtype: datetime64[ns]"
      ]
     },
     "execution_count": 6,
     "metadata": {},
     "output_type": "execute_result"
    }
   ],
   "source": [
    "df_movies['date_added']=pd.to_datetime(df_movies['date_added'])\n",
    "df_movies['date_added']"
   ]
  },
  {
   "cell_type": "markdown",
   "id": "761a0970",
   "metadata": {},
   "source": [
    "## Chuyển cast thành mảng diễn viên"
   ]
  },
  {
   "cell_type": "code",
   "execution_count": 7,
   "id": "1c956d2f",
   "metadata": {},
   "outputs": [
    {
     "data": {
      "text/plain": [
       "0    João Miguel, Bianca Comparato, Michel Gomes, R...\n",
       "1    Demián Bichir, Héctor Bonilla, Oscar Serrano, ...\n",
       "2    Tedd Chan, Stella Chung, Henley Hii, Lawrence ...\n",
       "3    Elijah Wood, John C. Reilly, Jennifer Connelly...\n",
       "4    Jim Sturgess, Kevin Spacey, Kate Bosworth, Aar...\n",
       "Name: cast, dtype: object"
      ]
     },
     "execution_count": 7,
     "metadata": {},
     "output_type": "execute_result"
    }
   ],
   "source": [
    "df_movies['cast'].head()"
   ]
  },
  {
   "cell_type": "markdown",
   "id": "8b8f0bb0",
   "metadata": {},
   "source": [
    "Ta để ý tên diễn viên được cách nhau bởi `,_` (có khoảng trắng phía sau dấu ,)"
   ]
  },
  {
   "cell_type": "code",
   "execution_count": 8,
   "id": "6ee80aa1",
   "metadata": {},
   "outputs": [
    {
     "data": {
      "text/plain": [
       "0    [João Miguel, Bianca Comparato, Michel Gomes, ...\n",
       "1    [Demián Bichir, Héctor Bonilla, Oscar Serrano,...\n",
       "2    [Tedd Chan, Stella Chung, Henley Hii, Lawrence...\n",
       "3    [Elijah Wood, John C. Reilly, Jennifer Connell...\n",
       "4    [Jim Sturgess, Kevin Spacey, Kate Bosworth, Aa...\n",
       "Name: cast_array, dtype: object"
      ]
     },
     "execution_count": 8,
     "metadata": {},
     "output_type": "execute_result"
    }
   ],
   "source": [
    "df_movies['cast_array']=df_movies['cast'].apply(lambda x:str(x).split(\", \"))\n",
    "df_movies['cast_array'].head()"
   ]
  },
  {
   "cell_type": "markdown",
   "id": "6c89e8a0",
   "metadata": {},
   "source": [
    "## Xử lý listed_in"
   ]
  },
  {
   "cell_type": "markdown",
   "id": "782b8145",
   "metadata": {},
   "source": [
    "Đầu tiên ta phải thông kê có tất cả bao nhiêu thể loại phim"
   ]
  },
  {
   "cell_type": "code",
   "execution_count": 9,
   "id": "c44910b0",
   "metadata": {},
   "outputs": [
    {
     "data": {
      "text/plain": [
       "0    [International TV Shows, TV Dramas, TV Sci-Fi ...\n",
       "1                       [Dramas, International Movies]\n",
       "2                [Horror Movies, International Movies]\n",
       "3    [Action & Adventure, Independent Movies, Sci-F...\n",
       "4                                             [Dramas]\n",
       "Name: listed_in_array, dtype: object"
      ]
     },
     "execution_count": 9,
     "metadata": {},
     "output_type": "execute_result"
    }
   ],
   "source": [
    "# Chuyển listed_in thành mảng\n",
    "df_movies['listed_in_array']=df_movies['listed_in'].apply(lambda x:str(x).split(\", \"))\n",
    "df_movies['listed_in_array'].head()"
   ]
  },
  {
   "cell_type": "markdown",
   "id": "9b34c439",
   "metadata": {},
   "source": [
    "Để kiểm tra các giá trị có thể có, ta cộng tất cả các mảng trên lại và lấy giá trị unique:"
   ]
  },
  {
   "cell_type": "code",
   "execution_count": 10,
   "id": "01fe4d14",
   "metadata": {},
   "outputs": [
    {
     "data": {
      "text/plain": [
       "array(['Action & Adventure', 'Anime Features', 'Anime Series',\n",
       "       'British TV Shows', 'Children & Family Movies',\n",
       "       'Classic & Cult TV', 'Classic Movies', 'Comedies',\n",
       "       'Crime TV Shows', 'Cult Movies', 'Documentaries', 'Docuseries',\n",
       "       'Dramas', 'Faith & Spirituality', 'Horror Movies',\n",
       "       'Independent Movies', 'International Movies',\n",
       "       'International TV Shows', \"Kids' TV\", 'Korean TV Shows',\n",
       "       'LGBTQ Movies', 'Movies', 'Music & Musicals', 'Reality TV',\n",
       "       'Romantic Movies', 'Romantic TV Shows', 'Sci-Fi & Fantasy',\n",
       "       'Science & Nature TV', 'Spanish-Language TV Shows',\n",
       "       'Sports Movies', 'Stand-Up Comedy', 'Stand-Up Comedy & Talk Shows',\n",
       "       'TV Action & Adventure', 'TV Comedies', 'TV Dramas', 'TV Horror',\n",
       "       'TV Mysteries', 'TV Sci-Fi & Fantasy', 'TV Shows', 'TV Thrillers',\n",
       "       'Teen TV Shows', 'Thrillers'], dtype='<U28')"
      ]
     },
     "execution_count": 10,
     "metadata": {},
     "output_type": "execute_result"
    }
   ],
   "source": [
    "listed_unique=np.unique(df_movies['listed_in_array'].sum())\n",
    "listed_unique"
   ]
  },
  {
   "cell_type": "markdown",
   "id": "c33d2174",
   "metadata": {},
   "source": [
    "Có vẻ như nhiều thể loại phim chỉ khác nhau do có chữ TV phía trước: chẳng hạn như `Dramas` và `TV Dramas`. Ta đã có cột `type` cho biết loại phim rồi nên để thêm TV vào đây sẽ dư thừa. Chúng ta sẽ gộp các thể loại có chữ TV vào loại không có TV tương ứng (`TV Dramas` thành `Dramas`). Tuy nhiên trước khi làm điều này ta phải kiểm tra bảo đảm giả thiết chúng ta đưa ra là phù hợp. Cụ thể ta sẽ kiểm tra: \n",
    "* Có phải toàn bộ `TV Show` đều có chữ TV trong `list_in` không. Lưu ý là list_in chứa nhiều thể loại nên ta cần phải kiểm tra toàn bộ.\n",
    "\n",
    "Mục đích của việc làm trên có thể giúp ích cho hệ thống recommendation sau này. Khi một người coi thể loại Thrillers thì chúng ta có thể không cần quan tâm Thrillers đó là movie hay là TV show."
   ]
  },
  {
   "cell_type": "markdown",
   "id": "40b5b30f",
   "metadata": {},
   "source": [
    "### Loại bỏ từ TV khỏi một số thể loại"
   ]
  },
  {
   "cell_type": "code",
   "execution_count": 11,
   "id": "7984015c",
   "metadata": {},
   "outputs": [
    {
     "name": "stdout",
     "output_type": "stream",
     "text": [
      "Có 2410 TV show.\n"
     ]
    }
   ],
   "source": [
    "TV_show_count=len(df_movies[df_movies['type']=='TV Show'])\n",
    "print(f'Có {TV_show_count} TV show.')"
   ]
  },
  {
   "cell_type": "code",
   "execution_count": 12,
   "id": "b2786af2",
   "metadata": {},
   "outputs": [],
   "source": [
    "#Ta tạo thêm m là lọc ra các dòng chỉ chứa TV show\n",
    "m=df_movies[df_movies['type']=='TV Show']"
   ]
  },
  {
   "cell_type": "code",
   "execution_count": 13,
   "id": "990083b1",
   "metadata": {},
   "outputs": [
    {
     "name": "stdout",
     "output_type": "stream",
     "text": [
      "Có tổng cộng 2319 dòng có chứa ít nhất 1 chữ TV trong listed_in\n"
     ]
    }
   ],
   "source": [
    "#Số lượng phim có thể loại chứa chữ TV trong toàn bộ bảng\n",
    "s1=sum(df_movies['listed_in_array'].apply(lambda l:any(x.find(\"TV\")>=0 for x in l)))\n",
    "print(f'Có tổng cộng {s1} dòng có chứa ít nhất 1 chữ TV trong listed_in')"
   ]
  },
  {
   "cell_type": "code",
   "execution_count": 14,
   "id": "095892be",
   "metadata": {},
   "outputs": [
    {
     "name": "stdout",
     "output_type": "stream",
     "text": [
      "Trong số các TV show, có tổng cộng 2319 dòng có chứa ít nhất 1 chữ TV trong listed_in\n"
     ]
    }
   ],
   "source": [
    "#Số lượng phim có thể loại chứa chữ TV trong các TV Show\n",
    "s2=sum(m['listed_in_array'].apply(lambda l:any(x.find(\"TV\")>=0 for x in l)))\n",
    "print(f'Trong số các TV show, có tổng cộng {s2} dòng có chứa ít nhất 1 chữ TV trong listed_in')"
   ]
  },
  {
   "cell_type": "markdown",
   "id": "9a9b73c6",
   "metadata": {},
   "source": [
    "Ta tính 2 lần như trên để đảm bảo rằng không có phim nào (Không phải TV Show) mà có chứa chữ TV trong thể loại. Trong số 2410 TV show có 2319 show có thể loại chứa chữ TV trong đó. Như vậy ta có thể an toàn xóa đi các chữ TV trong `listed_in_array`. Sau khi xóa xong chung ta vẫn biết phim đó có phải là TV show hay không nhờ vào cột `type`.\n",
    "\n",
    "Tuy nhiên cần lưu ý một vài thể loại sẽ không có dạng không có chữ `TV` tương ứng. Ví dụ `Reality TV` sẽ không có thể loại `Reality` tương ứng.\n",
    "\n",
    "Ta sẽ tạo ra một dict có dạng sau:\n",
    "```\n",
    "{\n",
    "    'TV Dramas':'Dramas',\n",
    "    'TV Action & Adventure':'Action & Adventure',\n",
    "    ...\n",
    "}\n",
    "```"
   ]
  },
  {
   "cell_type": "code",
   "execution_count": 15,
   "id": "0efe162b",
   "metadata": {},
   "outputs": [
    {
     "data": {
      "text/plain": [
       "['Sci-Fi & Fantasy', 'Comedies', 'Action & Adventure', 'Dramas', 'Thrillers']"
      ]
     },
     "execution_count": 15,
     "metadata": {},
     "output_type": "execute_result"
    }
   ],
   "source": [
    "#Tạo ra array chứa thể loại có chữ TV\n",
    "TV_listed=[a for a in listed_unique if a.find(\"TV\")>=0]\n",
    "\n",
    "#Array chứa thể loại có chữ TV sau khi xóa TV\n",
    "TV_listed_remove=[a.replace(\"TV \",\"\").replace(\"TV\",\"\") for a in TV_listed]\n",
    "\n",
    "#Array chứa thể loại không có chữ TV\n",
    "TV_listed_noTV=[a for a in listed_unique if a.find(\"TV\")==-1]\n",
    "\n",
    "#Danh sách các từ có thể thay thế\n",
    "to_replace_list=list(set(TV_listed_remove).intersection(TV_listed_noTV))\n",
    "to_replace_list"
   ]
  },
  {
   "cell_type": "code",
   "execution_count": 16,
   "id": "c3977592",
   "metadata": {},
   "outputs": [
    {
     "data": {
      "text/plain": [
       "[10, 11, 12, 15, 17]"
      ]
     },
     "execution_count": 16,
     "metadata": {},
     "output_type": "execute_result"
    }
   ],
   "source": [
    "#Các từ ở trên nằm tại các vị trí sau:\n",
    "id_to_replace=[item[0] for item in enumerate(TV_listed_remove) if item[1] in to_replace_list]\n",
    "id_to_replace"
   ]
  },
  {
   "cell_type": "code",
   "execution_count": 17,
   "id": "dd719e1f",
   "metadata": {},
   "outputs": [
    {
     "data": {
      "text/plain": [
       "['TV Action & Adventure',\n",
       " 'TV Comedies',\n",
       " 'TV Dramas',\n",
       " 'TV Sci-Fi & Fantasy',\n",
       " 'TV Thrillers']"
      ]
     },
     "execution_count": 17,
     "metadata": {},
     "output_type": "execute_result"
    }
   ],
   "source": [
    "#Các từ cần thay thế\n",
    "to_replace=[TV_listed[i] for i in id_to_replace]\n",
    "to_replace"
   ]
  },
  {
   "cell_type": "code",
   "execution_count": 18,
   "id": "b36d44d1",
   "metadata": {},
   "outputs": [
    {
     "data": {
      "text/plain": [
       "{'TV Action & Adventure': 'Action & Adventure',\n",
       " 'TV Comedies': 'Comedies',\n",
       " 'TV Dramas': 'Dramas',\n",
       " 'TV Sci-Fi & Fantasy': 'Sci-Fi & Fantasy',\n",
       " 'TV Thrillers': 'Thrillers'}"
      ]
     },
     "execution_count": 18,
     "metadata": {},
     "output_type": "execute_result"
    }
   ],
   "source": [
    "#Tạo dict map từ cần thay thế và từ thay thế\n",
    "replace_dict=dict((el,el.replace(\"TV \",\"\")) for el in to_replace)\n",
    "replace_dict"
   ]
  },
  {
   "cell_type": "code",
   "execution_count": 19,
   "id": "f73a26fe",
   "metadata": {},
   "outputs": [],
   "source": [
    "#Tiến hành thay thế\n",
    "df_movies['listed_in_array']=df_movies['listed_in_array'].apply(lambda x:[replace_dict.get(i,i) for i in x])"
   ]
  },
  {
   "cell_type": "code",
   "execution_count": 20,
   "id": "9208b1f3",
   "metadata": {},
   "outputs": [
    {
     "data": {
      "text/plain": [
       "array(['Action & Adventure', 'Anime Features', 'Anime Series',\n",
       "       'British TV Shows', 'Children & Family Movies',\n",
       "       'Classic & Cult TV', 'Classic Movies', 'Comedies',\n",
       "       'Crime TV Shows', 'Cult Movies', 'Documentaries', 'Docuseries',\n",
       "       'Dramas', 'Faith & Spirituality', 'Horror Movies',\n",
       "       'Independent Movies', 'International Movies',\n",
       "       'International TV Shows', \"Kids' TV\", 'Korean TV Shows',\n",
       "       'LGBTQ Movies', 'Movies', 'Music & Musicals', 'Reality TV',\n",
       "       'Romantic Movies', 'Romantic TV Shows', 'Sci-Fi & Fantasy',\n",
       "       'Science & Nature TV', 'Spanish-Language TV Shows',\n",
       "       'Sports Movies', 'Stand-Up Comedy', 'Stand-Up Comedy & Talk Shows',\n",
       "       'TV Horror', 'TV Mysteries', 'TV Shows', 'Teen TV Shows',\n",
       "       'Thrillers'], dtype='<U28')"
      ]
     },
     "execution_count": 20,
     "metadata": {},
     "output_type": "execute_result"
    }
   ],
   "source": [
    "#Kiểm tra lại kết quả\n",
    "listed_unique=np.unique(df_movies['listed_in_array'].sum())\n",
    "listed_unique"
   ]
  },
  {
   "cell_type": "markdown",
   "id": "ea3ad482",
   "metadata": {},
   "source": [
    "## One hot encoding listed_in_array\n",
    "Ta đã tạo ra `listed_in_array` là mảng các thể loại của phim. Để dễ xử lý hơn ta sẽ chuyển thể loại này thành dang One hot. Mỗi thể loại sẽ có một cột riêng, phim nào thuộc thể loại nào sẽ có giá trị bằng 1 tại cột thể loại đó.\n",
    "\n",
    "Code được tham khảo tại\n",
    "\n",
    "https://stackoverflow.com/questions/52989660/pandas-python-how-to-one-hot-encode-a-column-that-contains-an-array-of-strings"
   ]
  },
  {
   "cell_type": "code",
   "execution_count": 21,
   "id": "2285357f",
   "metadata": {},
   "outputs": [],
   "source": [
    "df_movies=df_movies.join(pd.get_dummies(df_movies.listed_in_array.apply(pd.Series).stack()).sum(level=0))"
   ]
  },
  {
   "cell_type": "code",
   "execution_count": 22,
   "id": "611b388e",
   "metadata": {
    "scrolled": false
   },
   "outputs": [
    {
     "data": {
      "text/html": [
       "<div>\n",
       "<style scoped>\n",
       "    .dataframe tbody tr th:only-of-type {\n",
       "        vertical-align: middle;\n",
       "    }\n",
       "\n",
       "    .dataframe tbody tr th {\n",
       "        vertical-align: top;\n",
       "    }\n",
       "\n",
       "    .dataframe thead th {\n",
       "        text-align: right;\n",
       "    }\n",
       "</style>\n",
       "<table border=\"1\" class=\"dataframe\">\n",
       "  <thead>\n",
       "    <tr style=\"text-align: right;\">\n",
       "      <th></th>\n",
       "      <th>show_id</th>\n",
       "      <th>type</th>\n",
       "      <th>title</th>\n",
       "      <th>director</th>\n",
       "      <th>cast</th>\n",
       "      <th>country</th>\n",
       "      <th>date_added</th>\n",
       "      <th>release_year</th>\n",
       "      <th>rating</th>\n",
       "      <th>duration</th>\n",
       "      <th>...</th>\n",
       "      <th>Science &amp; Nature TV</th>\n",
       "      <th>Spanish-Language TV Shows</th>\n",
       "      <th>Sports Movies</th>\n",
       "      <th>Stand-Up Comedy</th>\n",
       "      <th>Stand-Up Comedy &amp; Talk Shows</th>\n",
       "      <th>TV Horror</th>\n",
       "      <th>TV Mysteries</th>\n",
       "      <th>TV Shows</th>\n",
       "      <th>Teen TV Shows</th>\n",
       "      <th>Thrillers</th>\n",
       "    </tr>\n",
       "  </thead>\n",
       "  <tbody>\n",
       "    <tr>\n",
       "      <th>0</th>\n",
       "      <td>s1</td>\n",
       "      <td>TV Show</td>\n",
       "      <td>3%</td>\n",
       "      <td>NaN</td>\n",
       "      <td>João Miguel, Bianca Comparato, Michel Gomes, R...</td>\n",
       "      <td>Brazil</td>\n",
       "      <td>2020-08-14</td>\n",
       "      <td>2020</td>\n",
       "      <td>TV-MA</td>\n",
       "      <td>4 Seasons</td>\n",
       "      <td>...</td>\n",
       "      <td>0</td>\n",
       "      <td>0</td>\n",
       "      <td>0</td>\n",
       "      <td>0</td>\n",
       "      <td>0</td>\n",
       "      <td>0</td>\n",
       "      <td>0</td>\n",
       "      <td>0</td>\n",
       "      <td>0</td>\n",
       "      <td>0</td>\n",
       "    </tr>\n",
       "    <tr>\n",
       "      <th>1</th>\n",
       "      <td>s2</td>\n",
       "      <td>Movie</td>\n",
       "      <td>7:19</td>\n",
       "      <td>Jorge Michel Grau</td>\n",
       "      <td>Demián Bichir, Héctor Bonilla, Oscar Serrano, ...</td>\n",
       "      <td>Mexico</td>\n",
       "      <td>2016-12-23</td>\n",
       "      <td>2016</td>\n",
       "      <td>TV-MA</td>\n",
       "      <td>93 min</td>\n",
       "      <td>...</td>\n",
       "      <td>0</td>\n",
       "      <td>0</td>\n",
       "      <td>0</td>\n",
       "      <td>0</td>\n",
       "      <td>0</td>\n",
       "      <td>0</td>\n",
       "      <td>0</td>\n",
       "      <td>0</td>\n",
       "      <td>0</td>\n",
       "      <td>0</td>\n",
       "    </tr>\n",
       "    <tr>\n",
       "      <th>2</th>\n",
       "      <td>s3</td>\n",
       "      <td>Movie</td>\n",
       "      <td>23:59</td>\n",
       "      <td>Gilbert Chan</td>\n",
       "      <td>Tedd Chan, Stella Chung, Henley Hii, Lawrence ...</td>\n",
       "      <td>Singapore</td>\n",
       "      <td>2018-12-20</td>\n",
       "      <td>2011</td>\n",
       "      <td>R</td>\n",
       "      <td>78 min</td>\n",
       "      <td>...</td>\n",
       "      <td>0</td>\n",
       "      <td>0</td>\n",
       "      <td>0</td>\n",
       "      <td>0</td>\n",
       "      <td>0</td>\n",
       "      <td>0</td>\n",
       "      <td>0</td>\n",
       "      <td>0</td>\n",
       "      <td>0</td>\n",
       "      <td>0</td>\n",
       "    </tr>\n",
       "    <tr>\n",
       "      <th>3</th>\n",
       "      <td>s4</td>\n",
       "      <td>Movie</td>\n",
       "      <td>9</td>\n",
       "      <td>Shane Acker</td>\n",
       "      <td>Elijah Wood, John C. Reilly, Jennifer Connelly...</td>\n",
       "      <td>United States</td>\n",
       "      <td>2017-11-16</td>\n",
       "      <td>2009</td>\n",
       "      <td>PG-13</td>\n",
       "      <td>80 min</td>\n",
       "      <td>...</td>\n",
       "      <td>0</td>\n",
       "      <td>0</td>\n",
       "      <td>0</td>\n",
       "      <td>0</td>\n",
       "      <td>0</td>\n",
       "      <td>0</td>\n",
       "      <td>0</td>\n",
       "      <td>0</td>\n",
       "      <td>0</td>\n",
       "      <td>0</td>\n",
       "    </tr>\n",
       "    <tr>\n",
       "      <th>4</th>\n",
       "      <td>s5</td>\n",
       "      <td>Movie</td>\n",
       "      <td>21</td>\n",
       "      <td>Robert Luketic</td>\n",
       "      <td>Jim Sturgess, Kevin Spacey, Kate Bosworth, Aar...</td>\n",
       "      <td>United States</td>\n",
       "      <td>2020-01-01</td>\n",
       "      <td>2008</td>\n",
       "      <td>PG-13</td>\n",
       "      <td>123 min</td>\n",
       "      <td>...</td>\n",
       "      <td>0</td>\n",
       "      <td>0</td>\n",
       "      <td>0</td>\n",
       "      <td>0</td>\n",
       "      <td>0</td>\n",
       "      <td>0</td>\n",
       "      <td>0</td>\n",
       "      <td>0</td>\n",
       "      <td>0</td>\n",
       "      <td>0</td>\n",
       "    </tr>\n",
       "  </tbody>\n",
       "</table>\n",
       "<p>5 rows × 51 columns</p>\n",
       "</div>"
      ],
      "text/plain": [
       "  show_id     type  title           director  \\\n",
       "0      s1  TV Show     3%                NaN   \n",
       "1      s2    Movie   7:19  Jorge Michel Grau   \n",
       "2      s3    Movie  23:59       Gilbert Chan   \n",
       "3      s4    Movie      9        Shane Acker   \n",
       "4      s5    Movie     21     Robert Luketic   \n",
       "\n",
       "                                                cast        country  \\\n",
       "0  João Miguel, Bianca Comparato, Michel Gomes, R...         Brazil   \n",
       "1  Demián Bichir, Héctor Bonilla, Oscar Serrano, ...         Mexico   \n",
       "2  Tedd Chan, Stella Chung, Henley Hii, Lawrence ...      Singapore   \n",
       "3  Elijah Wood, John C. Reilly, Jennifer Connelly...  United States   \n",
       "4  Jim Sturgess, Kevin Spacey, Kate Bosworth, Aar...  United States   \n",
       "\n",
       "  date_added  release_year rating   duration  ... Science & Nature TV  \\\n",
       "0 2020-08-14          2020  TV-MA  4 Seasons  ...                   0   \n",
       "1 2016-12-23          2016  TV-MA     93 min  ...                   0   \n",
       "2 2018-12-20          2011      R     78 min  ...                   0   \n",
       "3 2017-11-16          2009  PG-13     80 min  ...                   0   \n",
       "4 2020-01-01          2008  PG-13    123 min  ...                   0   \n",
       "\n",
       "  Spanish-Language TV Shows Sports Movies Stand-Up Comedy  \\\n",
       "0                         0             0               0   \n",
       "1                         0             0               0   \n",
       "2                         0             0               0   \n",
       "3                         0             0               0   \n",
       "4                         0             0               0   \n",
       "\n",
       "   Stand-Up Comedy & Talk Shows  TV Horror  TV Mysteries  TV Shows  \\\n",
       "0                             0          0             0         0   \n",
       "1                             0          0             0         0   \n",
       "2                             0          0             0         0   \n",
       "3                             0          0             0         0   \n",
       "4                             0          0             0         0   \n",
       "\n",
       "   Teen TV Shows  Thrillers  \n",
       "0              0          0  \n",
       "1              0          0  \n",
       "2              0          0  \n",
       "3              0          0  \n",
       "4              0          0  \n",
       "\n",
       "[5 rows x 51 columns]"
      ]
     },
     "execution_count": 22,
     "metadata": {},
     "output_type": "execute_result"
    }
   ],
   "source": [
    "df_movies.head()"
   ]
  },
  {
   "cell_type": "markdown",
   "id": "0e3bee9e",
   "metadata": {},
   "source": [
    "Sau khi xử lý ta có thể khá nhiều cột."
   ]
  },
  {
   "cell_type": "markdown",
   "id": "2b7c8ca0",
   "metadata": {},
   "source": [
    "## Xử lý cột duration\n",
    "Cột duration có 2 đơn vị là season hoặc min. Giả thiết đưa ra là những dòng có đơn vị là season là TV show, đơn vị min là phim lẻ. Ta sẽ kiểm tra điều này bằng cách đếm giá trị như sau."
   ]
  },
  {
   "cell_type": "code",
   "execution_count": 23,
   "id": "3ef23fd7",
   "metadata": {},
   "outputs": [
    {
     "data": {
      "text/plain": [
       "Movie      5377\n",
       "TV Show    2410\n",
       "Name: type, dtype: int64"
      ]
     },
     "execution_count": 23,
     "metadata": {},
     "output_type": "execute_result"
    }
   ],
   "source": [
    "#Số lượng Movie và TV Show\n",
    "df_movies['type'].value_counts()"
   ]
  },
  {
   "cell_type": "code",
   "execution_count": 24,
   "id": "0e471393",
   "metadata": {},
   "outputs": [
    {
     "data": {
      "text/plain": [
       "5377"
      ]
     },
     "execution_count": 24,
     "metadata": {},
     "output_type": "execute_result"
    }
   ],
   "source": [
    "#Số lượng dòng với duration có chữ min:\n",
    "df_movies['duration'].apply(lambda x:x.find(\"min\")>=0).sum()"
   ]
  },
  {
   "cell_type": "markdown",
   "id": "5142ffeb",
   "metadata": {},
   "source": [
    "Đều là 5377 nên giả thiết của chúng ta là đúng. Chúng ta sẽ tách cột duration thành `season` thể hiện số season và `min` thể hiện số phút của phim. Mục đích điều này có thể giúp ta xử lý dễ dàng hơn các thao tác như sort theo season, min trong tương lai."
   ]
  },
  {
   "cell_type": "code",
   "execution_count": 25,
   "id": "40cefda9",
   "metadata": {},
   "outputs": [],
   "source": [
    "df_movies['min']=df_movies['duration'][df_movies['duration'].apply(lambda x:x.find(\"min\")>=0)]\n",
    "df_movies['season']=df_movies['duration'][df_movies['duration'].apply(lambda x:x.find(\"Season\")>=0)]"
   ]
  },
  {
   "cell_type": "markdown",
   "id": "490cb4d3",
   "metadata": {},
   "source": [
    "Ta cũng sẽ xóa chữ min và season(s) trên 2 cột ta mới tạo."
   ]
  },
  {
   "cell_type": "code",
   "execution_count": 64,
   "id": "a14f2d89",
   "metadata": {},
   "outputs": [],
   "source": [
    "df_movies['min']=df_movies['min'].apply(lambda x:x[:-4] if pd.notnull(x) else np.nan)\n",
    "df_movies['season']=df_movies['season'].apply(lambda x:x.replace('Seasons','').replace('Season','') if pd.notnull(x) else np.nan)"
   ]
  },
  {
   "cell_type": "code",
   "execution_count": 74,
   "id": "5698b994",
   "metadata": {},
   "outputs": [],
   "source": [
    "# Đổi kiểu dữ liệu thành số\n",
    "#Float vì không bị lỗi khi chuyển NaN\n",
    "df_movies['min']=df_movies['min'].astype('float') \n",
    "df_movies['season']=df_movies['season'].astype('float')"
   ]
  },
  {
   "cell_type": "markdown",
   "id": "1c245eab",
   "metadata": {},
   "source": [
    "## Xử lý giá trị thiếu"
   ]
  },
  {
   "cell_type": "markdown",
   "id": "f65c7715",
   "metadata": {},
   "source": [
    "Ta sẽ duyệt qua từng cột có giá trị thiếu và xem xét chúng ta có thể fill dữ liệu thiếu không. Sau khi xem xét thì thấy rằng các cột `director`,`cast`,`country` sẽ không thể fill được vì sẽ gây ra sai lệch lớn về mặt ý nghĩa trong dữ liệu. Ta chỉ có thể fill cho hai cột có dữ liệu thiếu là `date_added` và `rating`."
   ]
  },
  {
   "cell_type": "code",
   "execution_count": 26,
   "id": "47b529b9",
   "metadata": {},
   "outputs": [],
   "source": [
    "#Fill date_added bằng mean\n",
    "df_movies['date_added']=df_movies['date_added'].fillna(df_movies['date_added'].mean())\n",
    "\n",
    "#Fill rating bằng mode.\n",
    "df_movies['rating']=df_movies['rating'].fillna(df_movies['rating'].mode())"
   ]
  },
  {
   "cell_type": "markdown",
   "id": "8719d24e",
   "metadata": {},
   "source": [
    "## Phân bố các giá trị và kiểm tra bất thường"
   ]
  },
  {
   "cell_type": "markdown",
   "id": "3b6538a7",
   "metadata": {},
   "source": [
    "### Kiểm tra ngày tháng sản xuất và thêm vào"
   ]
  },
  {
   "cell_type": "code",
   "execution_count": 27,
   "id": "fa31fa98",
   "metadata": {},
   "outputs": [
    {
     "data": {
      "text/plain": [
       "count                             7787\n",
       "mean     2019-01-02 19:20:57.708627968\n",
       "min                2008-01-01 00:00:00\n",
       "25%                2018-02-01 00:00:00\n",
       "50%                2019-03-07 00:00:00\n",
       "75%                2020-01-17 12:00:00\n",
       "max                2021-01-16 00:00:00\n",
       "Name: date_added, dtype: object"
      ]
     },
     "execution_count": 27,
     "metadata": {},
     "output_type": "execute_result"
    }
   ],
   "source": [
    "df_movies['date_added'].describe(datetime_is_numeric=True)"
   ]
  },
  {
   "cell_type": "markdown",
   "id": "25613faa",
   "metadata": {},
   "source": [
    "Ngày phim được thêm vào Netflix ổn, không có gì bất thường. Phim cũ nhất vào năm 2008, mới nhất là 2021."
   ]
  },
  {
   "cell_type": "code",
   "execution_count": 28,
   "id": "2b92d67f",
   "metadata": {},
   "outputs": [
    {
     "data": {
      "text/plain": [
       "count    7787.000000\n",
       "mean     2013.932580\n",
       "std         8.757395\n",
       "min      1925.000000\n",
       "25%      2013.000000\n",
       "50%      2017.000000\n",
       "75%      2018.000000\n",
       "max      2021.000000\n",
       "Name: release_year, dtype: float64"
      ]
     },
     "execution_count": 28,
     "metadata": {},
     "output_type": "execute_result"
    }
   ],
   "source": [
    "df_movies['release_year'].describe()"
   ]
  },
  {
   "cell_type": "markdown",
   "id": "8939ddc4",
   "metadata": {},
   "source": [
    "Phim cũ nhất được sản xuất vào năm 1925.\n",
    "\n",
    "Kiểm tra `release_year` < `date_added`. Ngày phim phát hành phải nhỏ hơn ngày phim được thêm vào Netflix."
   ]
  },
  {
   "cell_type": "code",
   "execution_count": 29,
   "id": "ef619dd3",
   "metadata": {},
   "outputs": [
    {
     "data": {
      "text/plain": [
       "12"
      ]
     },
     "execution_count": 29,
     "metadata": {},
     "output_type": "execute_result"
    }
   ],
   "source": [
    "release_larger_added=df_movies['release_year']>df_movies['date_added'].apply(lambda x:x.year)\n",
    "(release_larger_added).sum()"
   ]
  },
  {
   "cell_type": "markdown",
   "id": "0295a0a5",
   "metadata": {},
   "source": [
    "Có 12 phim năm phát hành sau năm thêm vào Netflix. Có thể nào phim được Netflix thêm vào trước khi nó phát hành?"
   ]
  },
  {
   "cell_type": "code",
   "execution_count": 65,
   "id": "aa18d6ce",
   "metadata": {},
   "outputs": [
    {
     "data": {
      "text/html": [
       "<div>\n",
       "<style scoped>\n",
       "    .dataframe tbody tr th:only-of-type {\n",
       "        vertical-align: middle;\n",
       "    }\n",
       "\n",
       "    .dataframe tbody tr th {\n",
       "        vertical-align: top;\n",
       "    }\n",
       "\n",
       "    .dataframe thead th {\n",
       "        text-align: right;\n",
       "    }\n",
       "</style>\n",
       "<table border=\"1\" class=\"dataframe\">\n",
       "  <thead>\n",
       "    <tr style=\"text-align: right;\">\n",
       "      <th></th>\n",
       "      <th>show_id</th>\n",
       "      <th>type</th>\n",
       "      <th>title</th>\n",
       "      <th>director</th>\n",
       "      <th>cast</th>\n",
       "      <th>country</th>\n",
       "      <th>date_added</th>\n",
       "      <th>release_year</th>\n",
       "      <th>rating</th>\n",
       "      <th>duration</th>\n",
       "      <th>...</th>\n",
       "      <th>Sports Movies</th>\n",
       "      <th>Stand-Up Comedy</th>\n",
       "      <th>Stand-Up Comedy &amp; Talk Shows</th>\n",
       "      <th>TV Horror</th>\n",
       "      <th>TV Mysteries</th>\n",
       "      <th>TV Shows</th>\n",
       "      <th>Teen TV Shows</th>\n",
       "      <th>Thrillers</th>\n",
       "      <th>min</th>\n",
       "      <th>season</th>\n",
       "    </tr>\n",
       "  </thead>\n",
       "  <tbody>\n",
       "    <tr>\n",
       "      <th>7132</th>\n",
       "      <td>s7133</td>\n",
       "      <td>TV Show</td>\n",
       "      <td>Tokyo Trial</td>\n",
       "      <td>NaN</td>\n",
       "      <td>Marcel Hensema, Paul Freeman, Irrfan Khan, Sta...</td>\n",
       "      <td>Canada, Japan, Netherlands</td>\n",
       "      <td>2016-12-13</td>\n",
       "      <td>2017</td>\n",
       "      <td>TV-MA</td>\n",
       "      <td>1 Season</td>\n",
       "      <td>...</td>\n",
       "      <td>0</td>\n",
       "      <td>0</td>\n",
       "      <td>0</td>\n",
       "      <td>0</td>\n",
       "      <td>0</td>\n",
       "      <td>0</td>\n",
       "      <td>0</td>\n",
       "      <td>0</td>\n",
       "      <td>NaN</td>\n",
       "      <td>1</td>\n",
       "    </tr>\n",
       "    <tr>\n",
       "      <th>2311</th>\n",
       "      <td>s2312</td>\n",
       "      <td>TV Show</td>\n",
       "      <td>Fuller House</td>\n",
       "      <td>NaN</td>\n",
       "      <td>Candace Cameron Bure, Jodie Sweetin, Andrea Ba...</td>\n",
       "      <td>United States</td>\n",
       "      <td>2019-12-06</td>\n",
       "      <td>2020</td>\n",
       "      <td>TV-PG</td>\n",
       "      <td>5 Seasons</td>\n",
       "      <td>...</td>\n",
       "      <td>0</td>\n",
       "      <td>0</td>\n",
       "      <td>0</td>\n",
       "      <td>0</td>\n",
       "      <td>0</td>\n",
       "      <td>0</td>\n",
       "      <td>0</td>\n",
       "      <td>0</td>\n",
       "      <td>NaN</td>\n",
       "      <td>5</td>\n",
       "    </tr>\n",
       "    <tr>\n",
       "      <th>2602</th>\n",
       "      <td>s2603</td>\n",
       "      <td>Movie</td>\n",
       "      <td>Hans Teeuwen: Real Rancour</td>\n",
       "      <td>Doesjka van Hoogdalem</td>\n",
       "      <td>Hans Teeuwen</td>\n",
       "      <td>Netherlands</td>\n",
       "      <td>2017-07-01</td>\n",
       "      <td>2018</td>\n",
       "      <td>TV-MA</td>\n",
       "      <td>86 min</td>\n",
       "      <td>...</td>\n",
       "      <td>0</td>\n",
       "      <td>1</td>\n",
       "      <td>0</td>\n",
       "      <td>0</td>\n",
       "      <td>0</td>\n",
       "      <td>0</td>\n",
       "      <td>0</td>\n",
       "      <td>0</td>\n",
       "      <td>86</td>\n",
       "      <td>NaN</td>\n",
       "    </tr>\n",
       "    <tr>\n",
       "      <th>1025</th>\n",
       "      <td>s1026</td>\n",
       "      <td>TV Show</td>\n",
       "      <td>BoJack Horseman</td>\n",
       "      <td>NaN</td>\n",
       "      <td>Will Arnett, Aaron Paul, Amy Sedaris, Alison B...</td>\n",
       "      <td>United States</td>\n",
       "      <td>2019-10-25</td>\n",
       "      <td>2020</td>\n",
       "      <td>TV-MA</td>\n",
       "      <td>6 Seasons</td>\n",
       "      <td>...</td>\n",
       "      <td>0</td>\n",
       "      <td>0</td>\n",
       "      <td>0</td>\n",
       "      <td>0</td>\n",
       "      <td>0</td>\n",
       "      <td>0</td>\n",
       "      <td>0</td>\n",
       "      <td>0</td>\n",
       "      <td>NaN</td>\n",
       "      <td>6</td>\n",
       "    </tr>\n",
       "    <tr>\n",
       "      <th>6462</th>\n",
       "      <td>s6463</td>\n",
       "      <td>TV Show</td>\n",
       "      <td>The Hook Up Plan</td>\n",
       "      <td>NaN</td>\n",
       "      <td>Marc Ruchmann, Zita Hanrot, Sabrina Ouazani, J...</td>\n",
       "      <td>France</td>\n",
       "      <td>2019-10-11</td>\n",
       "      <td>2020</td>\n",
       "      <td>TV-MA</td>\n",
       "      <td>2 Seasons</td>\n",
       "      <td>...</td>\n",
       "      <td>0</td>\n",
       "      <td>0</td>\n",
       "      <td>0</td>\n",
       "      <td>0</td>\n",
       "      <td>0</td>\n",
       "      <td>0</td>\n",
       "      <td>0</td>\n",
       "      <td>0</td>\n",
       "      <td>NaN</td>\n",
       "      <td>2</td>\n",
       "    </tr>\n",
       "  </tbody>\n",
       "</table>\n",
       "<p>5 rows × 53 columns</p>\n",
       "</div>"
      ],
      "text/plain": [
       "     show_id     type                       title               director  \\\n",
       "7132   s7133  TV Show                 Tokyo Trial                    NaN   \n",
       "2311   s2312  TV Show                Fuller House                    NaN   \n",
       "2602   s2603    Movie  Hans Teeuwen: Real Rancour  Doesjka van Hoogdalem   \n",
       "1025   s1026  TV Show             BoJack Horseman                    NaN   \n",
       "6462   s6463  TV Show            The Hook Up Plan                    NaN   \n",
       "\n",
       "                                                   cast  \\\n",
       "7132  Marcel Hensema, Paul Freeman, Irrfan Khan, Sta...   \n",
       "2311  Candace Cameron Bure, Jodie Sweetin, Andrea Ba...   \n",
       "2602                                       Hans Teeuwen   \n",
       "1025  Will Arnett, Aaron Paul, Amy Sedaris, Alison B...   \n",
       "6462  Marc Ruchmann, Zita Hanrot, Sabrina Ouazani, J...   \n",
       "\n",
       "                         country date_added  release_year rating   duration  \\\n",
       "7132  Canada, Japan, Netherlands 2016-12-13          2017  TV-MA   1 Season   \n",
       "2311               United States 2019-12-06          2020  TV-PG  5 Seasons   \n",
       "2602                 Netherlands 2017-07-01          2018  TV-MA     86 min   \n",
       "1025               United States 2019-10-25          2020  TV-MA  6 Seasons   \n",
       "6462                      France 2019-10-11          2020  TV-MA  2 Seasons   \n",
       "\n",
       "      ... Sports Movies Stand-Up Comedy Stand-Up Comedy & Talk Shows  \\\n",
       "7132  ...             0               0                            0   \n",
       "2311  ...             0               0                            0   \n",
       "2602  ...             0               1                            0   \n",
       "1025  ...             0               0                            0   \n",
       "6462  ...             0               0                            0   \n",
       "\n",
       "     TV Horror  TV Mysteries  TV Shows  Teen TV Shows  Thrillers  min  season  \n",
       "7132         0             0         0              0          0  NaN      1   \n",
       "2311         0             0         0              0          0  NaN      5   \n",
       "2602         0             0         0              0          0   86     NaN  \n",
       "1025         0             0         0              0          0  NaN      6   \n",
       "6462         0             0         0              0          0  NaN      2   \n",
       "\n",
       "[5 rows x 53 columns]"
      ]
     },
     "execution_count": 65,
     "metadata": {},
     "output_type": "execute_result"
    }
   ],
   "source": [
    "df_movies[release_larger_added].sample(5)"
   ]
  },
  {
   "cell_type": "markdown",
   "id": "c85e6c72",
   "metadata": {},
   "source": [
    "Hiện tại đây là một bất thường phát hiện được và chưa có lời giải thích tốt. Chúng ta thấy khoảng cách giữa 2 năm trong trường hợp này thường chỉ khoảng 1 năm. Liệu đây là những phim được ra mắt lần đầu trên Netflix trong đó `date_added` là ngày phim được thêm vào Netflix nhưng chưa chiếu. Còn `release_year` là ngày tập đầu tiên được chiếu?"
   ]
  },
  {
   "cell_type": "markdown",
   "id": "2154a937",
   "metadata": {},
   "source": [
    "### Kiểm tra min và season"
   ]
  },
  {
   "cell_type": "code",
   "execution_count": 75,
   "id": "f9dda85b",
   "metadata": {},
   "outputs": [
    {
     "data": {
      "text/plain": [
       "count    5377.000000\n",
       "mean       99.307978\n",
       "std        28.530881\n",
       "min         3.000000\n",
       "25%        86.000000\n",
       "50%        98.000000\n",
       "75%       114.000000\n",
       "max       312.000000\n",
       "Name: min, dtype: float64"
      ]
     },
     "execution_count": 75,
     "metadata": {},
     "output_type": "execute_result"
    }
   ],
   "source": [
    "df_movies['min'].describe()"
   ]
  },
  {
   "cell_type": "markdown",
   "id": "f9ef4442",
   "metadata": {},
   "source": [
    "Phim ngắn nhất chỉ có 3 phút và dài nhất đến hơn 300 phút. Điều thú vị là đây không phải là một bộ phim thông thường mà là phim interactive, trong đó chúng ta có thể tương tác và có những ending khác nhau. Thời lượng này có thể là thời lượng tổng các thước phim có thể có. Đây có thể gọi là một outlier trong dữ liệu của chúng ta!"
   ]
  },
  {
   "cell_type": "code",
   "execution_count": 76,
   "id": "5567b921",
   "metadata": {},
   "outputs": [
    {
     "data": {
      "text/plain": [
       "count    2410.000000\n",
       "mean        1.775934\n",
       "std         1.596359\n",
       "min         1.000000\n",
       "25%         1.000000\n",
       "50%         1.000000\n",
       "75%         2.000000\n",
       "max        16.000000\n",
       "Name: season, dtype: float64"
      ]
     },
     "execution_count": 76,
     "metadata": {},
     "output_type": "execute_result"
    }
   ],
   "source": [
    "df_movies['season'].describe()"
   ]
  },
  {
   "cell_type": "code",
   "execution_count": 86,
   "id": "5ed69ffc",
   "metadata": {},
   "outputs": [
    {
     "data": {
      "text/plain": [
       "<AxesSubplot:>"
      ]
     },
     "execution_count": 86,
     "metadata": {},
     "output_type": "execute_result"
    },
    {
     "data": {
      "image/png": "[encoded data removed]",
      "text/plain": [
       "<Figure size 432x288 with 1 Axes>"
      ]
     },
     "metadata": {
      "needs_background": "light"
     },
     "output_type": "display_data"
    }
   ],
   "source": [
    "df_movies['season'].value_counts().plot.bar()"
   ]
  },
  {
   "cell_type": "markdown",
   "id": "209600c8",
   "metadata": {},
   "source": [
    "Khong có gì bất thường ở season, đa số phim chỉ có 1 mùa và số lượng phim giảm dần khi càng nhiều mùa. Có thể khá ít bộ phim đủ lợi nhuận để làm tiếp các mùa sau."
   ]
  },
  {
   "cell_type": "markdown",
   "id": "7e04d097",
   "metadata": {},
   "source": [
    "## Title "
   ]
  },
  {
   "cell_type": "markdown",
   "id": "93903f22",
   "metadata": {},
   "source": [
    "Việc tách tên phim bằng dấu : có thể hữu ích trong việc tìm các phim liên quan. Chẳng hạn dòng phim Transformers thường có tên phim là `Transformer:<tên của tập phim>`. Bằng cách tách được tên phim như vậy chúng ta có thể recommend các tập khác nhau của một phim."
   ]
  },
  {
   "cell_type": "code",
   "execution_count": 113,
   "id": "30bc609b",
   "metadata": {},
   "outputs": [],
   "source": [
    "df_movies['title_postfix']=df_movies['title'].apply(lambda x:x[x.find(\":\")+1:] if x.find(\":\")>=0 else np.nan)"
   ]
  },
  {
   "cell_type": "code",
   "execution_count": 112,
   "id": "501d2b67",
   "metadata": {},
   "outputs": [],
   "source": [
    "df_movies['title_prefix']=df_movies['title'].apply(lambda x:x[:x.find(\":\")] if x.find(\":\")>=0 else x)"
   ]
  },
  {
   "cell_type": "code",
   "execution_count": 127,
   "id": "4ab75159",
   "metadata": {},
   "outputs": [
    {
     "data": {
      "text/plain": [
       "NOVA                              19\n",
       "Monster High                      13\n",
       "True                              10\n",
       "Trailer Park Boys                  9\n",
       "Krish Trish and Baltiboy           8\n",
       "ReMastered                         8\n",
       "Kevin Hart                         8\n",
       "Jeff Dunham                        7\n",
       "Dragons                            6\n",
       "My Little Pony Equestria Girls     5\n",
       "Katt Williams                      5\n",
       "Barbie                             5\n",
       "Little Singham                     5\n",
       "Bill Burr                          5\n",
       "Iliza Shlesinger                   5\n",
       "Star Trek                          5\n",
       "Jim Gaffigan                       5\n",
       "Super Monsters                     5\n",
       "Transformers                       5\n",
       "Bill Hicks                         5\n",
       "Name: title_prefix, dtype: int64"
      ]
     },
     "execution_count": 127,
     "metadata": {},
     "output_type": "execute_result"
    }
   ],
   "source": [
    "df_movies.title_prefix.value_counts()[df_movies.title_prefix.value_counts()>4]"
   ]
  },
  {
   "cell_type": "code",
   "execution_count": null,
   "id": "0c12da28",
   "metadata": {},
   "outputs": [],
   "source": []
  }
 ],
 "metadata": {
  "kernelspec": {
   "display_name": "Python 3",
   "language": "python",
   "name": "python3"
  },
  "language_info": {
   "codemirror_mode": {
    "name": "ipython",
    "version": 3
   },
   "file_extension": ".py",
   "mimetype": "text/x-python",
   "name": "python",
   "nbconvert_exporter": "python",
   "pygments_lexer": "ipython3",
   "version": "3.8.8"
  }
 },
 "nbformat": 4,
 "nbformat_minor": 5
}

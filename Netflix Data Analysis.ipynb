{
 "cells": [
  {
   "cell_type": "markdown",
   "id": "01f8d34d-0035-4274-9906-25c21772f626",
   "metadata": {},
   "source": [
    "# Đồ Án Lập Trình cho Khoa Học Dữ Liệu\n",
    "\n",
    "## Thành viên\n",
    "| Mã số sinh viên | Học và tên                                           |\n",
    "|:---------------:|:-----------------------------------------------------|\n",
    "|18120225         | [Trần Thanh Phúc](https://github.com/PhucThanh)      |\n",
    "|18120221         | [Nguyễn Điền Thanh Phong](https://github.com/sgrayk) |"
   ]
  },
  {
   "cell_type": "markdown",
   "id": "b4f6f8ae-f60a-49dc-8e2f-582df9a92c87",
   "metadata": {},
   "source": [
    "---"
   ]
  },
  {
   "cell_type": "markdown",
   "id": "c485d6c3-e781-4095-80f2-e003d63dd170",
   "metadata": {},
   "source": [
    "## Môi trường code"
   ]
  },
  {
   "cell_type": "code",
   "execution_count": 1,
   "id": "464a73d9-0ffc-46a7-af5d-c6663c145502",
   "metadata": {},
   "outputs": [
    {
     "name": "stdout",
     "output_type": "stream",
     "text": [
      "/home/phuc/anaconda3/envs/p4ds-env/bin/python\r\n"
     ]
    }
   ],
   "source": [
    "!which python "
   ]
  },
  {
   "cell_type": "markdown",
   "id": "a6db9d28-53ec-4443-9dac-15391d3f0eb4",
   "metadata": {},
   "source": [
    "---"
   ]
  },
  {
   "cell_type": "markdown",
   "id": "bb16233c-dd00-4840-a4ad-abe78d039d5a",
   "metadata": {},
   "source": [
    "## Các thư viện sử dụng"
   ]
  },
  {
   "cell_type": "markdown",
   "id": "75976159-2d4d-40ad-bf94-303dd0568ff4",
   "metadata": {},
   "source": [
    "*Nhóm có sử dụng thư viện đồ họa seaborn để viện trực quan hóa dữ liệu đẹp hơn*"
   ]
  },
  {
   "cell_type": "code",
   "execution_count": 2,
   "id": "73911846-af1f-4515-97a8-8dcf5b951b09",
   "metadata": {},
   "outputs": [
    {
     "name": "stdout",
     "output_type": "stream",
     "text": [
      "Collecting package metadata (current_repodata.json): done\n",
      "Solving environment: done\n",
      "\n",
      "\n",
      "==> WARNING: A newer version of conda exists. <==\n",
      "  current version: 4.10.1\n",
      "  latest version: 4.10.3\n",
      "\n",
      "Please update conda by running\n",
      "\n",
      "    $ conda update -n base -c defaults conda\n",
      "\n",
      "\n",
      "\n",
      "# All requested packages already installed.\n",
      "\n"
     ]
    }
   ],
   "source": [
    "# Cài đặt thêm thư viện seaborn\n",
    "import sys\n",
    "!conda install --yes --prefix {sys.prefix} seaborn"
   ]
  },
  {
   "cell_type": "code",
   "execution_count": 3,
   "id": "ff8edbfb-5923-45a4-b328-3c7af2916b0b",
   "metadata": {},
   "outputs": [],
   "source": [
    "import pandas as pd\n",
    "import matplotlib.pyplot as plt\n",
    "import numpy as np\n",
    "import seaborn as sns\n",
    "from collections import Counter\n",
    "import datetime\n",
    "import re"
   ]
  },
  {
   "cell_type": "markdown",
   "id": "426dfefe-5040-4528-b781-cda770b77535",
   "metadata": {},
   "source": [
    "---"
   ]
  },
  {
   "cell_type": "markdown",
   "id": "5b9e414e-5e26-41d7-9e69-33f5cc7fd067",
   "metadata": {},
   "source": [
    "## Thu thập dữ liệu"
   ]
  },
  {
   "cell_type": "markdown",
   "id": "30d420a1-d29b-4a63-aeb9-7681107674dd",
   "metadata": {},
   "source": [
    "TV Shows and Movies listed on Netflix\n",
    "\n",
    "Dataset này bao gồm tv shows và movies khả dụng trên Netflix của năm 2019. Tập dữ liệu được thu thập từ Flixable, một công cụ tìm kiếm Netflix của bên thứ ba.\n",
    "\n",
    "Vào năm 2018, họ đã phát hành một báo cáo thú vị cho thấy số lượng chương trình truyền hình trên Netflix đã tăng gần gấp ba lần kể từ năm 2010. Số lượng phim của dịch vụ phát trực tuyến đã giảm hơn 2.000 tựa kể từ năm 2010, trong khi số lượng chương trình truyền hình của nó tăng gần gấp ba lần. Sẽ rất thú vị khi khám phá xem tất cả những thông tin chi tiết khác có thể thu được từ cùng một tập dữ liệu.\n",
    "\n",
    "**Bản quyền**\n",
    "\n",
    "Dữ liệu có bản quyền `CC0 1.0 Universal`:\n",
    "\n",
    "> Bạn có thể sao chép, sửa đổi, phân phối và thực hiện công việc, ngay cả với mục đích thương mại, tất cả mà không cần xin phép\n"
   ]
  },
  {
   "cell_type": "markdown",
   "id": "6abef0b9-88bc-425e-86a5-f5aa35de017d",
   "metadata": {},
   "source": [
    "---"
   ]
  },
  {
   "cell_type": "markdown",
   "id": "aa56bfdb-0b04-47e0-9e87-206052e8304b",
   "metadata": {},
   "source": [
    "# Khám phá dữ liệu và tiền xử lý"
   ]
  },
  {
   "cell_type": "code",
   "execution_count": 4,
   "id": "462e3391-2ad1-485f-8e6f-9c17a3e2e278",
   "metadata": {},
   "outputs": [
    {
     "data": {
      "text/html": [
       "<div>\n",
       "<style scoped>\n",
       "    .dataframe tbody tr th:only-of-type {\n",
       "        vertical-align: middle;\n",
       "    }\n",
       "\n",
       "    .dataframe tbody tr th {\n",
       "        vertical-align: top;\n",
       "    }\n",
       "\n",
       "    .dataframe thead th {\n",
       "        text-align: right;\n",
       "    }\n",
       "</style>\n",
       "<table border=\"1\" class=\"dataframe\">\n",
       "  <thead>\n",
       "    <tr style=\"text-align: right;\">\n",
       "      <th></th>\n",
       "      <th>show_id</th>\n",
       "      <th>type</th>\n",
       "      <th>title</th>\n",
       "      <th>director</th>\n",
       "      <th>cast</th>\n",
       "      <th>country</th>\n",
       "      <th>date_added</th>\n",
       "      <th>release_year</th>\n",
       "      <th>rating</th>\n",
       "      <th>duration</th>\n",
       "      <th>listed_in</th>\n",
       "      <th>description</th>\n",
       "    </tr>\n",
       "  </thead>\n",
       "  <tbody>\n",
       "    <tr>\n",
       "      <th>0</th>\n",
       "      <td>s1</td>\n",
       "      <td>TV Show</td>\n",
       "      <td>3%</td>\n",
       "      <td>NaN</td>\n",
       "      <td>João Miguel, Bianca Comparato, Michel Gomes, R...</td>\n",
       "      <td>Brazil</td>\n",
       "      <td>August 14, 2020</td>\n",
       "      <td>2020</td>\n",
       "      <td>TV-MA</td>\n",
       "      <td>4 Seasons</td>\n",
       "      <td>International TV Shows, TV Dramas, TV Sci-Fi &amp;...</td>\n",
       "      <td>In a future where the elite inhabit an island ...</td>\n",
       "    </tr>\n",
       "    <tr>\n",
       "      <th>1</th>\n",
       "      <td>s2</td>\n",
       "      <td>Movie</td>\n",
       "      <td>7:19</td>\n",
       "      <td>Jorge Michel Grau</td>\n",
       "      <td>Demián Bichir, Héctor Bonilla, Oscar Serrano, ...</td>\n",
       "      <td>Mexico</td>\n",
       "      <td>December 23, 2016</td>\n",
       "      <td>2016</td>\n",
       "      <td>TV-MA</td>\n",
       "      <td>93 min</td>\n",
       "      <td>Dramas, International Movies</td>\n",
       "      <td>After a devastating earthquake hits Mexico Cit...</td>\n",
       "    </tr>\n",
       "    <tr>\n",
       "      <th>2</th>\n",
       "      <td>s3</td>\n",
       "      <td>Movie</td>\n",
       "      <td>23:59</td>\n",
       "      <td>Gilbert Chan</td>\n",
       "      <td>Tedd Chan, Stella Chung, Henley Hii, Lawrence ...</td>\n",
       "      <td>Singapore</td>\n",
       "      <td>December 20, 2018</td>\n",
       "      <td>2011</td>\n",
       "      <td>R</td>\n",
       "      <td>78 min</td>\n",
       "      <td>Horror Movies, International Movies</td>\n",
       "      <td>When an army recruit is found dead, his fellow...</td>\n",
       "    </tr>\n",
       "    <tr>\n",
       "      <th>3</th>\n",
       "      <td>s4</td>\n",
       "      <td>Movie</td>\n",
       "      <td>9</td>\n",
       "      <td>Shane Acker</td>\n",
       "      <td>Elijah Wood, John C. Reilly, Jennifer Connelly...</td>\n",
       "      <td>United States</td>\n",
       "      <td>November 16, 2017</td>\n",
       "      <td>2009</td>\n",
       "      <td>PG-13</td>\n",
       "      <td>80 min</td>\n",
       "      <td>Action &amp; Adventure, Independent Movies, Sci-Fi...</td>\n",
       "      <td>In a postapocalyptic world, rag-doll robots hi...</td>\n",
       "    </tr>\n",
       "    <tr>\n",
       "      <th>4</th>\n",
       "      <td>s5</td>\n",
       "      <td>Movie</td>\n",
       "      <td>21</td>\n",
       "      <td>Robert Luketic</td>\n",
       "      <td>Jim Sturgess, Kevin Spacey, Kate Bosworth, Aar...</td>\n",
       "      <td>United States</td>\n",
       "      <td>January 1, 2020</td>\n",
       "      <td>2008</td>\n",
       "      <td>PG-13</td>\n",
       "      <td>123 min</td>\n",
       "      <td>Dramas</td>\n",
       "      <td>A brilliant group of students become card-coun...</td>\n",
       "    </tr>\n",
       "  </tbody>\n",
       "</table>\n",
       "</div>"
      ],
      "text/plain": [
       "  show_id     type  title           director  \\\n",
       "0      s1  TV Show     3%                NaN   \n",
       "1      s2    Movie   7:19  Jorge Michel Grau   \n",
       "2      s3    Movie  23:59       Gilbert Chan   \n",
       "3      s4    Movie      9        Shane Acker   \n",
       "4      s5    Movie     21     Robert Luketic   \n",
       "\n",
       "                                                cast        country  \\\n",
       "0  João Miguel, Bianca Comparato, Michel Gomes, R...         Brazil   \n",
       "1  Demián Bichir, Héctor Bonilla, Oscar Serrano, ...         Mexico   \n",
       "2  Tedd Chan, Stella Chung, Henley Hii, Lawrence ...      Singapore   \n",
       "3  Elijah Wood, John C. Reilly, Jennifer Connelly...  United States   \n",
       "4  Jim Sturgess, Kevin Spacey, Kate Bosworth, Aar...  United States   \n",
       "\n",
       "          date_added  release_year rating   duration  \\\n",
       "0    August 14, 2020          2020  TV-MA  4 Seasons   \n",
       "1  December 23, 2016          2016  TV-MA     93 min   \n",
       "2  December 20, 2018          2011      R     78 min   \n",
       "3  November 16, 2017          2009  PG-13     80 min   \n",
       "4    January 1, 2020          2008  PG-13    123 min   \n",
       "\n",
       "                                           listed_in  \\\n",
       "0  International TV Shows, TV Dramas, TV Sci-Fi &...   \n",
       "1                       Dramas, International Movies   \n",
       "2                Horror Movies, International Movies   \n",
       "3  Action & Adventure, Independent Movies, Sci-Fi...   \n",
       "4                                             Dramas   \n",
       "\n",
       "                                         description  \n",
       "0  In a future where the elite inhabit an island ...  \n",
       "1  After a devastating earthquake hits Mexico Cit...  \n",
       "2  When an army recruit is found dead, his fellow...  \n",
       "3  In a postapocalyptic world, rag-doll robots hi...  \n",
       "4  A brilliant group of students become card-coun...  "
      ]
     },
     "execution_count": 4,
     "metadata": {},
     "output_type": "execute_result"
    }
   ],
   "source": [
    "df_movies=pd.read_csv(\"./netflix_titles.csv\")\n",
    "df_movies.head()"
   ]
  },
  {
   "cell_type": "markdown",
   "id": "ced84047-053d-4016-b334-ddce85d40d1f",
   "metadata": {},
   "source": [
    "Dữ liệu có bao nhiêu dòng và bao nhiêu cột?"
   ]
  },
  {
   "cell_type": "code",
   "execution_count": 5,
   "id": "ec7feef5-f655-4cd3-ba62-96a0225f5bb7",
   "metadata": {
    "scrolled": true
   },
   "outputs": [
    {
     "name": "stdout",
     "output_type": "stream",
     "text": [
      "Dữ liệu có 7787 dòng và 12 cột.\n"
     ]
    }
   ],
   "source": [
    "n_rows,n_cols=df_movies.shape\n",
    "print(f'Dữ liệu có {n_rows} dòng và {n_cols} cột.')"
   ]
  },
  {
   "cell_type": "markdown",
   "id": "d2090cbb-1ccb-4e02-9b15-a48a7ce972cc",
   "metadata": {},
   "source": [
    "Mỗi dòng là một bộ phim hoặc TV Show đã chiếu trên Netflix. Không có vấn đề mỗi dòng có ý nghĩa khác nhau."
   ]
  },
  {
   "cell_type": "markdown",
   "id": "19330b67-c173-4c61-aae3-145029da9d7a",
   "metadata": {},
   "source": [
    "## Kiểm tra lặp dữ liệu"
   ]
  },
  {
   "cell_type": "code",
   "execution_count": 6,
   "id": "c23e8ea0-ab3a-4d0c-89fc-e3654408c143",
   "metadata": {},
   "outputs": [],
   "source": [
    "assert(len(df_movies['show_id'].unique())==n_rows)"
   ]
  },
  {
   "cell_type": "markdown",
   "id": "5f883a41-bf4e-4a31-a775-ac0a388e0264",
   "metadata": {},
   "source": [
    "Ta thấy mỗi phim có một `show_id` khác nhau và số id khác nhau cũng bằng với số dòng nên không có trường hợp lặp dữ liệu."
   ]
  },
  {
   "cell_type": "markdown",
   "id": "a1b88b01-2aeb-4e62-b2bd-4aa19f71b59f",
   "metadata": {},
   "source": [
    "## Ý nghĩa mỗi cột trong Dữ liệu"
   ]
  },
  {
   "cell_type": "markdown",
   "id": "26087296-3b4f-4ab2-b2ca-21f5f13c36e3",
   "metadata": {},
   "source": [
    "- **show_id**: các giá trị đơn lập giúp xác định một Chương trình.\n",
    "- **type**: loại chương trình của Netflix, là Movie hoặc TV Show.\n",
    "- **title**: tên chương trình được phát trên Netflix.\n",
    "- **director**: danh sách các đạo diễn chương trình\n",
    "- **cast**: danh sách các diễn viên trong Chương trình, ngăn cách bởi dấu \",\"\n",
    "- **country**: danh sách tên các nước sản xuất \n",
    "- **date_added**: thời gian được thêm vào Netflix\n",
    "- **release_year**: năm sản xuất chương trình\n",
    "- **rating**: đánh giá phim thuộc thể loại nào và mức độ của nó\n",
    "- **duration**: thời lượng chương trình, có thể kéo dài trong hơn một mùa,...\n",
    "- **listed_in**: danh sách thể loại chương trình\n",
    "- **description**: mô tả chương trình"
   ]
  },
  {
   "cell_type": "markdown",
   "id": "3d39aa88-a2c9-41b9-bf6a-a97a9f9ba67c",
   "metadata": {},
   "source": [
    "## Kiểm tra loại dữ liệu của mỗi cột có đơn nhất không?"
   ]
  },
  {
   "cell_type": "code",
   "execution_count": 7,
   "id": "4dbc72ae-246d-4a87-9f98-84b090656111",
   "metadata": {},
   "outputs": [
    {
     "name": "stdout",
     "output_type": "stream",
     "text": [
      "<class 'pandas.core.frame.DataFrame'>\n",
      "RangeIndex: 7787 entries, 0 to 7786\n",
      "Data columns (total 12 columns):\n",
      " #   Column        Non-Null Count  Dtype \n",
      "---  ------        --------------  ----- \n",
      " 0   show_id       7787 non-null   object\n",
      " 1   type          7787 non-null   object\n",
      " 2   title         7787 non-null   object\n",
      " 3   director      5398 non-null   object\n",
      " 4   cast          7069 non-null   object\n",
      " 5   country       7280 non-null   object\n",
      " 6   date_added    7777 non-null   object\n",
      " 7   release_year  7787 non-null   int64 \n",
      " 8   rating        7780 non-null   object\n",
      " 9   duration      7787 non-null   object\n",
      " 10  listed_in     7787 non-null   object\n",
      " 11  description   7787 non-null   object\n",
      "dtypes: int64(1), object(11)\n",
      "memory usage: 730.2+ KB\n"
     ]
    }
   ],
   "source": [
    "df_movies.info()"
   ]
  },
  {
   "cell_type": "code",
   "execution_count": 8,
   "id": "ae9ec832-43ad-4c14-a4b6-3a825f9756f0",
   "metadata": {
    "nbgrader": {
     "cell_type": "code",
     "checksum": "584650ddec44ef314602d9923b1d8bac",
     "grade": false,
     "grade_id": "cell-9c4658645a61bd6e",
     "locked": false,
     "schema_version": 3,
     "solution": true,
     "task": false
    }
   },
   "outputs": [
    {
     "name": "stdout",
     "output_type": "stream",
     "text": [
      "Column      show_id có kiểu dữ liệu: {<class 'str'>}\n",
      "Column         type có kiểu dữ liệu: {<class 'str'>}\n",
      "Column        title có kiểu dữ liệu: {<class 'str'>}\n",
      "Column     director có kiểu dữ liệu: {<class 'str'>, <class 'float'>}\n",
      "Column         cast có kiểu dữ liệu: {<class 'str'>, <class 'float'>}\n",
      "Column      country có kiểu dữ liệu: {<class 'str'>, <class 'float'>}\n",
      "Column   date_added có kiểu dữ liệu: {<class 'str'>, <class 'float'>}\n",
      "Column release_year có kiểu dữ liệu: {<class 'int'>}\n",
      "Column       rating có kiểu dữ liệu: {<class 'str'>, <class 'float'>}\n",
      "Column     duration có kiểu dữ liệu: {<class 'str'>}\n",
      "Column    listed_in có kiểu dữ liệu: {<class 'str'>}\n",
      "Column  description có kiểu dữ liệu: {<class 'str'>}\n"
     ]
    }
   ],
   "source": [
    "def open_object_dtype(s):\n",
    "    \n",
    "    dtypes = set(s.apply(type))\n",
    "    \n",
    "    return dtypes\n",
    "\n",
    "for col in df_movies.columns:\n",
    "    print(\"Column %12s có kiểu dữ liệu: %s\" % (col, open_object_dtype(df_movies[col])))"
   ]
  },
  {
   "cell_type": "markdown",
   "id": "dda1310a-3ed7-4f49-8bc0-8bab4d09743e",
   "metadata": {},
   "source": [
    "**Vấn đề cần tiền xử lý:**\n",
    "Theo thông tin ta nhận được ở trên, ta có những đánh giá sau: \n",
    "- Cột `date_added` đang có dtype là `str` và `float`. Để đúng về ý nghĩa, ta sẽ thực hiện bước tiền xử lý là chuyển sang dạng `datetime`.\n",
    "- Cột `country` và `rating` có dtype gồm 2 loại là `str` và `float`, ta sẽ tiền xử lý để thống nhất `dtype` là `str` \n",
    "- Cột `director`, `cast` có dtype gồm 2 loại là `str` và `float`, ta sẽ tiền xử lý để thống nhất `dtype` là `str` rồi sau đó chuyển thành danh sách `numpy.array`.\n",
    "- Cột `listed_in` có dtype là `str` nhưng bản thân nó là một danh sách, do đó, ta sẽ cần đưa nó về `numpy.aray`\n",
    "- Cột `duration` có dtype là `str` nhưng bản thân nó bao gồm cả giá trị độ lớn và đơn vị, do đó ta cũng cần xử lý nó về 2 cột riêng.\n",
    "- Hầu hết các cột có giá trị `float` là vì các cột có giá trị `nan`"
   ]
  },
  {
   "cell_type": "markdown",
   "id": "88934edf-38ee-4285-b3b4-aaf4ccb1ddab",
   "metadata": {},
   "source": [
    "## Xử lý cột Title "
   ]
  },
  {
   "cell_type": "markdown",
   "id": "735aa800-000c-4460-bee9-a1fd24de354b",
   "metadata": {},
   "source": [
    "Việc tách tên phim bằng dấu : có thể hữu ích trong việc tìm các phim liên quan. Chẳng hạn dòng phim Transformers thường có tên phim là `Transformer:<tên của tập phim>`. Bằng cách tách được tên phim như vậy chúng ta có thể recommend các tập khác nhau của một phim."
   ]
  },
  {
   "cell_type": "code",
   "execution_count": 9,
   "id": "e34d8fc6-13e9-45ff-a726-771c0b80853d",
   "metadata": {},
   "outputs": [],
   "source": [
    "df_movies['title_postfix']=df_movies['title'].apply(lambda x:x[x.find(\":\")+1:] if x.find(\":\")>=0 else np.nan)"
   ]
  },
  {
   "cell_type": "code",
   "execution_count": 10,
   "id": "1b022a40-0f0a-4c2e-93e3-2cd119f84c9e",
   "metadata": {},
   "outputs": [],
   "source": [
    "df_movies['title_prefix']=df_movies['title'].apply(lambda x:x[:x.find(\":\")] if x.find(\":\")>=0 else x)"
   ]
  },
  {
   "cell_type": "code",
   "execution_count": 11,
   "id": "d630ec1a-d8b0-4dfc-9112-3087c4010e4e",
   "metadata": {},
   "outputs": [
    {
     "data": {
      "text/plain": [
       "NOVA                              19\n",
       "Monster High                      13\n",
       "True                              10\n",
       "Trailer Park Boys                  9\n",
       "Kevin Hart                         8\n",
       "ReMastered                         8\n",
       "Krish Trish and Baltiboy           8\n",
       "Jeff Dunham                        7\n",
       "Dragons                            6\n",
       "Star Trek                          5\n",
       "Bill Burr                          5\n",
       "Super Monsters                     5\n",
       "Barbie                             5\n",
       "Jim Gaffigan                       5\n",
       "My Little Pony Equestria Girls     5\n",
       "Bill Hicks                         5\n",
       "Iliza Shlesinger                   5\n",
       "Transformers                       5\n",
       "Little Singham                     5\n",
       "Katt Williams                      5\n",
       "Name: title_prefix, dtype: int64"
      ]
     },
     "execution_count": 11,
     "metadata": {},
     "output_type": "execute_result"
    }
   ],
   "source": [
    "df_movies.title_prefix.value_counts()[df_movies.title_prefix.value_counts()>4]"
   ]
  },
  {
   "cell_type": "markdown",
   "id": "7f748bd9-16e7-431a-bf79-067e9ed1a9a2",
   "metadata": {},
   "source": [
    "## Xử lý cột đạo diễn\n",
    "Phim có nhiều đạo diễn sẽ được ngăn bởi dấu ,"
   ]
  },
  {
   "cell_type": "code",
   "execution_count": 12,
   "id": "9dcc0f7b-4adb-43d5-a692-ea98e7b6b8f4",
   "metadata": {},
   "outputs": [],
   "source": [
    "#df_movies['director'].fillna(\"Unknow\",inplace=True)"
   ]
  },
  {
   "cell_type": "code",
   "execution_count": 13,
   "id": "e4beefe5-96e0-4c16-bd0b-edad845f6fdf",
   "metadata": {},
   "outputs": [],
   "source": [
    "df_movies['director']=df_movies['director'].apply(lambda x:str(x).split(\", \"))"
   ]
  },
  {
   "cell_type": "code",
   "execution_count": 14,
   "id": "d73194de-0041-401a-bdad-5ecdd8e72921",
   "metadata": {},
   "outputs": [
    {
     "data": {
      "text/plain": [
       "943        [Supavitra Babul]\n",
       "5128                   [nan]\n",
       "427             [Mike Doyle]\n",
       "978       [Clovis Cornillac]\n",
       "2591          [Akram Farouk]\n",
       "430     [Antoinette Jadaone]\n",
       "Name: director, dtype: object"
      ]
     },
     "execution_count": 14,
     "metadata": {},
     "output_type": "execute_result"
    }
   ],
   "source": [
    "df_movies['director'].sample(6)"
   ]
  },
  {
   "cell_type": "markdown",
   "id": "e309299f-e805-490e-81f9-f22be5b86939",
   "metadata": {},
   "source": [
    "Những phim không có đạo diễn sẽ là list nan: [nan]. Ta sẽ thay thế nó bằng list rỗng."
   ]
  },
  {
   "cell_type": "code",
   "execution_count": 15,
   "id": "a8c2935a-f815-4a3d-91fc-14a86b435c08",
   "metadata": {},
   "outputs": [
    {
     "data": {
      "text/plain": [
       "2713    [Raymie Muzquiz, Stu Livingston]\n",
       "990         [Miguel Cohan, Miguel Cohan]\n",
       "6798                                  []\n",
       "7669                                  []\n",
       "6742                       [John Duigan]\n",
       "2066                      [Selima Taibi]\n",
       "Name: director, dtype: object"
      ]
     },
     "execution_count": 15,
     "metadata": {},
     "output_type": "execute_result"
    }
   ],
   "source": [
    "df_movies['director']=df_movies['director'].apply(lambda x:[] if str(x)==\"['nan']\" else x)\n",
    "df_movies['director'].sample(6)"
   ]
  },
  {
   "cell_type": "markdown",
   "id": "9039ef2e-3ab0-495e-a7b3-cf800a8adc64",
   "metadata": {},
   "source": [
    "## Xử lý cột cast thành mảng diễn viên"
   ]
  },
  {
   "cell_type": "code",
   "execution_count": 16,
   "id": "8824f2be-570a-48f3-8417-62b8baa77e3a",
   "metadata": {},
   "outputs": [
    {
     "data": {
      "text/plain": [
       "0    João Miguel, Bianca Comparato, Michel Gomes, R...\n",
       "1    Demián Bichir, Héctor Bonilla, Oscar Serrano, ...\n",
       "2    Tedd Chan, Stella Chung, Henley Hii, Lawrence ...\n",
       "3    Elijah Wood, John C. Reilly, Jennifer Connelly...\n",
       "4    Jim Sturgess, Kevin Spacey, Kate Bosworth, Aar...\n",
       "Name: cast, dtype: object"
      ]
     },
     "execution_count": 16,
     "metadata": {},
     "output_type": "execute_result"
    }
   ],
   "source": [
    "df_movies['cast'].head()"
   ]
  },
  {
   "cell_type": "markdown",
   "id": "52976771-2c77-4fe7-8a81-0b3c113b2d3b",
   "metadata": {},
   "source": [
    "Ta để ý tên diễn viên được cách nhau bởi `,_` (có khoảng trắng phía sau dấu ,)"
   ]
  },
  {
   "cell_type": "code",
   "execution_count": 17,
   "id": "275c8645-5eee-4ef2-96ce-6dac102848b5",
   "metadata": {},
   "outputs": [
    {
     "data": {
      "text/plain": [
       "0    [João Miguel, Bianca Comparato, Michel Gomes, ...\n",
       "1    [Demián Bichir, Héctor Bonilla, Oscar Serrano,...\n",
       "2    [Tedd Chan, Stella Chung, Henley Hii, Lawrence...\n",
       "3    [Elijah Wood, John C. Reilly, Jennifer Connell...\n",
       "4    [Jim Sturgess, Kevin Spacey, Kate Bosworth, Aa...\n",
       "Name: cast_array, dtype: object"
      ]
     },
     "execution_count": 17,
     "metadata": {},
     "output_type": "execute_result"
    }
   ],
   "source": [
    "df_movies['cast_array']=df_movies['cast'].apply(lambda x:str(x).split(\", \"))\n",
    "#Fix nan thành mảng rỗng\n",
    "df_movies['cast_array']=df_movies['cast_array'].apply(lambda x:[] if str(x)==\"['nan']\" else x)\n",
    "df_movies['cast_array'].head()"
   ]
  },
  {
   "cell_type": "markdown",
   "id": "7a5dddb7-a341-4dfb-bd92-153ce6d66cc3",
   "metadata": {},
   "source": [
    "## Xử lý cột duration\n",
    "Cột duration có 2 đơn vị là season hoặc min. Giả thiết đưa ra là những dòng có đơn vị là season là TV show, đơn vị min là phim lẻ. Ta sẽ kiểm tra điều này bằng cách đếm giá trị như sau."
   ]
  },
  {
   "cell_type": "code",
   "execution_count": 18,
   "id": "04a45066-99c3-40ad-937d-5cb11909d6f3",
   "metadata": {},
   "outputs": [
    {
     "data": {
      "text/plain": [
       "Movie      5377\n",
       "TV Show    2410\n",
       "Name: type, dtype: int64"
      ]
     },
     "execution_count": 18,
     "metadata": {},
     "output_type": "execute_result"
    }
   ],
   "source": [
    "#Số lượng Movie và TV Show\n",
    "df_movies['type'].value_counts()"
   ]
  },
  {
   "cell_type": "code",
   "execution_count": 19,
   "id": "488be84e-495f-45a1-bde7-902b38c05f80",
   "metadata": {},
   "outputs": [
    {
     "data": {
      "text/plain": [
       "5377"
      ]
     },
     "execution_count": 19,
     "metadata": {},
     "output_type": "execute_result"
    }
   ],
   "source": [
    "#Số lượng dòng với duration có chữ min:\n",
    "df_movies['duration'].apply(lambda x:x.find(\"min\")>=0).sum()"
   ]
  },
  {
   "cell_type": "markdown",
   "id": "b51d3a33-fc8d-4d09-baa7-b4e5c4ddf5ea",
   "metadata": {},
   "source": [
    "Đều là 5377 nên giả thiết của chúng ta là đúng. Chúng ta sẽ tách cột duration thành `season` thể hiện số season và `min` thể hiện số phút của phim. Mục đích điều này có thể giúp ta xử lý dễ dàng hơn các thao tác như sort theo season, min trong tương lai."
   ]
  },
  {
   "cell_type": "code",
   "execution_count": 20,
   "id": "4cb207f2-b506-41c3-b183-3d766a62c4b7",
   "metadata": {},
   "outputs": [],
   "source": [
    "df_movies['min']=df_movies['duration'][df_movies['duration'].apply(lambda x:x.find(\"min\")>=0)]\n",
    "df_movies['season']=df_movies['duration'][df_movies['duration'].apply(lambda x:x.find(\"Season\")>=0)]"
   ]
  },
  {
   "cell_type": "markdown",
   "id": "a444fb12-3fc8-4dc2-9af3-2ca3b9e35957",
   "metadata": {},
   "source": [
    "Ta cũng sẽ xóa chữ min và season(s) trên 2 cột ta mới tạo."
   ]
  },
  {
   "cell_type": "code",
   "execution_count": 21,
   "id": "48d922c7-39d0-4199-bd31-f51f81dc8f8f",
   "metadata": {},
   "outputs": [],
   "source": [
    "df_movies['min']=df_movies['min'].apply(lambda x:x[:-4] if pd.notnull(x) else np.nan)\n",
    "df_movies['season']=df_movies['season'].apply(lambda x:x.replace('Seasons','').replace('Season','') if pd.notnull(x) else np.nan)"
   ]
  },
  {
   "cell_type": "code",
   "execution_count": 22,
   "id": "d70962e2-606b-456f-bb0b-6a25b1c46dfb",
   "metadata": {},
   "outputs": [],
   "source": [
    "# Đổi kiểu dữ liệu thành số\n",
    "#Float vì không bị lỗi khi chuyển NaN\n",
    "df_movies['min']=df_movies['min'].astype('float') \n",
    "df_movies['season']=df_movies['season'].astype('float')"
   ]
  },
  {
   "cell_type": "markdown",
   "id": "4c024554-c896-45fd-bc62-16f8a89e39fd",
   "metadata": {},
   "source": [
    "## Xử lý listed_in"
   ]
  },
  {
   "cell_type": "markdown",
   "id": "af156941-6f3f-480c-b2e9-aeba18f8c580",
   "metadata": {},
   "source": [
    "Đầu tiên ta phải thông kê có tất cả bao nhiêu thể loại phim"
   ]
  },
  {
   "cell_type": "code",
   "execution_count": 23,
   "id": "6d7f16d5-97ee-439c-bdf4-356b14be5797",
   "metadata": {},
   "outputs": [
    {
     "data": {
      "text/plain": [
       "0    [International TV Shows, TV Dramas, TV Sci-Fi ...\n",
       "1                       [Dramas, International Movies]\n",
       "2                [Horror Movies, International Movies]\n",
       "3    [Action & Adventure, Independent Movies, Sci-F...\n",
       "4                                             [Dramas]\n",
       "Name: listed_in_array, dtype: object"
      ]
     },
     "execution_count": 23,
     "metadata": {},
     "output_type": "execute_result"
    }
   ],
   "source": [
    "# Chuyển listed_in thành mảng\n",
    "df_movies['listed_in_array']=df_movies['listed_in'].apply(lambda x:str(x).split(\", \"))\n",
    "df_movies['listed_in_array'].head()"
   ]
  },
  {
   "cell_type": "markdown",
   "id": "8319ab50-2697-4415-a75b-65c7b89064b5",
   "metadata": {},
   "source": [
    "Để kiểm tra các giá trị có thể có, ta cộng tất cả các mảng trên lại và lấy giá trị unique:"
   ]
  },
  {
   "cell_type": "code",
   "execution_count": 24,
   "id": "993c67bc-bde6-41be-a1a6-03282f890ac8",
   "metadata": {},
   "outputs": [
    {
     "data": {
      "text/plain": [
       "array(['Action & Adventure', 'Anime Features', 'Anime Series',\n",
       "       'British TV Shows', 'Children & Family Movies',\n",
       "       'Classic & Cult TV', 'Classic Movies', 'Comedies',\n",
       "       'Crime TV Shows', 'Cult Movies', 'Documentaries', 'Docuseries',\n",
       "       'Dramas', 'Faith & Spirituality', 'Horror Movies',\n",
       "       'Independent Movies', 'International Movies',\n",
       "       'International TV Shows', \"Kids' TV\", 'Korean TV Shows',\n",
       "       'LGBTQ Movies', 'Movies', 'Music & Musicals', 'Reality TV',\n",
       "       'Romantic Movies', 'Romantic TV Shows', 'Sci-Fi & Fantasy',\n",
       "       'Science & Nature TV', 'Spanish-Language TV Shows',\n",
       "       'Sports Movies', 'Stand-Up Comedy', 'Stand-Up Comedy & Talk Shows',\n",
       "       'TV Action & Adventure', 'TV Comedies', 'TV Dramas', 'TV Horror',\n",
       "       'TV Mysteries', 'TV Sci-Fi & Fantasy', 'TV Shows', 'TV Thrillers',\n",
       "       'Teen TV Shows', 'Thrillers'], dtype='<U28')"
      ]
     },
     "execution_count": 24,
     "metadata": {},
     "output_type": "execute_result"
    }
   ],
   "source": [
    "listed_unique=np.unique(df_movies['listed_in_array'].sum())\n",
    "listed_unique"
   ]
  },
  {
   "cell_type": "markdown",
   "id": "b019964e-a6f9-49e5-9329-714ab7deb74e",
   "metadata": {},
   "source": [
    "Có vẻ như nhiều thể loại phim chỉ khác nhau do có chữ TV phía trước: chẳng hạn như `Dramas` và `TV Dramas`. Ta đã có cột `type` cho biết loại phim rồi nên để thêm TV vào đây sẽ dư thừa. Chúng ta sẽ gộp các thể loại có chữ TV vào loại không có TV tương ứng (`TV Dramas` thành `Dramas`). Tuy nhiên trước khi làm điều này ta phải kiểm tra bảo đảm giả thiết chúng ta đưa ra là phù hợp. Cụ thể ta sẽ kiểm tra: \n",
    "* Có phải toàn bộ `TV Show` đều có chữ TV trong `list_in` không. Lưu ý là list_in chứa nhiều thể loại nên ta cần phải kiểm tra toàn bộ.\n",
    "\n",
    "Mục đích của việc làm trên có thể giúp ích cho hệ thống recommendation sau này. Khi một người coi thể loại Thrillers thì chúng ta có thể không cần quan tâm Thrillers đó là movie hay là TV show."
   ]
  },
  {
   "cell_type": "markdown",
   "id": "5b6e2982-426b-4e55-8ffa-ab3a9d4d7563",
   "metadata": {},
   "source": [
    "### Loại bỏ từ TV khỏi một số thể loại"
   ]
  },
  {
   "cell_type": "code",
   "execution_count": 25,
   "id": "7aa25549-311e-4e2c-91a4-d3e79051fa30",
   "metadata": {},
   "outputs": [
    {
     "name": "stdout",
     "output_type": "stream",
     "text": [
      "Có 2410 TV show.\n"
     ]
    }
   ],
   "source": [
    "TV_show_count=len(df_movies[df_movies['type']=='TV Show'])\n",
    "print(f'Có {TV_show_count} TV show.')"
   ]
  },
  {
   "cell_type": "code",
   "execution_count": 26,
   "id": "bcd60057-e02e-4bce-8c9c-c04fff915757",
   "metadata": {},
   "outputs": [],
   "source": [
    "#Ta tạo thêm m là lọc ra các dòng chỉ chứa TV show\n",
    "m=df_movies[df_movies['type']=='TV Show']"
   ]
  },
  {
   "cell_type": "code",
   "execution_count": 27,
   "id": "6b428f41-48df-4450-b57a-60b945bcacb5",
   "metadata": {},
   "outputs": [
    {
     "name": "stdout",
     "output_type": "stream",
     "text": [
      "Có tổng cộng 2319 dòng có chứa ít nhất 1 chữ TV trong listed_in\n"
     ]
    }
   ],
   "source": [
    "#Số lượng phim có thể loại chứa chữ TV trong toàn bộ bảng\n",
    "s1=sum(df_movies['listed_in_array'].apply(lambda l:any(x.find(\"TV\")>=0 for x in l)))\n",
    "print(f'Có tổng cộng {s1} dòng có chứa ít nhất 1 chữ TV trong listed_in')"
   ]
  },
  {
   "cell_type": "code",
   "execution_count": 28,
   "id": "29cf1ca6-e642-4cc0-8e3b-9aa736acd904",
   "metadata": {},
   "outputs": [
    {
     "name": "stdout",
     "output_type": "stream",
     "text": [
      "Trong số các TV show, có tổng cộng 2319 dòng có chứa ít nhất 1 chữ TV trong listed_in\n"
     ]
    }
   ],
   "source": [
    "#Số lượng phim có thể loại chứa chữ TV trong các TV Show\n",
    "s2=sum(m['listed_in_array'].apply(lambda l:any(x.find(\"TV\")>=0 for x in l)))\n",
    "print(f'Trong số các TV show, có tổng cộng {s2} dòng có chứa ít nhất 1 chữ TV trong listed_in')"
   ]
  },
  {
   "cell_type": "markdown",
   "id": "1d93e884-723b-4291-b108-3061c4b4f646",
   "metadata": {},
   "source": [
    "Ta tính 2 lần như trên để đảm bảo rằng không có phim nào (Không phải TV Show) mà có chứa chữ TV trong thể loại. Trong số 2410 TV show có 2319 show có thể loại chứa chữ TV trong đó. Như vậy ta có thể an toàn xóa đi các chữ TV trong `listed_in_array`. Sau khi xóa xong chung ta vẫn biết phim đó có phải là TV show hay không nhờ vào cột `type`.\n",
    "\n",
    "Tuy nhiên cần lưu ý một vài thể loại sẽ không có dạng không có chữ `TV` tương ứng. Ví dụ `Reality TV` sẽ không có thể loại `Reality` tương ứng.\n",
    "\n",
    "Ta sẽ tạo ra một dict có dạng sau:\n",
    "```\n",
    "{\n",
    "    'TV Dramas':'Dramas',\n",
    "    'TV Action & Adventure':'Action & Adventure',\n",
    "    ...\n",
    "}\n",
    "```"
   ]
  },
  {
   "cell_type": "code",
   "execution_count": 29,
   "id": "85ec19f5-9146-4715-b71d-24c593fb92ea",
   "metadata": {},
   "outputs": [
    {
     "data": {
      "text/plain": [
       "['Thrillers', 'Comedies', 'Sci-Fi & Fantasy', 'Action & Adventure', 'Dramas']"
      ]
     },
     "execution_count": 29,
     "metadata": {},
     "output_type": "execute_result"
    }
   ],
   "source": [
    "#Tạo ra array chứa thể loại có chữ TV\n",
    "TV_listed=[a for a in listed_unique if a.find(\"TV\")>=0]\n",
    "\n",
    "#Array chứa thể loại có chữ TV sau khi xóa TV\n",
    "TV_listed_remove=[a.replace(\"TV \",\"\").replace(\"TV\",\"\") for a in TV_listed]\n",
    "\n",
    "#Array chứa thể loại không có chữ TV\n",
    "TV_listed_noTV=[a for a in listed_unique if a.find(\"TV\")==-1]\n",
    "\n",
    "#Danh sách các từ có thể thay thế\n",
    "to_replace_list=list(set(TV_listed_remove).intersection(TV_listed_noTV))\n",
    "to_replace_list"
   ]
  },
  {
   "cell_type": "code",
   "execution_count": 30,
   "id": "615bd2d9-4175-4fab-b666-cea8cf09eead",
   "metadata": {},
   "outputs": [
    {
     "data": {
      "text/plain": [
       "[10, 11, 12, 15, 17]"
      ]
     },
     "execution_count": 30,
     "metadata": {},
     "output_type": "execute_result"
    }
   ],
   "source": [
    "#Các từ ở trên nằm tại các vị trí sau:\n",
    "id_to_replace=[item[0] for item in enumerate(TV_listed_remove) if item[1] in to_replace_list]\n",
    "id_to_replace"
   ]
  },
  {
   "cell_type": "code",
   "execution_count": 31,
   "id": "5b4cf411-04eb-49a5-a84a-0431d701f2e7",
   "metadata": {},
   "outputs": [
    {
     "data": {
      "text/plain": [
       "['TV Action & Adventure',\n",
       " 'TV Comedies',\n",
       " 'TV Dramas',\n",
       " 'TV Sci-Fi & Fantasy',\n",
       " 'TV Thrillers']"
      ]
     },
     "execution_count": 31,
     "metadata": {},
     "output_type": "execute_result"
    }
   ],
   "source": [
    "#Các từ cần thay thế\n",
    "to_replace=[TV_listed[i] for i in id_to_replace]\n",
    "to_replace"
   ]
  },
  {
   "cell_type": "code",
   "execution_count": 32,
   "id": "679539e7-bc61-473c-aa92-26a535ab462c",
   "metadata": {},
   "outputs": [
    {
     "data": {
      "text/plain": [
       "{'TV Action & Adventure': 'Action & Adventure',\n",
       " 'TV Comedies': 'Comedies',\n",
       " 'TV Dramas': 'Dramas',\n",
       " 'TV Sci-Fi & Fantasy': 'Sci-Fi & Fantasy',\n",
       " 'TV Thrillers': 'Thrillers'}"
      ]
     },
     "execution_count": 32,
     "metadata": {},
     "output_type": "execute_result"
    }
   ],
   "source": [
    "#Tạo dict map từ cần thay thế và từ thay thế\n",
    "replace_dict=dict((el,el.replace(\"TV \",\"\")) for el in to_replace)\n",
    "replace_dict"
   ]
  },
  {
   "cell_type": "code",
   "execution_count": 33,
   "id": "deb27f25-5050-43e1-bc2e-a2a3088525ea",
   "metadata": {},
   "outputs": [],
   "source": [
    "#Tiến hành thay thế\n",
    "df_movies['listed_in_array']=df_movies['listed_in_array'].apply(lambda x:[replace_dict.get(i,i) for i in x])"
   ]
  },
  {
   "cell_type": "code",
   "execution_count": 34,
   "id": "6af3acd9-1a50-420b-9e11-b710d4517f2a",
   "metadata": {},
   "outputs": [
    {
     "data": {
      "text/plain": [
       "array(['Action & Adventure', 'Anime Features', 'Anime Series',\n",
       "       'British TV Shows', 'Children & Family Movies',\n",
       "       'Classic & Cult TV', 'Classic Movies', 'Comedies',\n",
       "       'Crime TV Shows', 'Cult Movies', 'Documentaries', 'Docuseries',\n",
       "       'Dramas', 'Faith & Spirituality', 'Horror Movies',\n",
       "       'Independent Movies', 'International Movies',\n",
       "       'International TV Shows', \"Kids' TV\", 'Korean TV Shows',\n",
       "       'LGBTQ Movies', 'Movies', 'Music & Musicals', 'Reality TV',\n",
       "       'Romantic Movies', 'Romantic TV Shows', 'Sci-Fi & Fantasy',\n",
       "       'Science & Nature TV', 'Spanish-Language TV Shows',\n",
       "       'Sports Movies', 'Stand-Up Comedy', 'Stand-Up Comedy & Talk Shows',\n",
       "       'TV Horror', 'TV Mysteries', 'TV Shows', 'Teen TV Shows',\n",
       "       'Thrillers'], dtype='<U28')"
      ]
     },
     "execution_count": 34,
     "metadata": {},
     "output_type": "execute_result"
    }
   ],
   "source": [
    "#Kiểm tra lại kết quả\n",
    "listed_unique=np.unique(df_movies['listed_in_array'].sum())\n",
    "listed_unique"
   ]
  },
  {
   "cell_type": "markdown",
   "id": "c881f6f8-b202-460a-9c16-cb66611decb5",
   "metadata": {},
   "source": [
    "## Xử lý Country\n",
    "Cột country cũng cần xử lý đưa về mảng."
   ]
  },
  {
   "cell_type": "code",
   "execution_count": 35,
   "id": "9c501b4e-9a5d-40dd-9f38-796b88eb4779",
   "metadata": {},
   "outputs": [
    {
     "data": {
      "text/plain": [
       "United States                                     2555\n",
       "India                                              923\n",
       "United Kingdom                                     397\n",
       "Japan                                              226\n",
       "South Korea                                        183\n",
       "                                                  ... \n",
       "United Kingdom, Germany, Canada, United States       1\n",
       "Turkey, South Korea                                  1\n",
       "France, Germany, Czech Republic, Belgium             1\n",
       "Canada, Hungary, United States                       1\n",
       "Ireland, Luxembourg, Belgium                         1\n",
       "Name: country, Length: 681, dtype: int64"
      ]
     },
     "execution_count": 35,
     "metadata": {},
     "output_type": "execute_result"
    }
   ],
   "source": [
    "df_movies['country'].value_counts()"
   ]
  },
  {
   "cell_type": "code",
   "execution_count": 36,
   "id": "8f848f7c-95d0-4ae9-9f26-dbf0ccc7c829",
   "metadata": {},
   "outputs": [
    {
     "data": {
      "text/plain": [
       "0           [Brazil]\n",
       "1           [Mexico]\n",
       "2        [Singapore]\n",
       "3    [United States]\n",
       "4    [United States]\n",
       "Name: country, dtype: object"
      ]
     },
     "execution_count": 36,
     "metadata": {},
     "output_type": "execute_result"
    }
   ],
   "source": [
    "df_movies['country']=df_movies['country'].apply(lambda x:re.split(', |,',str(x)))\n",
    "#Fix nan thành mảng rỗng\n",
    "df_movies['country']=df_movies['country'].apply(lambda x:[] if str(x)==\"['nan']\" else x)\n",
    "df_movies['country'].head()"
   ]
  },
  {
   "cell_type": "markdown",
   "id": "c200b413-fb3e-434f-93c2-3203e79b7cf0",
   "metadata": {},
   "source": [
    "## Chuyển `data_added` thành Datetime"
   ]
  },
  {
   "cell_type": "code",
   "execution_count": 37,
   "id": "5e1963a5-3bdf-419f-99e2-2019a8160848",
   "metadata": {},
   "outputs": [
    {
     "data": {
      "text/plain": [
       "0      2020-08-14\n",
       "1      2016-12-23\n",
       "2      2018-12-20\n",
       "3      2017-11-16\n",
       "4      2020-01-01\n",
       "          ...    \n",
       "7782   2020-10-19\n",
       "7783   2019-03-02\n",
       "7784   2020-09-25\n",
       "7785   2020-10-31\n",
       "7786   2020-03-01\n",
       "Name: date_added, Length: 7787, dtype: datetime64[ns]"
      ]
     },
     "execution_count": 37,
     "metadata": {},
     "output_type": "execute_result"
    }
   ],
   "source": [
    "df_movies['date_added']=pd.to_datetime(df_movies['date_added'])\n",
    "df_movies['date_added']"
   ]
  },
  {
   "cell_type": "markdown",
   "id": "b3afc27c-67ed-4274-be4a-2aeed701b0c0",
   "metadata": {},
   "source": [
    "## Xử lý giá trị thiếu"
   ]
  },
  {
   "cell_type": "markdown",
   "id": "660a2de5-a976-4765-b294-b1c781ba3716",
   "metadata": {},
   "source": [
    "Ta sẽ duyệt qua từng cột có giá trị thiếu và xem xét chúng ta có thể fill dữ liệu thiếu không. Sau khi xem xét thì thấy rằng các cột `director`,`cast`,`country` sẽ không thể fill được vì sẽ gây ra sai lệch lớn về mặt ý nghĩa trong dữ liệu. Ta chỉ có thể fill cho hai cột có dữ liệu thiếu là `date_added` và `rating`."
   ]
  },
  {
   "cell_type": "code",
   "execution_count": 38,
   "id": "3a517bf9-d7f0-4cae-8f4c-15aee4daa58e",
   "metadata": {},
   "outputs": [],
   "source": [
    "#Fill rating bằng mode.\n",
    "df_movies['rating']=df_movies['rating'].fillna(df_movies['rating'].mode()[0])"
   ]
  },
  {
   "cell_type": "markdown",
   "id": "e48da32d-3c49-42da-a266-d43edc00e7fe",
   "metadata": {},
   "source": [
    "Tìm khoảng cách trung bình giữa date_added và realease_year"
   ]
  },
  {
   "cell_type": "code",
   "execution_count": 39,
   "id": "4271ae38-b525-4c9b-b714-e1a09d7f056a",
   "metadata": {},
   "outputs": [
    {
     "data": {
      "text/plain": [
       "1.0"
      ]
     },
     "execution_count": 39,
     "metadata": {},
     "output_type": "execute_result"
    }
   ],
   "source": [
    "added_release_gap=(df_movies['date_added'].dt.year-df_movies['release_year']).median()\n",
    "added_release_gap"
   ]
  },
  {
   "cell_type": "markdown",
   "id": "282c1139",
   "metadata": {},
   "source": [
    "Khoảng cách trung bình giữa `date_added` và `realease_year` là 1. Nghĩa là trung bình phim được thêm vào Netflix 1 năm sau khi nó phát hành. Như vậy ta sẽ fill cho các giá trị `date_added` bị thiếu là ngày 1/1 một năm sau ngày phát hành."
   ]
  },
  {
   "cell_type": "code",
   "execution_count": 40,
   "id": "3829ee8a",
   "metadata": {},
   "outputs": [],
   "source": [
    "df_movies.loc[df_movies['date_added'].isnull(),'date_added']=\\\n",
    "df_movies.loc[df_movies['date_added'].isnull(),'release_year'].apply(lambda x:datetime.datetime(x+1,1,1))"
   ]
  },
  {
   "cell_type": "markdown",
   "id": "10c8af4a-e7bb-4c0c-aec6-c223c61f5271",
   "metadata": {},
   "source": [
    "# Phân bố các giá trị và kiểm tra bất thường"
   ]
  },
  {
   "cell_type": "markdown",
   "id": "a11f24b0-f0af-4bc5-b283-2716b69ed4e6",
   "metadata": {},
   "source": [
    "### Kiểm tra ngày sản xuất và thêm vào"
   ]
  },
  {
   "cell_type": "markdown",
   "id": "42148efa-511e-4f3b-a4c3-3ee2892510fa",
   "metadata": {},
   "source": [
    "Ta sẽ xếp các cột `date_added` vào nhóm numeric, do đó hiện có 2 cột thuộc nhóm numeric: \"release_year\", \"date_added\".\n",
    "\n",
    "Với mỗi cột numeric ta sẽ xem những thông tin mô tả dữ liệu.   "
   ]
  },
  {
   "cell_type": "code",
   "execution_count": 41,
   "id": "b46035d1-fcce-4b33-a2e9-09fdfdad5e47",
   "metadata": {
    "nbgrader": {
     "cell_type": "code",
     "checksum": "95f164d4ff7a5ee9869dbcc8e0c31d32",
     "grade": false,
     "grade_id": "cell-4c64c2ce1eea9f1d",
     "locked": false,
     "schema_version": 3,
     "solution": true,
     "task": false
    }
   },
   "outputs": [
    {
     "data": {
      "text/html": [
       "<div>\n",
       "<style scoped>\n",
       "    .dataframe tbody tr th:only-of-type {\n",
       "        vertical-align: middle;\n",
       "    }\n",
       "\n",
       "    .dataframe tbody tr th {\n",
       "        vertical-align: top;\n",
       "    }\n",
       "\n",
       "    .dataframe thead th {\n",
       "        text-align: right;\n",
       "    }\n",
       "</style>\n",
       "<table border=\"1\" class=\"dataframe\">\n",
       "  <thead>\n",
       "    <tr style=\"text-align: right;\">\n",
       "      <th></th>\n",
       "      <th>release_year</th>\n",
       "      <th>date_added</th>\n",
       "    </tr>\n",
       "  </thead>\n",
       "  <tbody>\n",
       "    <tr>\n",
       "      <th>count</th>\n",
       "      <td>7787.000000</td>\n",
       "      <td>7787</td>\n",
       "    </tr>\n",
       "    <tr>\n",
       "      <th>mean</th>\n",
       "      <td>2013.932580</td>\n",
       "      <td>2018-12-30 15:52:21.389495296</td>\n",
       "    </tr>\n",
       "    <tr>\n",
       "      <th>std</th>\n",
       "      <td>8.757395</td>\n",
       "      <td>NaN</td>\n",
       "    </tr>\n",
       "    <tr>\n",
       "      <th>min</th>\n",
       "      <td>1925.000000</td>\n",
       "      <td>2004-01-01 00:00:00</td>\n",
       "    </tr>\n",
       "    <tr>\n",
       "      <th>25%</th>\n",
       "      <td>2013.000000</td>\n",
       "      <td>2018-01-29 12:00:00</td>\n",
       "    </tr>\n",
       "    <tr>\n",
       "      <th>50%</th>\n",
       "      <td>2017.000000</td>\n",
       "      <td>2019-03-07 00:00:00</td>\n",
       "    </tr>\n",
       "    <tr>\n",
       "      <th>75%</th>\n",
       "      <td>2018.000000</td>\n",
       "      <td>2020-01-17 12:00:00</td>\n",
       "    </tr>\n",
       "    <tr>\n",
       "      <th>max</th>\n",
       "      <td>2021.000000</td>\n",
       "      <td>2021-01-16 00:00:00</td>\n",
       "    </tr>\n",
       "  </tbody>\n",
       "</table>\n",
       "</div>"
      ],
      "text/plain": [
       "       release_year                     date_added\n",
       "count   7787.000000                           7787\n",
       "mean    2013.932580  2018-12-30 15:52:21.389495296\n",
       "std        8.757395                            NaN\n",
       "min     1925.000000            2004-01-01 00:00:00\n",
       "25%     2013.000000            2018-01-29 12:00:00\n",
       "50%     2017.000000            2019-03-07 00:00:00\n",
       "75%     2018.000000            2020-01-17 12:00:00\n",
       "max     2021.000000            2021-01-16 00:00:00"
      ]
     },
     "execution_count": 41,
     "metadata": {},
     "output_type": "execute_result"
    }
   ],
   "source": [
    "nume_col_profiles_df = df_movies.loc[:,['release_year', 'date_added']] \\\n",
    "                                 .agg([lambda x: pd.Series.describe(x, datetime_is_numeric=True)])\n",
    "\n",
    "nume_col_profiles_df.columns = ['release_year', 'date_added']\n",
    "\n",
    "nume_col_profiles_df"
   ]
  },
  {
   "cell_type": "markdown",
   "id": "10abb47c-712d-4b1b-bdc0-b72510417680",
   "metadata": {},
   "source": [
    "Dựa vào bảng giá trị, ta có những nhận xét sơ như sau:\n",
    "- Nextflix đã thêm những chương trình được sản xuất vào năm 1925 dù bộ phim đầu tiên năm 1895 và Netflix được ra đời năm 1997, vậy thì tại sao Netflix lại chọn bộ phim cũ như vậy?  \n",
    "- Dữ liệu cuối cùng là năm 2021, có thể người thu thập chỉ cập nhật chọn thời điểm 2008 - 2021 nên dữ liệu có vẻ không đầy đủ. \n",
    "- Mức 25% là năm 2013, trong khi 0% là 1925, vậy những bộ phim hay chương trình vào thời điểm trước 2013 khá hạn chế, có thể sau năm 2013 thì ngành điện ảnh phát triển hơn."
   ]
  },
  {
   "cell_type": "markdown",
   "id": "d7741f4b-803b-47c6-b305-a3972ff8d724",
   "metadata": {},
   "source": [
    "**Kiểm tra bất thường:**\n",
    "- Trên là 2 cột numeric nhưng chúng là có liên hệ với nhau, thông thường cột `release_year` sẽ phải có giá trị nhỏ hơn `date_added` theo như ta phỏng đoán, Netflix chờ phim sản xuất xong thì mới thêm vào kho dữ liệu, điều này có đúng không?"
   ]
  },
  {
   "cell_type": "code",
   "execution_count": 42,
   "id": "5a68450a-cc58-42c3-a501-50dd78dd4d8e",
   "metadata": {},
   "outputs": [
    {
     "data": {
      "text/html": [
       "<div>\n",
       "<style scoped>\n",
       "    .dataframe tbody tr th:only-of-type {\n",
       "        vertical-align: middle;\n",
       "    }\n",
       "\n",
       "    .dataframe tbody tr th {\n",
       "        vertical-align: top;\n",
       "    }\n",
       "\n",
       "    .dataframe thead th {\n",
       "        text-align: right;\n",
       "    }\n",
       "</style>\n",
       "<table border=\"1\" class=\"dataframe\">\n",
       "  <thead>\n",
       "    <tr style=\"text-align: right;\">\n",
       "      <th></th>\n",
       "      <th>type</th>\n",
       "      <th>title</th>\n",
       "      <th>date_added</th>\n",
       "      <th>release_year</th>\n",
       "    </tr>\n",
       "  </thead>\n",
       "  <tbody>\n",
       "    <tr>\n",
       "      <th>583</th>\n",
       "      <td>TV Show</td>\n",
       "      <td>Arrested Development</td>\n",
       "      <td>2018-05-29</td>\n",
       "      <td>2019</td>\n",
       "    </tr>\n",
       "    <tr>\n",
       "      <th>1025</th>\n",
       "      <td>TV Show</td>\n",
       "      <td>BoJack Horseman</td>\n",
       "      <td>2019-10-25</td>\n",
       "      <td>2020</td>\n",
       "    </tr>\n",
       "    <tr>\n",
       "      <th>2311</th>\n",
       "      <td>TV Show</td>\n",
       "      <td>Fuller House</td>\n",
       "      <td>2019-12-06</td>\n",
       "      <td>2020</td>\n",
       "    </tr>\n",
       "    <tr>\n",
       "      <th>2602</th>\n",
       "      <td>Movie</td>\n",
       "      <td>Hans Teeuwen: Real Rancour</td>\n",
       "      <td>2017-07-01</td>\n",
       "      <td>2018</td>\n",
       "    </tr>\n",
       "    <tr>\n",
       "      <th>2741</th>\n",
       "      <td>TV Show</td>\n",
       "      <td>Hilda</td>\n",
       "      <td>2020-12-14</td>\n",
       "      <td>2021</td>\n",
       "    </tr>\n",
       "    <tr>\n",
       "      <th>2981</th>\n",
       "      <td>Movie</td>\n",
       "      <td>Incoming</td>\n",
       "      <td>2018-10-26</td>\n",
       "      <td>2019</td>\n",
       "    </tr>\n",
       "    <tr>\n",
       "      <th>3098</th>\n",
       "      <td>TV Show</td>\n",
       "      <td>Jack Taylor</td>\n",
       "      <td>2013-03-31</td>\n",
       "      <td>2016</td>\n",
       "    </tr>\n",
       "    <tr>\n",
       "      <th>3926</th>\n",
       "      <td>TV Show</td>\n",
       "      <td>Maradona in Mexico</td>\n",
       "      <td>2019-11-13</td>\n",
       "      <td>2020</td>\n",
       "    </tr>\n",
       "    <tr>\n",
       "      <th>5493</th>\n",
       "      <td>TV Show</td>\n",
       "      <td>Sense8</td>\n",
       "      <td>2016-12-23</td>\n",
       "      <td>2018</td>\n",
       "    </tr>\n",
       "    <tr>\n",
       "      <th>6462</th>\n",
       "      <td>TV Show</td>\n",
       "      <td>The Hook Up Plan</td>\n",
       "      <td>2019-10-11</td>\n",
       "      <td>2020</td>\n",
       "    </tr>\n",
       "    <tr>\n",
       "      <th>7132</th>\n",
       "      <td>TV Show</td>\n",
       "      <td>Tokyo Trial</td>\n",
       "      <td>2016-12-13</td>\n",
       "      <td>2017</td>\n",
       "    </tr>\n",
       "    <tr>\n",
       "      <th>7318</th>\n",
       "      <td>TV Show</td>\n",
       "      <td>Unbreakable Kimmy Schmidt</td>\n",
       "      <td>2018-05-30</td>\n",
       "      <td>2019</td>\n",
       "    </tr>\n",
       "  </tbody>\n",
       "</table>\n",
       "</div>"
      ],
      "text/plain": [
       "         type                       title date_added  release_year\n",
       "583   TV Show        Arrested Development 2018-05-29          2019\n",
       "1025  TV Show             BoJack Horseman 2019-10-25          2020\n",
       "2311  TV Show                Fuller House 2019-12-06          2020\n",
       "2602    Movie  Hans Teeuwen: Real Rancour 2017-07-01          2018\n",
       "2741  TV Show                       Hilda 2020-12-14          2021\n",
       "2981    Movie                    Incoming 2018-10-26          2019\n",
       "3098  TV Show                 Jack Taylor 2013-03-31          2016\n",
       "3926  TV Show          Maradona in Mexico 2019-11-13          2020\n",
       "5493  TV Show                      Sense8 2016-12-23          2018\n",
       "6462  TV Show            The Hook Up Plan 2019-10-11          2020\n",
       "7132  TV Show                 Tokyo Trial 2016-12-13          2017\n",
       "7318  TV Show   Unbreakable Kimmy Schmidt 2018-05-30          2019"
      ]
     },
     "execution_count": 42,
     "metadata": {},
     "output_type": "execute_result"
    }
   ],
   "source": [
    "df_movies.loc[df_movies['date_added'].dt.year < df_movies['release_year'],['type','title','date_added','release_year']]"
   ]
  },
  {
   "cell_type": "markdown",
   "id": "12267340-834d-4494-a6a9-946aab07d9f6",
   "metadata": {},
   "source": [
    "**Nhận xét:**\n",
    "- Đối với những dữ liệu TV Show, sau khi kiểm tra, có thể Netflix chọn thời điểm ra mắt là tập cuối của phim, do đó, ngày phát hành sẽ là ngày sau khi thêm vào Netflix.\n",
    "- Hiện tại đây là một bất thường phát hiện được và chưa có lời giải thích tốt. Chúng ta thấy khoảng cách giữa 2 năm trong trường hợp này thường chỉ khoảng 1 năm."
   ]
  },
  {
   "cell_type": "markdown",
   "id": "a3aa76f3-b5f8-4dd1-8549-fedd7bb85e24",
   "metadata": {},
   "source": [
    "### Kiểm tra Director"
   ]
  },
  {
   "cell_type": "code",
   "execution_count": 43,
   "id": "135b8c97-2673-4576-a6ce-00791b5780d1",
   "metadata": {},
   "outputs": [
    {
     "data": {
      "image/png": "[encoded data removed]",
      "text/plain": [
       "<Figure size 432x288 with 1 Axes>"
      ]
     },
     "metadata": {},
     "output_type": "display_data"
    }
   ],
   "source": [
    "sns.set_theme()\n",
    "\n",
    "ax = df_movies['director'].apply(lambda x:len(x)).value_counts().plot.bar()\n",
    "ax.set(ylabel='Số lượng phim', xlabel='Số lượng đạo diễn mỗi phim')\n",
    "\n",
    "plt.show()"
   ]
  },
  {
   "cell_type": "markdown",
   "id": "81ba5a1a-f257-452b-ae39-015d5beb1f3e",
   "metadata": {},
   "source": [
    "Đa số phim có 1 đạo diễn. Có khá nhiều phim 0 đạo diễn, cũng là giá trị thiếu của cột."
   ]
  },
  {
   "cell_type": "code",
   "execution_count": 44,
   "id": "219c837e-8a91-4786-9377-66fe4f70e8db",
   "metadata": {},
   "outputs": [
    {
     "name": "stdout",
     "output_type": "stream",
     "text": [
      "Jan Suter              21\n",
      "Raúl Campos            19\n",
      "Marcus Raboy           16\n",
      "Jay Karas              15\n",
      "Cathy Garcia-Molina    13\n",
      "Youssef Chahine        12\n",
      "Martin Scorsese        12\n",
      "Jay Chapman            12\n",
      "Steven Spielberg       10\n",
      "Shannon Hartman         9\n",
      "Anurag Kashyap          9\n",
      "David Dhawan            9\n",
      "Kunle Afolayan          8\n",
      "Justin G. Dyck          8\n",
      "Umesh Mehra             8\n"
     ]
    }
   ],
   "source": [
    "# Đạo diễn tham gia nhiều phim nhất\n",
    "z=df_movies['director'].sum()\n",
    "#Lấy top 15\n",
    "for country,times in Counter(z).most_common(15):\n",
    "    print(\"%-20s %4.1d\" % (country, times))"
   ]
  },
  {
   "cell_type": "code",
   "execution_count": 45,
   "id": "1a51ea18-e474-442e-84e6-95dd62a9b2fd",
   "metadata": {},
   "outputs": [
    {
     "data": {
      "text/plain": [
       "[]                                      2389\n",
       "['Raúl Campos', 'Jan Suter']              18\n",
       "['Marcus Raboy']                          16\n",
       "['Jay Karas']                             14\n",
       "['Cathy Garcia-Molina']                   13\n",
       "                                        ... \n",
       "['Alice Wu']                               1\n",
       "['Claude Barras']                          1\n",
       "['Prime Cruz']                             1\n",
       "['Rob Silvestri']                          1\n",
       "['Bobby Farrelly', 'Peter Farrelly']       1\n",
       "Name: director, Length: 4050, dtype: int64"
      ]
     },
     "execution_count": 45,
     "metadata": {},
     "output_type": "execute_result"
    }
   ],
   "source": [
    "# Tập hợp các đạo diễn tham gia nhiều phim nhất\n",
    "df_movies['director'].apply(lambda x:str(x)).value_counts()"
   ]
  },
  {
   "cell_type": "markdown",
   "id": "3703ed78-d4e0-4c1e-a632-fb7ed810f96b",
   "metadata": {},
   "source": [
    "Ta thấy Jan Suter và Raúl Campos cùng làm 18 phim. Tuy nhiên tổng thể thì Raúl Campos làm tổng cộng 19 phim còn Jan Suter làm 21 phim. Có thể thấy 2 đạo diễn này đa số là làm chung phim.\n",
    "\n",
    "Hiện tại không có gì bất thường tại cột đạo diễn ngoài việc dữ liệu thiếu"
   ]
  },
  {
   "cell_type": "markdown",
   "id": "e323e1a2-6ed0-4443-89a6-e87e50f184c8",
   "metadata": {},
   "source": [
    "### Kiểm tra Cast"
   ]
  },
  {
   "cell_type": "code",
   "execution_count": 46,
   "id": "98023dbc-8e1d-4b76-9e65-c26b7cfc0a39",
   "metadata": {},
   "outputs": [
    {
     "data": {
      "image/png": "[encoded data removed]",
      "text/plain": [
       "<Figure size 864x288 with 1 Axes>"
      ]
     },
     "metadata": {},
     "output_type": "display_data"
    }
   ],
   "source": [
    "#Đếm số lượng diễn viên\n",
    "z=df_movies['cast_array'].apply(lambda x:len(x)).value_counts()\n",
    "\n",
    "ax = z.sort_index().plot.bar(figsize=(12,4),color='orange')\n",
    "\n",
    "ax.set(ylabel='Số lượng phim', xlabel='Số lượng diễn viên mỗi phim')\n",
    "\n",
    "plt.show()"
   ]
  },
  {
   "cell_type": "markdown",
   "id": "7c26de4a-8a3f-4819-b327-9e742fcc847c",
   "metadata": {},
   "source": [
    "### Kiểm tra Country\n",
    "Xem phân bố dữ liệu theo số nước"
   ]
  },
  {
   "cell_type": "code",
   "execution_count": 47,
   "id": "945b03f2-f471-4d79-83d2-c9e321311150",
   "metadata": {},
   "outputs": [
    {
     "data": {
      "image/png": "[encoded data removed]",
      "text/plain": [
       "<Figure size 432x288 with 1 Axes>"
      ]
     },
     "metadata": {},
     "output_type": "display_data"
    }
   ],
   "source": [
    "ax = df_movies['country'].apply(lambda x:len(x)).value_counts().plot.bar()\n",
    "\n",
    "ax.set(ylabel='Số lượng phim', xlabel='Số lượng nước phát hành phim')\n",
    "\n",
    "plt.show()"
   ]
  },
  {
   "cell_type": "markdown",
   "id": "0209b93a-9380-4dca-9658-381896c36e68",
   "metadata": {},
   "source": [
    "Đa số phim được làm bởi 1 nước. Có phim được làm bởi tận 12 nước. Chúng ta xem nước nào làm nhiều phim nhất."
   ]
  },
  {
   "cell_type": "code",
   "execution_count": 48,
   "id": "d350b3f5-1498-483a-9916-7dec56d6c02a",
   "metadata": {},
   "outputs": [
    {
     "name": "stdout",
     "output_type": "stream",
     "text": [
      "United States        3297\n",
      "India                 990\n",
      "United Kingdom        723\n",
      "Canada                412\n",
      "France                349\n",
      "Japan                 287\n",
      "Spain                 215\n",
      "South Korea           212\n",
      "Germany               199\n",
      "Mexico                154\n",
      "China                 147\n",
      "Australia             144\n",
      "Egypt                 110\n",
      "Turkey                108\n",
      "Hong Kong             102\n"
     ]
    }
   ],
   "source": [
    "z=df_movies['country'].sum()\n",
    "\n",
    "#Lấy top 15\n",
    "for country,times in Counter(z).most_common(15):\n",
    "    print(\"%-20s %4.1d\" % (country, times))"
   ]
  },
  {
   "cell_type": "markdown",
   "id": "4ec5c56b-eb98-44a5-9488-ba14194f7025",
   "metadata": {},
   "source": [
    "Mỹ làm nhiều phim nhất sau đó đến Ấn độ,..."
   ]
  },
  {
   "cell_type": "markdown",
   "id": "1cf77be4-03d5-482c-8382-6e251055e181",
   "metadata": {},
   "source": [
    "### Kiểm tra Season và Min"
   ]
  },
  {
   "cell_type": "markdown",
   "id": "eb507666-1f06-408c-bf21-a8008fd9cae3",
   "metadata": {},
   "source": [
    "Phân bố số phút của phim"
   ]
  },
  {
   "cell_type": "code",
   "execution_count": 49,
   "id": "1ac8b954-b131-4dea-aa34-e2b37f71b58c",
   "metadata": {},
   "outputs": [
    {
     "data": {
      "image/png": "[encoded data removed]",
      "text/plain": [
       "<Figure size 1440x360 with 1 Axes>"
      ]
     },
     "metadata": {},
     "output_type": "display_data"
    }
   ],
   "source": [
    "fig, ax = plt.subplots()\n",
    "fig.set_size_inches(20,5)\n",
    "sns.histplot(x='min',data=df_movies)\n",
    "plt.xlabel(\"Phút\")\n",
    "plt.ylabel(\"Số lượng\")\n",
    "plt.show()"
   ]
  },
  {
   "cell_type": "code",
   "execution_count": 50,
   "id": "1bc4bf81-51ef-445f-b024-3ac6543b1f07",
   "metadata": {},
   "outputs": [
    {
     "data": {
      "image/png": "[encoded data removed]",
      "text/plain": [
       "<Figure size 720x360 with 1 Axes>"
      ]
     },
     "metadata": {},
     "output_type": "display_data"
    }
   ],
   "source": [
    "fig, ax = plt.subplots()\n",
    "fig.set_size_inches(10,5)\n",
    "sns.countplot(x='season',data=df_movies)\n",
    "plt.xlabel(\"Mùa\")\n",
    "plt.ylabel(\"Số lượng\")\n",
    "plt.show()"
   ]
  },
  {
   "cell_type": "markdown",
   "id": "c54f2b63-2f68-48a4-9531-44486497cf52",
   "metadata": {},
   "source": [
    "**Nhận xét**\n",
    "- Hầu hết các phim lẻ đều chọn khoảng thời gian 90 phút.\n",
    "- Phim ngắn nhất là 3 phút và dài nhất là 312 phút, khá thú vị, ta sẽ xem xem là phim gì.\n"
   ]
  },
  {
   "cell_type": "code",
   "execution_count": 51,
   "id": "b238cbec-8c23-4a0f-92fa-bb6e29369fe6",
   "metadata": {},
   "outputs": [
    {
     "data": {
      "text/plain": [
       "count    5377.000000\n",
       "mean       99.307978\n",
       "std        28.530881\n",
       "min         3.000000\n",
       "25%        86.000000\n",
       "50%        98.000000\n",
       "75%       114.000000\n",
       "max       312.000000\n",
       "Name: min, dtype: float64"
      ]
     },
     "execution_count": 51,
     "metadata": {},
     "output_type": "execute_result"
    }
   ],
   "source": [
    "df_movies['min'].describe()"
   ]
  },
  {
   "cell_type": "code",
   "execution_count": 52,
   "id": "155a9c96-25bf-4ce5-918e-4527758745c0",
   "metadata": {},
   "outputs": [
    {
     "data": {
      "text/plain": [
       "count    2410.000000\n",
       "mean        1.775934\n",
       "std         1.596359\n",
       "min         1.000000\n",
       "25%         1.000000\n",
       "50%         1.000000\n",
       "75%         2.000000\n",
       "max        16.000000\n",
       "Name: season, dtype: float64"
      ]
     },
     "execution_count": 52,
     "metadata": {},
     "output_type": "execute_result"
    }
   ],
   "source": [
    "df_movies['season'].describe()"
   ]
  },
  {
   "cell_type": "code",
   "execution_count": 53,
   "id": "ae723ce0-1b15-4894-9d71-868b0e3d80b2",
   "metadata": {},
   "outputs": [
    {
     "data": {
      "text/html": [
       "<div>\n",
       "<style scoped>\n",
       "    .dataframe tbody tr th:only-of-type {\n",
       "        vertical-align: middle;\n",
       "    }\n",
       "\n",
       "    .dataframe tbody tr th {\n",
       "        vertical-align: top;\n",
       "    }\n",
       "\n",
       "    .dataframe thead th {\n",
       "        text-align: right;\n",
       "    }\n",
       "</style>\n",
       "<table border=\"1\" class=\"dataframe\">\n",
       "  <thead>\n",
       "    <tr style=\"text-align: right;\">\n",
       "      <th></th>\n",
       "      <th>title</th>\n",
       "      <th>duration</th>\n",
       "      <th>listed_in</th>\n",
       "      <th>country</th>\n",
       "    </tr>\n",
       "  </thead>\n",
       "  <tbody>\n",
       "    <tr>\n",
       "      <th>957</th>\n",
       "      <td>Black Mirror: Bandersnatch</td>\n",
       "      <td>312 min</td>\n",
       "      <td>Dramas, International Movies, Sci-Fi &amp; Fantasy</td>\n",
       "      <td>[United States]</td>\n",
       "    </tr>\n",
       "    <tr>\n",
       "      <th>5605</th>\n",
       "      <td>Silent</td>\n",
       "      <td>3 min</td>\n",
       "      <td>Children &amp; Family Movies, Sci-Fi &amp; Fantasy</td>\n",
       "      <td>[United States]</td>\n",
       "    </tr>\n",
       "  </tbody>\n",
       "</table>\n",
       "</div>"
      ],
      "text/plain": [
       "                           title duration  \\\n",
       "957   Black Mirror: Bandersnatch  312 min   \n",
       "5605                      Silent    3 min   \n",
       "\n",
       "                                           listed_in          country  \n",
       "957   Dramas, International Movies, Sci-Fi & Fantasy  [United States]  \n",
       "5605      Children & Family Movies, Sci-Fi & Fantasy  [United States]  "
      ]
     },
     "execution_count": 53,
     "metadata": {},
     "output_type": "execute_result"
    }
   ],
   "source": [
    "df_movies[(df_movies['min']==3)|(df_movies['min']==312)][['title','duration','listed_in','country']]"
   ]
  },
  {
   "cell_type": "markdown",
   "id": "b265d9c4-a546-482f-aba3-c030a89c080a",
   "metadata": {},
   "source": [
    "**Nhận xét**\n",
    "* Phim có thời lượng ngắn nhất là 3 phút với 1 phim. Sau khi tìm hiểu thì đây là một bộ phim ngắn.\n",
    "* Phim có thời lượng dài nhất là 312 phút với 1 phim. Đây là một phim interactive, trong đó người xem có thể tương tác với phim. Thời lượng 312 phút có thể là toàn bộ cảnh phim có thể xảy ra.\n",
    "* Thời lượng phim trung bình khoảng 100 phút.\n",
    "* Đối với `TV Show`, số lượng các chương trình có 1 mùa nhiều gấp đôi các mùa khác cộng lại. Để có thể duy trì nhiều mùa có vẻ khó, ta sẽ tìm hiểu `TV show` nào nhiều mùa nhất."
   ]
  },
  {
   "cell_type": "markdown",
   "id": "441269dc-33ae-4c49-94bd-3fe33993f1f9",
   "metadata": {},
   "source": [
    "### Kiểm tra Description"
   ]
  },
  {
   "cell_type": "code",
   "execution_count": 54,
   "id": "92f5da00-59d8-4441-84dd-15a645fc3cd7",
   "metadata": {},
   "outputs": [
    {
     "data": {
      "text/plain": [
       "count                                                  7787\n",
       "unique                                                 7769\n",
       "top       A surly septuagenarian gets another chance at ...\n",
       "freq                                                      3\n",
       "Name: description, dtype: object"
      ]
     },
     "execution_count": 54,
     "metadata": {},
     "output_type": "execute_result"
    }
   ],
   "source": [
    "## Kiểm tra description\n",
    "df_movies['description'].describe()"
   ]
  },
  {
   "cell_type": "markdown",
   "id": "8843c1fa-4ce6-4d7c-9cbd-9f0d75fc9758",
   "metadata": {},
   "source": [
    "Có 7787 description nhưng chỉ có 7769 giá trị khác nhau. Có một nội dung xuất hiện 3 lần. Ta kiểm tra rằng có phải trùng description là trùng tên phim hay không"
   ]
  },
  {
   "cell_type": "code",
   "execution_count": 55,
   "id": "c456375e-3c45-4789-9cc8-8213f23ab838",
   "metadata": {},
   "outputs": [],
   "source": [
    "des_c=df_movies['description'].value_counts()\n",
    "\n",
    "#desc_list danh sách các description xuất hiện nhiều hơn 1 lần\n",
    "desc_list=des_c[des_c>1].index.to_list()"
   ]
  },
  {
   "cell_type": "code",
   "execution_count": 56,
   "id": "a2540df6-1814-402e-9082-304256bd052e",
   "metadata": {},
   "outputs": [
    {
     "data": {
      "text/html": [
       "<div>\n",
       "<style scoped>\n",
       "    .dataframe tbody tr th:only-of-type {\n",
       "        vertical-align: middle;\n",
       "    }\n",
       "\n",
       "    .dataframe tbody tr th {\n",
       "        vertical-align: top;\n",
       "    }\n",
       "\n",
       "    .dataframe thead th {\n",
       "        text-align: right;\n",
       "    }\n",
       "</style>\n",
       "<table border=\"1\" class=\"dataframe\">\n",
       "  <thead>\n",
       "    <tr style=\"text-align: right;\">\n",
       "      <th></th>\n",
       "      <th>title_prefix</th>\n",
       "      <th>description</th>\n",
       "      <th>grpId</th>\n",
       "    </tr>\n",
       "  </thead>\n",
       "  <tbody>\n",
       "    <tr>\n",
       "      <th>7129</th>\n",
       "      <td>Together For Eternity</td>\n",
       "      <td>A scheming matriarch plots to cut off her disa...</td>\n",
       "      <td>1</td>\n",
       "    </tr>\n",
       "    <tr>\n",
       "      <th>2860</th>\n",
       "      <td>Hum Saath-Saath Hain</td>\n",
       "      <td>A scheming matriarch plots to cut off her disa...</td>\n",
       "      <td>1</td>\n",
       "    </tr>\n",
       "    <tr>\n",
       "      <th>4595</th>\n",
       "      <td>Oh! Baby (Tamil)</td>\n",
       "      <td>A surly septuagenarian gets another chance at ...</td>\n",
       "      <td>2</td>\n",
       "    </tr>\n",
       "    <tr>\n",
       "      <th>4594</th>\n",
       "      <td>Oh! Baby (Malayalam)</td>\n",
       "      <td>A surly septuagenarian gets another chance at ...</td>\n",
       "      <td>2</td>\n",
       "    </tr>\n",
       "    <tr>\n",
       "      <th>4593</th>\n",
       "      <td>Oh! Baby</td>\n",
       "      <td>A surly septuagenarian gets another chance at ...</td>\n",
       "      <td>2</td>\n",
       "    </tr>\n",
       "  </tbody>\n",
       "</table>\n",
       "</div>"
      ],
      "text/plain": [
       "               title_prefix  \\\n",
       "7129  Together For Eternity   \n",
       "2860   Hum Saath-Saath Hain   \n",
       "4595       Oh! Baby (Tamil)   \n",
       "4594   Oh! Baby (Malayalam)   \n",
       "4593               Oh! Baby   \n",
       "\n",
       "                                            description  grpId  \n",
       "7129  A scheming matriarch plots to cut off her disa...      1  \n",
       "2860  A scheming matriarch plots to cut off her disa...      1  \n",
       "4595  A surly septuagenarian gets another chance at ...      2  \n",
       "4594  A surly septuagenarian gets another chance at ...      2  \n",
       "4593  A surly septuagenarian gets another chance at ...      2  "
      ]
     },
     "execution_count": 56,
     "metadata": {},
     "output_type": "execute_result"
    }
   ],
   "source": [
    "#Lấy các dòng có description xuất hiện nhiều hơn 1 lần\n",
    "df1 = df_movies[df_movies.groupby(['description'])['show_id'].transform('count') > 1][['title_prefix','description']]\n",
    "\n",
    "#Group ID để tô màu\n",
    "df1['grpId']=df1.groupby('description').ngroup().add(1)\n",
    "df1=df1.sort_values(by='grpId')\n",
    "df1.head()"
   ]
  },
  {
   "cell_type": "code",
   "execution_count": 57,
   "id": "c288b88e-32dc-4b74-ab3a-4b47401da8f6",
   "metadata": {},
   "outputs": [
    {
     "data": {
      "text/html": [
       "<style  type=\"text/css\" >\n",
       "#T_bae90_row0_col0,#T_bae90_row0_col1,#T_bae90_row0_col2,#T_bae90_row0_col3,#T_bae90_row1_col0,#T_bae90_row1_col1,#T_bae90_row1_col2,#T_bae90_row1_col3,#T_bae90_row5_col0,#T_bae90_row5_col1,#T_bae90_row5_col2,#T_bae90_row5_col3,#T_bae90_row6_col0,#T_bae90_row6_col1,#T_bae90_row6_col2,#T_bae90_row6_col3,#T_bae90_row9_col0,#T_bae90_row9_col1,#T_bae90_row9_col2,#T_bae90_row9_col3,#T_bae90_row10_col0,#T_bae90_row10_col1,#T_bae90_row10_col2,#T_bae90_row10_col3,#T_bae90_row13_col0,#T_bae90_row13_col1,#T_bae90_row13_col2,#T_bae90_row13_col3,#T_bae90_row14_col0,#T_bae90_row14_col1,#T_bae90_row14_col2,#T_bae90_row14_col3,#T_bae90_row17_col0,#T_bae90_row17_col1,#T_bae90_row17_col2,#T_bae90_row17_col3,#T_bae90_row18_col0,#T_bae90_row18_col1,#T_bae90_row18_col2,#T_bae90_row18_col3,#T_bae90_row21_col0,#T_bae90_row21_col1,#T_bae90_row21_col2,#T_bae90_row21_col3,#T_bae90_row22_col0,#T_bae90_row22_col1,#T_bae90_row22_col2,#T_bae90_row22_col3,#T_bae90_row23_col0,#T_bae90_row23_col1,#T_bae90_row23_col2,#T_bae90_row23_col3,#T_bae90_row26_col0,#T_bae90_row26_col1,#T_bae90_row26_col2,#T_bae90_row26_col3,#T_bae90_row27_col0,#T_bae90_row27_col1,#T_bae90_row27_col2,#T_bae90_row27_col3,#T_bae90_row30_col0,#T_bae90_row30_col1,#T_bae90_row30_col2,#T_bae90_row30_col3,#T_bae90_row31_col0,#T_bae90_row31_col1,#T_bae90_row31_col2,#T_bae90_row31_col3{\n",
       "            background-color:  #A7CAB1;\n",
       "        }#T_bae90_row2_col0,#T_bae90_row2_col1,#T_bae90_row2_col2,#T_bae90_row2_col3,#T_bae90_row3_col0,#T_bae90_row3_col1,#T_bae90_row3_col2,#T_bae90_row3_col3,#T_bae90_row4_col0,#T_bae90_row4_col1,#T_bae90_row4_col2,#T_bae90_row4_col3,#T_bae90_row7_col0,#T_bae90_row7_col1,#T_bae90_row7_col2,#T_bae90_row7_col3,#T_bae90_row8_col0,#T_bae90_row8_col1,#T_bae90_row8_col2,#T_bae90_row8_col3,#T_bae90_row11_col0,#T_bae90_row11_col1,#T_bae90_row11_col2,#T_bae90_row11_col3,#T_bae90_row12_col0,#T_bae90_row12_col1,#T_bae90_row12_col2,#T_bae90_row12_col3,#T_bae90_row15_col0,#T_bae90_row15_col1,#T_bae90_row15_col2,#T_bae90_row15_col3,#T_bae90_row16_col0,#T_bae90_row16_col1,#T_bae90_row16_col2,#T_bae90_row16_col3,#T_bae90_row19_col0,#T_bae90_row19_col1,#T_bae90_row19_col2,#T_bae90_row19_col3,#T_bae90_row20_col0,#T_bae90_row20_col1,#T_bae90_row20_col2,#T_bae90_row20_col3,#T_bae90_row24_col0,#T_bae90_row24_col1,#T_bae90_row24_col2,#T_bae90_row24_col3,#T_bae90_row25_col0,#T_bae90_row25_col1,#T_bae90_row25_col2,#T_bae90_row25_col3,#T_bae90_row28_col0,#T_bae90_row28_col1,#T_bae90_row28_col2,#T_bae90_row28_col3,#T_bae90_row29_col0,#T_bae90_row29_col1,#T_bae90_row29_col2,#T_bae90_row29_col3,#T_bae90_row32_col0,#T_bae90_row32_col1,#T_bae90_row32_col2,#T_bae90_row32_col3,#T_bae90_row33_col0,#T_bae90_row33_col1,#T_bae90_row33_col2,#T_bae90_row33_col3{\n",
       "            background-color:  #F4ECD6;\n",
       "        }</style><table id=\"T_bae90_\" ><thead>    <tr>        <th class=\"col_heading level0 col0\" >Index</th>        <th class=\"col_heading level0 col1\" >title_prefix</th>        <th class=\"col_heading level0 col2\" >description</th>        <th class=\"col_heading level0 col3\" >grpId</th>    </tr></thead><tbody>\n",
       "                <tr>\n",
       "                                <td id=\"T_bae90_row0_col0\" class=\"data row0 col0\" >7129</td>\n",
       "                        <td id=\"T_bae90_row0_col1\" class=\"data row0 col1\" >Together For Eternity</td>\n",
       "                        <td id=\"T_bae90_row0_col2\" class=\"data row0 col2\" >A scheming matriarch plots to cut off her disabled stepson and his wife from the family fortune, creating a division within the clan.</td>\n",
       "                        <td id=\"T_bae90_row0_col3\" class=\"data row0 col3\" >1</td>\n",
       "            </tr>\n",
       "            <tr>\n",
       "                                <td id=\"T_bae90_row1_col0\" class=\"data row1 col0\" >2860</td>\n",
       "                        <td id=\"T_bae90_row1_col1\" class=\"data row1 col1\" >Hum Saath-Saath Hain</td>\n",
       "                        <td id=\"T_bae90_row1_col2\" class=\"data row1 col2\" >A scheming matriarch plots to cut off her disabled stepson and his wife from the family fortune, creating a division within the clan.</td>\n",
       "                        <td id=\"T_bae90_row1_col3\" class=\"data row1 col3\" >1</td>\n",
       "            </tr>\n",
       "            <tr>\n",
       "                                <td id=\"T_bae90_row2_col0\" class=\"data row2 col0\" >4595</td>\n",
       "                        <td id=\"T_bae90_row2_col1\" class=\"data row2 col1\" >Oh! Baby (Tamil)</td>\n",
       "                        <td id=\"T_bae90_row2_col2\" class=\"data row2 col2\" >A surly septuagenarian gets another chance at her 20s after having her photo snapped at a studio that magically takes 50 years off her life.</td>\n",
       "                        <td id=\"T_bae90_row2_col3\" class=\"data row2 col3\" >2</td>\n",
       "            </tr>\n",
       "            <tr>\n",
       "                                <td id=\"T_bae90_row3_col0\" class=\"data row3 col0\" >4594</td>\n",
       "                        <td id=\"T_bae90_row3_col1\" class=\"data row3 col1\" >Oh! Baby (Malayalam)</td>\n",
       "                        <td id=\"T_bae90_row3_col2\" class=\"data row3 col2\" >A surly septuagenarian gets another chance at her 20s after having her photo snapped at a studio that magically takes 50 years off her life.</td>\n",
       "                        <td id=\"T_bae90_row3_col3\" class=\"data row3 col3\" >2</td>\n",
       "            </tr>\n",
       "            <tr>\n",
       "                                <td id=\"T_bae90_row4_col0\" class=\"data row4 col0\" >4593</td>\n",
       "                        <td id=\"T_bae90_row4_col1\" class=\"data row4 col1\" >Oh! Baby</td>\n",
       "                        <td id=\"T_bae90_row4_col2\" class=\"data row4 col2\" >A surly septuagenarian gets another chance at her 20s after having her photo snapped at a studio that magically takes 50 years off her life.</td>\n",
       "                        <td id=\"T_bae90_row4_col3\" class=\"data row4 col3\" >2</td>\n",
       "            </tr>\n",
       "            <tr>\n",
       "                                <td id=\"T_bae90_row5_col0\" class=\"data row5 col0\" >5698</td>\n",
       "                        <td id=\"T_bae90_row5_col1\" class=\"data row5 col1\" >Solo</td>\n",
       "                        <td id=\"T_bae90_row5_col2\" class=\"data row5 col2\" >A young Han Solo tries to settle an old score with the help of his new buddy Chewbacca, a crew of space smugglers and a cunning old friend.</td>\n",
       "                        <td id=\"T_bae90_row5_col3\" class=\"data row5 col3\" >3</td>\n",
       "            </tr>\n",
       "            <tr>\n",
       "                                <td id=\"T_bae90_row6_col0\" class=\"data row6 col0\" >5699</td>\n",
       "                        <td id=\"T_bae90_row6_col1\" class=\"data row6 col1\" >Solo</td>\n",
       "                        <td id=\"T_bae90_row6_col2\" class=\"data row6 col2\" >A young Han Solo tries to settle an old score with the help of his new buddy Chewbacca, a crew of space smugglers and a cunning old friend.</td>\n",
       "                        <td id=\"T_bae90_row6_col3\" class=\"data row6 col3\" >3</td>\n",
       "            </tr>\n",
       "            <tr>\n",
       "                                <td id=\"T_bae90_row7_col0\" class=\"data row7 col0\" >525</td>\n",
       "                        <td id=\"T_bae90_row7_col1\" class=\"data row7 col1\" >Angu Vaikuntapurathu (Malayalam)</td>\n",
       "                        <td id=\"T_bae90_row7_col2\" class=\"data row7 col2\" >After growing up enduring criticism from his father, a young man finds his world shaken upon learning he was switched at birth with a millionaire’s son.</td>\n",
       "                        <td id=\"T_bae90_row7_col3\" class=\"data row7 col3\" >4</td>\n",
       "            </tr>\n",
       "            <tr>\n",
       "                                <td id=\"T_bae90_row8_col0\" class=\"data row8 col0\" >368</td>\n",
       "                        <td id=\"T_bae90_row8_col1\" class=\"data row8 col1\" >Ala Vaikunthapurramuloo</td>\n",
       "                        <td id=\"T_bae90_row8_col2\" class=\"data row8 col2\" >After growing up enduring criticism from his father, a young man finds his world shaken upon learning he was switched at birth with a millionaire’s son.</td>\n",
       "                        <td id=\"T_bae90_row8_col3\" class=\"data row8 col3\" >4</td>\n",
       "            </tr>\n",
       "            <tr>\n",
       "                                <td id=\"T_bae90_row9_col0\" class=\"data row9 col0\" >4839</td>\n",
       "                        <td id=\"T_bae90_row9_col1\" class=\"data row9 col1\" >Petta (Telugu Version)</td>\n",
       "                        <td id=\"T_bae90_row9_col2\" class=\"data row9 col2\" >An affable, newly appointed college warden proves to be no ordinary man when an old enemy resurfaces and exposes his complicated, violent past.</td>\n",
       "                        <td id=\"T_bae90_row9_col3\" class=\"data row9 col3\" >5</td>\n",
       "            </tr>\n",
       "            <tr>\n",
       "                                <td id=\"T_bae90_row10_col0\" class=\"data row10 col0\" >4838</td>\n",
       "                        <td id=\"T_bae90_row10_col1\" class=\"data row10 col1\" >Petta</td>\n",
       "                        <td id=\"T_bae90_row10_col2\" class=\"data row10 col2\" >An affable, newly appointed college warden proves to be no ordinary man when an old enemy resurfaces and exposes his complicated, violent past.</td>\n",
       "                        <td id=\"T_bae90_row10_col3\" class=\"data row10 col3\" >5</td>\n",
       "            </tr>\n",
       "            <tr>\n",
       "                                <td id=\"T_bae90_row11_col0\" class=\"data row11 col0\" >5397</td>\n",
       "                        <td id=\"T_bae90_row11_col1\" class=\"data row11 col1\" >Sarvam Thaala Mayam (Telugu Version)</td>\n",
       "                        <td id=\"T_bae90_row11_col2\" class=\"data row11 col2\" >An aspiring musician battles age-old caste divides to be able to learn the art of a classical instrument from a traditionalist, veteran percussionist.</td>\n",
       "                        <td id=\"T_bae90_row11_col3\" class=\"data row11 col3\" >6</td>\n",
       "            </tr>\n",
       "            <tr>\n",
       "                                <td id=\"T_bae90_row12_col0\" class=\"data row12 col0\" >5396</td>\n",
       "                        <td id=\"T_bae90_row12_col1\" class=\"data row12 col1\" >Sarvam Thaala Mayam (Tamil Version)</td>\n",
       "                        <td id=\"T_bae90_row12_col2\" class=\"data row12 col2\" >An aspiring musician battles age-old caste divides to be able to learn the art of a classical instrument from a traditionalist, veteran percussionist.</td>\n",
       "                        <td id=\"T_bae90_row12_col3\" class=\"data row12 col3\" >6</td>\n",
       "            </tr>\n",
       "            <tr>\n",
       "                                <td id=\"T_bae90_row13_col0\" class=\"data row13 col0\" >509</td>\n",
       "                        <td id=\"T_bae90_row13_col1\" class=\"data row13 col1\" >Andhaghaaram</td>\n",
       "                        <td id=\"T_bae90_row13_col2\" class=\"data row13 col2\" >As a blind librarian, dispirited cricketer and desolate psychiatrist each seek retribution and release, their lives overlap under eerie influences.</td>\n",
       "                        <td id=\"T_bae90_row13_col3\" class=\"data row13 col3\" >7</td>\n",
       "            </tr>\n",
       "            <tr>\n",
       "                                <td id=\"T_bae90_row14_col0\" class=\"data row14 col0\" >510</td>\n",
       "                        <td id=\"T_bae90_row14_col1\" class=\"data row14 col1\" >Andhakaaram</td>\n",
       "                        <td id=\"T_bae90_row14_col2\" class=\"data row14 col2\" >As a blind librarian, dispirited cricketer and desolate psychiatrist each seek retribution and release, their lives overlap under eerie influences.</td>\n",
       "                        <td id=\"T_bae90_row14_col3\" class=\"data row14 col3\" >7</td>\n",
       "            </tr>\n",
       "            <tr>\n",
       "                                <td id=\"T_bae90_row15_col0\" class=\"data row15 col0\" >2342</td>\n",
       "                        <td id=\"T_bae90_row15_col1\" class=\"data row15 col1\" >Game Over (Hindi Version)</td>\n",
       "                        <td id=\"T_bae90_row15_col2\" class=\"data row15 col2\" >As a series of murders hit close to home, a video game designer with post-traumatic stress must confront her demons, or risk becoming their victim.</td>\n",
       "                        <td id=\"T_bae90_row15_col3\" class=\"data row15 col3\" >8</td>\n",
       "            </tr>\n",
       "            <tr>\n",
       "                                <td id=\"T_bae90_row16_col0\" class=\"data row16 col0\" >2343</td>\n",
       "                        <td id=\"T_bae90_row16_col1\" class=\"data row16 col1\" >Game Over (Tamil Version)</td>\n",
       "                        <td id=\"T_bae90_row16_col2\" class=\"data row16 col2\" >As a series of murders hit close to home, a video game designer with post-traumatic stress must confront her demons, or risk becoming their victim.</td>\n",
       "                        <td id=\"T_bae90_row16_col3\" class=\"data row16 col3\" >8</td>\n",
       "            </tr>\n",
       "            <tr>\n",
       "                                <td id=\"T_bae90_row17_col0\" class=\"data row17 col0\" >4441</td>\n",
       "                        <td id=\"T_bae90_row17_col1\" class=\"data row17 col1\" >Nee Enge En Anbe</td>\n",
       "                        <td id=\"T_bae90_row17_col2\" class=\"data row17 col2\" >As a woman scours Hyderabad for her missing husband, she becomes entangled in a conspiracy that suggests there’s more to the mystery than meets the eye.</td>\n",
       "                        <td id=\"T_bae90_row17_col3\" class=\"data row17 col3\" >9</td>\n",
       "            </tr>\n",
       "            <tr>\n",
       "                                <td id=\"T_bae90_row18_col0\" class=\"data row18 col0\" >500</td>\n",
       "                        <td id=\"T_bae90_row18_col1\" class=\"data row18 col1\" >Anaamika</td>\n",
       "                        <td id=\"T_bae90_row18_col2\" class=\"data row18 col2\" >As a woman scours Hyderabad for her missing husband, she becomes entangled in a conspiracy that suggests there’s more to the mystery than meets the eye.</td>\n",
       "                        <td id=\"T_bae90_row18_col3\" class=\"data row18 col3\" >9</td>\n",
       "            </tr>\n",
       "            <tr>\n",
       "                                <td id=\"T_bae90_row19_col0\" class=\"data row19 col0\" >6038</td>\n",
       "                        <td id=\"T_bae90_row19_col1\" class=\"data row19 col1\" >Thackeray</td>\n",
       "                        <td id=\"T_bae90_row19_col2\" class=\"data row19 col2\" >From controversial cartoonist to powerful Mumbai politician, this biopic maps the meteoric rise of far-right Shiv Sena party founder, Bal Thackeray.</td>\n",
       "                        <td id=\"T_bae90_row19_col3\" class=\"data row19 col3\" >10</td>\n",
       "            </tr>\n",
       "            <tr>\n",
       "                                <td id=\"T_bae90_row20_col0\" class=\"data row20 col0\" >6039</td>\n",
       "                        <td id=\"T_bae90_row20_col1\" class=\"data row20 col1\" >Thackeray (Hindi)</td>\n",
       "                        <td id=\"T_bae90_row20_col2\" class=\"data row20 col2\" >From controversial cartoonist to powerful Mumbai politician, this biopic maps the meteoric rise of far-right Shiv Sena party founder, Bal Thackeray.</td>\n",
       "                        <td id=\"T_bae90_row20_col3\" class=\"data row20 col3\" >10</td>\n",
       "            </tr>\n",
       "            <tr>\n",
       "                                <td id=\"T_bae90_row21_col0\" class=\"data row21 col0\" >5510</td>\n",
       "                        <td id=\"T_bae90_row21_col1\" class=\"data row21 col1\" >Seven (Tamil)</td>\n",
       "                        <td id=\"T_bae90_row21_col2\" class=\"data row21 col2\" >Multiple women report their husbands as missing but when it appears they are looking for the same man, a police officer traces their cryptic connection.</td>\n",
       "                        <td id=\"T_bae90_row21_col3\" class=\"data row21 col3\" >11</td>\n",
       "            </tr>\n",
       "            <tr>\n",
       "                                <td id=\"T_bae90_row22_col0\" class=\"data row22 col0\" >5511</td>\n",
       "                        <td id=\"T_bae90_row22_col1\" class=\"data row22 col1\" >Seven (Telugu)</td>\n",
       "                        <td id=\"T_bae90_row22_col2\" class=\"data row22 col2\" >Multiple women report their husbands as missing but when it appears they are looking for the same man, a police officer traces their cryptic connection.</td>\n",
       "                        <td id=\"T_bae90_row22_col3\" class=\"data row22 col3\" >11</td>\n",
       "            </tr>\n",
       "            <tr>\n",
       "                                <td id=\"T_bae90_row23_col0\" class=\"data row23 col0\" >132</td>\n",
       "                        <td id=\"T_bae90_row23_col1\" class=\"data row23 col1\" >7 (Seven)</td>\n",
       "                        <td id=\"T_bae90_row23_col2\" class=\"data row23 col2\" >Multiple women report their husbands as missing but when it appears they are looking for the same man, a police officer traces their cryptic connection.</td>\n",
       "                        <td id=\"T_bae90_row23_col3\" class=\"data row23 col3\" >11</td>\n",
       "            </tr>\n",
       "            <tr>\n",
       "                                <td id=\"T_bae90_row24_col0\" class=\"data row24 col0\" >1486</td>\n",
       "                        <td id=\"T_bae90_row24_col1\" class=\"data row24 col1\" >Consequences </td>\n",
       "                        <td id=\"T_bae90_row24_col2\" class=\"data row24 col2\" >Secrets bubble to the surface after a sensual encounter and an unforeseen crime entangle two friends and a woman caught between them.</td>\n",
       "                        <td id=\"T_bae90_row24_col3\" class=\"data row24 col3\" >12</td>\n",
       "            </tr>\n",
       "            <tr>\n",
       "                                <td id=\"T_bae90_row25_col0\" class=\"data row25 col0\" >1485</td>\n",
       "                        <td id=\"T_bae90_row25_col1\" class=\"data row25 col1\" >Consequences</td>\n",
       "                        <td id=\"T_bae90_row25_col2\" class=\"data row25 col2\" >Secrets bubble to the surface after a sensual encounter and an unforeseen crime entangle two friends and a woman caught between them.</td>\n",
       "                        <td id=\"T_bae90_row25_col3\" class=\"data row25 col3\" >12</td>\n",
       "            </tr>\n",
       "            <tr>\n",
       "                                <td id=\"T_bae90_row26_col0\" class=\"data row26 col0\" >1377</td>\n",
       "                        <td id=\"T_bae90_row26_col1\" class=\"data row26 col1\" >ChuChu TV Nursery Rhymes & Kids Songs (Hindi)</td>\n",
       "                        <td id=\"T_bae90_row26_col2\" class=\"data row26 col2\" >This educational series for tiny tots features a toe-tapping spin on nursery rhymes with upbeat tunes and a diverse set of easy-to-follow lessons.</td>\n",
       "                        <td id=\"T_bae90_row26_col3\" class=\"data row26 col3\" >13</td>\n",
       "            </tr>\n",
       "            <tr>\n",
       "                                <td id=\"T_bae90_row27_col0\" class=\"data row27 col0\" >1376</td>\n",
       "                        <td id=\"T_bae90_row27_col1\" class=\"data row27 col1\" >ChuChu TV Kids Songs, Learning Videos & Bedtime Stories</td>\n",
       "                        <td id=\"T_bae90_row27_col2\" class=\"data row27 col2\" >This educational series for tiny tots features a toe-tapping spin on nursery rhymes with upbeat tunes and a diverse set of easy-to-follow lessons.</td>\n",
       "                        <td id=\"T_bae90_row27_col3\" class=\"data row27 col3\" >13</td>\n",
       "            </tr>\n",
       "            <tr>\n",
       "                                <td id=\"T_bae90_row28_col0\" class=\"data row28 col0\" >4605</td>\n",
       "                        <td id=\"T_bae90_row28_col1\" class=\"data row28 col1\" >Ollie & Moon</td>\n",
       "                        <td id=\"T_bae90_row28_col2\" class=\"data row28 col2\" >Two quirky cats, Ollie and Moon, and their friend Stanley the snail travel the world, solving everyday problems and learning about different cultures.</td>\n",
       "                        <td id=\"T_bae90_row28_col3\" class=\"data row28 col3\" >14</td>\n",
       "            </tr>\n",
       "            <tr>\n",
       "                                <td id=\"T_bae90_row29_col0\" class=\"data row29 col0\" >6721</td>\n",
       "                        <td id=\"T_bae90_row29_col1\" class=\"data row29 col1\" >The Ollie & Moon Show</td>\n",
       "                        <td id=\"T_bae90_row29_col2\" class=\"data row29 col2\" >Two quirky cats, Ollie and Moon, and their friend Stanley the snail travel the world, solving everyday problems and learning about different cultures.</td>\n",
       "                        <td id=\"T_bae90_row29_col3\" class=\"data row29 col3\" >14</td>\n",
       "            </tr>\n",
       "            <tr>\n",
       "                                <td id=\"T_bae90_row30_col0\" class=\"data row30 col0\" >2985</td>\n",
       "                        <td id=\"T_bae90_row30_col1\" class=\"data row30 col1\" >Incredibles 2 (Spanish Version)</td>\n",
       "                        <td id=\"T_bae90_row30_col2\" class=\"data row30 col2\" >When Elastigirl gets recruited for a high-profile crime-fighting mission, Mr. Incredible takes on his toughest assignment ever: full-time parenting.</td>\n",
       "                        <td id=\"T_bae90_row30_col3\" class=\"data row30 col3\" >15</td>\n",
       "            </tr>\n",
       "            <tr>\n",
       "                                <td id=\"T_bae90_row31_col0\" class=\"data row31 col0\" >6487</td>\n",
       "                        <td id=\"T_bae90_row31_col1\" class=\"data row31 col1\" >The Incredibles 2</td>\n",
       "                        <td id=\"T_bae90_row31_col2\" class=\"data row31 col2\" >When Elastigirl gets recruited for a high-profile crime-fighting mission, Mr. Incredible takes on his toughest assignment ever: full-time parenting.</td>\n",
       "                        <td id=\"T_bae90_row31_col3\" class=\"data row31 col3\" >15</td>\n",
       "            </tr>\n",
       "            <tr>\n",
       "                                <td id=\"T_bae90_row32_col0\" class=\"data row32 col0\" >1287</td>\n",
       "                        <td id=\"T_bae90_row32_col1\" class=\"data row32 col1\" >Chashme Buddoor</td>\n",
       "                        <td id=\"T_bae90_row32_col2\" class=\"data row32 col2\" >When pretty new neighbor Seema falls for their shy roommate Sid, jealous womanizers Omi and Jai plot to break up the new lovebirds.</td>\n",
       "                        <td id=\"T_bae90_row32_col3\" class=\"data row32 col3\" >16</td>\n",
       "            </tr>\n",
       "            <tr>\n",
       "                                <td id=\"T_bae90_row33_col0\" class=\"data row33 col0\" >1286</td>\n",
       "                        <td id=\"T_bae90_row33_col1\" class=\"data row33 col1\" >Chashme Baddoor</td>\n",
       "                        <td id=\"T_bae90_row33_col2\" class=\"data row33 col2\" >When pretty new neighbor Seema falls for their shy roommate Sid, jealous womanizers Omi and Jai plot to break up the new lovebirds.</td>\n",
       "                        <td id=\"T_bae90_row33_col3\" class=\"data row33 col3\" >16</td>\n",
       "            </tr>\n",
       "    </tbody></table>"
      ],
      "text/plain": [
       "<pandas.io.formats.style.Styler at 0x7f1b8c357910>"
      ]
     },
     "execution_count": 57,
     "metadata": {},
     "output_type": "execute_result"
    }
   ],
   "source": [
    "def rowStyle(row):\n",
    "    if row.grpId %2 ==0:\n",
    "        return ['background-color: #F4ECD6'] * len(row)\n",
    "    return ['background-color: #A7CAB1'] * len(row)\n",
    "\n",
    "df1.style.apply(rowStyle,axis=1)\n",
    "\n",
    "#Tô màu cột index\n",
    "df1.reset_index().rename(columns={'index': 'Index'}).style\\\n",
    "    .apply(rowStyle, axis=1).hide_index()"
   ]
  },
  {
   "cell_type": "markdown",
   "id": "241e81e2-8384-4269-9cc5-543fe431b273",
   "metadata": {},
   "source": [
    "1. Recomendation. Nhập tên phim ra 5 phim giống v. Giống là do: cùng title_prefix, quốc gia, thể loại, lọc text (nâng cao), cùng đạo diễn, cùng diễn viên,...\n",
    "2. Đạo diễn đóng phim của chính họ?\n",
    "3. Vẽ biểu đồ miên thể hiện tỷ lệ phim của mỗi nước qua từng năm. Nhận xét với Việt Nam."
   ]
  },
  {
   "cell_type": "markdown",
   "id": "58b8ac8d",
   "metadata": {},
   "source": [
    "# Câu hỏi cần trả lời"
   ]
  },
  {
   "cell_type": "markdown",
   "id": "5135bd3e",
   "metadata": {},
   "source": [
    "## 1. *Với mỗi phim mà người dùng tìm kiếm, ta nên đề xuất thêm (recommend) các phim nào để người dùng xem?*\n",
    "\n",
    "Việc tìm ra câu trả lời cho câu hỏi này sẽ giúp ích cho cả người dùng và nhà cung cấp dịch vụ xem phim:\n",
    "\n",
    "- Người dùng: người dùng tìm kiếm một bộ phim để coi, sau khi coi xong có thể họ sẽ muốn coi tiếp những phim có cùng thể loại, cùng diễn viên, cùng quốc gia hay cùng đạo diễn. Sẽ rất tiện cho người dùng nếu hệ thống có thể đề xuất một danh sách phim giống với phim mà người dùng tìm kiếm.\n",
    "- Nhà cung cấp dịch vụ xem phim: nếu hệ thống đề xuất tốt thì nhiều khả năng người dùng sẽ xem tiếp các bộ phim được đề xuất, thời gian sử dụng dịch vụ lâu hơn, tăng doanh thu nhà cung cấp\n",
    "\n",
    "Hệ thống recommendation chúng ta xây dựng sẽ là một hệ thống đơn giản, khi người dùng tìm tên phim, thay vì chỉ trả về một bộ phim đó thì chúng ta sẽ trả về các bộ phim tương tự. Độ tương tự của phim sẽ được định nghĩa bằng các yếu tố: `title`, `cast`, `director`, `country`, `rating`, `listed_in`.\n",
    "\n",
    "Đầu tiên chúng ta thấy rằng nếu người dùng tìm phim Mỹ thì có thể người dùng này thích xem phim Mỹ. Nếu người dùng tìm một bộ phim nào đó thì chúng ta có thể đề nghị thêm những bộ phim có cùng đạo diễn hay cùng diễn viên,... Đây là giả thiết của hệ thống recommendation sẽ xây dựng."
   ]
  },
  {
   "cell_type": "markdown",
   "id": "fa2a086c",
   "metadata": {},
   "source": [
    "### Chuyển mảng `director`, `cast`, `country`,`listed_in` thành cột tương ứng.\n",
    "Mỗi đạo diễn, mỗi diễn viên, mỗi quốc gia hay thể loại sẽ là một cột. Phim nào thuộc đạo diễn nào, quốc gia nào, có diễn viên nào sẽ có giá trị là 1 tại cột đó. Điều này sẽ gây bùng nổ số cột dữ liệu nhưng nó giúp ích cho việc tính toán của ta.\n",
    "\n",
    "Do cột cast quá lớn việc tính toán có thể dẫn đến mất thời gian và không đủ bộ nhớ, nên ta sẽ chỉ lấy cast một vài người đầu. Khá may mắn là có vẻ như Netflix cũng đã sắp xếp cast của mình theo vai, những người đứng đầu sẽ thuộc vai chính trong phim."
   ]
  },
  {
   "cell_type": "code",
   "execution_count": 58,
   "id": "6613c54f",
   "metadata": {},
   "outputs": [
    {
     "data": {
      "text/html": [
       "<div>\n",
       "<style scoped>\n",
       "    .dataframe tbody tr th:only-of-type {\n",
       "        vertical-align: middle;\n",
       "    }\n",
       "\n",
       "    .dataframe tbody tr th {\n",
       "        vertical-align: top;\n",
       "    }\n",
       "\n",
       "    .dataframe thead th {\n",
       "        text-align: right;\n",
       "    }\n",
       "</style>\n",
       "<table border=\"1\" class=\"dataframe\">\n",
       "  <thead>\n",
       "    <tr style=\"text-align: right;\">\n",
       "      <th></th>\n",
       "      <th>type</th>\n",
       "      <th>title</th>\n",
       "      <th>director</th>\n",
       "      <th>country</th>\n",
       "      <th>rating</th>\n",
       "      <th>description</th>\n",
       "      <th>title_prefix</th>\n",
       "      <th>listed_in_array</th>\n",
       "      <th>cast_top_3</th>\n",
       "    </tr>\n",
       "  </thead>\n",
       "  <tbody>\n",
       "    <tr>\n",
       "      <th>0</th>\n",
       "      <td>TV Show</td>\n",
       "      <td>3%</td>\n",
       "      <td>[]</td>\n",
       "      <td>[Brazil]</td>\n",
       "      <td>TV-MA</td>\n",
       "      <td>In a future where the elite inhabit an island ...</td>\n",
       "      <td>3%</td>\n",
       "      <td>[International TV Shows, Dramas, Sci-Fi &amp; Fant...</td>\n",
       "      <td>[João Miguel, Bianca Comparato, Michel Gomes, ...</td>\n",
       "    </tr>\n",
       "    <tr>\n",
       "      <th>1</th>\n",
       "      <td>Movie</td>\n",
       "      <td>7:19</td>\n",
       "      <td>[Jorge Michel Grau]</td>\n",
       "      <td>[Mexico]</td>\n",
       "      <td>TV-MA</td>\n",
       "      <td>After a devastating earthquake hits Mexico Cit...</td>\n",
       "      <td>7</td>\n",
       "      <td>[Dramas, International Movies]</td>\n",
       "      <td>[Demián Bichir, Héctor Bonilla, Oscar Serrano,...</td>\n",
       "    </tr>\n",
       "    <tr>\n",
       "      <th>2</th>\n",
       "      <td>Movie</td>\n",
       "      <td>23:59</td>\n",
       "      <td>[Gilbert Chan]</td>\n",
       "      <td>[Singapore]</td>\n",
       "      <td>R</td>\n",
       "      <td>When an army recruit is found dead, his fellow...</td>\n",
       "      <td>23</td>\n",
       "      <td>[Horror Movies, International Movies]</td>\n",
       "      <td>[Tedd Chan, Stella Chung, Henley Hii, Lawrence...</td>\n",
       "    </tr>\n",
       "    <tr>\n",
       "      <th>3</th>\n",
       "      <td>Movie</td>\n",
       "      <td>9</td>\n",
       "      <td>[Shane Acker]</td>\n",
       "      <td>[United States]</td>\n",
       "      <td>PG-13</td>\n",
       "      <td>In a postapocalyptic world, rag-doll robots hi...</td>\n",
       "      <td>9</td>\n",
       "      <td>[Action &amp; Adventure, Independent Movies, Sci-F...</td>\n",
       "      <td>[Elijah Wood, John C. Reilly, Jennifer Connell...</td>\n",
       "    </tr>\n",
       "    <tr>\n",
       "      <th>4</th>\n",
       "      <td>Movie</td>\n",
       "      <td>21</td>\n",
       "      <td>[Robert Luketic]</td>\n",
       "      <td>[United States]</td>\n",
       "      <td>PG-13</td>\n",
       "      <td>A brilliant group of students become card-coun...</td>\n",
       "      <td>21</td>\n",
       "      <td>[Dramas]</td>\n",
       "      <td>[Jim Sturgess, Kevin Spacey, Kate Bosworth, Aa...</td>\n",
       "    </tr>\n",
       "  </tbody>\n",
       "</table>\n",
       "</div>"
      ],
      "text/plain": [
       "      type  title             director          country rating  \\\n",
       "0  TV Show     3%                   []         [Brazil]  TV-MA   \n",
       "1    Movie   7:19  [Jorge Michel Grau]         [Mexico]  TV-MA   \n",
       "2    Movie  23:59       [Gilbert Chan]      [Singapore]      R   \n",
       "3    Movie      9        [Shane Acker]  [United States]  PG-13   \n",
       "4    Movie     21     [Robert Luketic]  [United States]  PG-13   \n",
       "\n",
       "                                         description title_prefix  \\\n",
       "0  In a future where the elite inhabit an island ...           3%   \n",
       "1  After a devastating earthquake hits Mexico Cit...            7   \n",
       "2  When an army recruit is found dead, his fellow...           23   \n",
       "3  In a postapocalyptic world, rag-doll robots hi...            9   \n",
       "4  A brilliant group of students become card-coun...           21   \n",
       "\n",
       "                                     listed_in_array  \\\n",
       "0  [International TV Shows, Dramas, Sci-Fi & Fant...   \n",
       "1                     [Dramas, International Movies]   \n",
       "2              [Horror Movies, International Movies]   \n",
       "3  [Action & Adventure, Independent Movies, Sci-F...   \n",
       "4                                           [Dramas]   \n",
       "\n",
       "                                          cast_top_3  \n",
       "0  [João Miguel, Bianca Comparato, Michel Gomes, ...  \n",
       "1  [Demián Bichir, Héctor Bonilla, Oscar Serrano,...  \n",
       "2  [Tedd Chan, Stella Chung, Henley Hii, Lawrence...  \n",
       "3  [Elijah Wood, John C. Reilly, Jennifer Connell...  \n",
       "4  [Jim Sturgess, Kevin Spacey, Kate Bosworth, Aa...  "
      ]
     },
     "execution_count": 58,
     "metadata": {},
     "output_type": "execute_result"
    }
   ],
   "source": [
    "#Ta tạo df_rec chỉ dùng cho việc recommend\n",
    "\n",
    "#Lấy top 3 diễn viên trong mảng diễn viên\n",
    "df_rec=df_movies.copy()\n",
    "df_rec['cast_top_3']=df_rec['cast_array'].apply(lambda x:x[:4])\n",
    "\n",
    "#Drop các cột không cần thiết\n",
    "df_rec.drop(columns=['cast','cast_array','listed_in','date_added','release_year','duration',\n",
    "                     'title_postfix','show_id','min','season'],inplace=True)\n",
    "df_rec.head()"
   ]
  },
  {
   "cell_type": "code",
   "execution_count": 59,
   "id": "7b498c62",
   "metadata": {},
   "outputs": [],
   "source": [
    "df_rec['type']=df_rec['type'].replace({'TV Show':0,'Movie':1})"
   ]
  },
  {
   "cell_type": "code",
   "execution_count": 60,
   "id": "14cf70b6",
   "metadata": {},
   "outputs": [],
   "source": [
    "df_rec=df_rec.join(pd.get_dummies(df_rec['cast_top_3'].apply(pd.Series).stack()).sum(level=0))\n",
    "df_rec=df_rec.join(pd.get_dummies(df_rec['director'].apply(pd.Series).stack()).sum(level=0),rsuffix=\"D_\")\n",
    "df_rec=df_rec.join(pd.get_dummies(df_rec['country'].apply(pd.Series).stack()).sum(level=0))\n",
    "df_rec=df_rec.join(pd.get_dummies(df_rec['listed_in_array'].apply(pd.Series).stack()).sum(level=0))\n",
    "df_rec=df_rec.join(pd.get_dummies(df_rec['rating'].apply(pd.Series).stack()).sum(level=0))"
   ]
  },
  {
   "cell_type": "code",
   "execution_count": 61,
   "id": "9c8f2ffa",
   "metadata": {},
   "outputs": [
    {
     "data": {
      "text/html": [
       "<div>\n",
       "<style scoped>\n",
       "    .dataframe tbody tr th:only-of-type {\n",
       "        vertical-align: middle;\n",
       "    }\n",
       "\n",
       "    .dataframe tbody tr th {\n",
       "        vertical-align: top;\n",
       "    }\n",
       "\n",
       "    .dataframe thead th {\n",
       "        text-align: right;\n",
       "    }\n",
       "</style>\n",
       "<table border=\"1\" class=\"dataframe\">\n",
       "  <thead>\n",
       "    <tr style=\"text-align: right;\">\n",
       "      <th></th>\n",
       "      <th>type</th>\n",
       "      <th>title</th>\n",
       "      <th>director</th>\n",
       "      <th>country</th>\n",
       "      <th>rating</th>\n",
       "      <th>description</th>\n",
       "      <th>title_prefix</th>\n",
       "      <th>listed_in_array</th>\n",
       "      <th>cast_top_3</th>\n",
       "      <th>'Najite Dede</th>\n",
       "      <th>...</th>\n",
       "      <th>PG-13</th>\n",
       "      <th>R</th>\n",
       "      <th>TV-14</th>\n",
       "      <th>TV-G</th>\n",
       "      <th>TV-MA</th>\n",
       "      <th>TV-PG</th>\n",
       "      <th>TV-Y</th>\n",
       "      <th>TV-Y7</th>\n",
       "      <th>TV-Y7-FV</th>\n",
       "      <th>UR</th>\n",
       "    </tr>\n",
       "  </thead>\n",
       "  <tbody>\n",
       "    <tr>\n",
       "      <th>0</th>\n",
       "      <td>0</td>\n",
       "      <td>3%</td>\n",
       "      <td>[]</td>\n",
       "      <td>[Brazil]</td>\n",
       "      <td>TV-MA</td>\n",
       "      <td>In a future where the elite inhabit an island ...</td>\n",
       "      <td>3%</td>\n",
       "      <td>[International TV Shows, Dramas, Sci-Fi &amp; Fant...</td>\n",
       "      <td>[João Miguel, Bianca Comparato, Michel Gomes, ...</td>\n",
       "      <td>0.0</td>\n",
       "      <td>...</td>\n",
       "      <td>0</td>\n",
       "      <td>0</td>\n",
       "      <td>0</td>\n",
       "      <td>0</td>\n",
       "      <td>1</td>\n",
       "      <td>0</td>\n",
       "      <td>0</td>\n",
       "      <td>0</td>\n",
       "      <td>0</td>\n",
       "      <td>0</td>\n",
       "    </tr>\n",
       "    <tr>\n",
       "      <th>1</th>\n",
       "      <td>1</td>\n",
       "      <td>7:19</td>\n",
       "      <td>[Jorge Michel Grau]</td>\n",
       "      <td>[Mexico]</td>\n",
       "      <td>TV-MA</td>\n",
       "      <td>After a devastating earthquake hits Mexico Cit...</td>\n",
       "      <td>7</td>\n",
       "      <td>[Dramas, International Movies]</td>\n",
       "      <td>[Demián Bichir, Héctor Bonilla, Oscar Serrano,...</td>\n",
       "      <td>0.0</td>\n",
       "      <td>...</td>\n",
       "      <td>0</td>\n",
       "      <td>0</td>\n",
       "      <td>0</td>\n",
       "      <td>0</td>\n",
       "      <td>1</td>\n",
       "      <td>0</td>\n",
       "      <td>0</td>\n",
       "      <td>0</td>\n",
       "      <td>0</td>\n",
       "      <td>0</td>\n",
       "    </tr>\n",
       "    <tr>\n",
       "      <th>2</th>\n",
       "      <td>1</td>\n",
       "      <td>23:59</td>\n",
       "      <td>[Gilbert Chan]</td>\n",
       "      <td>[Singapore]</td>\n",
       "      <td>R</td>\n",
       "      <td>When an army recruit is found dead, his fellow...</td>\n",
       "      <td>23</td>\n",
       "      <td>[Horror Movies, International Movies]</td>\n",
       "      <td>[Tedd Chan, Stella Chung, Henley Hii, Lawrence...</td>\n",
       "      <td>0.0</td>\n",
       "      <td>...</td>\n",
       "      <td>0</td>\n",
       "      <td>1</td>\n",
       "      <td>0</td>\n",
       "      <td>0</td>\n",
       "      <td>0</td>\n",
       "      <td>0</td>\n",
       "      <td>0</td>\n",
       "      <td>0</td>\n",
       "      <td>0</td>\n",
       "      <td>0</td>\n",
       "    </tr>\n",
       "    <tr>\n",
       "      <th>3</th>\n",
       "      <td>1</td>\n",
       "      <td>9</td>\n",
       "      <td>[Shane Acker]</td>\n",
       "      <td>[United States]</td>\n",
       "      <td>PG-13</td>\n",
       "      <td>In a postapocalyptic world, rag-doll robots hi...</td>\n",
       "      <td>9</td>\n",
       "      <td>[Action &amp; Adventure, Independent Movies, Sci-F...</td>\n",
       "      <td>[Elijah Wood, John C. Reilly, Jennifer Connell...</td>\n",
       "      <td>0.0</td>\n",
       "      <td>...</td>\n",
       "      <td>1</td>\n",
       "      <td>0</td>\n",
       "      <td>0</td>\n",
       "      <td>0</td>\n",
       "      <td>0</td>\n",
       "      <td>0</td>\n",
       "      <td>0</td>\n",
       "      <td>0</td>\n",
       "      <td>0</td>\n",
       "      <td>0</td>\n",
       "    </tr>\n",
       "    <tr>\n",
       "      <th>4</th>\n",
       "      <td>1</td>\n",
       "      <td>21</td>\n",
       "      <td>[Robert Luketic]</td>\n",
       "      <td>[United States]</td>\n",
       "      <td>PG-13</td>\n",
       "      <td>A brilliant group of students become card-coun...</td>\n",
       "      <td>21</td>\n",
       "      <td>[Dramas]</td>\n",
       "      <td>[Jim Sturgess, Kevin Spacey, Kate Bosworth, Aa...</td>\n",
       "      <td>0.0</td>\n",
       "      <td>...</td>\n",
       "      <td>1</td>\n",
       "      <td>0</td>\n",
       "      <td>0</td>\n",
       "      <td>0</td>\n",
       "      <td>0</td>\n",
       "      <td>0</td>\n",
       "      <td>0</td>\n",
       "      <td>0</td>\n",
       "      <td>0</td>\n",
       "      <td>0</td>\n",
       "    </tr>\n",
       "  </tbody>\n",
       "</table>\n",
       "<p>5 rows × 20442 columns</p>\n",
       "</div>"
      ],
      "text/plain": [
       "   type  title             director          country rating  \\\n",
       "0     0     3%                   []         [Brazil]  TV-MA   \n",
       "1     1   7:19  [Jorge Michel Grau]         [Mexico]  TV-MA   \n",
       "2     1  23:59       [Gilbert Chan]      [Singapore]      R   \n",
       "3     1      9        [Shane Acker]  [United States]  PG-13   \n",
       "4     1     21     [Robert Luketic]  [United States]  PG-13   \n",
       "\n",
       "                                         description title_prefix  \\\n",
       "0  In a future where the elite inhabit an island ...           3%   \n",
       "1  After a devastating earthquake hits Mexico Cit...            7   \n",
       "2  When an army recruit is found dead, his fellow...           23   \n",
       "3  In a postapocalyptic world, rag-doll robots hi...            9   \n",
       "4  A brilliant group of students become card-coun...           21   \n",
       "\n",
       "                                     listed_in_array  \\\n",
       "0  [International TV Shows, Dramas, Sci-Fi & Fant...   \n",
       "1                     [Dramas, International Movies]   \n",
       "2              [Horror Movies, International Movies]   \n",
       "3  [Action & Adventure, Independent Movies, Sci-F...   \n",
       "4                                           [Dramas]   \n",
       "\n",
       "                                          cast_top_3  'Najite Dede  ...  \\\n",
       "0  [João Miguel, Bianca Comparato, Michel Gomes, ...           0.0  ...   \n",
       "1  [Demián Bichir, Héctor Bonilla, Oscar Serrano,...           0.0  ...   \n",
       "2  [Tedd Chan, Stella Chung, Henley Hii, Lawrence...           0.0  ...   \n",
       "3  [Elijah Wood, John C. Reilly, Jennifer Connell...           0.0  ...   \n",
       "4  [Jim Sturgess, Kevin Spacey, Kate Bosworth, Aa...           0.0  ...   \n",
       "\n",
       "   PG-13  R  TV-14  TV-G  TV-MA  TV-PG  TV-Y  TV-Y7  TV-Y7-FV  UR  \n",
       "0      0  0      0     0      1      0     0      0         0   0  \n",
       "1      0  0      0     0      1      0     0      0         0   0  \n",
       "2      0  1      0     0      0      0     0      0         0   0  \n",
       "3      1  0      0     0      0      0     0      0         0   0  \n",
       "4      1  0      0     0      0      0     0      0         0   0  \n",
       "\n",
       "[5 rows x 20442 columns]"
      ]
     },
     "execution_count": 61,
     "metadata": {},
     "output_type": "execute_result"
    }
   ],
   "source": [
    "df_rec.head()"
   ]
  },
  {
   "cell_type": "code",
   "execution_count": 62,
   "id": "1c0a364c",
   "metadata": {},
   "outputs": [],
   "source": [
    "#Tiếp tục drop các cột không cần thiết\n",
    "df_rec.drop(columns=['director','title','country','rating','description','title_prefix','cast_top_3','listed_in_array'],inplace=True)"
   ]
  },
  {
   "cell_type": "code",
   "execution_count": 63,
   "id": "83cf0db6",
   "metadata": {},
   "outputs": [
    {
     "data": {
      "text/html": [
       "<div>\n",
       "<style scoped>\n",
       "    .dataframe tbody tr th:only-of-type {\n",
       "        vertical-align: middle;\n",
       "    }\n",
       "\n",
       "    .dataframe tbody tr th {\n",
       "        vertical-align: top;\n",
       "    }\n",
       "\n",
       "    .dataframe thead th {\n",
       "        text-align: right;\n",
       "    }\n",
       "</style>\n",
       "<table border=\"1\" class=\"dataframe\">\n",
       "  <thead>\n",
       "    <tr style=\"text-align: right;\">\n",
       "      <th></th>\n",
       "      <th>type</th>\n",
       "      <th>'Najite Dede</th>\n",
       "      <th>4Minute</th>\n",
       "      <th>50 Cent</th>\n",
       "      <th>A. Murat Özgen</th>\n",
       "      <th>A.J. Cook</th>\n",
       "      <th>A.J. LoCascio</th>\n",
       "      <th>A.K. Hangal</th>\n",
       "      <th>A.R. Rahman</th>\n",
       "      <th>A.S. Sasi Kumar</th>\n",
       "      <th>...</th>\n",
       "      <th>PG-13</th>\n",
       "      <th>R</th>\n",
       "      <th>TV-14</th>\n",
       "      <th>TV-G</th>\n",
       "      <th>TV-MA</th>\n",
       "      <th>TV-PG</th>\n",
       "      <th>TV-Y</th>\n",
       "      <th>TV-Y7</th>\n",
       "      <th>TV-Y7-FV</th>\n",
       "      <th>UR</th>\n",
       "    </tr>\n",
       "  </thead>\n",
       "  <tbody>\n",
       "    <tr>\n",
       "      <th>0</th>\n",
       "      <td>0</td>\n",
       "      <td>0.0</td>\n",
       "      <td>0.0</td>\n",
       "      <td>0.0</td>\n",
       "      <td>0.0</td>\n",
       "      <td>0.0</td>\n",
       "      <td>0.0</td>\n",
       "      <td>0.0</td>\n",
       "      <td>0.0</td>\n",
       "      <td>0.0</td>\n",
       "      <td>...</td>\n",
       "      <td>0</td>\n",
       "      <td>0</td>\n",
       "      <td>0</td>\n",
       "      <td>0</td>\n",
       "      <td>1</td>\n",
       "      <td>0</td>\n",
       "      <td>0</td>\n",
       "      <td>0</td>\n",
       "      <td>0</td>\n",
       "      <td>0</td>\n",
       "    </tr>\n",
       "    <tr>\n",
       "      <th>1</th>\n",
       "      <td>1</td>\n",
       "      <td>0.0</td>\n",
       "      <td>0.0</td>\n",
       "      <td>0.0</td>\n",
       "      <td>0.0</td>\n",
       "      <td>0.0</td>\n",
       "      <td>0.0</td>\n",
       "      <td>0.0</td>\n",
       "      <td>0.0</td>\n",
       "      <td>0.0</td>\n",
       "      <td>...</td>\n",
       "      <td>0</td>\n",
       "      <td>0</td>\n",
       "      <td>0</td>\n",
       "      <td>0</td>\n",
       "      <td>1</td>\n",
       "      <td>0</td>\n",
       "      <td>0</td>\n",
       "      <td>0</td>\n",
       "      <td>0</td>\n",
       "      <td>0</td>\n",
       "    </tr>\n",
       "    <tr>\n",
       "      <th>2</th>\n",
       "      <td>1</td>\n",
       "      <td>0.0</td>\n",
       "      <td>0.0</td>\n",
       "      <td>0.0</td>\n",
       "      <td>0.0</td>\n",
       "      <td>0.0</td>\n",
       "      <td>0.0</td>\n",
       "      <td>0.0</td>\n",
       "      <td>0.0</td>\n",
       "      <td>0.0</td>\n",
       "      <td>...</td>\n",
       "      <td>0</td>\n",
       "      <td>1</td>\n",
       "      <td>0</td>\n",
       "      <td>0</td>\n",
       "      <td>0</td>\n",
       "      <td>0</td>\n",
       "      <td>0</td>\n",
       "      <td>0</td>\n",
       "      <td>0</td>\n",
       "      <td>0</td>\n",
       "    </tr>\n",
       "    <tr>\n",
       "      <th>3</th>\n",
       "      <td>1</td>\n",
       "      <td>0.0</td>\n",
       "      <td>0.0</td>\n",
       "      <td>0.0</td>\n",
       "      <td>0.0</td>\n",
       "      <td>0.0</td>\n",
       "      <td>0.0</td>\n",
       "      <td>0.0</td>\n",
       "      <td>0.0</td>\n",
       "      <td>0.0</td>\n",
       "      <td>...</td>\n",
       "      <td>1</td>\n",
       "      <td>0</td>\n",
       "      <td>0</td>\n",
       "      <td>0</td>\n",
       "      <td>0</td>\n",
       "      <td>0</td>\n",
       "      <td>0</td>\n",
       "      <td>0</td>\n",
       "      <td>0</td>\n",
       "      <td>0</td>\n",
       "    </tr>\n",
       "    <tr>\n",
       "      <th>4</th>\n",
       "      <td>1</td>\n",
       "      <td>0.0</td>\n",
       "      <td>0.0</td>\n",
       "      <td>0.0</td>\n",
       "      <td>0.0</td>\n",
       "      <td>0.0</td>\n",
       "      <td>0.0</td>\n",
       "      <td>0.0</td>\n",
       "      <td>0.0</td>\n",
       "      <td>0.0</td>\n",
       "      <td>...</td>\n",
       "      <td>1</td>\n",
       "      <td>0</td>\n",
       "      <td>0</td>\n",
       "      <td>0</td>\n",
       "      <td>0</td>\n",
       "      <td>0</td>\n",
       "      <td>0</td>\n",
       "      <td>0</td>\n",
       "      <td>0</td>\n",
       "      <td>0</td>\n",
       "    </tr>\n",
       "  </tbody>\n",
       "</table>\n",
       "<p>5 rows × 20434 columns</p>\n",
       "</div>"
      ],
      "text/plain": [
       "   type  'Najite Dede  4Minute  50 Cent  A. Murat Özgen  A.J. Cook  \\\n",
       "0     0           0.0      0.0      0.0             0.0        0.0   \n",
       "1     1           0.0      0.0      0.0             0.0        0.0   \n",
       "2     1           0.0      0.0      0.0             0.0        0.0   \n",
       "3     1           0.0      0.0      0.0             0.0        0.0   \n",
       "4     1           0.0      0.0      0.0             0.0        0.0   \n",
       "\n",
       "   A.J. LoCascio  A.K. Hangal  A.R. Rahman  A.S. Sasi Kumar  ...  PG-13  R  \\\n",
       "0            0.0          0.0          0.0              0.0  ...      0  0   \n",
       "1            0.0          0.0          0.0              0.0  ...      0  0   \n",
       "2            0.0          0.0          0.0              0.0  ...      0  1   \n",
       "3            0.0          0.0          0.0              0.0  ...      1  0   \n",
       "4            0.0          0.0          0.0              0.0  ...      1  0   \n",
       "\n",
       "   TV-14  TV-G  TV-MA  TV-PG  TV-Y  TV-Y7  TV-Y7-FV  UR  \n",
       "0      0     0      1      0     0      0         0   0  \n",
       "1      0     0      1      0     0      0         0   0  \n",
       "2      0     0      0      0     0      0         0   0  \n",
       "3      0     0      0      0     0      0         0   0  \n",
       "4      0     0      0      0     0      0         0   0  \n",
       "\n",
       "[5 rows x 20434 columns]"
      ]
     },
     "execution_count": 63,
     "metadata": {},
     "output_type": "execute_result"
    }
   ],
   "source": [
    "df_rec.head()"
   ]
  },
  {
   "cell_type": "markdown",
   "id": "b1719302",
   "metadata": {},
   "source": [
    "Bảng chỉ còn lại các giá trị binary. Việc tính độ tương đồng giữa các phim bây giờ sẽ rất dễ dàng."
   ]
  },
  {
   "cell_type": "code",
   "execution_count": 64,
   "id": "f5d70cee",
   "metadata": {},
   "outputs": [],
   "source": [
    "#Fill các giá trị thiếu\n",
    "df_rec=df_rec.fillna(0)"
   ]
  },
  {
   "cell_type": "code",
   "execution_count": 65,
   "id": "38cbff44",
   "metadata": {},
   "outputs": [],
   "source": [
    "#Lấy value của mảng\n",
    "v=df_rec.values"
   ]
  },
  {
   "cell_type": "code",
   "execution_count": 66,
   "id": "185ab9f3",
   "metadata": {},
   "outputs": [],
   "source": [
    "def recommend(title):\n",
    "    \n",
    "    index=df_rec.index\n",
    "\n",
    "    #Lọc title\n",
    "    cond= df_movies['title'] == title\n",
    "\n",
    "    #Index của phim đã lọc\n",
    "    i=index[cond].to_list()\n",
    "\n",
    "    #Các giá trị binary của phim\n",
    "    value=df_rec[cond].values\n",
    "    \n",
    "    if value.shape[0]!=0:\n",
    "        #Trừ để lấy khoảng cách giữa các phim\n",
    "        result=np.abs(v-value)\n",
    "\n",
    "        #Sum khoảng cách\n",
    "        distance=np.sum(result,axis=1)\n",
    "\n",
    "        #Điếm số tương đồng tỉ lệ nghịch với khoảng cách. 2 phim càng gần thì độ tương đồng càng cao.\n",
    "        score=1/(distance+1)\n",
    "\n",
    "        d=dict(Counter(score))\n",
    "\n",
    "        #Dataframe để thim các phim chúng ta recommend\n",
    "        df_sim=df_movies[['type','title','director','cast','country','rating','listed_in','description']].copy()\n",
    "        df_sim['sim_score']=score\n",
    "\n",
    "        #Sort theo sim_score\n",
    "        df_sim=df_sim.sort_values(by='sim_score',ascending=False)\n",
    "\n",
    "        # Ở đây chúng ta sẽ lấy [1:6]. Vì sim_score cao nhất = 1 sẽ chính là phim đang xét. \n",
    "        # Tuy nhiên để có thể xem được phim mình đang xét là phim gì thì chúng ta sẽ lấy luôn dòng này\n",
    "        df_sim=df_sim.iloc[0:6] #Xem luôn phim mình đang xét\n",
    "        #df_sim=df_sim.iloc[1:6] #Chỉ xem nhưng phim được recommend\n",
    "        return df_sim\n",
    "    print('Tên phim không tồn tại. Vui lòng chọn phim khác')"
   ]
  },
  {
   "cell_type": "code",
   "execution_count": 67,
   "id": "3857c375",
   "metadata": {},
   "outputs": [
    {
     "name": "stdout",
     "output_type": "stream",
     "text": [
      "Tên phim không tồn tại. Vui lòng chọn phim khác\n"
     ]
    }
   ],
   "source": [
    "recommend(\"Money Heist\")"
   ]
  },
  {
   "cell_type": "code",
   "execution_count": 68,
   "id": "bbc8be71",
   "metadata": {
    "scrolled": true
   },
   "outputs": [
    {
     "data": {
      "text/html": [
       "<div>\n",
       "<style scoped>\n",
       "    .dataframe tbody tr th:only-of-type {\n",
       "        vertical-align: middle;\n",
       "    }\n",
       "\n",
       "    .dataframe tbody tr th {\n",
       "        vertical-align: top;\n",
       "    }\n",
       "\n",
       "    .dataframe thead th {\n",
       "        text-align: right;\n",
       "    }\n",
       "</style>\n",
       "<table border=\"1\" class=\"dataframe\">\n",
       "  <thead>\n",
       "    <tr style=\"text-align: right;\">\n",
       "      <th></th>\n",
       "      <th>type</th>\n",
       "      <th>title</th>\n",
       "      <th>director</th>\n",
       "      <th>cast</th>\n",
       "      <th>country</th>\n",
       "      <th>rating</th>\n",
       "      <th>listed_in</th>\n",
       "      <th>description</th>\n",
       "      <th>sim_score</th>\n",
       "    </tr>\n",
       "  </thead>\n",
       "  <tbody>\n",
       "    <tr>\n",
       "      <th>6242</th>\n",
       "      <td>Movie</td>\n",
       "      <td>The Conjuring</td>\n",
       "      <td>[James Wan]</td>\n",
       "      <td>Vera Farmiga, Patrick Wilson, Lili Taylor, Ron...</td>\n",
       "      <td>[United States]</td>\n",
       "      <td>R</td>\n",
       "      <td>Horror Movies, Thrillers</td>\n",
       "      <td>Based on true events, this spine-chiller tells...</td>\n",
       "      <td>1.000000</td>\n",
       "    </tr>\n",
       "    <tr>\n",
       "      <th>1542</th>\n",
       "      <td>Movie</td>\n",
       "      <td>Crip Camp: A Disability Revolution</td>\n",
       "      <td>[]</td>\n",
       "      <td>NaN</td>\n",
       "      <td>[United States]</td>\n",
       "      <td>R</td>\n",
       "      <td>Documentaries</td>\n",
       "      <td>A groundbreaking summer camp galvanizes a grou...</td>\n",
       "      <td>0.111111</td>\n",
       "    </tr>\n",
       "    <tr>\n",
       "      <th>1530</th>\n",
       "      <td>Movie</td>\n",
       "      <td>Creep</td>\n",
       "      <td>[Patrick Brice]</td>\n",
       "      <td>Mark Duplass, Patrick Brice</td>\n",
       "      <td>[United States]</td>\n",
       "      <td>R</td>\n",
       "      <td>Horror Movies, Independent Movies, Thrillers</td>\n",
       "      <td>When a cash-strapped videographer takes a job ...</td>\n",
       "      <td>0.100000</td>\n",
       "    </tr>\n",
       "    <tr>\n",
       "      <th>6860</th>\n",
       "      <td>Movie</td>\n",
       "      <td>The Seven Five</td>\n",
       "      <td>[Tiller Russell]</td>\n",
       "      <td>NaN</td>\n",
       "      <td>[United States]</td>\n",
       "      <td>R</td>\n",
       "      <td>Documentaries</td>\n",
       "      <td>This riveting film examines the case of Mike D...</td>\n",
       "      <td>0.100000</td>\n",
       "    </tr>\n",
       "    <tr>\n",
       "      <th>4688</th>\n",
       "      <td>Movie</td>\n",
       "      <td>Otherhood</td>\n",
       "      <td>[]</td>\n",
       "      <td>NaN</td>\n",
       "      <td>[United Kingdom, United States]</td>\n",
       "      <td>R</td>\n",
       "      <td>Comedies</td>\n",
       "      <td>Feeling forgotten on Mother's Day, three best ...</td>\n",
       "      <td>0.100000</td>\n",
       "    </tr>\n",
       "    <tr>\n",
       "      <th>190</th>\n",
       "      <td>Movie</td>\n",
       "      <td>A Kind of Murder</td>\n",
       "      <td>[Andy Goddard]</td>\n",
       "      <td>Patrick Wilson, Jessica Biel, Vincent Kartheis...</td>\n",
       "      <td>[United States]</td>\n",
       "      <td>R</td>\n",
       "      <td>Thrillers</td>\n",
       "      <td>Obsessed with an unsolved murder case, a crime...</td>\n",
       "      <td>0.100000</td>\n",
       "    </tr>\n",
       "  </tbody>\n",
       "</table>\n",
       "</div>"
      ],
      "text/plain": [
       "       type                               title          director  \\\n",
       "6242  Movie                       The Conjuring       [James Wan]   \n",
       "1542  Movie  Crip Camp: A Disability Revolution                []   \n",
       "1530  Movie                               Creep   [Patrick Brice]   \n",
       "6860  Movie                      The Seven Five  [Tiller Russell]   \n",
       "4688  Movie                           Otherhood                []   \n",
       "190   Movie                    A Kind of Murder    [Andy Goddard]   \n",
       "\n",
       "                                                   cast  \\\n",
       "6242  Vera Farmiga, Patrick Wilson, Lili Taylor, Ron...   \n",
       "1542                                                NaN   \n",
       "1530                        Mark Duplass, Patrick Brice   \n",
       "6860                                                NaN   \n",
       "4688                                                NaN   \n",
       "190   Patrick Wilson, Jessica Biel, Vincent Kartheis...   \n",
       "\n",
       "                              country rating  \\\n",
       "6242                  [United States]      R   \n",
       "1542                  [United States]      R   \n",
       "1530                  [United States]      R   \n",
       "6860                  [United States]      R   \n",
       "4688  [United Kingdom, United States]      R   \n",
       "190                   [United States]      R   \n",
       "\n",
       "                                         listed_in  \\\n",
       "6242                      Horror Movies, Thrillers   \n",
       "1542                                 Documentaries   \n",
       "1530  Horror Movies, Independent Movies, Thrillers   \n",
       "6860                                 Documentaries   \n",
       "4688                                      Comedies   \n",
       "190                                      Thrillers   \n",
       "\n",
       "                                            description  sim_score  \n",
       "6242  Based on true events, this spine-chiller tells...   1.000000  \n",
       "1542  A groundbreaking summer camp galvanizes a grou...   0.111111  \n",
       "1530  When a cash-strapped videographer takes a job ...   0.100000  \n",
       "6860  This riveting film examines the case of Mike D...   0.100000  \n",
       "4688  Feeling forgotten on Mother's Day, three best ...   0.100000  \n",
       "190   Obsessed with an unsolved murder case, a crime...   0.100000  "
      ]
     },
     "execution_count": 68,
     "metadata": {},
     "output_type": "execute_result"
    }
   ],
   "source": [
    "recommend(\"The Conjuring\")"
   ]
  },
  {
   "cell_type": "markdown",
   "id": "dfcce381",
   "metadata": {},
   "source": [
    "The Conjuring là phim kinh dị, có rating R, của Mỹ, thể loại là Horror, Thrillers. Sau khi tìm kiếm ta thấy hệ thống recommend những phim cũng rating R, một số phim có cùng thể loại và các phim đều ở Mỹ."
   ]
  },
  {
   "cell_type": "code",
   "execution_count": 69,
   "id": "253fbf17",
   "metadata": {},
   "outputs": [
    {
     "data": {
      "text/html": [
       "<div>\n",
       "<style scoped>\n",
       "    .dataframe tbody tr th:only-of-type {\n",
       "        vertical-align: middle;\n",
       "    }\n",
       "\n",
       "    .dataframe tbody tr th {\n",
       "        vertical-align: top;\n",
       "    }\n",
       "\n",
       "    .dataframe thead th {\n",
       "        text-align: right;\n",
       "    }\n",
       "</style>\n",
       "<table border=\"1\" class=\"dataframe\">\n",
       "  <thead>\n",
       "    <tr style=\"text-align: right;\">\n",
       "      <th></th>\n",
       "      <th>type</th>\n",
       "      <th>title</th>\n",
       "      <th>director</th>\n",
       "      <th>cast</th>\n",
       "      <th>country</th>\n",
       "      <th>rating</th>\n",
       "      <th>listed_in</th>\n",
       "      <th>description</th>\n",
       "      <th>sim_score</th>\n",
       "    </tr>\n",
       "  </thead>\n",
       "  <tbody>\n",
       "    <tr>\n",
       "      <th>1089</th>\n",
       "      <td>TV Show</td>\n",
       "      <td>Breaking Bad</td>\n",
       "      <td>[]</td>\n",
       "      <td>Bryan Cranston, Aaron Paul, Anna Gunn, Dean No...</td>\n",
       "      <td>[United States]</td>\n",
       "      <td>TV-MA</td>\n",
       "      <td>Crime TV Shows, TV Dramas, TV Thrillers</td>\n",
       "      <td>A high school chemistry teacher dying of cance...</td>\n",
       "      <td>1.000000</td>\n",
       "    </tr>\n",
       "    <tr>\n",
       "      <th>1945</th>\n",
       "      <td>Movie</td>\n",
       "      <td>El Camino: A Breaking Bad Movie</td>\n",
       "      <td>[Vince Gilligan]</td>\n",
       "      <td>Aaron Paul</td>\n",
       "      <td>[United States]</td>\n",
       "      <td>TV-MA</td>\n",
       "      <td>Dramas, Thrillers</td>\n",
       "      <td>Fugitive Jesse Pinkman attempts to outrun his ...</td>\n",
       "      <td>0.142857</td>\n",
       "    </tr>\n",
       "    <tr>\n",
       "      <th>7219</th>\n",
       "      <td>TV Show</td>\n",
       "      <td>Trial By Media</td>\n",
       "      <td>[]</td>\n",
       "      <td>NaN</td>\n",
       "      <td>[United States]</td>\n",
       "      <td>TV-MA</td>\n",
       "      <td>Crime TV Shows, Docuseries</td>\n",
       "      <td>In this true crime docuseries, some of the mos...</td>\n",
       "      <td>0.125000</td>\n",
       "    </tr>\n",
       "    <tr>\n",
       "      <th>4403</th>\n",
       "      <td>TV Show</td>\n",
       "      <td>Narcoworld: Dope Stories</td>\n",
       "      <td>[]</td>\n",
       "      <td>NaN</td>\n",
       "      <td>[United States]</td>\n",
       "      <td>TV-MA</td>\n",
       "      <td>Crime TV Shows, Docuseries</td>\n",
       "      <td>Ride along as police officers and drug smuggle...</td>\n",
       "      <td>0.125000</td>\n",
       "    </tr>\n",
       "    <tr>\n",
       "      <th>1491</th>\n",
       "      <td>TV Show</td>\n",
       "      <td>Conversations with a Killer: The Ted Bundy Tapes</td>\n",
       "      <td>[]</td>\n",
       "      <td>NaN</td>\n",
       "      <td>[United States]</td>\n",
       "      <td>TV-MA</td>\n",
       "      <td>Crime TV Shows, Docuseries</td>\n",
       "      <td>Present-day interviews, archival footage and a...</td>\n",
       "      <td>0.125000</td>\n",
       "    </tr>\n",
       "    <tr>\n",
       "      <th>4292</th>\n",
       "      <td>TV Show</td>\n",
       "      <td>Murderous Affairs</td>\n",
       "      <td>[]</td>\n",
       "      <td>NaN</td>\n",
       "      <td>[United States]</td>\n",
       "      <td>TV-MA</td>\n",
       "      <td>Crime TV Shows, Docuseries</td>\n",
       "      <td>Mixing interviews with dramatic re-enactments,...</td>\n",
       "      <td>0.125000</td>\n",
       "    </tr>\n",
       "  </tbody>\n",
       "</table>\n",
       "</div>"
      ],
      "text/plain": [
       "         type                                             title  \\\n",
       "1089  TV Show                                      Breaking Bad   \n",
       "1945    Movie                   El Camino: A Breaking Bad Movie   \n",
       "7219  TV Show                                    Trial By Media   \n",
       "4403  TV Show                          Narcoworld: Dope Stories   \n",
       "1491  TV Show  Conversations with a Killer: The Ted Bundy Tapes   \n",
       "4292  TV Show                                 Murderous Affairs   \n",
       "\n",
       "              director                                               cast  \\\n",
       "1089                []  Bryan Cranston, Aaron Paul, Anna Gunn, Dean No...   \n",
       "1945  [Vince Gilligan]                                         Aaron Paul   \n",
       "7219                []                                                NaN   \n",
       "4403                []                                                NaN   \n",
       "1491                []                                                NaN   \n",
       "4292                []                                                NaN   \n",
       "\n",
       "              country rating                                listed_in  \\\n",
       "1089  [United States]  TV-MA  Crime TV Shows, TV Dramas, TV Thrillers   \n",
       "1945  [United States]  TV-MA                        Dramas, Thrillers   \n",
       "7219  [United States]  TV-MA               Crime TV Shows, Docuseries   \n",
       "4403  [United States]  TV-MA               Crime TV Shows, Docuseries   \n",
       "1491  [United States]  TV-MA               Crime TV Shows, Docuseries   \n",
       "4292  [United States]  TV-MA               Crime TV Shows, Docuseries   \n",
       "\n",
       "                                            description  sim_score  \n",
       "1089  A high school chemistry teacher dying of cance...   1.000000  \n",
       "1945  Fugitive Jesse Pinkman attempts to outrun his ...   0.142857  \n",
       "7219  In this true crime docuseries, some of the mos...   0.125000  \n",
       "4403  Ride along as police officers and drug smuggle...   0.125000  \n",
       "1491  Present-day interviews, archival footage and a...   0.125000  \n",
       "4292  Mixing interviews with dramatic re-enactments,...   0.125000  "
      ]
     },
     "execution_count": 69,
     "metadata": {},
     "output_type": "execute_result"
    }
   ],
   "source": [
    "recommend(\"Breaking Bad\")"
   ]
  },
  {
   "cell_type": "markdown",
   "id": "bdb6d27f",
   "metadata": {},
   "source": [
    "Người dùng tìm Breaking Bad sẽ được recommend các Crime TV Shows ở Mỹ khác. Vì Breaking Bad là một TV show về tội phạm nên có khả năng cao người dùng sẽ xem tiếp những TV show tội phạm khác."
   ]
  },
  {
   "cell_type": "code",
   "execution_count": 70,
   "id": "b617a19b",
   "metadata": {},
   "outputs": [
    {
     "data": {
      "text/html": [
       "<div>\n",
       "<style scoped>\n",
       "    .dataframe tbody tr th:only-of-type {\n",
       "        vertical-align: middle;\n",
       "    }\n",
       "\n",
       "    .dataframe tbody tr th {\n",
       "        vertical-align: top;\n",
       "    }\n",
       "\n",
       "    .dataframe thead th {\n",
       "        text-align: right;\n",
       "    }\n",
       "</style>\n",
       "<table border=\"1\" class=\"dataframe\">\n",
       "  <thead>\n",
       "    <tr style=\"text-align: right;\">\n",
       "      <th></th>\n",
       "      <th>type</th>\n",
       "      <th>title</th>\n",
       "      <th>director</th>\n",
       "      <th>cast</th>\n",
       "      <th>country</th>\n",
       "      <th>rating</th>\n",
       "      <th>listed_in</th>\n",
       "      <th>description</th>\n",
       "      <th>sim_score</th>\n",
       "    </tr>\n",
       "  </thead>\n",
       "  <tbody>\n",
       "    <tr>\n",
       "      <th>3508</th>\n",
       "      <td>Movie</td>\n",
       "      <td>Laatu</td>\n",
       "      <td>[Manav Shah]</td>\n",
       "      <td>Gagan Kokri, Aditi Sharma, Karamjit Anmol, Sar...</td>\n",
       "      <td>[India]</td>\n",
       "      <td>TV-PG</td>\n",
       "      <td>Comedies, Dramas, International Movies</td>\n",
       "      <td>A man who hopes to bring light to his village ...</td>\n",
       "      <td>1.000000</td>\n",
       "    </tr>\n",
       "    <tr>\n",
       "      <th>5399</th>\n",
       "      <td>Movie</td>\n",
       "      <td>Sat Shri Akaal England</td>\n",
       "      <td>[Vikram Pradhan]</td>\n",
       "      <td>Ammy Virk, Monica Gill, Karamjit Anmol, Sardar...</td>\n",
       "      <td>[India]</td>\n",
       "      <td>TV-14</td>\n",
       "      <td>Comedies, Dramas, International Movies</td>\n",
       "      <td>After several failed attempts to obtain a visa...</td>\n",
       "      <td>0.111111</td>\n",
       "    </tr>\n",
       "    <tr>\n",
       "      <th>3232</th>\n",
       "      <td>Movie</td>\n",
       "      <td>Judge Singh LLB</td>\n",
       "      <td>[Atharv Baluja]</td>\n",
       "      <td>Ravinder Grewal, B.N. Sharma, Sardar Sohi, Cha...</td>\n",
       "      <td>[India]</td>\n",
       "      <td>TV-PG</td>\n",
       "      <td>Comedies, Dramas, International Movies</td>\n",
       "      <td>Framed by a politician for committing murder, ...</td>\n",
       "      <td>0.111111</td>\n",
       "    </tr>\n",
       "    <tr>\n",
       "      <th>1259</th>\n",
       "      <td>Movie</td>\n",
       "      <td>Chadi Jawani Budhe Nu</td>\n",
       "      <td>[]</td>\n",
       "      <td>Anand</td>\n",
       "      <td>[India]</td>\n",
       "      <td>TV-PG</td>\n",
       "      <td>Comedies, International Movies, Romantic Movies</td>\n",
       "      <td>After reaching his 40th birthday, an egotistic...</td>\n",
       "      <td>0.111111</td>\n",
       "    </tr>\n",
       "    <tr>\n",
       "      <th>311</th>\n",
       "      <td>Movie</td>\n",
       "      <td>Adhugo</td>\n",
       "      <td>[]</td>\n",
       "      <td>NaN</td>\n",
       "      <td>[India]</td>\n",
       "      <td>TV-14</td>\n",
       "      <td>Comedies, International Movies, Thrillers</td>\n",
       "      <td>A fast-footed piglet named Bunty becomes an ob...</td>\n",
       "      <td>0.100000</td>\n",
       "    </tr>\n",
       "    <tr>\n",
       "      <th>484</th>\n",
       "      <td>Movie</td>\n",
       "      <td>An American in Madras</td>\n",
       "      <td>[Karan Bali]</td>\n",
       "      <td>NaN</td>\n",
       "      <td>[India]</td>\n",
       "      <td>TV-PG</td>\n",
       "      <td>Documentaries, International Movies</td>\n",
       "      <td>Extensive film clips and interviews tell the s...</td>\n",
       "      <td>0.100000</td>\n",
       "    </tr>\n",
       "  </tbody>\n",
       "</table>\n",
       "</div>"
      ],
      "text/plain": [
       "       type                   title          director  \\\n",
       "3508  Movie                   Laatu      [Manav Shah]   \n",
       "5399  Movie  Sat Shri Akaal England  [Vikram Pradhan]   \n",
       "3232  Movie         Judge Singh LLB   [Atharv Baluja]   \n",
       "1259  Movie   Chadi Jawani Budhe Nu                []   \n",
       "311   Movie                  Adhugo                []   \n",
       "484   Movie   An American in Madras      [Karan Bali]   \n",
       "\n",
       "                                                   cast  country rating  \\\n",
       "3508  Gagan Kokri, Aditi Sharma, Karamjit Anmol, Sar...  [India]  TV-PG   \n",
       "5399  Ammy Virk, Monica Gill, Karamjit Anmol, Sardar...  [India]  TV-14   \n",
       "3232  Ravinder Grewal, B.N. Sharma, Sardar Sohi, Cha...  [India]  TV-PG   \n",
       "1259                                              Anand  [India]  TV-PG   \n",
       "311                                                 NaN  [India]  TV-14   \n",
       "484                                                 NaN  [India]  TV-PG   \n",
       "\n",
       "                                            listed_in  \\\n",
       "3508           Comedies, Dramas, International Movies   \n",
       "5399           Comedies, Dramas, International Movies   \n",
       "3232           Comedies, Dramas, International Movies   \n",
       "1259  Comedies, International Movies, Romantic Movies   \n",
       "311         Comedies, International Movies, Thrillers   \n",
       "484               Documentaries, International Movies   \n",
       "\n",
       "                                            description  sim_score  \n",
       "3508  A man who hopes to bring light to his village ...   1.000000  \n",
       "5399  After several failed attempts to obtain a visa...   0.111111  \n",
       "3232  Framed by a politician for committing murder, ...   0.111111  \n",
       "1259  After reaching his 40th birthday, an egotistic...   0.111111  \n",
       "311   A fast-footed piglet named Bunty becomes an ob...   0.100000  \n",
       "484   Extensive film clips and interviews tell the s...   0.100000  "
      ]
     },
     "execution_count": 70,
     "metadata": {},
     "output_type": "execute_result"
    }
   ],
   "source": [
    "recommend(\"Laatu\")"
   ]
  },
  {
   "cell_type": "markdown",
   "id": "8f6ce05a",
   "metadata": {},
   "source": [
    "Khi tìm một phim ở Ấn Độ thì hệ thống sẽ recommend hàng loạt phim Ấn Độ cùng thể loại khác."
   ]
  },
  {
   "cell_type": "code",
   "execution_count": 71,
   "id": "30421488",
   "metadata": {},
   "outputs": [
    {
     "data": {
      "text/html": [
       "<div>\n",
       "<style scoped>\n",
       "    .dataframe tbody tr th:only-of-type {\n",
       "        vertical-align: middle;\n",
       "    }\n",
       "\n",
       "    .dataframe tbody tr th {\n",
       "        vertical-align: top;\n",
       "    }\n",
       "\n",
       "    .dataframe thead th {\n",
       "        text-align: right;\n",
       "    }\n",
       "</style>\n",
       "<table border=\"1\" class=\"dataframe\">\n",
       "  <thead>\n",
       "    <tr style=\"text-align: right;\">\n",
       "      <th></th>\n",
       "      <th>type</th>\n",
       "      <th>title</th>\n",
       "      <th>director</th>\n",
       "      <th>cast</th>\n",
       "      <th>country</th>\n",
       "      <th>rating</th>\n",
       "      <th>listed_in</th>\n",
       "      <th>description</th>\n",
       "      <th>sim_score</th>\n",
       "    </tr>\n",
       "  </thead>\n",
       "  <tbody>\n",
       "    <tr>\n",
       "      <th>1719</th>\n",
       "      <td>Movie</td>\n",
       "      <td>Destiny</td>\n",
       "      <td>[Youssef Chahine]</td>\n",
       "      <td>Nour El-Sherif, Laila Elwi, Mahmoud Hemeida, S...</td>\n",
       "      <td>[France, Egypt]</td>\n",
       "      <td>TV-14</td>\n",
       "      <td>Dramas, International Movies</td>\n",
       "      <td>In 12th-century Spain, a philosopher and his p...</td>\n",
       "      <td>1.000000</td>\n",
       "    </tr>\n",
       "    <tr>\n",
       "      <th>6327</th>\n",
       "      <td>Movie</td>\n",
       "      <td>The Emigrant</td>\n",
       "      <td>[Youssef Chahine]</td>\n",
       "      <td>Khaled El Nabawy, Hanan Turk, Yousra, Mahmoud ...</td>\n",
       "      <td>[Egypt, France]</td>\n",
       "      <td>TV-14</td>\n",
       "      <td>Dramas, International Movies</td>\n",
       "      <td>Ram leaves the nomadic life and embarks on a q...</td>\n",
       "      <td>0.142857</td>\n",
       "    </tr>\n",
       "    <tr>\n",
       "      <th>5511</th>\n",
       "      <td>Movie</td>\n",
       "      <td>Seven (Telugu)</td>\n",
       "      <td>[]</td>\n",
       "      <td>NaN</td>\n",
       "      <td>[]</td>\n",
       "      <td>TV-14</td>\n",
       "      <td>Dramas, International Movies, Romantic Movies</td>\n",
       "      <td>Multiple women report their husbands as missin...</td>\n",
       "      <td>0.111111</td>\n",
       "    </tr>\n",
       "    <tr>\n",
       "      <th>1230</th>\n",
       "      <td>Movie</td>\n",
       "      <td>Casablancas: The Man Who Loved Women</td>\n",
       "      <td>[Hubert Woroniecki]</td>\n",
       "      <td>NaN</td>\n",
       "      <td>[France]</td>\n",
       "      <td>TV-14</td>\n",
       "      <td>Documentaries, International Movies</td>\n",
       "      <td>The rise and smash success of Elite modeling a...</td>\n",
       "      <td>0.100000</td>\n",
       "    </tr>\n",
       "    <tr>\n",
       "      <th>2760</th>\n",
       "      <td>Movie</td>\n",
       "      <td>Hitler's Steel Beast</td>\n",
       "      <td>[Daniel Ablin]</td>\n",
       "      <td>NaN</td>\n",
       "      <td>[France]</td>\n",
       "      <td>TV-14</td>\n",
       "      <td>Documentaries, International Movies</td>\n",
       "      <td>Trace the history of Hitler's armored private ...</td>\n",
       "      <td>0.100000</td>\n",
       "    </tr>\n",
       "    <tr>\n",
       "      <th>5723</th>\n",
       "      <td>Movie</td>\n",
       "      <td>Sorry To Disturb</td>\n",
       "      <td>[Khaled Marei]</td>\n",
       "      <td>Ahmed Helmy, Mahmoud Hemeida, Menna Shalaby, D...</td>\n",
       "      <td>[Egypt]</td>\n",
       "      <td>TV-14</td>\n",
       "      <td>Dramas, International Movies</td>\n",
       "      <td>After losing his father, a genius yet troubled...</td>\n",
       "      <td>0.100000</td>\n",
       "    </tr>\n",
       "  </tbody>\n",
       "</table>\n",
       "</div>"
      ],
      "text/plain": [
       "       type                                 title             director  \\\n",
       "1719  Movie                               Destiny    [Youssef Chahine]   \n",
       "6327  Movie                          The Emigrant    [Youssef Chahine]   \n",
       "5511  Movie                        Seven (Telugu)                   []   \n",
       "1230  Movie  Casablancas: The Man Who Loved Women  [Hubert Woroniecki]   \n",
       "2760  Movie                  Hitler's Steel Beast       [Daniel Ablin]   \n",
       "5723  Movie                      Sorry To Disturb       [Khaled Marei]   \n",
       "\n",
       "                                                   cast          country  \\\n",
       "1719  Nour El-Sherif, Laila Elwi, Mahmoud Hemeida, S...  [France, Egypt]   \n",
       "6327  Khaled El Nabawy, Hanan Turk, Yousra, Mahmoud ...  [Egypt, France]   \n",
       "5511                                                NaN               []   \n",
       "1230                                                NaN         [France]   \n",
       "2760                                                NaN         [France]   \n",
       "5723  Ahmed Helmy, Mahmoud Hemeida, Menna Shalaby, D...          [Egypt]   \n",
       "\n",
       "     rating                                      listed_in  \\\n",
       "1719  TV-14                   Dramas, International Movies   \n",
       "6327  TV-14                   Dramas, International Movies   \n",
       "5511  TV-14  Dramas, International Movies, Romantic Movies   \n",
       "1230  TV-14            Documentaries, International Movies   \n",
       "2760  TV-14            Documentaries, International Movies   \n",
       "5723  TV-14                   Dramas, International Movies   \n",
       "\n",
       "                                            description  sim_score  \n",
       "1719  In 12th-century Spain, a philosopher and his p...   1.000000  \n",
       "6327  Ram leaves the nomadic life and embarks on a q...   0.142857  \n",
       "5511  Multiple women report their husbands as missin...   0.111111  \n",
       "1230  The rise and smash success of Elite modeling a...   0.100000  \n",
       "2760  Trace the history of Hitler's armored private ...   0.100000  \n",
       "5723  After losing his father, a genius yet troubled...   0.100000  "
      ]
     },
     "execution_count": 71,
     "metadata": {},
     "output_type": "execute_result"
    }
   ],
   "source": [
    "recommend(\"Destiny\")"
   ]
  },
  {
   "cell_type": "markdown",
   "id": "e436242f",
   "metadata": {},
   "source": [
    "Đây là trường hợp khi một director làm nhiều phim thì hệ thống sẽ recommend các phim khác của director đó."
   ]
  },
  {
   "cell_type": "markdown",
   "id": "78034495-ee54-45a7-907e-0506579da828",
   "metadata": {},
   "source": [
    "## 2. *Đạo diễn nào đóng phim của chính họ? Qua đó nhận xét tỷ lệ giữa TV Show và Movie mà đạo diễn đó thực hiện và top 10 đạo diễn nhưng có khả năng diễn xuất cùng số lượng mỗi loại chương trình họ thực hiện.*"
   ]
  },
  {
   "cell_type": "markdown",
   "id": "13397636-d1d9-4d7e-be1a-d7b105091667",
   "metadata": {},
   "source": [
    "**Ý nghĩa:**\n",
    "- Việc tìm ra câu trả lời cho câu hỏi này sẽ giúp ta có nhận thức về việc diễn viên trở thành đạo diễn như trường hợp của Ngô Thanh Vân hay Trấn Thành hay Lý Tiểu Long có phổ biến hay không.\n",
    "- Với việc lọc ra top 10, ta cần biết liệu những diễn viên đứng đầu có thể tiếp tục sản xuất những bộ phim mình đạo diễn hay sẽ nhanh chóng gặp trở ngại vì quá nhiều công việc."
   ]
  },
  {
   "cell_type": "markdown",
   "id": "762f70fd-daa7-42eb-b6e9-59280fd25f20",
   "metadata": {},
   "source": [
    "**Quy trình**\n",
    "- Vì quá trình tiền xử lý nhóm đã làm khá kĩ, nên chúng ta có thể tiếp tục phân tích mà không cần tiền xử lý.\n",
    "- Tìm xem liệu có tồn tại những phim mà có đạo diễn cũng chính là diễn viên trong phim đó.\n",
    "- Nếu bước trên tồn tại, ta cần tìm hiểu xem là thể loại nào chiếm ưu thế? Movie hay TV Shows. Mục đích là để hiểu thêm rằng những đạo diễn - diễn viễn đó sẽ chọn những thể loại nào để sản xuất. \n",
    "- Lọc ra top 10 đạo diễn - diễn viên cùng với thể loại họ thường có xu hướng đạo diễn."
   ]
  },
  {
   "cell_type": "code",
   "execution_count": 72,
   "id": "128784b1-2d91-4a26-88cf-628313725321",
   "metadata": {},
   "outputs": [
    {
     "name": "stdout",
     "output_type": "stream",
     "text": [
      "Tồn tại 308 phim là có đạo diễn cũng đóng 1 trong các vai chính của bộ phim đó.\n",
      "Vài ví dụ về những phim đó gồm:\n"
     ]
    },
    {
     "data": {
      "text/html": [
       "<div>\n",
       "<style scoped>\n",
       "    .dataframe tbody tr th:only-of-type {\n",
       "        vertical-align: middle;\n",
       "    }\n",
       "\n",
       "    .dataframe tbody tr th {\n",
       "        vertical-align: top;\n",
       "    }\n",
       "\n",
       "    .dataframe thead th {\n",
       "        text-align: right;\n",
       "    }\n",
       "</style>\n",
       "<table border=\"1\" class=\"dataframe\">\n",
       "  <thead>\n",
       "    <tr style=\"text-align: right;\">\n",
       "      <th></th>\n",
       "      <th>type</th>\n",
       "      <th>title</th>\n",
       "      <th>director</th>\n",
       "      <th>country</th>\n",
       "      <th>title_postfix</th>\n",
       "      <th>title_prefix</th>\n",
       "      <th>cast_array</th>\n",
       "      <th>min</th>\n",
       "      <th>season</th>\n",
       "      <th>listed_in_array</th>\n",
       "    </tr>\n",
       "  </thead>\n",
       "  <tbody>\n",
       "    <tr>\n",
       "      <th>337</th>\n",
       "      <td>TV Show</td>\n",
       "      <td>Age of Rebellion</td>\n",
       "      <td>[Peter Ho]</td>\n",
       "      <td>[Taiwan]</td>\n",
       "      <td>NaN</td>\n",
       "      <td>Age of Rebellion</td>\n",
       "      <td>[Peter Ho, Jeanine Yang, Tammy Chen, Jason Tso...</td>\n",
       "      <td>NaN</td>\n",
       "      <td>1.0</td>\n",
       "      <td>[Crime TV Shows, International TV Shows, Dramas]</td>\n",
       "    </tr>\n",
       "    <tr>\n",
       "      <th>594</th>\n",
       "      <td>Movie</td>\n",
       "      <td>Asees</td>\n",
       "      <td>[Rana Ranbir]</td>\n",
       "      <td>[India]</td>\n",
       "      <td>NaN</td>\n",
       "      <td>Asees</td>\n",
       "      <td>[Rana Ranbir, Neha Pawar, Kuljinder Sidhu, Rup...</td>\n",
       "      <td>123.0</td>\n",
       "      <td>NaN</td>\n",
       "      <td>[Dramas, International Movies, Music &amp; Musicals]</td>\n",
       "    </tr>\n",
       "    <tr>\n",
       "      <th>3230</th>\n",
       "      <td>Movie</td>\n",
       "      <td>Judah Friedlander: America Is the Greatest Cou...</td>\n",
       "      <td>[Judah Friedlander]</td>\n",
       "      <td>[United States]</td>\n",
       "      <td>America Is the Greatest Country in the United...</td>\n",
       "      <td>Judah Friedlander</td>\n",
       "      <td>[Judah Friedlander]</td>\n",
       "      <td>84.0</td>\n",
       "      <td>NaN</td>\n",
       "      <td>[Stand-Up Comedy]</td>\n",
       "    </tr>\n",
       "    <tr>\n",
       "      <th>3599</th>\n",
       "      <td>Movie</td>\n",
       "      <td>Lens</td>\n",
       "      <td>[Jayaprakash Radhakrishnan]</td>\n",
       "      <td>[India]</td>\n",
       "      <td>NaN</td>\n",
       "      <td>Lens</td>\n",
       "      <td>[Jayaprakash Radhakrishnan, Anand Sami, Aswath...</td>\n",
       "      <td>109.0</td>\n",
       "      <td>NaN</td>\n",
       "      <td>[Dramas, Independent Movies, International Mov...</td>\n",
       "    </tr>\n",
       "    <tr>\n",
       "      <th>5245</th>\n",
       "      <td>Movie</td>\n",
       "      <td>Rocky Handsome</td>\n",
       "      <td>[Nishikant Kamat]</td>\n",
       "      <td>[India]</td>\n",
       "      <td>NaN</td>\n",
       "      <td>Rocky Handsome</td>\n",
       "      <td>[John Abraham, Diya Chalwad, Shruti Haasan, Ni...</td>\n",
       "      <td>119.0</td>\n",
       "      <td>NaN</td>\n",
       "      <td>[Action &amp; Adventure, International Movies]</td>\n",
       "    </tr>\n",
       "    <tr>\n",
       "      <th>3651</th>\n",
       "      <td>Movie</td>\n",
       "      <td>Lionheart</td>\n",
       "      <td>[Genevieve Nnaji]</td>\n",
       "      <td>[Nigeria]</td>\n",
       "      <td>NaN</td>\n",
       "      <td>Lionheart</td>\n",
       "      <td>[Genevieve Nnaji, Nkem Owoh, Pete Edochie, Ony...</td>\n",
       "      <td>95.0</td>\n",
       "      <td>NaN</td>\n",
       "      <td>[Comedies, Dramas, Independent Movies]</td>\n",
       "    </tr>\n",
       "    <tr>\n",
       "      <th>6487</th>\n",
       "      <td>Movie</td>\n",
       "      <td>The Incredibles 2</td>\n",
       "      <td>[Brad Bird]</td>\n",
       "      <td>[United States]</td>\n",
       "      <td>NaN</td>\n",
       "      <td>The Incredibles 2</td>\n",
       "      <td>[Craig T. Nelson, Holly Hunter, Samuel L. Jack...</td>\n",
       "      <td>118.0</td>\n",
       "      <td>NaN</td>\n",
       "      <td>[Children &amp; Family Movies, Comedies]</td>\n",
       "    </tr>\n",
       "    <tr>\n",
       "      <th>3260</th>\n",
       "      <td>Movie</td>\n",
       "      <td>Justine</td>\n",
       "      <td>[Stephanie Turner]</td>\n",
       "      <td>[United States]</td>\n",
       "      <td>NaN</td>\n",
       "      <td>Justine</td>\n",
       "      <td>[Stephanie Turner, Glynn Turman, Daisy Prescot...</td>\n",
       "      <td>106.0</td>\n",
       "      <td>NaN</td>\n",
       "      <td>[Dramas, Independent Movies]</td>\n",
       "    </tr>\n",
       "    <tr>\n",
       "      <th>5376</th>\n",
       "      <td>Movie</td>\n",
       "      <td>Sangam</td>\n",
       "      <td>[Raj Kapoor]</td>\n",
       "      <td>[India]</td>\n",
       "      <td>NaN</td>\n",
       "      <td>Sangam</td>\n",
       "      <td>[Raj Kapoor, Vyjayanthimala, Rajendra Kumar, L...</td>\n",
       "      <td>228.0</td>\n",
       "      <td>NaN</td>\n",
       "      <td>[Classic Movies, Dramas, International Movies]</td>\n",
       "    </tr>\n",
       "    <tr>\n",
       "      <th>4675</th>\n",
       "      <td>Movie</td>\n",
       "      <td>Opium and the Kung Fu Master</td>\n",
       "      <td>[Chia Tang]</td>\n",
       "      <td>[Hong Kong]</td>\n",
       "      <td>NaN</td>\n",
       "      <td>Opium and the Kung Fu Master</td>\n",
       "      <td>[Lung Ti, Te-Lo Mai, Leanne Liu, Kuan Tai Chen...</td>\n",
       "      <td>86.0</td>\n",
       "      <td>NaN</td>\n",
       "      <td>[Action &amp; Adventure, International Movies]</td>\n",
       "    </tr>\n",
       "  </tbody>\n",
       "</table>\n",
       "</div>"
      ],
      "text/plain": [
       "         type                                              title  \\\n",
       "337   TV Show                                   Age of Rebellion   \n",
       "594     Movie                                              Asees   \n",
       "3230    Movie  Judah Friedlander: America Is the Greatest Cou...   \n",
       "3599    Movie                                               Lens   \n",
       "5245    Movie                                     Rocky Handsome   \n",
       "3651    Movie                                          Lionheart   \n",
       "6487    Movie                                  The Incredibles 2   \n",
       "3260    Movie                                            Justine   \n",
       "5376    Movie                                             Sangam   \n",
       "4675    Movie                       Opium and the Kung Fu Master   \n",
       "\n",
       "                         director          country  \\\n",
       "337                    [Peter Ho]         [Taiwan]   \n",
       "594                 [Rana Ranbir]          [India]   \n",
       "3230          [Judah Friedlander]  [United States]   \n",
       "3599  [Jayaprakash Radhakrishnan]          [India]   \n",
       "5245            [Nishikant Kamat]          [India]   \n",
       "3651            [Genevieve Nnaji]        [Nigeria]   \n",
       "6487                  [Brad Bird]  [United States]   \n",
       "3260           [Stephanie Turner]  [United States]   \n",
       "5376                 [Raj Kapoor]          [India]   \n",
       "4675                  [Chia Tang]      [Hong Kong]   \n",
       "\n",
       "                                          title_postfix  \\\n",
       "337                                                 NaN   \n",
       "594                                                 NaN   \n",
       "3230   America Is the Greatest Country in the United...   \n",
       "3599                                                NaN   \n",
       "5245                                                NaN   \n",
       "3651                                                NaN   \n",
       "6487                                                NaN   \n",
       "3260                                                NaN   \n",
       "5376                                                NaN   \n",
       "4675                                                NaN   \n",
       "\n",
       "                      title_prefix  \\\n",
       "337               Age of Rebellion   \n",
       "594                          Asees   \n",
       "3230             Judah Friedlander   \n",
       "3599                          Lens   \n",
       "5245                Rocky Handsome   \n",
       "3651                     Lionheart   \n",
       "6487             The Incredibles 2   \n",
       "3260                       Justine   \n",
       "5376                        Sangam   \n",
       "4675  Opium and the Kung Fu Master   \n",
       "\n",
       "                                             cast_array    min  season  \\\n",
       "337   [Peter Ho, Jeanine Yang, Tammy Chen, Jason Tso...    NaN     1.0   \n",
       "594   [Rana Ranbir, Neha Pawar, Kuljinder Sidhu, Rup...  123.0     NaN   \n",
       "3230                                [Judah Friedlander]   84.0     NaN   \n",
       "3599  [Jayaprakash Radhakrishnan, Anand Sami, Aswath...  109.0     NaN   \n",
       "5245  [John Abraham, Diya Chalwad, Shruti Haasan, Ni...  119.0     NaN   \n",
       "3651  [Genevieve Nnaji, Nkem Owoh, Pete Edochie, Ony...   95.0     NaN   \n",
       "6487  [Craig T. Nelson, Holly Hunter, Samuel L. Jack...  118.0     NaN   \n",
       "3260  [Stephanie Turner, Glynn Turman, Daisy Prescot...  106.0     NaN   \n",
       "5376  [Raj Kapoor, Vyjayanthimala, Rajendra Kumar, L...  228.0     NaN   \n",
       "4675  [Lung Ti, Te-Lo Mai, Leanne Liu, Kuan Tai Chen...   86.0     NaN   \n",
       "\n",
       "                                        listed_in_array  \n",
       "337    [Crime TV Shows, International TV Shows, Dramas]  \n",
       "594    [Dramas, International Movies, Music & Musicals]  \n",
       "3230                                  [Stand-Up Comedy]  \n",
       "3599  [Dramas, Independent Movies, International Mov...  \n",
       "5245         [Action & Adventure, International Movies]  \n",
       "3651             [Comedies, Dramas, Independent Movies]  \n",
       "6487               [Children & Family Movies, Comedies]  \n",
       "3260                       [Dramas, Independent Movies]  \n",
       "5376     [Classic Movies, Dramas, International Movies]  \n",
       "4675         [Action & Adventure, International Movies]  "
      ]
     },
     "execution_count": 72,
     "metadata": {},
     "output_type": "execute_result"
    }
   ],
   "source": [
    "# Lấy danh sách những đạo diễn có tham gia diễn xuất trong phim của mình.\n",
    "bool_has_director_act = df_movies.loc[:,['director','cast_array']]\\\n",
    "         .apply(lambda x: any(director in x.loc['cast_array'] for director in x.loc['director']) \\\n",
    "                if len(x.loc['director']) > 0 else False,axis=1)\n",
    "\n",
    "print(f\"Tồn tại {np.sum(bool_has_director_act)} phim là có đạo diễn cũng đóng 1 trong các vai chính của bộ phim đó.\")\n",
    "print(\"Vài ví dụ về những phim đó gồm:\")\n",
    "list_df = df_movies.loc[bool_has_director_act,\n",
    "              ['type', 'title', 'director', 'country','title_postfix', 'title_prefix', 'cast_array', 'min', 'season','listed_in_array']]\n",
    "list_df.sample(10)"
   ]
  },
  {
   "cell_type": "code",
   "execution_count": 73,
   "id": "f97115e6-58af-4dc3-a4af-f6901db0f528",
   "metadata": {},
   "outputs": [
    {
     "data": {
      "image/png": "[encoded data removed]",
      "text/plain": [
       "<Figure size 1080x360 with 1 Axes>"
      ]
     },
     "metadata": {},
     "output_type": "display_data"
    }
   ],
   "source": [
    "# Kiểm tra loại phim nào mà đạo diễn có tham gia diễn xuất nhiều hơn\n",
    "all_type_df = pd.DataFrame(list_df['type'].value_counts())\n",
    "ax = all_type_df.plot(kind='pie', legend=True, title='Biểu đồ cho thấy số lượng tương ứng loại chương trình', \n",
    "                     subplots=True,autopct='%1.2f%%', figsize=(15,5), ylabel='')\n",
    "\n",
    "plt.show()"
   ]
  },
  {
   "cell_type": "markdown",
   "id": "964b2118-b621-47a8-8161-35df41ee54e2",
   "metadata": {},
   "source": [
    "*Nhận xét:*\n",
    "- Vậy phần lớn đạo diễn thích chỉ đạo và diễn những phim lẻ hơn là những phim bộ."
   ]
  },
  {
   "cell_type": "code",
   "execution_count": 74,
   "id": "a97fb55e-4fef-410f-b987-0b441dbf2dd4",
   "metadata": {},
   "outputs": [
    {
     "name": "stdout",
     "output_type": "stream",
     "text": [
      "Có 331 đạo diễn trên 4478 đạo diễn là có tham gia đóng phim của chính họ,tương đương với tỷ lệ 7.000000000000001%\n",
      "\n",
      "Top 10 đạo diễn có tham gia đóng phim của chính họ\n"
     ]
    },
    {
     "data": {
      "text/html": [
       "<div>\n",
       "<style scoped>\n",
       "    .dataframe tbody tr th:only-of-type {\n",
       "        vertical-align: middle;\n",
       "    }\n",
       "\n",
       "    .dataframe tbody tr th {\n",
       "        vertical-align: top;\n",
       "    }\n",
       "\n",
       "    .dataframe thead th {\n",
       "        text-align: right;\n",
       "    }\n",
       "</style>\n",
       "<table border=\"1\" class=\"dataframe\">\n",
       "  <thead>\n",
       "    <tr style=\"text-align: right;\">\n",
       "      <th></th>\n",
       "      <th>Name</th>\n",
       "    </tr>\n",
       "  </thead>\n",
       "  <tbody>\n",
       "    <tr>\n",
       "      <th>326</th>\n",
       "      <td>Yılmaz Erdoğan</td>\n",
       "    </tr>\n",
       "    <tr>\n",
       "      <th>223</th>\n",
       "      <td>Omoni Oboli</td>\n",
       "    </tr>\n",
       "    <tr>\n",
       "      <th>147</th>\n",
       "      <td>John Paul Tremblay</td>\n",
       "    </tr>\n",
       "    <tr>\n",
       "      <th>201</th>\n",
       "      <td>Mike Smith</td>\n",
       "    </tr>\n",
       "    <tr>\n",
       "      <th>257</th>\n",
       "      <td>Robb Wells</td>\n",
       "    </tr>\n",
       "    <tr>\n",
       "      <th>255</th>\n",
       "      <td>Ricky Gervais</td>\n",
       "    </tr>\n",
       "    <tr>\n",
       "      <th>297</th>\n",
       "      <td>Sylvester Stallone</td>\n",
       "    </tr>\n",
       "    <tr>\n",
       "      <th>178</th>\n",
       "      <td>Louis C.K.</td>\n",
       "    </tr>\n",
       "    <tr>\n",
       "      <th>217</th>\n",
       "      <td>Note Chern-Yim</td>\n",
       "    </tr>\n",
       "    <tr>\n",
       "      <th>250</th>\n",
       "      <td>Rano Karno</td>\n",
       "    </tr>\n",
       "  </tbody>\n",
       "</table>\n",
       "</div>"
      ],
      "text/plain": [
       "                   Name\n",
       "326      Yılmaz Erdoğan\n",
       "223         Omoni Oboli\n",
       "147  John Paul Tremblay\n",
       "201          Mike Smith\n",
       "257          Robb Wells\n",
       "255       Ricky Gervais\n",
       "297  Sylvester Stallone\n",
       "178          Louis C.K.\n",
       "217      Note Chern-Yim\n",
       "250          Rano Karno"
      ]
     },
     "execution_count": 74,
     "metadata": {},
     "output_type": "execute_result"
    }
   ],
   "source": [
    "# Lấy danh sách những đạo diễn - diễn viên top đầu\n",
    "list_director, count_director = np.unique(np.sum(list_df['director']),return_counts=True)\n",
    "\n",
    "director_df = pd.DataFrame(data=list(zip(list_director, count_director)),columns=['Name','Count'])\\\n",
    "                .sort_values(by=['Count'], ascending=False)\\\n",
    "                .drop(columns=['Count'])\n",
    "\n",
    "number_director_cast = len(list_director)\n",
    "number_all_director = len(np.unique(df_movies.loc[:,'director'].sum()))\n",
    "print(f\"Có {number_director_cast} đạo diễn trên {number_all_director} đạo diễn là có tham gia đóng phim của chính họ,\\\n",
    "tương đương với tỷ lệ {np.round(number_director_cast / number_all_director,decimals=2)*100}%\")\n",
    "\n",
    "top_10_director = director_df.head(10)\n",
    "\n",
    "print(f'\\nTop 10 đạo diễn có tham gia đóng phim của chính họ')\n",
    "top_10_director"
   ]
  },
  {
   "cell_type": "code",
   "execution_count": 75,
   "id": "2c06e160-2294-44de-be3e-e6b7fff16d4e",
   "metadata": {},
   "outputs": [
    {
     "data": {
      "text/html": [
       "<div>\n",
       "<style scoped>\n",
       "    .dataframe tbody tr th:only-of-type {\n",
       "        vertical-align: middle;\n",
       "    }\n",
       "\n",
       "    .dataframe tbody tr th {\n",
       "        vertical-align: top;\n",
       "    }\n",
       "\n",
       "    .dataframe thead th {\n",
       "        text-align: right;\n",
       "    }\n",
       "</style>\n",
       "<table border=\"1\" class=\"dataframe\">\n",
       "  <thead>\n",
       "    <tr style=\"text-align: right;\">\n",
       "      <th>type</th>\n",
       "      <th>Movie</th>\n",
       "      <th>TV Show</th>\n",
       "    </tr>\n",
       "    <tr>\n",
       "      <th>Director</th>\n",
       "      <th></th>\n",
       "      <th></th>\n",
       "    </tr>\n",
       "  </thead>\n",
       "  <tbody>\n",
       "    <tr>\n",
       "      <th>Yılmaz Erdoğan</th>\n",
       "      <td>7</td>\n",
       "      <td>0</td>\n",
       "    </tr>\n",
       "    <tr>\n",
       "      <th>Omoni Oboli</th>\n",
       "      <td>6</td>\n",
       "      <td>0</td>\n",
       "    </tr>\n",
       "    <tr>\n",
       "      <th>John Paul Tremblay</th>\n",
       "      <td>4</td>\n",
       "      <td>1</td>\n",
       "    </tr>\n",
       "    <tr>\n",
       "      <th>Mike Smith</th>\n",
       "      <td>4</td>\n",
       "      <td>1</td>\n",
       "    </tr>\n",
       "    <tr>\n",
       "      <th>Robb Wells</th>\n",
       "      <td>4</td>\n",
       "      <td>1</td>\n",
       "    </tr>\n",
       "    <tr>\n",
       "      <th>Ricky Gervais</th>\n",
       "      <td>3</td>\n",
       "      <td>0</td>\n",
       "    </tr>\n",
       "    <tr>\n",
       "      <th>Sylvester Stallone</th>\n",
       "      <td>3</td>\n",
       "      <td>0</td>\n",
       "    </tr>\n",
       "    <tr>\n",
       "      <th>Louis C.K.</th>\n",
       "      <td>3</td>\n",
       "      <td>0</td>\n",
       "    </tr>\n",
       "    <tr>\n",
       "      <th>Note Chern-Yim</th>\n",
       "      <td>3</td>\n",
       "      <td>0</td>\n",
       "    </tr>\n",
       "    <tr>\n",
       "      <th>Rano Karno</th>\n",
       "      <td>3</td>\n",
       "      <td>0</td>\n",
       "    </tr>\n",
       "  </tbody>\n",
       "</table>\n",
       "</div>"
      ],
      "text/plain": [
       "type                Movie  TV Show\n",
       "Director                          \n",
       "Yılmaz Erdoğan          7        0\n",
       "Omoni Oboli             6        0\n",
       "John Paul Tremblay      4        1\n",
       "Mike Smith              4        1\n",
       "Robb Wells              4        1\n",
       "Ricky Gervais           3        0\n",
       "Sylvester Stallone      3        0\n",
       "Louis C.K.              3        0\n",
       "Note Chern-Yim          3        0\n",
       "Rano Karno              3        0"
      ]
     },
     "execution_count": 75,
     "metadata": {},
     "output_type": "execute_result"
    }
   ],
   "source": [
    "# Xem những đạo diễn - diễn viên top đầu đóng thiên về loại phim gì\n",
    "def f_director_cast_unique(x):\n",
    "    list_director, count_director = np.unique(np.sum(x.loc[:,'director']),return_counts=True)\n",
    "    \n",
    "    director_by_type_df = pd.DataFrame(data=list(zip(list_director, count_director)),columns=['Director','Count'])\\\n",
    "                           .sort_values(by=['Count'], ascending=False)\\\n",
    "                           .set_index('Director')\n",
    "    \n",
    "    return director_by_type_df\n",
    "\n",
    "list_director_cast_group = list_df.groupby(by=['type']).apply(lambda x: f_director_cast_unique(x)).unstack(0)\n",
    "\n",
    "list_director_cast_group.columns = list_director_cast_group.columns.get_level_values(1)\n",
    "\n",
    "list_director_cast_group = list_director_cast_group.fillna(value=0).astype(np.int32)\n",
    "\n",
    "list_director_cast_group = list_director_cast_group.loc[top_10_director['Name'],:]\n",
    "\n",
    "list_director_cast_group"
   ]
  },
  {
   "cell_type": "markdown",
   "id": "3254fd33-eea4-4d45-9617-20e8cc28fec5",
   "metadata": {},
   "source": [
    "**Nhận xét**\n",
    "- Có những đạo diễn diễn cả phim lẻ lẫn phim bộ, nhưng họ vẫn thực hiện số phim lẻ nhiều hơn, có lẽ vì việc chiếu rạp sẽ có doanh thu nhiều hơn.\n",
    "- Những đạo diễn trên phần lớn thuộc về các nước Mỹ, Canada, Anh, Indonesia, Thái Lan; mặc dù theo khám phá dữ liệu ở trên, số lượng phim của Mỹ và Ấn Độ là chiếm hơn 60% nhưng số người vừa đạo diễn vừa là diễn viên là khá ít. Như vậy, khi ta tập trung một một công việc, tỷ lệ thành công của công việc đó sẽ cao hơn rất nhiều so với cùng làm nhiều công việc cùng lúc (93% so với 7%). \n",
    "- Có 331 đạo diễn có đóng phim của mình nhưng lại có 308 phim, do đó, có những phim có ít nhất 2 đạo diễn là diễn viên.\n",
    "- 7% không phải là con số thể hiện việc hiếm xảy ra, do đó, có khả năng là tỷ lệ số diễn viên tự sản xuất bộ phim cho chính mình đang dần được hình thành mạnh lên."
   ]
  },
  {
   "cell_type": "markdown",
   "id": "319a7865-cfe4-4d24-8bc6-2c4f0dbec1c3",
   "metadata": {},
   "source": [
    "## 3. *Vẽ biểu đồ miền thể hiện tỷ lệ phim của 10 nước (có tổng số phim nhiều nhất ở Netflix) qua từng năm. Đồng thời đánh giá sự phát triển về số lượng phim được đánh giá cao qua từng năm của các quốc gia đó. Cho biết Việt Nam có phù hợp tình hình chung đó không?*"
   ]
  },
  {
   "cell_type": "markdown",
   "id": "826b8d9b-4848-4172-9356-eebd594c7ce2",
   "metadata": {},
   "source": [
    "**Ý nghĩa:**\n",
    "- Việc tìm ra câu trả lời cho câu hỏi này sẽ giúp ta có cái nhìn tổng quan về tình hình các nước trên thế giới và phán đoán khả năng phát triển của Việt Nam:\n",
    ">*Thế giới*: Mặc dù 10 nước trên có số lượng phim trên Netflix rất cao, và ta sẽ cần xem xét môi trường cạnh tranh khốc liệt như thế nào.  \n",
    ">*Việt Nam*: Kiểm tra xem Viêt Nam so với thế giới như thế nào, hiểu được việc phim Việt Nam khi ra môi trường thế giới sẽ đối mặt với những vấn đề gì.\n",
    "- Liệu dịch COVID-19 có ảnh hưởng gì tới các nước trong việc sản xuất phim và chương trình mới.\n",
    "- Với việc phân tích này, chúng ta cũng phần nào nắm bắt được thị trường mà Netfix trong những năm trước 2021 tập trung vào."
   ]
  },
  {
   "cell_type": "markdown",
   "id": "cdd6cbea-92d4-4a96-b048-2635617164ec",
   "metadata": {},
   "source": [
    "**Quy trình:**\n",
    "- Đầu tiên ta sẽ lọc ra nước có tổng số phim trên Netflix nhiều nhất rồi từ đó vẽ biểu đồ miền và biểu đồ đường để hiểu rõ mức chênh lệch về tổng số phim để xem tình hình giữa các nước có cạnh tranh như thế nào và Netflix đang chuyển thêm thị trường nào.\n",
    "- Sau đó mới tiến hành xem xét tình hình sản xuất phim được đánh giá cao ở Việt Nam."
   ]
  },
  {
   "cell_type": "markdown",
   "id": "e4fe935e-f0fc-44c3-a897-3c7cd372a759",
   "metadata": {},
   "source": [
    "- *Trong bước này ta sẽ tìm ra 10 nước có tổng số lượng phim nhiều nhất ở Netflix*"
   ]
  },
  {
   "cell_type": "code",
   "execution_count": 76,
   "id": "90302bc5-9d68-4803-b348-e86e418515c7",
   "metadata": {},
   "outputs": [
    {
     "data": {
      "text/plain": [
       "111     United States\n",
       "43              India\n",
       "110    United Kingdom\n",
       "19             Canada\n",
       "34             France\n",
       "51              Japan\n",
       "98              Spain\n",
       "96        South Korea\n",
       "36            Germany\n",
       "65             Mexico\n",
       "Name: Country, dtype: object"
      ]
     },
     "execution_count": 76,
     "metadata": {},
     "output_type": "execute_result"
    }
   ],
   "source": [
    "# Loại bỏ những phim hay chương trình không rõ được quay ở nước nào\n",
    "is_not_nan_list_country = df_movies['country'].apply(lambda x: True if x != ['nan'] else False)\n",
    "\n",
    "# Liệt kê danh sách các nước đồng thời đếm số lần nước đó có cung cấp cảnh diễn\n",
    "list_country, count_country = np.unique(np.sum(df_movies.loc[is_not_nan_list_country,'country']),return_counts=True)\n",
    "\n",
    "country_df = pd.DataFrame(data=list(zip(list_country, count_country)),columns=['Country','Count'])\\\n",
    "                .sort_values(by=['Count'], ascending=False)\\\n",
    "                .drop(columns=['Count'])\n",
    "\n",
    "# Lọc ra 10 nước có tổng số phim nhiều nhất\n",
    "top_10_country = country_df.loc[:,'Country'].head(10)\n",
    "\n",
    "top_10_country"
   ]
  },
  {
   "cell_type": "markdown",
   "id": "c177d7c8-5b85-42b2-bd11-1209dc64fd0c",
   "metadata": {},
   "source": [
    "- *Chuyển danh sách về bảng theo từng năm và theo từng nước*"
   ]
  },
  {
   "cell_type": "code",
   "execution_count": 77,
   "id": "c236df12-8420-44fd-922d-7f3849700377",
   "metadata": {},
   "outputs": [
    {
     "data": {
      "text/html": [
       "<div>\n",
       "<style scoped>\n",
       "    .dataframe tbody tr th:only-of-type {\n",
       "        vertical-align: middle;\n",
       "    }\n",
       "\n",
       "    .dataframe tbody tr th {\n",
       "        vertical-align: top;\n",
       "    }\n",
       "\n",
       "    .dataframe thead th {\n",
       "        text-align: right;\n",
       "    }\n",
       "</style>\n",
       "<table border=\"1\" class=\"dataframe\">\n",
       "  <thead>\n",
       "    <tr style=\"text-align: right;\">\n",
       "      <th>Country</th>\n",
       "      <th>United States</th>\n",
       "      <th>India</th>\n",
       "      <th>United Kingdom</th>\n",
       "      <th>Canada</th>\n",
       "      <th>France</th>\n",
       "      <th>Japan</th>\n",
       "      <th>Spain</th>\n",
       "      <th>South Korea</th>\n",
       "      <th>Germany</th>\n",
       "      <th>Mexico</th>\n",
       "    </tr>\n",
       "    <tr>\n",
       "      <th>year_added</th>\n",
       "      <th></th>\n",
       "      <th></th>\n",
       "      <th></th>\n",
       "      <th></th>\n",
       "      <th></th>\n",
       "      <th></th>\n",
       "      <th></th>\n",
       "      <th></th>\n",
       "      <th></th>\n",
       "      <th></th>\n",
       "    </tr>\n",
       "  </thead>\n",
       "  <tbody>\n",
       "    <tr>\n",
       "      <th>2004</th>\n",
       "      <td>2</td>\n",
       "      <td>0</td>\n",
       "      <td>0</td>\n",
       "      <td>0</td>\n",
       "      <td>0</td>\n",
       "      <td>0</td>\n",
       "      <td>0</td>\n",
       "      <td>0</td>\n",
       "      <td>0</td>\n",
       "      <td>0</td>\n",
       "    </tr>\n",
       "    <tr>\n",
       "      <th>2008</th>\n",
       "      <td>2</td>\n",
       "      <td>0</td>\n",
       "      <td>0</td>\n",
       "      <td>0</td>\n",
       "      <td>0</td>\n",
       "      <td>0</td>\n",
       "      <td>0</td>\n",
       "      <td>0</td>\n",
       "      <td>0</td>\n",
       "      <td>0</td>\n",
       "    </tr>\n",
       "    <tr>\n",
       "      <th>2009</th>\n",
       "      <td>1</td>\n",
       "      <td>0</td>\n",
       "      <td>0</td>\n",
       "      <td>0</td>\n",
       "      <td>0</td>\n",
       "      <td>1</td>\n",
       "      <td>0</td>\n",
       "      <td>0</td>\n",
       "      <td>0</td>\n",
       "      <td>0</td>\n",
       "    </tr>\n",
       "    <tr>\n",
       "      <th>2010</th>\n",
       "      <td>1</td>\n",
       "      <td>0</td>\n",
       "      <td>0</td>\n",
       "      <td>0</td>\n",
       "      <td>0</td>\n",
       "      <td>0</td>\n",
       "      <td>0</td>\n",
       "      <td>0</td>\n",
       "      <td>0</td>\n",
       "      <td>0</td>\n",
       "    </tr>\n",
       "    <tr>\n",
       "      <th>2011</th>\n",
       "      <td>12</td>\n",
       "      <td>0</td>\n",
       "      <td>0</td>\n",
       "      <td>0</td>\n",
       "      <td>1</td>\n",
       "      <td>0</td>\n",
       "      <td>1</td>\n",
       "      <td>0</td>\n",
       "      <td>0</td>\n",
       "      <td>1</td>\n",
       "    </tr>\n",
       "    <tr>\n",
       "      <th>2012</th>\n",
       "      <td>3</td>\n",
       "      <td>0</td>\n",
       "      <td>0</td>\n",
       "      <td>0</td>\n",
       "      <td>0</td>\n",
       "      <td>0</td>\n",
       "      <td>0</td>\n",
       "      <td>0</td>\n",
       "      <td>0</td>\n",
       "      <td>1</td>\n",
       "    </tr>\n",
       "    <tr>\n",
       "      <th>2013</th>\n",
       "      <td>11</td>\n",
       "      <td>0</td>\n",
       "      <td>1</td>\n",
       "      <td>1</td>\n",
       "      <td>0</td>\n",
       "      <td>0</td>\n",
       "      <td>0</td>\n",
       "      <td>0</td>\n",
       "      <td>0</td>\n",
       "      <td>0</td>\n",
       "    </tr>\n",
       "    <tr>\n",
       "      <th>2014</th>\n",
       "      <td>23</td>\n",
       "      <td>0</td>\n",
       "      <td>4</td>\n",
       "      <td>4</td>\n",
       "      <td>0</td>\n",
       "      <td>0</td>\n",
       "      <td>0</td>\n",
       "      <td>0</td>\n",
       "      <td>0</td>\n",
       "      <td>0</td>\n",
       "    </tr>\n",
       "    <tr>\n",
       "      <th>2015</th>\n",
       "      <td>60</td>\n",
       "      <td>0</td>\n",
       "      <td>8</td>\n",
       "      <td>8</td>\n",
       "      <td>9</td>\n",
       "      <td>1</td>\n",
       "      <td>0</td>\n",
       "      <td>0</td>\n",
       "      <td>2</td>\n",
       "      <td>1</td>\n",
       "    </tr>\n",
       "    <tr>\n",
       "      <th>2016</th>\n",
       "      <td>205</td>\n",
       "      <td>14</td>\n",
       "      <td>54</td>\n",
       "      <td>31</td>\n",
       "      <td>29</td>\n",
       "      <td>31</td>\n",
       "      <td>17</td>\n",
       "      <td>11</td>\n",
       "      <td>14</td>\n",
       "      <td>9</td>\n",
       "    </tr>\n",
       "    <tr>\n",
       "      <th>2017</th>\n",
       "      <td>472</td>\n",
       "      <td>163</td>\n",
       "      <td>134</td>\n",
       "      <td>71</td>\n",
       "      <td>54</td>\n",
       "      <td>45</td>\n",
       "      <td>43</td>\n",
       "      <td>44</td>\n",
       "      <td>33</td>\n",
       "      <td>36</td>\n",
       "    </tr>\n",
       "    <tr>\n",
       "      <th>2018</th>\n",
       "      <td>616</td>\n",
       "      <td>356</td>\n",
       "      <td>148</td>\n",
       "      <td>84</td>\n",
       "      <td>66</td>\n",
       "      <td>47</td>\n",
       "      <td>44</td>\n",
       "      <td>33</td>\n",
       "      <td>34</td>\n",
       "      <td>31</td>\n",
       "    </tr>\n",
       "    <tr>\n",
       "      <th>2019</th>\n",
       "      <td>927</td>\n",
       "      <td>241</td>\n",
       "      <td>199</td>\n",
       "      <td>90</td>\n",
       "      <td>84</td>\n",
       "      <td>78</td>\n",
       "      <td>59</td>\n",
       "      <td>65</td>\n",
       "      <td>49</td>\n",
       "      <td>41</td>\n",
       "    </tr>\n",
       "    <tr>\n",
       "      <th>2020</th>\n",
       "      <td>888</td>\n",
       "      <td>203</td>\n",
       "      <td>167</td>\n",
       "      <td>115</td>\n",
       "      <td>99</td>\n",
       "      <td>83</td>\n",
       "      <td>48</td>\n",
       "      <td>58</td>\n",
       "      <td>63</td>\n",
       "      <td>32</td>\n",
       "    </tr>\n",
       "    <tr>\n",
       "      <th>2021</th>\n",
       "      <td>74</td>\n",
       "      <td>13</td>\n",
       "      <td>8</td>\n",
       "      <td>8</td>\n",
       "      <td>7</td>\n",
       "      <td>1</td>\n",
       "      <td>3</td>\n",
       "      <td>1</td>\n",
       "      <td>4</td>\n",
       "      <td>2</td>\n",
       "    </tr>\n",
       "  </tbody>\n",
       "</table>\n",
       "</div>"
      ],
      "text/plain": [
       "Country     United States  India  United Kingdom  Canada  France  Japan  \\\n",
       "year_added                                                                \n",
       "2004                    2      0               0       0       0      0   \n",
       "2008                    2      0               0       0       0      0   \n",
       "2009                    1      0               0       0       0      1   \n",
       "2010                    1      0               0       0       0      0   \n",
       "2011                   12      0               0       0       1      0   \n",
       "2012                    3      0               0       0       0      0   \n",
       "2013                   11      0               1       1       0      0   \n",
       "2014                   23      0               4       4       0      0   \n",
       "2015                   60      0               8       8       9      1   \n",
       "2016                  205     14              54      31      29     31   \n",
       "2017                  472    163             134      71      54     45   \n",
       "2018                  616    356             148      84      66     47   \n",
       "2019                  927    241             199      90      84     78   \n",
       "2020                  888    203             167     115      99     83   \n",
       "2021                   74     13               8       8       7      1   \n",
       "\n",
       "Country     Spain  South Korea  Germany  Mexico  \n",
       "year_added                                       \n",
       "2004            0            0        0       0  \n",
       "2008            0            0        0       0  \n",
       "2009            0            0        0       0  \n",
       "2010            0            0        0       0  \n",
       "2011            1            0        0       1  \n",
       "2012            0            0        0       1  \n",
       "2013            0            0        0       0  \n",
       "2014            0            0        0       0  \n",
       "2015            0            0        2       1  \n",
       "2016           17           11       14       9  \n",
       "2017           43           44       33      36  \n",
       "2018           44           33       34      31  \n",
       "2019           59           65       49      41  \n",
       "2020           48           58       63      32  \n",
       "2021            3            1        4       2  "
      ]
     },
     "execution_count": 77,
     "metadata": {},
     "output_type": "execute_result"
    }
   ],
   "source": [
    "# Ta cần thêm một cột được rút từ cột `date_added` của dữ liệu\n",
    "netflix_df_all = df_movies.loc[:,['show_id', 'type', 'title', 'director', 'cast', 'country', 'date_added','release_year']].copy()\n",
    "netflix_df_all['year_added'] = netflix_df_all.loc[:,'date_added'].dt.year\n",
    "\n",
    "# Hàm Lấy danh sách và số lượng theo từng nước với mỗi group\n",
    "def DF_unique(x):\n",
    "    list_country, count_country = np.unique(np.sum(x.loc[:,'country']),return_counts=True)\n",
    "    \n",
    "    country_by_year_df = pd.DataFrame(data=list(zip(list_country, count_country)),columns=['Country','Count'])\\\n",
    "                           .sort_values(by=['Count'], ascending=False)\\\n",
    "                           .set_index('Country')\n",
    "    \n",
    "    return country_by_year_df\n",
    "\n",
    "# Chuyển dữ liệu thành bảng bằng cách group theo năm\n",
    "netflix_df_all = netflix_df_all.groupby(['year_added']).apply(lambda x: DF_unique(x)).unstack(1)\n",
    "\n",
    "netflix_df_all.columns = netflix_df_all.columns.get_level_values(1)\n",
    "\n",
    "netflix_df_all = netflix_df_all.fillna(value=0).astype(np.int32)\n",
    "\n",
    "netflix_df = netflix_df_all.loc[:,top_10_country]\n",
    "\n",
    "netflix_df"
   ]
  },
  {
   "cell_type": "markdown",
   "id": "ecdf2707-05ec-4c91-b464-2fcf0941ddc1",
   "metadata": {},
   "source": [
    "- *Ta sẽ vẽ biểu đồ miền theo từng năm, do đó ta sẽ đưa chúng về tỷ lệ phần trăm theo từng năm ứng với số lượng phim mỗi nước*"
   ]
  },
  {
   "cell_type": "code",
   "execution_count": 78,
   "id": "f0a47253-082b-49e2-88ec-95942d42eb15",
   "metadata": {},
   "outputs": [
    {
     "data": {
      "text/html": [
       "<div>\n",
       "<style scoped>\n",
       "    .dataframe tbody tr th:only-of-type {\n",
       "        vertical-align: middle;\n",
       "    }\n",
       "\n",
       "    .dataframe tbody tr th {\n",
       "        vertical-align: top;\n",
       "    }\n",
       "\n",
       "    .dataframe thead th {\n",
       "        text-align: right;\n",
       "    }\n",
       "</style>\n",
       "<table border=\"1\" class=\"dataframe\">\n",
       "  <thead>\n",
       "    <tr style=\"text-align: right;\">\n",
       "      <th>Country</th>\n",
       "      <th>United States</th>\n",
       "      <th>India</th>\n",
       "      <th>United Kingdom</th>\n",
       "      <th>Canada</th>\n",
       "      <th>France</th>\n",
       "      <th>Japan</th>\n",
       "      <th>Spain</th>\n",
       "      <th>South Korea</th>\n",
       "      <th>Germany</th>\n",
       "      <th>Mexico</th>\n",
       "    </tr>\n",
       "    <tr>\n",
       "      <th>year_added</th>\n",
       "      <th></th>\n",
       "      <th></th>\n",
       "      <th></th>\n",
       "      <th></th>\n",
       "      <th></th>\n",
       "      <th></th>\n",
       "      <th></th>\n",
       "      <th></th>\n",
       "      <th></th>\n",
       "      <th></th>\n",
       "    </tr>\n",
       "  </thead>\n",
       "  <tbody>\n",
       "    <tr>\n",
       "      <th>2004</th>\n",
       "      <td>1.000000</td>\n",
       "      <td>0.000000</td>\n",
       "      <td>0.000000</td>\n",
       "      <td>0.000000</td>\n",
       "      <td>0.000000</td>\n",
       "      <td>0.000000</td>\n",
       "      <td>0.000000</td>\n",
       "      <td>0.000000</td>\n",
       "      <td>0.000000</td>\n",
       "      <td>0.000000</td>\n",
       "    </tr>\n",
       "    <tr>\n",
       "      <th>2008</th>\n",
       "      <td>1.000000</td>\n",
       "      <td>0.000000</td>\n",
       "      <td>0.000000</td>\n",
       "      <td>0.000000</td>\n",
       "      <td>0.000000</td>\n",
       "      <td>0.000000</td>\n",
       "      <td>0.000000</td>\n",
       "      <td>0.000000</td>\n",
       "      <td>0.000000</td>\n",
       "      <td>0.000000</td>\n",
       "    </tr>\n",
       "    <tr>\n",
       "      <th>2009</th>\n",
       "      <td>0.500000</td>\n",
       "      <td>0.000000</td>\n",
       "      <td>0.000000</td>\n",
       "      <td>0.000000</td>\n",
       "      <td>0.000000</td>\n",
       "      <td>0.500000</td>\n",
       "      <td>0.000000</td>\n",
       "      <td>0.000000</td>\n",
       "      <td>0.000000</td>\n",
       "      <td>0.000000</td>\n",
       "    </tr>\n",
       "    <tr>\n",
       "      <th>2010</th>\n",
       "      <td>1.000000</td>\n",
       "      <td>0.000000</td>\n",
       "      <td>0.000000</td>\n",
       "      <td>0.000000</td>\n",
       "      <td>0.000000</td>\n",
       "      <td>0.000000</td>\n",
       "      <td>0.000000</td>\n",
       "      <td>0.000000</td>\n",
       "      <td>0.000000</td>\n",
       "      <td>0.000000</td>\n",
       "    </tr>\n",
       "    <tr>\n",
       "      <th>2011</th>\n",
       "      <td>0.800000</td>\n",
       "      <td>0.000000</td>\n",
       "      <td>0.000000</td>\n",
       "      <td>0.000000</td>\n",
       "      <td>0.066667</td>\n",
       "      <td>0.000000</td>\n",
       "      <td>0.066667</td>\n",
       "      <td>0.000000</td>\n",
       "      <td>0.000000</td>\n",
       "      <td>0.066667</td>\n",
       "    </tr>\n",
       "    <tr>\n",
       "      <th>2012</th>\n",
       "      <td>0.750000</td>\n",
       "      <td>0.000000</td>\n",
       "      <td>0.000000</td>\n",
       "      <td>0.000000</td>\n",
       "      <td>0.000000</td>\n",
       "      <td>0.000000</td>\n",
       "      <td>0.000000</td>\n",
       "      <td>0.000000</td>\n",
       "      <td>0.000000</td>\n",
       "      <td>0.250000</td>\n",
       "    </tr>\n",
       "    <tr>\n",
       "      <th>2013</th>\n",
       "      <td>0.846154</td>\n",
       "      <td>0.000000</td>\n",
       "      <td>0.076923</td>\n",
       "      <td>0.076923</td>\n",
       "      <td>0.000000</td>\n",
       "      <td>0.000000</td>\n",
       "      <td>0.000000</td>\n",
       "      <td>0.000000</td>\n",
       "      <td>0.000000</td>\n",
       "      <td>0.000000</td>\n",
       "    </tr>\n",
       "    <tr>\n",
       "      <th>2014</th>\n",
       "      <td>0.741935</td>\n",
       "      <td>0.000000</td>\n",
       "      <td>0.129032</td>\n",
       "      <td>0.129032</td>\n",
       "      <td>0.000000</td>\n",
       "      <td>0.000000</td>\n",
       "      <td>0.000000</td>\n",
       "      <td>0.000000</td>\n",
       "      <td>0.000000</td>\n",
       "      <td>0.000000</td>\n",
       "    </tr>\n",
       "    <tr>\n",
       "      <th>2015</th>\n",
       "      <td>0.674157</td>\n",
       "      <td>0.000000</td>\n",
       "      <td>0.089888</td>\n",
       "      <td>0.089888</td>\n",
       "      <td>0.101124</td>\n",
       "      <td>0.011236</td>\n",
       "      <td>0.000000</td>\n",
       "      <td>0.000000</td>\n",
       "      <td>0.022472</td>\n",
       "      <td>0.011236</td>\n",
       "    </tr>\n",
       "    <tr>\n",
       "      <th>2016</th>\n",
       "      <td>0.493976</td>\n",
       "      <td>0.033735</td>\n",
       "      <td>0.130120</td>\n",
       "      <td>0.074699</td>\n",
       "      <td>0.069880</td>\n",
       "      <td>0.074699</td>\n",
       "      <td>0.040964</td>\n",
       "      <td>0.026506</td>\n",
       "      <td>0.033735</td>\n",
       "      <td>0.021687</td>\n",
       "    </tr>\n",
       "    <tr>\n",
       "      <th>2017</th>\n",
       "      <td>0.431050</td>\n",
       "      <td>0.148858</td>\n",
       "      <td>0.122374</td>\n",
       "      <td>0.064840</td>\n",
       "      <td>0.049315</td>\n",
       "      <td>0.041096</td>\n",
       "      <td>0.039269</td>\n",
       "      <td>0.040183</td>\n",
       "      <td>0.030137</td>\n",
       "      <td>0.032877</td>\n",
       "    </tr>\n",
       "    <tr>\n",
       "      <th>2018</th>\n",
       "      <td>0.422207</td>\n",
       "      <td>0.244003</td>\n",
       "      <td>0.101439</td>\n",
       "      <td>0.057574</td>\n",
       "      <td>0.045236</td>\n",
       "      <td>0.032214</td>\n",
       "      <td>0.030158</td>\n",
       "      <td>0.022618</td>\n",
       "      <td>0.023304</td>\n",
       "      <td>0.021247</td>\n",
       "    </tr>\n",
       "    <tr>\n",
       "      <th>2019</th>\n",
       "      <td>0.505728</td>\n",
       "      <td>0.131478</td>\n",
       "      <td>0.108565</td>\n",
       "      <td>0.049100</td>\n",
       "      <td>0.045827</td>\n",
       "      <td>0.042553</td>\n",
       "      <td>0.032188</td>\n",
       "      <td>0.035461</td>\n",
       "      <td>0.026732</td>\n",
       "      <td>0.022368</td>\n",
       "    </tr>\n",
       "    <tr>\n",
       "      <th>2020</th>\n",
       "      <td>0.505695</td>\n",
       "      <td>0.115604</td>\n",
       "      <td>0.095103</td>\n",
       "      <td>0.065490</td>\n",
       "      <td>0.056378</td>\n",
       "      <td>0.047267</td>\n",
       "      <td>0.027335</td>\n",
       "      <td>0.033030</td>\n",
       "      <td>0.035877</td>\n",
       "      <td>0.018223</td>\n",
       "    </tr>\n",
       "    <tr>\n",
       "      <th>2021</th>\n",
       "      <td>0.611570</td>\n",
       "      <td>0.107438</td>\n",
       "      <td>0.066116</td>\n",
       "      <td>0.066116</td>\n",
       "      <td>0.057851</td>\n",
       "      <td>0.008264</td>\n",
       "      <td>0.024793</td>\n",
       "      <td>0.008264</td>\n",
       "      <td>0.033058</td>\n",
       "      <td>0.016529</td>\n",
       "    </tr>\n",
       "  </tbody>\n",
       "</table>\n",
       "</div>"
      ],
      "text/plain": [
       "Country     United States     India  United Kingdom    Canada    France  \\\n",
       "year_added                                                                \n",
       "2004             1.000000  0.000000        0.000000  0.000000  0.000000   \n",
       "2008             1.000000  0.000000        0.000000  0.000000  0.000000   \n",
       "2009             0.500000  0.000000        0.000000  0.000000  0.000000   \n",
       "2010             1.000000  0.000000        0.000000  0.000000  0.000000   \n",
       "2011             0.800000  0.000000        0.000000  0.000000  0.066667   \n",
       "2012             0.750000  0.000000        0.000000  0.000000  0.000000   \n",
       "2013             0.846154  0.000000        0.076923  0.076923  0.000000   \n",
       "2014             0.741935  0.000000        0.129032  0.129032  0.000000   \n",
       "2015             0.674157  0.000000        0.089888  0.089888  0.101124   \n",
       "2016             0.493976  0.033735        0.130120  0.074699  0.069880   \n",
       "2017             0.431050  0.148858        0.122374  0.064840  0.049315   \n",
       "2018             0.422207  0.244003        0.101439  0.057574  0.045236   \n",
       "2019             0.505728  0.131478        0.108565  0.049100  0.045827   \n",
       "2020             0.505695  0.115604        0.095103  0.065490  0.056378   \n",
       "2021             0.611570  0.107438        0.066116  0.066116  0.057851   \n",
       "\n",
       "Country        Japan     Spain  South Korea   Germany    Mexico  \n",
       "year_added                                                       \n",
       "2004        0.000000  0.000000     0.000000  0.000000  0.000000  \n",
       "2008        0.000000  0.000000     0.000000  0.000000  0.000000  \n",
       "2009        0.500000  0.000000     0.000000  0.000000  0.000000  \n",
       "2010        0.000000  0.000000     0.000000  0.000000  0.000000  \n",
       "2011        0.000000  0.066667     0.000000  0.000000  0.066667  \n",
       "2012        0.000000  0.000000     0.000000  0.000000  0.250000  \n",
       "2013        0.000000  0.000000     0.000000  0.000000  0.000000  \n",
       "2014        0.000000  0.000000     0.000000  0.000000  0.000000  \n",
       "2015        0.011236  0.000000     0.000000  0.022472  0.011236  \n",
       "2016        0.074699  0.040964     0.026506  0.033735  0.021687  \n",
       "2017        0.041096  0.039269     0.040183  0.030137  0.032877  \n",
       "2018        0.032214  0.030158     0.022618  0.023304  0.021247  \n",
       "2019        0.042553  0.032188     0.035461  0.026732  0.022368  \n",
       "2020        0.047267  0.027335     0.033030  0.035877  0.018223  \n",
       "2021        0.008264  0.024793     0.008264  0.033058  0.016529  "
      ]
     },
     "execution_count": 78,
     "metadata": {},
     "output_type": "execute_result"
    }
   ],
   "source": [
    "data_perc = netflix_df.divide(netflix_df.sum(axis=1), axis=0)\n",
    "data_perc"
   ]
  },
  {
   "cell_type": "markdown",
   "id": "437f0869-6789-4f71-8e84-3f995e2c11c7",
   "metadata": {},
   "source": [
    "- *Thể hiện dữ liệu trên biểu đồ miền*"
   ]
  },
  {
   "cell_type": "code",
   "execution_count": 79,
   "id": "0728fbc0-9098-4279-bb1c-4d77ae5599ea",
   "metadata": {},
   "outputs": [
    {
     "data": {
      "image/png": "[encoded data removed]",
      "text/plain": [
       "<Figure size 1080x360 with 1 Axes>"
      ]
     },
     "metadata": {},
     "output_type": "display_data"
    }
   ],
   "source": [
    "sns.set_theme()\n",
    "\n",
    "ax = data_perc.plot(kind='area', stacked=True, title='100 % stacked area chart', \n",
    "                    figsize=(15,5), alpha=0.6, sharex=True )\n",
    "\n",
    "ax.set_ylabel('Phần trăm (%)')\n",
    "ax.set_xlabel('Năm')\n",
    "ax.margins(0, 0)\n",
    "\n",
    "plt.show()\n"
   ]
  },
  {
   "cell_type": "markdown",
   "id": "827ee825-6017-461d-bbf8-28c3fe92d843",
   "metadata": {},
   "source": [
    "**Nhận xét**\n",
    "- Mỹ là nước có số lượng phim được đưa vào Netfix cao hơn rất nhiều so với những nước khác qua các năm.\n",
    "- Trải qua 13 năm, thị trường Châu Âu và Châu Á bắt đầu lấn chiếm thị trường Mỹ. Có vẻ từ năm 2015, Netflix đã thấy tiềm năng ở các thị trường ở các châu lục này. Tuy nhiên khá khó hiểu rằng với dân số 1 tỷ dân của Trung Quốc lại không nằm trong top 10, phải chăng vì chính sách của Donald Trump đối với Trung Quốc đã hạn chế ông lớn này đến thị trường tỷ dân?\n",
    "- Năm 2020 là năm đánh dấu số lượng phim giảm rõ rệt, có thể là do dịch COVID-19 đã ảnh hưởng rất lớn đến hoạt động tập thể ở 2 châu lục này hoặc Netflix bị ảnh hưởng bởi dịch do đó đã bị hạn chế về nhân lực và họ lại tập trung hơn vào thị trường Mỹ."
   ]
  },
  {
   "cell_type": "markdown",
   "id": "b70a8acd-339b-485a-8cfb-e3b96fc9e969",
   "metadata": {},
   "source": [
    "**Tiếp tục phân tích**\n",
    "- *Để làm rõ sự phát triển về `nghệ thuật thứ 7` của những nước top đầu, ta sẽ tiếp tục tiến hành phân tích tiến trình phát triển mỗi nước*"
   ]
  },
  {
   "cell_type": "code",
   "execution_count": 80,
   "id": "fa862a6b-fe2a-4693-aeed-7893a8ecd688",
   "metadata": {},
   "outputs": [
    {
     "data": {
      "text/html": [
       "<div>\n",
       "<style scoped>\n",
       "    .dataframe tbody tr th:only-of-type {\n",
       "        vertical-align: middle;\n",
       "    }\n",
       "\n",
       "    .dataframe tbody tr th {\n",
       "        vertical-align: top;\n",
       "    }\n",
       "\n",
       "    .dataframe thead th {\n",
       "        text-align: right;\n",
       "    }\n",
       "</style>\n",
       "<table border=\"1\" class=\"dataframe\">\n",
       "  <thead>\n",
       "    <tr style=\"text-align: right;\">\n",
       "      <th></th>\n",
       "      <th>Year</th>\n",
       "      <th>Country</th>\n",
       "      <th>Films</th>\n",
       "    </tr>\n",
       "  </thead>\n",
       "  <tbody>\n",
       "    <tr>\n",
       "      <th>0</th>\n",
       "      <td>2004</td>\n",
       "      <td>United States</td>\n",
       "      <td>2</td>\n",
       "    </tr>\n",
       "    <tr>\n",
       "      <th>1</th>\n",
       "      <td>2004</td>\n",
       "      <td>India</td>\n",
       "      <td>0</td>\n",
       "    </tr>\n",
       "    <tr>\n",
       "      <th>2</th>\n",
       "      <td>2004</td>\n",
       "      <td>United Kingdom</td>\n",
       "      <td>0</td>\n",
       "    </tr>\n",
       "    <tr>\n",
       "      <th>3</th>\n",
       "      <td>2004</td>\n",
       "      <td>Canada</td>\n",
       "      <td>0</td>\n",
       "    </tr>\n",
       "    <tr>\n",
       "      <th>4</th>\n",
       "      <td>2004</td>\n",
       "      <td>France</td>\n",
       "      <td>0</td>\n",
       "    </tr>\n",
       "    <tr>\n",
       "      <th>...</th>\n",
       "      <td>...</td>\n",
       "      <td>...</td>\n",
       "      <td>...</td>\n",
       "    </tr>\n",
       "    <tr>\n",
       "      <th>145</th>\n",
       "      <td>2021</td>\n",
       "      <td>Japan</td>\n",
       "      <td>1</td>\n",
       "    </tr>\n",
       "    <tr>\n",
       "      <th>146</th>\n",
       "      <td>2021</td>\n",
       "      <td>Spain</td>\n",
       "      <td>3</td>\n",
       "    </tr>\n",
       "    <tr>\n",
       "      <th>147</th>\n",
       "      <td>2021</td>\n",
       "      <td>South Korea</td>\n",
       "      <td>1</td>\n",
       "    </tr>\n",
       "    <tr>\n",
       "      <th>148</th>\n",
       "      <td>2021</td>\n",
       "      <td>Germany</td>\n",
       "      <td>4</td>\n",
       "    </tr>\n",
       "    <tr>\n",
       "      <th>149</th>\n",
       "      <td>2021</td>\n",
       "      <td>Mexico</td>\n",
       "      <td>2</td>\n",
       "    </tr>\n",
       "  </tbody>\n",
       "</table>\n",
       "<p>150 rows × 3 columns</p>\n",
       "</div>"
      ],
      "text/plain": [
       "     Year         Country  Films\n",
       "0    2004   United States      2\n",
       "1    2004           India      0\n",
       "2    2004  United Kingdom      0\n",
       "3    2004          Canada      0\n",
       "4    2004          France      0\n",
       "..    ...             ...    ...\n",
       "145  2021           Japan      1\n",
       "146  2021           Spain      3\n",
       "147  2021     South Korea      1\n",
       "148  2021         Germany      4\n",
       "149  2021          Mexico      2\n",
       "\n",
       "[150 rows x 3 columns]"
      ]
     },
     "execution_count": 80,
     "metadata": {},
     "output_type": "execute_result"
    }
   ],
   "source": [
    "# Từ bảng các giá trị, ta chuyển về dạng DataFrame để vẽ biểu đồ\n",
    "netflix_df_stacked = pd.DataFrame(netflix_df.stack(0)).reset_index()\n",
    "netflix_df_stacked.columns = ['Year','Country','Films']\n",
    "netflix_df_stacked"
   ]
  },
  {
   "cell_type": "code",
   "execution_count": 81,
   "id": "7bb8cd7a-93cc-4c78-9576-b84c2de44b08",
   "metadata": {},
   "outputs": [
    {
     "ename": "KeyError",
     "evalue": "\"None of [Index(['Năm', 'Số lượng phim'], dtype='object')] are in the [columns]\"",
     "output_type": "error",
     "traceback": [
      "\u001b[0;31m---------------------------------------------------------------------------\u001b[0m",
      "\u001b[0;31mKeyError\u001b[0m                                  Traceback (most recent call last)",
      "\u001b[0;32m<ipython-input-81-a115ec6af8f0>\u001b[0m in \u001b[0;36m<module>\u001b[0;34m\u001b[0m\n\u001b[1;32m      4\u001b[0m \u001b[0;34m\u001b[0m\u001b[0m\n\u001b[1;32m      5\u001b[0m \u001b[0;31m# Vẽ biểu đồ đường\u001b[0m\u001b[0;34m\u001b[0m\u001b[0;34m\u001b[0m\u001b[0;34m\u001b[0m\u001b[0m\n\u001b[0;32m----> 6\u001b[0;31m \u001b[0mg\u001b[0m \u001b[0;34m=\u001b[0m \u001b[0mg\u001b[0m\u001b[0;34m.\u001b[0m\u001b[0mmap\u001b[0m\u001b[0;34m(\u001b[0m\u001b[0mplt\u001b[0m\u001b[0;34m.\u001b[0m\u001b[0mplot\u001b[0m\u001b[0;34m,\u001b[0m \u001b[0;34m'Năm'\u001b[0m\u001b[0;34m,\u001b[0m \u001b[0;34m'Số lượng phim'\u001b[0m\u001b[0;34m)\u001b[0m\u001b[0;34m\u001b[0m\u001b[0;34m\u001b[0m\u001b[0m\n\u001b[0m\u001b[1;32m      7\u001b[0m \u001b[0;34m\u001b[0m\u001b[0m\n\u001b[1;32m      8\u001b[0m \u001b[0;31m# Tô màu các biểu đồ\u001b[0m\u001b[0;34m\u001b[0m\u001b[0;34m\u001b[0m\u001b[0;34m\u001b[0m\u001b[0m\n",
      "\u001b[0;32m~/anaconda3/envs/p4ds-env/lib/python3.8/site-packages/seaborn/axisgrid.py\u001b[0m in \u001b[0;36mmap\u001b[0;34m(self, func, *args, **kwargs)\u001b[0m\n\u001b[1;32m    671\u001b[0m \u001b[0;34m\u001b[0m\u001b[0m\n\u001b[1;32m    672\u001b[0m             \u001b[0;31m# Get the actual data we are going to plot with\u001b[0m\u001b[0;34m\u001b[0m\u001b[0;34m\u001b[0m\u001b[0;34m\u001b[0m\u001b[0m\n\u001b[0;32m--> 673\u001b[0;31m             \u001b[0mplot_data\u001b[0m \u001b[0;34m=\u001b[0m \u001b[0mdata_ijk\u001b[0m\u001b[0;34m[\u001b[0m\u001b[0mlist\u001b[0m\u001b[0;34m(\u001b[0m\u001b[0margs\u001b[0m\u001b[0;34m)\u001b[0m\u001b[0;34m]\u001b[0m\u001b[0;34m\u001b[0m\u001b[0;34m\u001b[0m\u001b[0m\n\u001b[0m\u001b[1;32m    674\u001b[0m             \u001b[0;32mif\u001b[0m \u001b[0mself\u001b[0m\u001b[0;34m.\u001b[0m\u001b[0m_dropna\u001b[0m\u001b[0;34m:\u001b[0m\u001b[0;34m\u001b[0m\u001b[0;34m\u001b[0m\u001b[0m\n\u001b[1;32m    675\u001b[0m                 \u001b[0mplot_data\u001b[0m \u001b[0;34m=\u001b[0m \u001b[0mplot_data\u001b[0m\u001b[0;34m.\u001b[0m\u001b[0mdropna\u001b[0m\u001b[0;34m(\u001b[0m\u001b[0;34m)\u001b[0m\u001b[0;34m\u001b[0m\u001b[0;34m\u001b[0m\u001b[0m\n",
      "\u001b[0;32m~/anaconda3/envs/p4ds-env/lib/python3.8/site-packages/pandas/core/frame.py\u001b[0m in \u001b[0;36m__getitem__\u001b[0;34m(self, key)\u001b[0m\n\u001b[1;32m   3028\u001b[0m             \u001b[0;32mif\u001b[0m \u001b[0mis_iterator\u001b[0m\u001b[0;34m(\u001b[0m\u001b[0mkey\u001b[0m\u001b[0;34m)\u001b[0m\u001b[0;34m:\u001b[0m\u001b[0;34m\u001b[0m\u001b[0;34m\u001b[0m\u001b[0m\n\u001b[1;32m   3029\u001b[0m                 \u001b[0mkey\u001b[0m \u001b[0;34m=\u001b[0m \u001b[0mlist\u001b[0m\u001b[0;34m(\u001b[0m\u001b[0mkey\u001b[0m\u001b[0;34m)\u001b[0m\u001b[0;34m\u001b[0m\u001b[0;34m\u001b[0m\u001b[0m\n\u001b[0;32m-> 3030\u001b[0;31m             \u001b[0mindexer\u001b[0m \u001b[0;34m=\u001b[0m \u001b[0mself\u001b[0m\u001b[0;34m.\u001b[0m\u001b[0mloc\u001b[0m\u001b[0;34m.\u001b[0m\u001b[0m_get_listlike_indexer\u001b[0m\u001b[0;34m(\u001b[0m\u001b[0mkey\u001b[0m\u001b[0;34m,\u001b[0m \u001b[0maxis\u001b[0m\u001b[0;34m=\u001b[0m\u001b[0;36m1\u001b[0m\u001b[0;34m,\u001b[0m \u001b[0mraise_missing\u001b[0m\u001b[0;34m=\u001b[0m\u001b[0;32mTrue\u001b[0m\u001b[0;34m)\u001b[0m\u001b[0;34m[\u001b[0m\u001b[0;36m1\u001b[0m\u001b[0;34m]\u001b[0m\u001b[0;34m\u001b[0m\u001b[0;34m\u001b[0m\u001b[0m\n\u001b[0m\u001b[1;32m   3031\u001b[0m \u001b[0;34m\u001b[0m\u001b[0m\n\u001b[1;32m   3032\u001b[0m         \u001b[0;31m# take() does not accept boolean indexers\u001b[0m\u001b[0;34m\u001b[0m\u001b[0;34m\u001b[0m\u001b[0;34m\u001b[0m\u001b[0m\n",
      "\u001b[0;32m~/anaconda3/envs/p4ds-env/lib/python3.8/site-packages/pandas/core/indexing.py\u001b[0m in \u001b[0;36m_get_listlike_indexer\u001b[0;34m(self, key, axis, raise_missing)\u001b[0m\n\u001b[1;32m   1264\u001b[0m             \u001b[0mkeyarr\u001b[0m\u001b[0;34m,\u001b[0m \u001b[0mindexer\u001b[0m\u001b[0;34m,\u001b[0m \u001b[0mnew_indexer\u001b[0m \u001b[0;34m=\u001b[0m \u001b[0max\u001b[0m\u001b[0;34m.\u001b[0m\u001b[0m_reindex_non_unique\u001b[0m\u001b[0;34m(\u001b[0m\u001b[0mkeyarr\u001b[0m\u001b[0;34m)\u001b[0m\u001b[0;34m\u001b[0m\u001b[0;34m\u001b[0m\u001b[0m\n\u001b[1;32m   1265\u001b[0m \u001b[0;34m\u001b[0m\u001b[0m\n\u001b[0;32m-> 1266\u001b[0;31m         \u001b[0mself\u001b[0m\u001b[0;34m.\u001b[0m\u001b[0m_validate_read_indexer\u001b[0m\u001b[0;34m(\u001b[0m\u001b[0mkeyarr\u001b[0m\u001b[0;34m,\u001b[0m \u001b[0mindexer\u001b[0m\u001b[0;34m,\u001b[0m \u001b[0maxis\u001b[0m\u001b[0;34m,\u001b[0m \u001b[0mraise_missing\u001b[0m\u001b[0;34m=\u001b[0m\u001b[0mraise_missing\u001b[0m\u001b[0;34m)\u001b[0m\u001b[0;34m\u001b[0m\u001b[0;34m\u001b[0m\u001b[0m\n\u001b[0m\u001b[1;32m   1267\u001b[0m         \u001b[0;32mreturn\u001b[0m \u001b[0mkeyarr\u001b[0m\u001b[0;34m,\u001b[0m \u001b[0mindexer\u001b[0m\u001b[0;34m\u001b[0m\u001b[0;34m\u001b[0m\u001b[0m\n\u001b[1;32m   1268\u001b[0m \u001b[0;34m\u001b[0m\u001b[0m\n",
      "\u001b[0;32m~/anaconda3/envs/p4ds-env/lib/python3.8/site-packages/pandas/core/indexing.py\u001b[0m in \u001b[0;36m_validate_read_indexer\u001b[0;34m(self, key, indexer, axis, raise_missing)\u001b[0m\n\u001b[1;32m   1306\u001b[0m             \u001b[0;32mif\u001b[0m \u001b[0mmissing\u001b[0m \u001b[0;34m==\u001b[0m \u001b[0mlen\u001b[0m\u001b[0;34m(\u001b[0m\u001b[0mindexer\u001b[0m\u001b[0;34m)\u001b[0m\u001b[0;34m:\u001b[0m\u001b[0;34m\u001b[0m\u001b[0;34m\u001b[0m\u001b[0m\n\u001b[1;32m   1307\u001b[0m                 \u001b[0maxis_name\u001b[0m \u001b[0;34m=\u001b[0m \u001b[0mself\u001b[0m\u001b[0;34m.\u001b[0m\u001b[0mobj\u001b[0m\u001b[0;34m.\u001b[0m\u001b[0m_get_axis_name\u001b[0m\u001b[0;34m(\u001b[0m\u001b[0maxis\u001b[0m\u001b[0;34m)\u001b[0m\u001b[0;34m\u001b[0m\u001b[0;34m\u001b[0m\u001b[0m\n\u001b[0;32m-> 1308\u001b[0;31m                 \u001b[0;32mraise\u001b[0m \u001b[0mKeyError\u001b[0m\u001b[0;34m(\u001b[0m\u001b[0;34mf\"None of [{key}] are in the [{axis_name}]\"\u001b[0m\u001b[0;34m)\u001b[0m\u001b[0;34m\u001b[0m\u001b[0;34m\u001b[0m\u001b[0m\n\u001b[0m\u001b[1;32m   1309\u001b[0m \u001b[0;34m\u001b[0m\u001b[0m\n\u001b[1;32m   1310\u001b[0m             \u001b[0max\u001b[0m \u001b[0;34m=\u001b[0m \u001b[0mself\u001b[0m\u001b[0;34m.\u001b[0m\u001b[0mobj\u001b[0m\u001b[0;34m.\u001b[0m\u001b[0m_get_axis\u001b[0m\u001b[0;34m(\u001b[0m\u001b[0maxis\u001b[0m\u001b[0;34m)\u001b[0m\u001b[0;34m\u001b[0m\u001b[0;34m\u001b[0m\u001b[0m\n",
      "\u001b[0;31mKeyError\u001b[0m: \"None of [Index(['Năm', 'Số lượng phim'], dtype='object')] are in the [columns]\""
     ]
    },
    {
     "data": {
      "image/png": "[encoded data removed]",
      "text/plain": [
       "<Figure size 1080x1800 with 10 Axes>"
      ]
     },
     "metadata": {},
     "output_type": "display_data"
    }
   ],
   "source": [
    "# Khởi tạo grid\n",
    "g = sns.FacetGrid(netflix_df_stacked, col='Country', hue='Country', \n",
    "                  col_wrap=2, height=5, aspect=1.5)\n",
    "\n",
    "# Vẽ biểu đồ đường\n",
    "g = g.map(plt.plot, 'Năm', 'Số lượng phim')\n",
    "\n",
    "# Tô màu các biểu đồ\n",
    "g = g.map(plt.fill_between, 'Year', 'Films', alpha=0.4)\n",
    " \n",
    "# Hiệu chỉnh tên từng biểu đồ\n",
    "g = g.set_titles(\"{col_name}\")\n",
    " \n",
    "# Thêm tên tổng của các biểu đồ\n",
    "plt.subplots_adjust(top=0.94)\n",
    "g = g.fig.suptitle('Sự phát triển về số lượng phim được đưa vào Netflix qua từng năm của các quốc gia top 10')\n",
    "\n",
    "# Vẽ grid \n",
    "plt.show()\n",
    "\n",
    "# code được tham khảo từ: https://www.python-graph-gallery.com/242-area-chart-and-faceting"
   ]
  },
  {
   "cell_type": "markdown",
   "id": "11b2e145-8b0a-427b-935e-97c18e50f775",
   "metadata": {},
   "source": [
    "**Nhận Xét:**\n",
    "- Trừ năm cuối cùng do dữ liệu bị nhật thiếu, thì 9/10 nước (trừ Canada) đều có xu hướng tăng số lượng phim được thêm vào Netflix.\n",
    "- Năm 2020 là năm khiến nhiều nước lớn giảm sản xuất các phim và chương trình đủ chất lượng.\n",
    "- Nơi đặt trụ sở Netflix vẫn là nơi dẫn đầu về tình hình phát triển, tuy nhiên cũng có thể thấy Netflix đang vươn cánh tay ra nhiều nước khác. "
   ]
  },
  {
   "cell_type": "markdown",
   "id": "211b4cce-0679-4aee-9bfe-8e709a200c1a",
   "metadata": {},
   "source": [
    "**Kiểm tra tình hình Việt Nam:**\n",
    "- Việt Nam trong thời gian qua thì mảng phim hoạt động khá nhộn nhịp, tuy nhiên, để được đánh giá cao trên Netflix thì không phải là chuyện dễ, mục tiêu phần này là muốn xem xem tình hình phát triển của Việt Nam, liệu trong tương lai, Việt Nam có thể phát triển mạnh ở môn nghệ thuật thứ 7 này không."
   ]
  },
  {
   "cell_type": "code",
   "execution_count": null,
   "id": "7b0e9674-bafc-418f-a15d-bada5d2af88a",
   "metadata": {},
   "outputs": [],
   "source": [
    "# Kiểm tra tình hình phát triển qua các năm\n",
    "vietnam_df = netflix_df_all.loc[:,['Vietnam']]\n",
    "\n",
    "sns.set_theme(style=\"darkgrid\")\n",
    "\n",
    "ax = sns.lineplot(data=vietnam_df, x='year_added', y='Vietnam', legend=True)\n",
    "\n",
    "plt.fill_between(x=vietnam_df.index, y1=vietnam_df.Vietnam.values, alpha=0.4)\n",
    "\n",
    "ax.set(xlabel='Năm', ylabel='Số lượng phim')\n",
    "\n",
    "plt.show()\n"
   ]
  },
  {
   "cell_type": "code",
   "execution_count": null,
   "id": "7e380ae6-e3ee-4265-9086-1a08a6082d81",
   "metadata": {},
   "outputs": [],
   "source": [
    "# Các phim được thêm vào Netflix\n",
    "df_movies.loc[df_movies.loc[:,'country'].apply(lambda x: 'Vietnam' in x),\n",
    "              ['title', 'director', 'cast', 'country', 'date_added', \n",
    "                 'release_year', 'duration', 'listed_in', 'description',]]\\\n",
    "        .sort_values(by='release_year')"
   ]
  },
  {
   "cell_type": "markdown",
   "id": "e6410897-d1c9-4f25-8bcb-4e10c4294212",
   "metadata": {},
   "source": [
    "**Nhận xét**\n",
    "- Vậy biểu đồ tăng trưởng Việt Nam tương tự như phần đông của thế giới khi phim được thêm vào năm 2017-2019 là nhiều, có thể những năm này, Netflix đánh vào thị trường Việt Nam, nhưng có vẻ số lượng phim chất lượng là khá thấp.\n",
    "- Số lượng phim Việt Nam ra môi trường ngoài nước là rất ít so với các nước khác, tuy nhiên việc nằm trong danh sách số ít nước có phim và chương trình ở Netflix cũng cho thấy khả năng của người Việt như thế nào, có thể trong tương lai sẽ có nhiều nội dung ấn tượng để đưa Việt Nam phát triển mạnh hơn.\n",
    "- Tình hình chung là năm 2019-2020 có vẻ như hầu hết các nước đều có biểu đồ đi xuống hoặc ngưng lại, có lẻ là do đại dịch COVID-19 làm xáo trộn tình hình tạo ra phim mới.\n",
    "- Thị trường Việt Nam cũng được xem là thị trường tiềm năng, có lẻ là lối sống dân ta khá \"nhàn\"?"
   ]
  },
  {
   "cell_type": "markdown",
   "id": "d0fbac33-f770-4734-b441-3a097ab99dfc",
   "metadata": {},
   "source": [
    "# Nhìn lại quá trình làm đồ án"
   ]
  },
  {
   "cell_type": "markdown",
   "id": "cfec0c4e-d4db-4d0e-91dc-1b0becaebabf",
   "metadata": {},
   "source": [
    "## Trần Thanh Phúc\n",
    "**Những khó khăn:**\n",
    "* Tìm ra được câu hỏi có ý nghĩa cần trả lời cũng là một điểm khá khó với bộ dữ liệu này.\n",
    "* Merge thủ công bằng tay, phải copy qua lại giữa các notebook khá nhiều. Chưa có cách merge tự động.\n",
    "* Nhiều vấn đề về xử lý và tràn bộ nhớ trong hệ thống recommend.\n",
    "\n",
    "**Những gì học được:**\n",
    "* Xử lý dữ liệu kiểu mảng trong pandas.\n",
    "* Tô màu dataframe.\n",
    "* Thành thạo hơn khi sử dụng `pandas.Series.apply()`\n",
    "* Học được thêm về hệ thống recommend.\n",
    "* Tìm kiếm bất thương trong dữ liệu.\n",
    "\n",
    "## Nguyễn Điền Thanh Phong\n",
    "**Những khó khăn:**\n",
    "* Chọn câu hỏi có ý nghĩa được phân tích từ dữ liệu này.\n",
    "* Tìm loại đồ thị nào để thể hiện dữ liệu đó cũng như xây dựng `pandas.DataFrame` để cung cấp cho hàm vẽ.\n",
    "* Bung từ danh sách bên trong từng `cell` của mỗi cột ra một bảng dữ liệu lớn hơn rồi sau đó tạo bảng giá trị từ những Cell bung ra đó. \n",
    "\n",
    "**Những gì học được:**\n",
    "* Xử lý dữ liệu kiểu mảng trong pandas.\n",
    "* Biết thêm về các thư viện thực hiện việc trực quan hóa dữ liệu cũng như cách sử dụng chúng.\n",
    "* Học cách tìm hiểu và lọc các tiềm năng của dữ liệu.\n",
    "* Thành thạo hơn khi sử dụng `pandas.Series.apply()`, `pandas.Series.agg()`, `lambda`\n",
    "* Xử lý tạo bảng dữ liệu (stack,...)\n",
    "\n",
    "## Nhóm\n",
    "\n",
    "**Nếu có thêm thời gian, nhóm sẽ:**\n",
    "* Cải thiện thêm hệ thống recommend.\n",
    "* Khám phá thêm các insight khác.\n",
    "* Phân tích các đồ thị kỹ càng hơn."
   ]
  },
  {
   "cell_type": "markdown",
   "id": "17a4904a-10fa-4f3e-9712-af5106b812bf",
   "metadata": {},
   "source": [
    "# Tài liệu tham khảo"
   ]
  },
  {
   "cell_type": "markdown",
   "id": "d04643ef-c2cd-47f3-84ba-a0888c145d39",
   "metadata": {},
   "source": [
    "1. Tài liệu các thư viện về việc trực quan hóa: [python-graph-gallery](https://www.python-graph-gallery.com/)\n",
    "2. [Document của Pandas](https://pandas.pydata.org/docs/)\n",
    "3. Tham khảo xây dựng hệ thống recommend: https://www.kaggle.com/shivamb/netflix-shows/tasks?taskId=2447"
   ]
  },
  {
   "cell_type": "code",
   "execution_count": null,
   "id": "c9a2a891-b413-4410-b7b5-6c035887a6ce",
   "metadata": {},
   "outputs": [],
   "source": []
  }
 ],
 "metadata": {
  "kernelspec": {
   "display_name": "Python 3",
   "language": "python",
   "name": "python3"
  },
  "language_info": {
   "codemirror_mode": {
    "name": "ipython",
    "version": 3
   },
   "file_extension": ".py",
   "mimetype": "text/x-python",
   "name": "python",
   "nbconvert_exporter": "python",
   "pygments_lexer": "ipython3",
   "version": "3.8.8"
  }
 },
 "nbformat": 4,
 "nbformat_minor": 5
}
